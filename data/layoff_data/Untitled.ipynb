{
 "cells": [
  {
   "cell_type": "code",
   "execution_count": 1,
   "metadata": {
    "collapsed": false
   },
   "outputs": [],
   "source": [
    "import pandas as pd\n",
    "import numpy as np\n",
    "import seaborn as sns\n",
    "\n",
    "%matplotlib inline"
   ]
  },
  {
   "cell_type": "code",
   "execution_count": 2,
   "metadata": {
    "collapsed": true
   },
   "outputs": [],
   "source": [
    "data = pd.read_table('layoff_data.txt')"
   ]
  },
  {
   "cell_type": "code",
   "execution_count": 3,
   "metadata": {
    "collapsed": false
   },
   "outputs": [
    {
     "name": "stderr",
     "output_type": "stream",
     "text": [
      "/Users/Logan/anaconda/envs/dev/lib/python2.7/site-packages/IPython/core/interactiveshell.py:2871: DtypeWarning: Columns (4) have mixed types. Specify dtype option on import or set low_memory=False.\n",
      "  interactivity=interactivity, compiler=compiler, result=result)\n"
     ]
    }
   ],
   "source": [
    "dates = pd.read_table('layoff_dates.txt')"
   ]
  },
  {
   "cell_type": "code",
   "execution_count": 4,
   "metadata": {
    "collapsed": false
   },
   "outputs": [],
   "source": [
    "reasons = pd.read_table('layoff_reasons.txt').reset_index()"
   ]
  },
  {
   "cell_type": "code",
   "execution_count": 5,
   "metadata": {
    "collapsed": false
   },
   "outputs": [],
   "source": [
    "automation_reasons = list(reasons[reasons.irc_code.apply(lambda x: 'automation' in x.lower())]['index'])"
   ]
  },
  {
   "cell_type": "code",
   "execution_count": 26,
   "metadata": {
    "collapsed": false
   },
   "outputs": [],
   "source": [
    "dates['value'] = dates['value'].replace('           -', np.nan).astype(float)"
   ]
  },
  {
   "cell_type": "code",
   "execution_count": 46,
   "metadata": {
    "collapsed": false
   },
   "outputs": [],
   "source": [
    "codes = reasons[['index', 'irc_code']]\n",
    "codes.columns = 'irc_code reason'.split()"
   ]
  },
  {
   "cell_type": "code",
   "execution_count": 47,
   "metadata": {
    "collapsed": false
   },
   "outputs": [],
   "source": [
    "new_data = data[['series_id', 'srd_code', 'irc_code']]"
   ]
  },
  {
   "cell_type": "code",
   "execution_count": 57,
   "metadata": {
    "collapsed": false
   },
   "outputs": [],
   "source": [
    "events = new_data.merge(codes, on = 'irc_code', how = 'inner')"
   ]
  },
  {
   "cell_type": "code",
   "execution_count": 67,
   "metadata": {
    "collapsed": false
   },
   "outputs": [],
   "source": [
    "event_reasons_total = events[events.irc_code.apply(lambda x: str(x)[0] == 'R')]\n"
   ]
  },
  {
   "cell_type": "code",
   "execution_count": 77,
   "metadata": {
    "collapsed": false
   },
   "outputs": [],
   "source": [
    "# filter reasons\n",
    "event_reasons = event_reasons[event_reasons.reason.apply(lambda x: \"total\" not in x.lower() and 'not provided' not in x.lower())]\n",
    "event_reasons = event_reasons[event_reasons.irc_code.apply(lambda x: str(x)[-1] != '0')]\n",
    "good_reasons = event_reasons.groupby('irc_code')[['irc_code', 'reason']].head(1)"
   ]
  },
  {
   "cell_type": "code",
   "execution_count": 78,
   "metadata": {
    "collapsed": false
   },
   "outputs": [
    {
     "data": {
      "text/html": [
       "<div>\n",
       "<table border=\"1\" class=\"dataframe\">\n",
       "  <thead>\n",
       "    <tr style=\"text-align: right;\">\n",
       "      <th></th>\n",
       "      <th>irc_code</th>\n",
       "      <th>reason</th>\n",
       "    </tr>\n",
       "  </thead>\n",
       "  <tbody>\n",
       "    <tr>\n",
       "      <th>56699</th>\n",
       "      <td>R0111</td>\n",
       "      <td>Contract cancellation</td>\n",
       "    </tr>\n",
       "    <tr>\n",
       "      <th>56858</th>\n",
       "      <td>R0112</td>\n",
       "      <td>Contract completion</td>\n",
       "    </tr>\n",
       "    <tr>\n",
       "      <th>57017</th>\n",
       "      <td>R0113</td>\n",
       "      <td>Domestic competition</td>\n",
       "    </tr>\n",
       "    <tr>\n",
       "      <th>57176</th>\n",
       "      <td>R0114</td>\n",
       "      <td>Excess inventory/saturated market</td>\n",
       "    </tr>\n",
       "    <tr>\n",
       "      <th>57335</th>\n",
       "      <td>R0115</td>\n",
       "      <td>Import competition</td>\n",
       "    </tr>\n",
       "    <tr>\n",
       "      <th>57494</th>\n",
       "      <td>R0116</td>\n",
       "      <td>Slack work/insufficient demand/non-seasonal bu...</td>\n",
       "    </tr>\n",
       "    <tr>\n",
       "      <th>57812</th>\n",
       "      <td>R0121</td>\n",
       "      <td>Hazardous work environment</td>\n",
       "    </tr>\n",
       "    <tr>\n",
       "      <th>57971</th>\n",
       "      <td>R0122</td>\n",
       "      <td>Natural disaster (not weather related)</td>\n",
       "    </tr>\n",
       "    <tr>\n",
       "      <th>58130</th>\n",
       "      <td>R0123</td>\n",
       "      <td>Non-natural disaster</td>\n",
       "    </tr>\n",
       "    <tr>\n",
       "      <th>58289</th>\n",
       "      <td>R0124</td>\n",
       "      <td>Extreme weather-related event</td>\n",
       "    </tr>\n",
       "    <tr>\n",
       "      <th>58607</th>\n",
       "      <td>R0131</td>\n",
       "      <td>Bankruptcy</td>\n",
       "    </tr>\n",
       "    <tr>\n",
       "      <th>58766</th>\n",
       "      <td>R0132</td>\n",
       "      <td>Cost control/cost cutting/increase profitability</td>\n",
       "    </tr>\n",
       "    <tr>\n",
       "      <th>58925</th>\n",
       "      <td>R0133</td>\n",
       "      <td>Financial difficulty</td>\n",
       "    </tr>\n",
       "    <tr>\n",
       "      <th>59243</th>\n",
       "      <td>R0141</td>\n",
       "      <td>Business-ownership change</td>\n",
       "    </tr>\n",
       "    <tr>\n",
       "      <th>59402</th>\n",
       "      <td>R0142</td>\n",
       "      <td>Reorganization or restructuring of company</td>\n",
       "    </tr>\n",
       "    <tr>\n",
       "      <th>59720</th>\n",
       "      <td>R0151</td>\n",
       "      <td>Automation/technological advances</td>\n",
       "    </tr>\n",
       "    <tr>\n",
       "      <th>59879</th>\n",
       "      <td>R0152</td>\n",
       "      <td>Energy related</td>\n",
       "    </tr>\n",
       "    <tr>\n",
       "      <th>60038</th>\n",
       "      <td>R0153</td>\n",
       "      <td>Governmental regulations/intervention</td>\n",
       "    </tr>\n",
       "    <tr>\n",
       "      <th>60197</th>\n",
       "      <td>R0154</td>\n",
       "      <td>Labor dispute/contract negotiations/strike</td>\n",
       "    </tr>\n",
       "    <tr>\n",
       "      <th>60356</th>\n",
       "      <td>R0155</td>\n",
       "      <td>Material or supply shortage</td>\n",
       "    </tr>\n",
       "    <tr>\n",
       "      <th>60515</th>\n",
       "      <td>R0156</td>\n",
       "      <td>Model changeover</td>\n",
       "    </tr>\n",
       "    <tr>\n",
       "      <th>60674</th>\n",
       "      <td>R0157</td>\n",
       "      <td>Plant or machine repair/maintenance</td>\n",
       "    </tr>\n",
       "    <tr>\n",
       "      <th>60833</th>\n",
       "      <td>R0158</td>\n",
       "      <td>Product line discontinued</td>\n",
       "    </tr>\n",
       "    <tr>\n",
       "      <th>61151</th>\n",
       "      <td>R0161</td>\n",
       "      <td>Seasonal</td>\n",
       "    </tr>\n",
       "    <tr>\n",
       "      <th>61310</th>\n",
       "      <td>R0162</td>\n",
       "      <td>Vacation period - school related or otherwise</td>\n",
       "    </tr>\n",
       "    <tr>\n",
       "      <th>61628</th>\n",
       "      <td>R0191</td>\n",
       "      <td>Other</td>\n",
       "    </tr>\n",
       "    <tr>\n",
       "      <th>62105</th>\n",
       "      <td>R01AA</td>\n",
       "      <td>Domestic relocation</td>\n",
       "    </tr>\n",
       "    <tr>\n",
       "      <th>62264</th>\n",
       "      <td>R01AB</td>\n",
       "      <td>Overseas relocation</td>\n",
       "    </tr>\n",
       "  </tbody>\n",
       "</table>\n",
       "</div>"
      ],
      "text/plain": [
       "      irc_code                                             reason\n",
       "56699    R0111                              Contract cancellation\n",
       "56858    R0112                                Contract completion\n",
       "57017    R0113                               Domestic competition\n",
       "57176    R0114                  Excess inventory/saturated market\n",
       "57335    R0115                                 Import competition\n",
       "57494    R0116  Slack work/insufficient demand/non-seasonal bu...\n",
       "57812    R0121                         Hazardous work environment\n",
       "57971    R0122             Natural disaster (not weather related)\n",
       "58130    R0123                               Non-natural disaster\n",
       "58289    R0124                      Extreme weather-related event\n",
       "58607    R0131                                         Bankruptcy\n",
       "58766    R0132   Cost control/cost cutting/increase profitability\n",
       "58925    R0133                               Financial difficulty\n",
       "59243    R0141                          Business-ownership change\n",
       "59402    R0142         Reorganization or restructuring of company\n",
       "59720    R0151                  Automation/technological advances\n",
       "59879    R0152                                     Energy related\n",
       "60038    R0153              Governmental regulations/intervention\n",
       "60197    R0154         Labor dispute/contract negotiations/strike\n",
       "60356    R0155                        Material or supply shortage\n",
       "60515    R0156                                   Model changeover\n",
       "60674    R0157                Plant or machine repair/maintenance\n",
       "60833    R0158                          Product line discontinued\n",
       "61151    R0161                                           Seasonal\n",
       "61310    R0162      Vacation period - school related or otherwise\n",
       "61628    R0191                                              Other\n",
       "62105    R01AA                                Domestic relocation\n",
       "62264    R01AB                                Overseas relocation"
      ]
     },
     "execution_count": 78,
     "metadata": {},
     "output_type": "execute_result"
    }
   ],
   "source": [
    "good_reasons"
   ]
  },
  {
   "cell_type": "code",
   "execution_count": 115,
   "metadata": {
    "collapsed": false
   },
   "outputs": [],
   "source": [
    "automated = event_reasons[event_reasons.irc_code == 'R0151']\n",
    "total_layoffs = event_reasons[event_reasons.irc_code.isin(good_reasons.irc_code)]\n",
    "pct_automated = automated.shape[0] / float(total_layoffs.shape[0])"
   ]
  },
  {
   "cell_type": "code",
   "execution_count": 116,
   "metadata": {
    "collapsed": false
   },
   "outputs": [],
   "source": [
    "automated_away = automated.merge(dates, on = 'series_id', how = 'inner')\n",
    "total_automated = automated_away.value.sum()"
   ]
  },
  {
   "cell_type": "code",
   "execution_count": 119,
   "metadata": {
    "collapsed": true
   },
   "outputs": [],
   "source": [
    "non_automated_away = total_layoffs[total_layoffs.irc_code != 'R0151']\n",
    "non_automated_away = non_automated_away.merge(dates, on = 'series_id', how = 'inner')"
   ]
  },
  {
   "cell_type": "code",
   "execution_count": 123,
   "metadata": {
    "collapsed": false
   },
   "outputs": [
    {
     "data": {
      "text/plain": [
       "136840511.0"
      ]
     },
     "execution_count": 123,
     "metadata": {},
     "output_type": "execute_result"
    }
   ],
   "source": [
    "non_automated_away.value.sum()"
   ]
  },
  {
   "cell_type": "code",
   "execution_count": 132,
   "metadata": {
    "collapsed": false
   },
   "outputs": [
    {
     "data": {
      "text/html": [
       "<div>\n",
       "<table border=\"1\" class=\"dataframe\">\n",
       "  <thead>\n",
       "    <tr style=\"text-align: right;\">\n",
       "      <th></th>\n",
       "      <th>irc_code</th>\n",
       "      <th>reason</th>\n",
       "    </tr>\n",
       "  </thead>\n",
       "  <tbody>\n",
       "    <tr>\n",
       "      <th>0</th>\n",
       "      <td>R0111</td>\n",
       "      <td>Contract cancellation</td>\n",
       "    </tr>\n",
       "    <tr>\n",
       "      <th>14151</th>\n",
       "      <td>R0112</td>\n",
       "      <td>Contract completion</td>\n",
       "    </tr>\n",
       "    <tr>\n",
       "      <th>28302</th>\n",
       "      <td>R0113</td>\n",
       "      <td>Domestic competition</td>\n",
       "    </tr>\n",
       "    <tr>\n",
       "      <th>42453</th>\n",
       "      <td>R0114</td>\n",
       "      <td>Excess inventory/saturated market</td>\n",
       "    </tr>\n",
       "    <tr>\n",
       "      <th>56604</th>\n",
       "      <td>R0115</td>\n",
       "      <td>Import competition</td>\n",
       "    </tr>\n",
       "    <tr>\n",
       "      <th>70755</th>\n",
       "      <td>R0116</td>\n",
       "      <td>Slack work/insufficient demand/non-seasonal bu...</td>\n",
       "    </tr>\n",
       "    <tr>\n",
       "      <th>84906</th>\n",
       "      <td>R0121</td>\n",
       "      <td>Hazardous work environment</td>\n",
       "    </tr>\n",
       "    <tr>\n",
       "      <th>99057</th>\n",
       "      <td>R0122</td>\n",
       "      <td>Natural disaster (not weather related)</td>\n",
       "    </tr>\n",
       "    <tr>\n",
       "      <th>113208</th>\n",
       "      <td>R0123</td>\n",
       "      <td>Non-natural disaster</td>\n",
       "    </tr>\n",
       "    <tr>\n",
       "      <th>122430</th>\n",
       "      <td>R0124</td>\n",
       "      <td>Extreme weather-related event</td>\n",
       "    </tr>\n",
       "    <tr>\n",
       "      <th>136581</th>\n",
       "      <td>R0131</td>\n",
       "      <td>Bankruptcy</td>\n",
       "    </tr>\n",
       "    <tr>\n",
       "      <th>150732</th>\n",
       "      <td>R0132</td>\n",
       "      <td>Cost control/cost cutting/increase profitability</td>\n",
       "    </tr>\n",
       "    <tr>\n",
       "      <th>164883</th>\n",
       "      <td>R0133</td>\n",
       "      <td>Financial difficulty</td>\n",
       "    </tr>\n",
       "    <tr>\n",
       "      <th>179034</th>\n",
       "      <td>R0141</td>\n",
       "      <td>Business-ownership change</td>\n",
       "    </tr>\n",
       "    <tr>\n",
       "      <th>193185</th>\n",
       "      <td>R0142</td>\n",
       "      <td>Reorganization or restructuring of company</td>\n",
       "    </tr>\n",
       "    <tr>\n",
       "      <th>207336</th>\n",
       "      <td>R0152</td>\n",
       "      <td>Energy related</td>\n",
       "    </tr>\n",
       "    <tr>\n",
       "      <th>221487</th>\n",
       "      <td>R0153</td>\n",
       "      <td>Governmental regulations/intervention</td>\n",
       "    </tr>\n",
       "    <tr>\n",
       "      <th>235638</th>\n",
       "      <td>R0154</td>\n",
       "      <td>Labor dispute/contract negotiations/strike</td>\n",
       "    </tr>\n",
       "    <tr>\n",
       "      <th>249789</th>\n",
       "      <td>R0155</td>\n",
       "      <td>Material or supply shortage</td>\n",
       "    </tr>\n",
       "    <tr>\n",
       "      <th>263940</th>\n",
       "      <td>R0156</td>\n",
       "      <td>Model changeover</td>\n",
       "    </tr>\n",
       "    <tr>\n",
       "      <th>278091</th>\n",
       "      <td>R0157</td>\n",
       "      <td>Plant or machine repair/maintenance</td>\n",
       "    </tr>\n",
       "    <tr>\n",
       "      <th>292242</th>\n",
       "      <td>R0158</td>\n",
       "      <td>Product line discontinued</td>\n",
       "    </tr>\n",
       "    <tr>\n",
       "      <th>306393</th>\n",
       "      <td>R0161</td>\n",
       "      <td>Seasonal</td>\n",
       "    </tr>\n",
       "    <tr>\n",
       "      <th>320544</th>\n",
       "      <td>R0162</td>\n",
       "      <td>Vacation period - school related or otherwise</td>\n",
       "    </tr>\n",
       "    <tr>\n",
       "      <th>334695</th>\n",
       "      <td>R0191</td>\n",
       "      <td>Other</td>\n",
       "    </tr>\n",
       "    <tr>\n",
       "      <th>348846</th>\n",
       "      <td>R01AA</td>\n",
       "      <td>Domestic relocation</td>\n",
       "    </tr>\n",
       "    <tr>\n",
       "      <th>355683</th>\n",
       "      <td>R01AB</td>\n",
       "      <td>Overseas relocation</td>\n",
       "    </tr>\n",
       "  </tbody>\n",
       "</table>\n",
       "</div>"
      ],
      "text/plain": [
       "       irc_code                                             reason\n",
       "0         R0111                              Contract cancellation\n",
       "14151     R0112                                Contract completion\n",
       "28302     R0113                               Domestic competition\n",
       "42453     R0114                  Excess inventory/saturated market\n",
       "56604     R0115                                 Import competition\n",
       "70755     R0116  Slack work/insufficient demand/non-seasonal bu...\n",
       "84906     R0121                         Hazardous work environment\n",
       "99057     R0122             Natural disaster (not weather related)\n",
       "113208    R0123                               Non-natural disaster\n",
       "122430    R0124                      Extreme weather-related event\n",
       "136581    R0131                                         Bankruptcy\n",
       "150732    R0132   Cost control/cost cutting/increase profitability\n",
       "164883    R0133                               Financial difficulty\n",
       "179034    R0141                          Business-ownership change\n",
       "193185    R0142         Reorganization or restructuring of company\n",
       "207336    R0152                                     Energy related\n",
       "221487    R0153              Governmental regulations/intervention\n",
       "235638    R0154         Labor dispute/contract negotiations/strike\n",
       "249789    R0155                        Material or supply shortage\n",
       "263940    R0156                                   Model changeover\n",
       "278091    R0157                Plant or machine repair/maintenance\n",
       "292242    R0158                          Product line discontinued\n",
       "306393    R0161                                           Seasonal\n",
       "320544    R0162      Vacation period - school related or otherwise\n",
       "334695    R0191                                              Other\n",
       "348846    R01AA                                Domestic relocation\n",
       "355683    R01AB                                Overseas relocation"
      ]
     },
     "execution_count": 132,
     "metadata": {},
     "output_type": "execute_result"
    }
   ],
   "source": [
    "non_automated_away[['irc_code', 'reason']].drop_duplicates()"
   ]
  },
  {
   "cell_type": "code",
   "execution_count": 124,
   "metadata": {
    "collapsed": true
   },
   "outputs": [],
   "source": [
    "yby_layoffs = [\"1,320,844\",\n",
    "\"1,381,669\",\n",
    "\"1,583,817\",\n",
    "\"1,382,359\",\n",
    "\"1,645,532\",\n",
    "\"2,346,584\",\n",
    "\"2,069,713\",\n",
    "\"1,721,985\",\n",
    "\"1,464,164\",\n",
    "\"1,640,878\",\n",
    "\"1,371,995\",\n",
    "\"1,485,973\",\n",
    "\"1,995,027\"]"
   ]
  },
  {
   "cell_type": "code",
   "execution_count": 148,
   "metadata": {
    "collapsed": false
   },
   "outputs": [],
   "source": [
    "y98t8 = map(lambda x: int(x.replace(',','')), yby_layoffs)"
   ]
  },
  {
   "cell_type": "code",
   "execution_count": 143,
   "metadata": {
    "collapsed": false
   },
   "outputs": [],
   "source": [
    "y9t12 = np.sum(map(lambda x: map(lambda y: int(y.replace(',', '')) , x), lol), axis = 1)"
   ]
  },
  {
   "cell_type": "code",
   "execution_count": 150,
   "metadata": {
    "collapsed": false
   },
   "outputs": [],
   "source": [
    "y98t8 += list(y9t12)"
   ]
  },
  {
   "cell_type": "code",
   "execution_count": 152,
   "metadata": {
    "collapsed": true
   },
   "outputs": [],
   "source": [
    "year_data = y98t8"
   ]
  },
  {
   "cell_type": "code",
   "execution_count": 156,
   "metadata": {
    "collapsed": false
   },
   "outputs": [],
   "source": [
    "indices = []\n",
    "for i, v in enumerate(year_data):\n",
    "    index = 2012 - len(year_data) + i + 1\n",
    "    indices.append(index)"
   ]
  },
  {
   "cell_type": "code",
   "execution_count": 158,
   "metadata": {
    "collapsed": false
   },
   "outputs": [],
   "source": [
    "points = np.array(zip(indices, year_data))"
   ]
  },
  {
   "cell_type": "code",
   "execution_count": 160,
   "metadata": {
    "collapsed": false
   },
   "outputs": [],
   "source": [
    "x, y = points[:,0], points[:,1]"
   ]
  },
  {
   "cell_type": "code",
   "execution_count": 164,
   "metadata": {
    "collapsed": false
   },
   "outputs": [
    {
     "data": {
      "text/plain": [
       "<matplotlib.legend.Legend at 0x1111a2090>"
      ]
     },
     "execution_count": 164,
     "metadata": {},
     "output_type": "execute_result"
    },
    {
     "data": {
      "image/png": "[encoded data removed]",
      "text/plain": [
       "<matplotlib.figure.Figure at 0x110cb53d0>"
      ]
     },
     "metadata": {},
     "output_type": "display_data"
    }
   ],
   "source": [
    "sns.plt.plot(x,y, label = 'Layoffs', linestyle = '--')\n",
    "sns.plt.legend()"
   ]
  },
  {
   "cell_type": "code",
   "execution_count": null,
   "metadata": {
    "collapsed": true
   },
   "outputs": [],
   "source": []
  }
 ],
 "metadata": {
  "kernelspec": {
   "display_name": "Python 2",
   "language": "python",
   "name": "python2"
  },
  "language_info": {
   "codemirror_mode": {
    "name": "ipython",
    "version": 2
   },
   "file_extension": ".py",
   "mimetype": "text/x-python",
   "name": "python",
   "nbconvert_exporter": "python",
   "pygments_lexer": "ipython2",
   "version": "2.7.11"
  }
 },
 "nbformat": 4,
 "nbformat_minor": 0
}
