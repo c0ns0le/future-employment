{
 "cells": [
  {
   "cell_type": "code",
   "execution_count": 24,
   "metadata": {
    "collapsed": false
   },
   "outputs": [],
   "source": [
    "import pandas as pd\n",
    "import numpy as np\n",
    "import seaborn as sns\n",
    "%matplotlib inline"
   ]
  },
  {
   "cell_type": "code",
   "execution_count": 25,
   "metadata": {
    "collapsed": false
   },
   "outputs": [],
   "source": [
    "df = pd.read_table(\"../data/onet_tools_technology/Tools and Technology.txt\")"
   ]
  },
  {
   "cell_type": "code",
   "execution_count": 26,
   "metadata": {
    "collapsed": false
   },
   "outputs": [],
   "source": [
    "df.columns = [\"onet_soc_code\", \"title\", \"type\", \"example\", \"commodity_code\", \"commodity_title\"]"
   ]
  },
  {
   "cell_type": "code",
   "execution_count": 27,
   "metadata": {
    "collapsed": false
   },
   "outputs": [
    {
     "data": {
      "text/html": [
       "<div>\n",
       "<table border=\"1\" class=\"dataframe\">\n",
       "  <thead>\n",
       "    <tr style=\"text-align: right;\">\n",
       "      <th></th>\n",
       "      <th>onet_soc_code</th>\n",
       "      <th>title</th>\n",
       "      <th>type</th>\n",
       "      <th>example</th>\n",
       "      <th>commodity_code</th>\n",
       "      <th>commodity_title</th>\n",
       "    </tr>\n",
       "  </thead>\n",
       "  <tbody>\n",
       "    <tr>\n",
       "      <th>0</th>\n",
       "      <td>11-1011.00</td>\n",
       "      <td>Chief Executives</td>\n",
       "      <td>Tools</td>\n",
       "      <td>10-key calculators</td>\n",
       "      <td>44101809</td>\n",
       "      <td>Desktop calculator</td>\n",
       "    </tr>\n",
       "    <tr>\n",
       "      <th>1</th>\n",
       "      <td>11-1011.00</td>\n",
       "      <td>Chief Executives</td>\n",
       "      <td>Tools</td>\n",
       "      <td>Desktop computers</td>\n",
       "      <td>43211507</td>\n",
       "      <td>Desktop computers</td>\n",
       "    </tr>\n",
       "    <tr>\n",
       "      <th>2</th>\n",
       "      <td>11-1011.00</td>\n",
       "      <td>Chief Executives</td>\n",
       "      <td>Tools</td>\n",
       "      <td>Laptop computers</td>\n",
       "      <td>43211503</td>\n",
       "      <td>Notebook computers</td>\n",
       "    </tr>\n",
       "    <tr>\n",
       "      <th>3</th>\n",
       "      <td>11-1011.00</td>\n",
       "      <td>Chief Executives</td>\n",
       "      <td>Tools</td>\n",
       "      <td>Personal computers</td>\n",
       "      <td>43211508</td>\n",
       "      <td>Personal computers</td>\n",
       "    </tr>\n",
       "    <tr>\n",
       "      <th>4</th>\n",
       "      <td>11-1011.00</td>\n",
       "      <td>Chief Executives</td>\n",
       "      <td>Tools</td>\n",
       "      <td>Personal digital assistants PDA</td>\n",
       "      <td>43211504</td>\n",
       "      <td>Personal digital assistant PDAs or organizers</td>\n",
       "    </tr>\n",
       "  </tbody>\n",
       "</table>\n",
       "</div>"
      ],
      "text/plain": [
       "  onet_soc_code             title   type                          example  \\\n",
       "0    11-1011.00  Chief Executives  Tools               10-key calculators   \n",
       "1    11-1011.00  Chief Executives  Tools                Desktop computers   \n",
       "2    11-1011.00  Chief Executives  Tools                 Laptop computers   \n",
       "3    11-1011.00  Chief Executives  Tools               Personal computers   \n",
       "4    11-1011.00  Chief Executives  Tools  Personal digital assistants PDA   \n",
       "\n",
       "   commodity_code                                commodity_title  \n",
       "0        44101809                             Desktop calculator  \n",
       "1        43211507                              Desktop computers  \n",
       "2        43211503                             Notebook computers  \n",
       "3        43211508                             Personal computers  \n",
       "4        43211504  Personal digital assistant PDAs or organizers  "
      ]
     },
     "execution_count": 27,
     "metadata": {},
     "output_type": "execute_result"
    }
   ],
   "source": [
    "df.head()"
   ]
  },
  {
   "cell_type": "markdown",
   "metadata": {},
   "source": [
    "This data contains __973 unique occupations__ and has an __uneven weighting of tools vs. technology__ :"
   ]
  },
  {
   "cell_type": "code",
   "execution_count": 37,
   "metadata": {
    "collapsed": false
   },
   "outputs": [
    {
     "data": {
      "image/png": "[encoded data removed]",
      "text/plain": [
       "<matplotlib.figure.Figure at 0x111c3f710>"
      ]
     },
     "metadata": {},
     "output_type": "display_data"
    }
   ],
   "source": [
    "keys = np.array(df.type.value_counts().keys(), dtype=\"string\")\n",
    "values = pd.Series(df.type.value_counts().values)\n",
    "# sns.plt.figure(figsize=(12, 8))\n",
    "ax = values.plot(kind = 'bar')\n",
    "ax.set_xticklabels(keys)\n",
    "sns.plt.show()"
   ]
  },
  {
   "cell_type": "markdown",
   "metadata": {},
   "source": [
    "### Sample Occupations"
   ]
  },
  {
   "cell_type": "code",
   "execution_count": 5,
   "metadata": {
    "collapsed": false,
    "scrolled": true
   },
   "outputs": [
    {
     "data": {
      "text/plain": [
       "title\n",
       "Geoscientists, Except Hydrologists and Geographers              291\n",
       "Craft Artists                                                   275\n",
       "Musical Instrument Repairers and Tuners                         258\n",
       "Helpers--Pipelayers, Plumbers, Pipefitters, and Steamfitters    256\n",
       "Dentists, General                                               247\n",
       "Name: type, dtype: int64"
      ]
     },
     "execution_count": 5,
     "metadata": {},
     "output_type": "execute_result"
    }
   ],
   "source": [
    "df.groupby(\"title\").count().type.order(ascending = False).head()"
   ]
  },
  {
   "cell_type": "markdown",
   "metadata": {},
   "source": [
    "### 5 Most-Used Commodities"
   ]
  },
  {
   "cell_type": "code",
   "execution_count": 6,
   "metadata": {
    "collapsed": false
   },
   "outputs": [
    {
     "data": {
      "text/plain": [
       "commodity_title\n",
       "Analytical or scientific software              2593\n",
       "Data base user interface and query software    2004\n",
       "Medical software                               1290\n",
       "Word processing software                       1076\n",
       "Spreadsheet software                            908\n",
       "Name: type, dtype: int64"
      ]
     },
     "execution_count": 6,
     "metadata": {},
     "output_type": "execute_result"
    }
   ],
   "source": [
    "df.groupby(\"commodity_title\").count().type.order(ascending = False).head()"
   ]
  }
 ],
 "metadata": {
  "kernelspec": {
   "display_name": "Python 2",
   "language": "python",
   "name": "python2"
  },
  "language_info": {
   "codemirror_mode": {
    "name": "ipython",
    "version": 2
   },
   "file_extension": ".py",
   "mimetype": "text/x-python",
   "name": "python",
   "nbconvert_exporter": "python",
   "pygments_lexer": "ipython2",
   "version": "2.7.10"
  }
 },
 "nbformat": 4,
 "nbformat_minor": 0
}
