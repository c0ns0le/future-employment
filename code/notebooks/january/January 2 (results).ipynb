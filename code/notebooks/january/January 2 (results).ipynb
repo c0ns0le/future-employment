{
 "cells": [
  {
   "cell_type": "code",
   "execution_count": 1,
   "metadata": {
    "collapsed": true
   },
   "outputs": [],
   "source": [
    "import pandas as pd\n",
    "import numpy as np\n",
    "from collections import defaultdict\n",
    "from sklearn.cross_validation import train_test_split\n",
    "\n",
    "import seaborn as sns\n",
    "\n",
    "%matplotlib inline"
   ]
  },
  {
   "cell_type": "code",
   "execution_count": 2,
   "metadata": {
    "collapsed": true
   },
   "outputs": [],
   "source": [
    "#import data\n",
    "# export to csv\n",
    "# run\n",
    "# serialize results\n",
    "# format results to df"
   ]
  },
  {
   "cell_type": "markdown",
   "metadata": {},
   "source": [
    "# IMPORT MODELS"
   ]
  },
  {
   "cell_type": "code",
   "execution_count": 3,
   "metadata": {
    "collapsed": true
   },
   "outputs": [],
   "source": [
    "import GPy\n",
    "from sklearn.svm import SVR, SVC\n",
    "from sklearn.linear_model import Lasso"
   ]
  },
  {
   "cell_type": "markdown",
   "metadata": {},
   "source": [
    "# IMPORT SCRIPTS"
   ]
  },
  {
   "cell_type": "code",
   "execution_count": 4,
   "metadata": {
    "collapsed": true
   },
   "outputs": [],
   "source": [
    "# CREATE INPUTS LIST\n",
    "def get_array_percentiles(array):\n",
    "\t\tdef percentile(x, array):\n",
    "\t\t\treturn 100*np.mean(array <= x)\n",
    "\n",
    "\t\treturn np.array(map(lambda x: percentile(x, array), array))\n",
    "\n",
    "def get_percentiles(df):\n",
    "\tif isinstance(df, pd.DataFrame):\n",
    "\t\tnew_df = df.copy()\n",
    "\t\treturn new_df.apply(lambda x: get_array_percentiles(x), axis = 0)\n",
    "\telif isinstance(df, np.ndarray):\n",
    "\t\treturn np.apply_along_axis(get_percentiles, 0, a)\n",
    "\telse:\n",
    "\t\tprint \"TYPE ERROR; PLEASE INPUT pd.DataFrame OR np.ndarray\"\n",
    "\t\traise"
   ]
  },
  {
   "cell_type": "code",
   "execution_count": 5,
   "metadata": {
    "collapsed": true
   },
   "outputs": [],
   "source": [
    "def generate_inputs(X_name, X_input, output_columns, subset_columns, y_before_name, y_after_name, job_codes = None):\n",
    "    \"\"\"\n",
    "    X_name: name of X_input\n",
    "    X_input: raw input with O*NET-SOC Code\n",
    "    output_columns: interest variable df, like automation, with O*NET-SOC Code\n",
    "    subset_columns: output columns you want to subset X on. Str or List\n",
    "    y_before: name of column containing before target\n",
    "    y_after: name of column containing after target\n",
    "    job_codes: necessary only if \n",
    "    \"\"\"\n",
    "    X = X_input.copy()\n",
    "    # first, format inputs\n",
    "    if job_codes and \"O*NET-SOC Code\" not in X_input.columns:\n",
    "        X = pd.concat((X_input, job_codes), axis = 1)\n",
    "\n",
    "    X = X.merge(output_columns, on = 'O*NET-SOC Code', how = 'inner')\n",
    "\n",
    "\n",
    "    # generate X subsets\n",
    "    print \"CREATING X's\"\n",
    "    if isinstance(subset_columns, str):\n",
    "        subset_columns = [subset_columns]\n",
    "\n",
    "    subset_inputs = []\n",
    "    subset_inputs.append(['full', X])\n",
    "    for subset in subset_columns:\n",
    "        Xss = X[subset]\n",
    "        s = subset\n",
    "        subset_inputs.append(['pos_change_' + s, X[Xss > 0]])\n",
    "        subset_inputs.append(['neg_change_' + s, X[Xss < 0]])\n",
    "        subset_inputs.append(['gt_mean_' + s, X[Xss > Xss.mean()]])\n",
    "        subset_inputs.append(['lt_mean_' + s, X[Xss < Xss.mean()]])\n",
    "\n",
    "    # generate transforms\n",
    "    print \"TRANFORMING X's\"\n",
    "    transformed_inputs = []\n",
    "    cols = list(output_columns.columns)\n",
    "    for subset_input in subset_inputs:\n",
    "        transformed_inputs.append(subset_input)\n",
    "        X_name, df = subset_input[0], subset_input[1]\n",
    "        retain = df[cols]\n",
    "        of_interest = df.drop(cols, axis = 1)\n",
    "\n",
    "        # percentile\n",
    "        pct_df = get_percentiles(of_interest)\n",
    "        pct_df = pd.concat((pct_df, retain), axis = 1)\n",
    "        pct_name = 'pile_' + X_name\n",
    "        transformed_inputs.append([pct_name, pct_df])\n",
    "\n",
    "\n",
    "        # log change\n",
    "        if isinstance(of_interest, np.ndarray):\n",
    "            minimum = np.min(of_interest)\n",
    "        else:\n",
    "            minimum = of_interest.values.min()\n",
    "        if minimum > 0:\n",
    "            log_df = np.log(of_interest)\n",
    "            log_df = pd.concat((log_df, retain), axis = 1)\n",
    "            log_name = 'log_' + X_name\n",
    "            transformed_inputs.append([log_name, log_df])\n",
    "\n",
    "    final_inputs = []\n",
    "    \n",
    "    # generate y inputs\n",
    "    print \"CREATING y's\"\n",
    "    for X in transformed_inputs:\n",
    "        new_y_inputs = []\n",
    "        X_name = X[0]\n",
    "        y_before, y_after = X[1][y_before_name], X[1][y_after_name]\n",
    "        delta = y_after - y_before\n",
    "        pct_delta = (y_after.astype(float) - y_before.astype(float)) / y_before\n",
    "        pile_pct_delta = get_array_percentiles(pct_delta)\n",
    "        pctile_before = get_array_percentiles(y_before)\n",
    "        pctile_after = get_array_percentiles(y_after)\n",
    "\n",
    "        new_y_inputs.append(['before', y_before])\n",
    "        new_y_inputs.append(['after', y_after])\n",
    "        new_y_inputs.append(['pct_delta', pct_delta])\n",
    "        new_y_inputs.append(['pile_pct_delta', pile_pct_delta])\n",
    "        new_y_inputs.append(['pctile_before', pctile_before])\n",
    "        new_y_inputs.append(['pctile_after', pctile_after])\n",
    "\n",
    "        final_y_inputs = []\n",
    "        for y_name, y_input in new_y_inputs:\n",
    "            final_y_inputs.append([y_name, y_input])\n",
    "            if min(y_input) > 0.0:\n",
    "                final_y_inputs.append(['log_' + X_name, np.log(y_input)])\n",
    "\n",
    "        X_final = X[1].drop(cols, axis = 1)\n",
    "        for y_name, y_input_final in final_y_inputs:\n",
    "            final_inputs.append([X_name, X_final, y_name, y_input_final])\n",
    "\n",
    "    return final_inputs\n",
    "\n",
    "\n",
    "def create_class_inputs(input_list):\n",
    "    \"\"\"\n",
    "    Input list has to be structured as a list of lists, s.t. the inner list is constructed:\n",
    "\n",
    "                [X_name, X, y_name, y]\n",
    "\n",
    "    \"\"\"\n",
    "    class_list = []\n",
    "    for i in input_list:\n",
    "        X_name, X, y_name, y = i[0], i[1], i[2], i[3]\n",
    "\n",
    "        # gt/lt than mean\n",
    "        class_list.append([X_name, X, \"gt_mean_\" + y_name, y > np.mean(y)])\n",
    "        class_list.append([X_name, X, \"lt_mean_\" + y_name, y < np.mean(y)])\n",
    "\n",
    "        # gt/lt than 0\n",
    "        if min(y) < 0 and max(y) > 0:\n",
    "            class_list.append([X_name, X, \"gt_0_\" + y_name, y > 0])\n",
    "            class_list.append([X_name, X, \"lt_0_\" + y_name, y < 0])\n",
    "\n",
    "        # gt/lt Z std deviations from mean\n",
    "        devs = np.array([0.5, 1, 1.5, 2, 2.5, 3])\n",
    "        devs = np.hstack((devs, -devs))\n",
    "        std = np.std(y)\n",
    "        mean = np.mean(y)\n",
    "        for sd in devs:\n",
    "            new_y = y > (mean + sd*std)\n",
    "            name = str(std) + \"_gt_\" + y_name\n",
    "            class_list.append([X_name, X, name, new_y])\n",
    "\n",
    "    return class_list"
   ]
  },
  {
   "cell_type": "code",
   "execution_count": 6,
   "metadata": {
    "collapsed": true
   },
   "outputs": [],
   "source": [
    "def score_model(y_pred, y_test, y_name, X_inputs, models, score_type):\n",
    "    score = {}\n",
    "    X_name, X = X_inputs[0], X_inputs[1]\n",
    "    model_name, model = models[0], models[1]\n",
    "    \n",
    "    score['Model name'] = model_name\n",
    "    score['Model'] = model\n",
    "    score['X_name'] = X_name\n",
    "    score['y_name'] = y_name\n",
    "    score['y_pred'] = y_pred\n",
    "    score['y_test'] = y_test\n",
    "    \n",
    "    try:\n",
    "        likelihood = model.likelihood\n",
    "    except:\n",
    "        likelihood = 'N/A'\n",
    "\n",
    "    if score_type == \"classification\":\n",
    "        accuracy = -1\n",
    "        precision = None\n",
    "        recall = None\n",
    "        specificity = None\n",
    "        f1 = None\n",
    "        ideal_cutoff = None\n",
    "\n",
    "        chart_storage = np.array([None, None, None])\n",
    "        for cutoff in np.arange(0, 1.001, 0.001):\n",
    "            y_pred = y_pred > cutoff\n",
    "            num_TP = float(np.sum((y_pred == 1) & (y_test == 1)))\n",
    "            num_FP = float(np.sum((y_pred == 1) & (y_test == 0)))\n",
    "            num_TN = float(np.sum((y_pred == 0) & (y_test == 0)))\n",
    "            num_FN = float(np.sum((y_pred == 0) & (y_test == 1)))\n",
    "\n",
    "            s_accuracy = np.mean(y_pred == y_test)\n",
    "            s_precision = num_TP / (num_TP + num_FP)\n",
    "            s_recall = num_TP / (num_TP + num_FN)\n",
    "            s_specificity = num_TN / (num_TN + num_FP)\n",
    "            s_f1 = (precision * recall) / (precision + recall)\n",
    "\n",
    "            chart_storage.append([cutoff, s_recall, s_specificity])\n",
    "\n",
    "            if s_accuracy > accuracy:\n",
    "                ideal_cutoff = cutoff\n",
    "                precision = s_precision\n",
    "                recall = s_recall\n",
    "                specificity = s_specificity \n",
    "                f1 = s_f1\n",
    "                ideal_cutoff = s_ideal_cutoff\n",
    "\n",
    "        def plot_chart(chart_storage):\n",
    "            cutoffs = chart_storage[:,0]\n",
    "            sensitivity = chart_storage[:,1]\n",
    "            specificity = chart_storage[:,2]\n",
    "            sns.plt.plot(sensitivity, specificity)\n",
    "            sns.plt.close()\n",
    "\n",
    "        eval_text = \"\"\"\n",
    "        Model \t\t| \t{}\t\t|\n",
    "        X name\t\t|\t{}\t\t|\n",
    "        Accuracy\t|\t{}\t\t|\n",
    "        Precision  \t|\t{}\t\t|\n",
    "        Recall \t\t|\t{}\t\t|\n",
    "        Specificity |\t{}\t\t|\n",
    "        F1\t\t\t|\t{}\t\t|\n",
    "        Likelihood  |   {}      |\n",
    "        \"\"\".format(y_name,\n",
    "                   model_name,\n",
    "                   X_name,\n",
    "                   accuracy,\n",
    "                   precision,\n",
    "                   recalll,\n",
    "                   specificity,\n",
    "                   f1,\n",
    "                   likelihood)\n",
    "        score['Accuracy'] = accuracy\n",
    "        score['Precision'] = precision\n",
    "        score['Recall'] = recall\n",
    "        score['Specificity'] = specificity\n",
    "        score['F1'] = F1\n",
    "        score['AUC_data'] = chart_storage\n",
    "        score['chart'] = plot_chart # when called, call on plot_chart( score['AUC_data'])\n",
    "\n",
    "        print eval_text\n",
    "        return score\n",
    "\n",
    "    elif score_type == 'regression':\n",
    "        errors = y_test - y_pred\n",
    "        se = float(np.std(errors)) / np.sqrt(len(errors))\n",
    "\n",
    "        eval_text = \"\"\"\n",
    "        y name      |     {}\n",
    "        Model name  |     {}\n",
    "        X name      |     {}\n",
    "        Mean Y      |     {}\n",
    "        Mean Y_hat  |     {}\n",
    "        Mean error  |     {}\n",
    "        SE          |     {}\n",
    "        Likelihood  |     {}\n",
    "        \"\"\".format(y_name,\n",
    "                   model_name,\n",
    "                   X_name,\n",
    "                   np.mean(y_test),\n",
    "                   np.mean(y_pred),\n",
    "                   np.mean(errors),\n",
    "                   se,\n",
    "                   likelihood\n",
    "                   )\n",
    "        score['likelihood'] = likelihood\n",
    "        score['Standard Error'] = se\n",
    "        score['mean y'] = np.mean(y_test)\n",
    "        score['mean y_hat'] = np.mean(y_pred)\n",
    "        score['mean_error'] = np.mean(errors)\n",
    "        \n",
    "        ## plot pca\n",
    "        ## plot errors\n",
    "\n",
    "        print eval_text\n",
    "        return score\n",
    "    else:\n",
    "        return \"Please input a valid score_type {'regression', 'classification'}\""
   ]
  },
  {
   "cell_type": "code",
   "execution_count": 7,
   "metadata": {
    "collapsed": true
   },
   "outputs": [],
   "source": [
    "def run_loop(loop_type = 'regression', reg_inputs = None, class_inputs = None, reg_models = None, class_models = None):\n",
    "    ## returns all models in comparison, as dict\n",
    "    scores = defaultdict(list)\n",
    "    \n",
    "    if loop_type == \"regression\":\n",
    "        inputs = reg_inputs\n",
    "        models = reg_models\n",
    "    else:\n",
    "        inputs = class_inputs\n",
    "        models = class_models\n",
    "\n",
    "    for inp in inputs:\n",
    "        X_name, X, y_name, y = inp\n",
    "\n",
    "        # clean data in Numpy format\n",
    "        if not isinstance(X, np.ndarray):\n",
    "            X = np.array(X)\n",
    "        if not isinstance(y, np.ndarray):\n",
    "            y = np.array(y)\n",
    "        if y.ndim == 1:\n",
    "            y = y[:,np.newaxis]\n",
    "\n",
    "        X_train, X_test, y_train, y_test = train_test_split(X, y)\n",
    "\n",
    "        for model in models:\n",
    "            model_name, mod = model\n",
    "            try:\n",
    "                if y_train.ndim > 1:\n",
    "                    new_y_train = y_train.flatten()\n",
    "                mod.fit(X_train, new_y_train)\n",
    "                y_pred = mod.predict(X_test)\n",
    "            except AttributeError:\n",
    "                mod = mod(X_train, y_train)\n",
    "                mod.optimize()\n",
    "                mod.optimize_restarts(10)\n",
    "                y_pred, y_pred_var = mod.predict(X_test)\n",
    "                \n",
    "            score = score_model(y_pred, y_test, y_name, (X_name, X), model, score_type = loop_type) # CREATE TYPES\n",
    "            scores[model_name].append(score)\n",
    "    return scores"
   ]
  },
  {
   "cell_type": "markdown",
   "metadata": {},
   "source": [
    "# LOAD DATA"
   ]
  },
  {
   "cell_type": "code",
   "execution_count": 47,
   "metadata": {
    "collapsed": false
   },
   "outputs": [],
   "source": [
    "X_full = pd.read_csv(\"../../../data/helpers/skills/skills_2009.csv\")\n",
    "y_full = pd.read_csv(\"../../../data/helpers/automation/delta_9_15.csv\")\n",
    "\n",
    "X_name = 'skills_2009'\n",
    "output_columns = y_full\n",
    "subset_columns = ['delta', 'delta_pct']\n",
    "y_before, y_after = 'automation_9', 'automation_15'"
   ]
  },
  {
   "cell_type": "code",
   "execution_count": 28,
   "metadata": {
    "collapsed": false
   },
   "outputs": [
    {
     "name": "stdout",
     "output_type": "stream",
     "text": [
      "CREATING X's\n",
      "TRANFORMING X's\n",
      "CREATING y's\n"
     ]
    }
   ],
   "source": [
    "inps = generate_inputs(X_name, X_full, output_columns, subset_columns, y_before, y_after)"
   ]
  },
  {
   "cell_type": "code",
   "execution_count": 29,
   "metadata": {
    "collapsed": true
   },
   "outputs": [],
   "source": [
    "final_inps = [inps[i] for i in np.random.randint(0, len(inps) - 1, 5)]\n",
    "class_inps = filter(lambda x: len(set(x[3])) == 2, create_class_inputs(filter(lambda x: x[2] == 'pct_delta', inps)[10:]))"
   ]
  },
  {
   "cell_type": "code",
   "execution_count": 30,
   "metadata": {
    "collapsed": false
   },
   "outputs": [],
   "source": [
    "models = [('GP REG', GPy.models.GPRegression),\n",
    "          ('SVR', SVR()),\n",
    "          ('Lasso', Lasso())]\n",
    "\n",
    "class_models = [('GP CLASS', GPy.models.GPClassification),\n",
    "                ('SVC', SVC())]\n"
   ]
  },
  {
   "cell_type": "markdown",
   "metadata": {},
   "source": [
    "# EXPERIMENT"
   ]
  },
  {
   "cell_type": "code",
   "execution_count": 36,
   "metadata": {
    "collapsed": false
   },
   "outputs": [],
   "source": [
    "X, y = class_inps[0][1], class_inps[0][3]\n",
    "X_train, X_test, y_train, y_test = train_test_split(X, y)"
   ]
  },
  {
   "cell_type": "code",
   "execution_count": 37,
   "metadata": {
    "collapsed": false
   },
   "outputs": [],
   "source": [
    "mod = GPy.models.GPClassification(np.array(X_train), np.array(y_train)[:,np.newaxis])"
   ]
  },
  {
   "cell_type": "code",
   "execution_count": 38,
   "metadata": {
    "collapsed": false
   },
   "outputs": [],
   "source": [
    "preds = mod.predict(np.array(X_test))"
   ]
  },
  {
   "cell_type": "code",
   "execution_count": 44,
   "metadata": {
    "collapsed": true
   },
   "outputs": [],
   "source": [
    "mod = SVC()\n",
    "mod.fit(X_train, y_train)\n",
    "preds = mod.predict(X_test)"
   ]
  },
  {
   "cell_type": "code",
   "execution_count": 46,
   "metadata": {
    "collapsed": false
   },
   "outputs": [
    {
     "data": {
      "text/plain": [
       "array([False, False, False,  True, False, False, False, False, False,\n",
       "       False, False, False, False, False, False, False, False, False,\n",
       "       False, False, False, False, False, False, False, False, False,\n",
       "       False, False, False, False, False, False, False, False, False,\n",
       "       False, False, False, False, False, False, False, False, False,\n",
       "       False, False, False, False, False, False, False, False, False,\n",
       "       False, False, False], dtype=bool)"
      ]
     },
     "execution_count": 46,
     "metadata": {},
     "output_type": "execute_result"
    }
   ],
   "source": [
    "preds"
   ]
  },
  {
   "cell_type": "code",
   "execution_count": 180,
   "metadata": {
    "collapsed": false
   },
   "outputs": [
    {
     "name": "stdout",
     "output_type": "stream",
     "text": [
      "Optimization restart 1/10, f = 324.375122243\n",
      "Optimization restart 2/10, f = 306.644236912\n",
      "Optimization restart 3/10, f = 360.826834755\n",
      "Optimization restart 4/10, f = 334.460336747\n",
      "Optimization restart 5/10, f = 346.357682532\n",
      "Optimization restart 6/10, f = 302.955402912\n",
      "Optimization restart 7/10, f = 327.239102624\n",
      "Optimization restart 8/10, f = 331.659724225\n",
      "Optimization restart 9/10, f = 298.691681843\n",
      "Optimization restart 10/10, f = 329.878522218\n"
     ]
    },
    {
     "ename": "TypeError",
     "evalue": "unsupported operand type(s) for *: 'NoneType' and 'NoneType'",
     "output_type": "error",
     "traceback": [
      "\u001b[0;31m---------------------------------------------------------------------------\u001b[0m",
      "\u001b[0;31mTypeError\u001b[0m                                 Traceback (most recent call last)",
      "\u001b[0;32m<ipython-input-180-ff36367cdef3>\u001b[0m in \u001b[0;36m<module>\u001b[0;34m()\u001b[0m\n\u001b[0;32m----> 1\u001b[0;31m \u001b[0mresults\u001b[0m \u001b[0;34m=\u001b[0m \u001b[0mrun_loop\u001b[0m\u001b[0;34m(\u001b[0m\u001b[0mloop_type\u001b[0m \u001b[0;34m=\u001b[0m \u001b[0;34m'classification'\u001b[0m\u001b[0;34m,\u001b[0m \u001b[0mclass_inputs\u001b[0m \u001b[0;34m=\u001b[0m \u001b[0mclass_inps\u001b[0m\u001b[0;34m,\u001b[0m \u001b[0mclass_models\u001b[0m \u001b[0;34m=\u001b[0m \u001b[0mclass_models\u001b[0m\u001b[0;34m)\u001b[0m\u001b[0;34m\u001b[0m\u001b[0m\n\u001b[0m",
      "\u001b[0;32m<ipython-input-159-56c0607efb4a>\u001b[0m in \u001b[0;36mrun_loop\u001b[0;34m(loop_type, reg_inputs, class_inputs, reg_models, class_models)\u001b[0m\n\u001b[1;32m     36\u001b[0m                 \u001b[0my_pred\u001b[0m\u001b[0;34m,\u001b[0m \u001b[0my_pred_var\u001b[0m \u001b[0;34m=\u001b[0m \u001b[0mmod\u001b[0m\u001b[0;34m.\u001b[0m\u001b[0mpredict\u001b[0m\u001b[0;34m(\u001b[0m\u001b[0mX_test\u001b[0m\u001b[0;34m)\u001b[0m\u001b[0;34m\u001b[0m\u001b[0m\n\u001b[1;32m     37\u001b[0m \u001b[0;34m\u001b[0m\u001b[0m\n\u001b[0;32m---> 38\u001b[0;31m             \u001b[0mscore\u001b[0m \u001b[0;34m=\u001b[0m \u001b[0mscore_model\u001b[0m\u001b[0;34m(\u001b[0m\u001b[0my_pred\u001b[0m\u001b[0;34m,\u001b[0m \u001b[0my_test\u001b[0m\u001b[0;34m,\u001b[0m \u001b[0my_name\u001b[0m\u001b[0;34m,\u001b[0m \u001b[0;34m(\u001b[0m\u001b[0mX_name\u001b[0m\u001b[0;34m,\u001b[0m \u001b[0mX\u001b[0m\u001b[0;34m)\u001b[0m\u001b[0;34m,\u001b[0m \u001b[0mmodel\u001b[0m\u001b[0;34m,\u001b[0m \u001b[0mscore_type\u001b[0m \u001b[0;34m=\u001b[0m \u001b[0mloop_type\u001b[0m\u001b[0;34m)\u001b[0m \u001b[0;31m# CREATE TYPES\u001b[0m\u001b[0;34m\u001b[0m\u001b[0m\n\u001b[0m\u001b[1;32m     39\u001b[0m             \u001b[0mscores\u001b[0m\u001b[0;34m[\u001b[0m\u001b[0mmodel_name\u001b[0m\u001b[0;34m]\u001b[0m\u001b[0;34m.\u001b[0m\u001b[0mappend\u001b[0m\u001b[0;34m(\u001b[0m\u001b[0mscore\u001b[0m\u001b[0;34m)\u001b[0m\u001b[0;34m\u001b[0m\u001b[0m\n\u001b[1;32m     40\u001b[0m     \u001b[0;32mreturn\u001b[0m \u001b[0mscores\u001b[0m\u001b[0;34m\u001b[0m\u001b[0m\n",
      "\u001b[0;32m<ipython-input-158-2f5044122324>\u001b[0m in \u001b[0;36mscore_model\u001b[0;34m(y_pred, y_test, y_name, X_inputs, models, score_type)\u001b[0m\n\u001b[1;32m     36\u001b[0m             \u001b[0ms_recall\u001b[0m \u001b[0;34m=\u001b[0m \u001b[0mnum_TP\u001b[0m \u001b[0;34m/\u001b[0m \u001b[0;34m(\u001b[0m\u001b[0mnum_TP\u001b[0m \u001b[0;34m+\u001b[0m \u001b[0mnum_FN\u001b[0m\u001b[0;34m)\u001b[0m\u001b[0;34m\u001b[0m\u001b[0m\n\u001b[1;32m     37\u001b[0m             \u001b[0ms_specificity\u001b[0m \u001b[0;34m=\u001b[0m \u001b[0mnum_TN\u001b[0m \u001b[0;34m/\u001b[0m \u001b[0;34m(\u001b[0m\u001b[0mnum_TN\u001b[0m \u001b[0;34m+\u001b[0m \u001b[0mnum_FP\u001b[0m\u001b[0;34m)\u001b[0m\u001b[0;34m\u001b[0m\u001b[0m\n\u001b[0;32m---> 38\u001b[0;31m             \u001b[0ms_f1\u001b[0m \u001b[0;34m=\u001b[0m \u001b[0;34m(\u001b[0m\u001b[0mprecision\u001b[0m \u001b[0;34m*\u001b[0m \u001b[0mrecall\u001b[0m\u001b[0;34m)\u001b[0m \u001b[0;34m/\u001b[0m \u001b[0;34m(\u001b[0m\u001b[0mprecision\u001b[0m \u001b[0;34m+\u001b[0m \u001b[0mrecall\u001b[0m\u001b[0;34m)\u001b[0m\u001b[0;34m\u001b[0m\u001b[0m\n\u001b[0m\u001b[1;32m     39\u001b[0m \u001b[0;34m\u001b[0m\u001b[0m\n\u001b[1;32m     40\u001b[0m             \u001b[0mchart_storage\u001b[0m\u001b[0;34m.\u001b[0m\u001b[0mappend\u001b[0m\u001b[0;34m(\u001b[0m\u001b[0;34m[\u001b[0m\u001b[0mcutoff\u001b[0m\u001b[0;34m,\u001b[0m \u001b[0ms_recall\u001b[0m\u001b[0;34m,\u001b[0m \u001b[0ms_specificity\u001b[0m\u001b[0;34m]\u001b[0m\u001b[0;34m)\u001b[0m\u001b[0;34m\u001b[0m\u001b[0m\n",
      "\u001b[0;31mTypeError\u001b[0m: unsupported operand type(s) for *: 'NoneType' and 'NoneType'"
     ]
    }
   ],
   "source": [
    "results = run_loop(loop_type = 'classification', class_inputs = class_inps, class_models = class_models)"
   ]
  },
  {
   "cell_type": "code",
   "execution_count": 168,
   "metadata": {
    "collapsed": false
   },
   "outputs": [
    {
     "data": {
      "text/plain": [
       "0      0.488889\n",
       "2      0.267327\n",
       "3      0.009615\n",
       "15     0.076923\n",
       "16     0.095960\n",
       "24     0.113861\n",
       "26     0.118943\n",
       "29     0.020761\n",
       "32     0.557769\n",
       "39     0.206667\n",
       "51     0.240343\n",
       "54     0.181818\n",
       "55     0.036066\n",
       "56     0.165289\n",
       "57     0.049822\n",
       "59     0.593985\n",
       "63     0.042735\n",
       "64     0.090000\n",
       "65     0.039604\n",
       "69     0.345238\n",
       "72     0.276042\n",
       "74     0.489510\n",
       "75     0.024272\n",
       "77     0.019324\n",
       "81     0.083770\n",
       "82     0.604478\n",
       "83     0.023256\n",
       "85     0.360825\n",
       "86     0.061538\n",
       "90     0.127572\n",
       "         ...   \n",
       "629    0.059233\n",
       "649    0.172043\n",
       "669    0.006623\n",
       "672    0.082237\n",
       "674    0.093093\n",
       "678    0.155116\n",
       "681    0.385787\n",
       "685    0.093023\n",
       "690    0.105590\n",
       "692    0.067114\n",
       "698    0.149798\n",
       "702    0.078704\n",
       "703    0.061404\n",
       "705    0.087649\n",
       "708    0.212963\n",
       "710    0.291667\n",
       "713    0.135000\n",
       "714    0.022857\n",
       "715    0.273256\n",
       "717    0.025641\n",
       "719    0.087558\n",
       "722    0.180723\n",
       "727    0.453947\n",
       "730    0.133333\n",
       "736    0.040161\n",
       "748    0.464286\n",
       "749    0.203297\n",
       "750    0.223529\n",
       "752    0.572368\n",
       "756    0.051195\n",
       "dtype: float64"
      ]
     },
     "execution_count": 168,
     "metadata": {},
     "output_type": "execute_result"
    }
   ],
   "source": [
    "class_inps[0][3]"
   ]
  },
  {
   "cell_type": "markdown",
   "metadata": {
    "collapsed": true
   },
   "source": [
    "# TESTING GP REGRESSION"
   ]
  },
  {
   "cell_type": "code",
   "execution_count": 54,
   "metadata": {
    "collapsed": true
   },
   "outputs": [],
   "source": [
    "X, y = X_full, y_full"
   ]
  },
  {
   "cell_type": "code",
   "execution_count": 55,
   "metadata": {
    "collapsed": true
   },
   "outputs": [],
   "source": [
    "X = X.merge(y, on = \"O*NET-SOC Code\", how = \"inner\")"
   ]
  },
  {
   "cell_type": "code",
   "execution_count": 59,
   "metadata": {
    "collapsed": true
   },
   "outputs": [],
   "source": [
    "y9 = X[list(y.columns)].automation_9\n",
    "y15 = X[list(y.columns)].automation_9\n",
    "X = X.drop(list(y.columns), axis = 1)"
   ]
  },
  {
   "cell_type": "code",
   "execution_count": 95,
   "metadata": {
    "collapsed": true
   },
   "outputs": [],
   "source": [
    "X_train, X_test, y_train, y_test = train_test_split(X, y15)\n",
    "X_train, X_test, y_train, y_test = np.array(X_train), np.array(X_test), np.array(y_train), np.array(y_test)"
   ]
  },
  {
   "cell_type": "code",
   "execution_count": 96,
   "metadata": {
    "collapsed": false,
    "scrolled": true
   },
   "outputs": [
    {
     "name": "stdout",
     "output_type": "stream",
     "text": [
      "Optimization restart 1/30, f = 408.882680607\n",
      "Optimization restart 2/30, f = 408.882680582\n",
      "Optimization restart 3/30, f = 408.882680582\n",
      "Optimization restart 4/30, f = 408.882680581\n",
      "Optimization restart 5/30, f = 1272.70084642\n",
      "Optimization restart 6/30, f = 1272.70072116\n",
      "Optimization restart 7/30, f = 408.882680581\n",
      "Optimization restart 8/30, f = 408.882680581\n",
      "Optimization restart 9/30, f = 408.882680588\n",
      "Optimization restart 10/30, f = 408.882680581\n",
      "Optimization restart 11/30, f = 408.882680581\n",
      "Optimization restart 12/30, f = 408.882680582\n",
      "Optimization restart 13/30, f = 1272.7008317\n",
      "Optimization restart 14/30, f = 1272.70085251\n",
      "Optimization restart 15/30, f = 408.882680582\n",
      "Optimization restart 16/30, f = 408.882680598\n",
      "Optimization restart 17/30, f = 1272.70085229\n",
      "Optimization restart 18/30, f = 1272.70066954\n",
      "Optimization restart 19/30, f = 408.882680598\n",
      "Optimization restart 20/30, f = 408.882680582\n",
      "Optimization restart 21/30, f = 1272.70083944\n",
      "Optimization restart 22/30, f = 1272.70054739\n",
      "Optimization restart 23/30, f = 408.882680582\n",
      "Optimization restart 24/30, f = 1272.70084294\n",
      "Optimization restart 25/30, f = 408.882680581\n",
      "Optimization restart 26/30, f = 408.882680589\n",
      "Optimization restart 27/30, f = 408.882680581\n",
      "Optimization restart 28/30, f = 408.882680582\n",
      "Optimization restart 29/30, f = 408.882680581\n",
      "Optimization restart 30/30, f = 408.882680581\n"
     ]
    }
   ],
   "source": [
    "m = GPy.models.GPRegression(X_train, y_train[:,np.newaxis])\n",
    "m.optimize()\n",
    "m.optimize_restarts(30)"
   ]
  },
  {
   "cell_type": "code",
   "execution_count": 99,
   "metadata": {
    "collapsed": true
   },
   "outputs": [],
   "source": [
    "preds, var = m.predict(X_test)"
   ]
  },
  {
   "cell_type": "code",
   "execution_count": 101,
   "metadata": {
    "collapsed": false
   },
   "outputs": [
    {
     "data": {
      "text/plain": [
       "(array([  6.,   3.,  12.,  13.,  10.,  13.,  21.,  18.,  13.,   5.,  11.,\n",
       "          9.,  13.,  13.,  10.,   9.,   6.,   1.,   2.,   2.]),\n",
       " array([ 1.05 ,  1.179,  1.308,  1.437,  1.566,  1.695,  1.824,  1.953,\n",
       "         2.082,  2.211,  2.34 ,  2.469,  2.598,  2.727,  2.856,  2.985,\n",
       "         3.114,  3.243,  3.372,  3.501,  3.63 ]),\n",
       " <a list of 20 Patch objects>)"
      ]
     },
     "execution_count": 101,
     "metadata": {},
     "output_type": "execute_result"
    },
    {
     "data": {
      "image/png": "[encoded data removed]",
      "text/plain": [
       "<matplotlib.figure.Figure at 0x10f369050>"
      ]
     },
     "metadata": {},
     "output_type": "display_data"
    }
   ],
   "source": [
    "n_bins = 20\n",
    "sns.plt.hist(preds, bins = n_bins)\n",
    "sns.plt.hist(y_test, color = 'red', alpha = 0.3, bins = n_bins)"
   ]
  },
  {
   "cell_type": "code",
   "execution_count": 103,
   "metadata": {
    "collapsed": false
   },
   "outputs": [],
   "source": [
    "class_y15 = y15 > np.percentile(y15, 70)\n",
    "X_train, X_test, y_train, y_test = train_test_split(X, class_y15)\n",
    "X_train, X_test, y_train, y_test = np.array(X_train), np.array(X_test), np.array(y_train), np.array(y_test)"
   ]
  },
  {
   "cell_type": "code",
   "execution_count": 105,
   "metadata": {
    "collapsed": false
   },
   "outputs": [],
   "source": [
    "m = GPy.models.GPClassification(X_train, y_train[:,np.newaxis])"
   ]
  },
  {
   "cell_type": "code",
   "execution_count": 109,
   "metadata": {
    "collapsed": false
   },
   "outputs": [
    {
     "name": "stdout",
     "output_type": "stream",
     "text": [
      "Optimization restart 1/30, f = 1049.22335849\n",
      "Optimization restart 2/30, f = 1025.85048268\n",
      "Optimization restart 3/30, f = 960.241338908\n",
      "Optimization restart 4/30, f = 1125.98297183\n",
      "Optimization restart 5/30, f = 992.230004393\n",
      "Optimization restart 6/30, f = 1057.82778848\n",
      "Optimization restart 7/30, f = 1182.20628547\n",
      "Optimization restart 8/30, f = 1037.90586151\n",
      "Optimization restart 9/30, f = 1031.20029479\n",
      "Optimization restart 10/30, f = 1066.72974751\n",
      "Optimization restart 11/30, f = 1101.85143324\n",
      "Optimization restart 12/30, f = 1036.26225129\n",
      "Optimization restart 13/30, f = 1104.26151143\n",
      "Optimization restart 14/30, f = 1065.30107624\n",
      "Optimization restart 15/30, f = 1046.48373604\n",
      "Optimization restart 16/30, f = 1004.12794619\n",
      "Optimization restart 17/30, f = 1206.24785443\n",
      "Optimization restart 18/30, f = 1044.89645231\n",
      "Optimization restart 19/30, f = 957.759839085\n",
      "Optimization restart 20/30, f = 1131.43109838\n",
      "Optimization restart 21/30, f = 982.657327301\n",
      "Optimization restart 22/30, f = 1014.32130176\n",
      "Optimization restart 23/30, f = 1022.74705102\n",
      "Optimization restart 24/30, f = 1094.55471957\n",
      "Optimization restart 25/30, f = 934.553596292\n",
      "Optimization restart 26/30, f = 1122.24883467\n",
      "Optimization restart 27/30, f = 1051.44324995\n",
      "Optimization restart 28/30, f = 1100.6918066\n",
      "Optimization restart 29/30, f = 1249.3466293\n",
      "Optimization restart 30/30, f = 1105.17890911\n"
     ]
    }
   ],
   "source": [
    "m.optimize()\n",
    "m.optimize_restarts(30)"
   ]
  },
  {
   "cell_type": "code",
   "execution_count": 114,
   "metadata": {
    "collapsed": false
   },
   "outputs": [],
   "source": [
    "preds, var = m.predict(X_test)"
   ]
  },
  {
   "cell_type": "code",
   "execution_count": 198,
   "metadata": {
    "collapsed": true
   },
   "outputs": [],
   "source": [
    "m = SVC()\n",
    "m.fit(X_train, y_train)\n",
    "preds = m.predict(X_test)"
   ]
  },
  {
   "cell_type": "code",
   "execution_count": 200,
   "metadata": {
    "collapsed": true
   },
   "outputs": [],
   "source": [
    "tp, fp, tn, fn = 36, 52, 89, 13"
   ]
  },
  {
   "cell_type": "code",
   "execution_count": 206,
   "metadata": {
    "collapsed": false,
    "scrolled": false
   },
   "outputs": [
    {
     "name": "stdout",
     "output_type": "stream",
     "text": [
      "16.0 11.0 130.0 33.0\n",
      "16.0 11.0 130.0 33.0\n",
      "16.0 11.0 130.0 33.0\n",
      "16.0 11.0 130.0 33.0\n",
      "16.0 11.0 130.0 33.0\n",
      "16.0 11.0 130.0 33.0\n",
      "16.0 11.0 130.0 33.0\n",
      "16.0 11.0 130.0 33.0\n",
      "16.0 11.0 130.0 33.0\n",
      "16.0 11.0 130.0 33.0\n",
      "16.0 11.0 130.0 33.0\n",
      "16.0 11.0 130.0 33.0\n",
      "16.0 11.0 130.0 33.0\n",
      "16.0 11.0 130.0 33.0\n",
      "16.0 11.0 130.0 33.0\n",
      "16.0 11.0 130.0 33.0\n",
      "16.0 11.0 130.0 33.0\n",
      "16.0 11.0 130.0 33.0\n",
      "16.0 11.0 130.0 33.0\n",
      "16.0 11.0 130.0 33.0\n",
      "16.0 11.0 130.0 33.0\n",
      "16.0 11.0 130.0 33.0\n",
      "16.0 11.0 130.0 33.0\n",
      "16.0 11.0 130.0 33.0\n",
      "16.0 11.0 130.0 33.0\n",
      "16.0 11.0 130.0 33.0\n",
      "16.0 11.0 130.0 33.0\n",
      "16.0 11.0 130.0 33.0\n",
      "16.0 11.0 130.0 33.0\n",
      "16.0 11.0 130.0 33.0\n",
      "16.0 11.0 130.0 33.0\n",
      "16.0 11.0 130.0 33.0\n",
      "16.0 11.0 130.0 33.0\n",
      "16.0 11.0 130.0 33.0\n",
      "16.0 11.0 130.0 33.0\n",
      "16.0 11.0 130.0 33.0\n",
      "16.0 11.0 130.0 33.0\n",
      "16.0 11.0 130.0 33.0\n",
      "16.0 11.0 130.0 33.0\n",
      "16.0 11.0 130.0 33.0\n",
      "16.0 11.0 130.0 33.0\n",
      "16.0 11.0 130.0 33.0\n",
      "16.0 11.0 130.0 33.0\n",
      "16.0 11.0 130.0 33.0\n",
      "16.0 11.0 130.0 33.0\n",
      "16.0 11.0 130.0 33.0\n",
      "16.0 11.0 130.0 33.0\n",
      "16.0 11.0 130.0 33.0\n",
      "16.0 11.0 130.0 33.0\n",
      "16.0 11.0 130.0 33.0\n",
      "16.0 11.0 130.0 33.0\n",
      "16.0 11.0 130.0 33.0\n",
      "16.0 11.0 130.0 33.0\n",
      "16.0 11.0 130.0 33.0\n",
      "16.0 11.0 130.0 33.0\n",
      "16.0 11.0 130.0 33.0\n",
      "16.0 11.0 130.0 33.0\n",
      "16.0 11.0 130.0 33.0\n",
      "16.0 11.0 130.0 33.0\n",
      "16.0 11.0 130.0 33.0\n",
      "16.0 11.0 130.0 33.0\n",
      "16.0 11.0 130.0 33.0\n",
      "16.0 11.0 130.0 33.0\n",
      "16.0 11.0 130.0 33.0\n",
      "16.0 11.0 130.0 33.0\n",
      "16.0 11.0 130.0 33.0\n",
      "16.0 11.0 130.0 33.0\n",
      "16.0 11.0 130.0 33.0\n",
      "16.0 11.0 130.0 33.0\n",
      "16.0 11.0 130.0 33.0\n",
      "16.0 11.0 130.0 33.0\n",
      "16.0 11.0 130.0 33.0\n",
      "16.0 11.0 130.0 33.0\n",
      "16.0 11.0 130.0 33.0\n",
      "16.0 11.0 130.0 33.0\n",
      "16.0 11.0 130.0 33.0\n",
      "16.0 11.0 130.0 33.0\n",
      "16.0 11.0 130.0 33.0\n",
      "16.0 11.0 130.0 33.0\n",
      "16.0 11.0 130.0 33.0\n",
      "16.0 11.0 130.0 33.0\n",
      "16.0 11.0 130.0 33.0\n",
      "16.0 11.0 130.0 33.0\n",
      "16.0 11.0 130.0 33.0\n",
      "16.0 11.0 130.0 33.0\n",
      "16.0 11.0 130.0 33.0\n",
      "16.0 11.0 130.0 33.0\n",
      "16.0 11.0 130.0 33.0\n",
      "16.0 11.0 130.0 33.0\n",
      "16.0 11.0 130.0 33.0\n",
      "16.0 11.0 130.0 33.0\n",
      "16.0 11.0 130.0 33.0\n",
      "16.0 11.0 130.0 33.0\n",
      "16.0 11.0 130.0 33.0\n",
      "16.0 11.0 130.0 33.0\n",
      "16.0 11.0 130.0 33.0\n",
      "16.0 11.0 130.0 33.0\n",
      "16.0 11.0 130.0 33.0\n",
      "16.0 11.0 130.0 33.0\n",
      "16.0 11.0 130.0 33.0\n"
     ]
    },
    {
     "data": {
      "text/plain": [
       "[<matplotlib.lines.Line2D at 0x117716fd0>]"
      ]
     },
     "execution_count": 206,
     "metadata": {},
     "output_type": "execute_result"
    },
    {
     "data": {
      "image/png": "[encoded data removed]",
      "text/plain": [
       "<matplotlib.figure.Figure at 0x116179090>"
      ]
     },
     "metadata": {},
     "output_type": "display_data"
    }
   ],
   "source": [
    "y_score = preds.flatten()\n",
    "y_test = y_test.astype(int)\n",
    "\n",
    "p1 = [0, 0, 0]\n",
    "maps = np.array(p1)\n",
    "for threshold in np.arange(0, 1.01, 0.01):\n",
    "#     print \"trying threshold \", threshold\n",
    "    conv_pred = y_score > threshold\n",
    "    \n",
    "    num_pos = np.sum(conv_pred)\n",
    "    print \"num_pos: \", num_pos\n",
    "    if num_pos > 0:\n",
    "        num_TP = float(np.sum(y_test[conv_pred == 1]))\n",
    "        num_FP = float(np.sum(1 - y_test[conv_pred] == 1))\n",
    "        num_TN = float(np.sum(1 - y_test[conv_pred == 0]))\n",
    "        num_FN = float(np.sum(y_test[conv_pred == 0]))\n",
    "        print num_TP, num_FP, num_TN, num_FN\n",
    "        tprate = num_TP / (num_TP + num_FN)\n",
    "#         print \"TPR: \", tprate\n",
    "        fprate = num_FP / (num_FP + num_TN)\n",
    "#         print \"FPR: \", fprate\n",
    "        maps = np.vstack((maps, [tprate, fprate, threshold]))\n",
    "#     print \"\\n\"\n",
    "maps = maps[1:,:]\n",
    "x, y = maps[:,1], maps[:, 0]\n",
    "sns.plt.plot(x, y)"
   ]
  },
  {
   "cell_type": "code",
   "execution_count": null,
   "metadata": {
    "collapsed": true
   },
   "outputs": [],
   "source": []
  }
 ],
 "metadata": {
  "kernelspec": {
   "display_name": "Python 2",
   "language": "python",
   "name": "python2"
  },
  "language_info": {
   "codemirror_mode": {
    "name": "ipython",
    "version": 2
   },
   "file_extension": ".py",
   "mimetype": "text/x-python",
   "name": "python",
   "nbconvert_exporter": "python",
   "pygments_lexer": "ipython2",
   "version": "2.7.11"
  }
 },
 "nbformat": 4,
 "nbformat_minor": 0
}
