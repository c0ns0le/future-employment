{
 "cells": [
  {
   "cell_type": "markdown",
   "metadata": {
    "collapsed": true
   },
   "source": [
    "###### import pandas as pd\n",
    "import numpy as np\n",
    "import seaborn as sns\n",
    "from collections import Counter, OrderedDict\n",
    "from nltk.corpus import stopwords\n",
    "import re\n",
    "\n",
    "from automation_mapping import *\n",
    "from automating_tech_helpers import *\n",
    "from machines_helpers import *\n",
    "from ai_tech_helpers import *\n",
    "\n",
    "%matplotlib inline"
   ]
  },
  {
   "cell_type": "markdown",
   "metadata": {},
   "source": [
    "# Load Data"
   ]
  },
  {
   "cell_type": "code",
   "execution_count": 1156,
   "metadata": {
    "collapsed": true
   },
   "outputs": [],
   "source": [
    "tt15copy = tt15.copy()\n",
    "t15copy = t15.copy()"
   ]
  },
  {
   "cell_type": "code",
   "execution_count": 3,
   "metadata": {
    "collapsed": false
   },
   "outputs": [],
   "source": [
    "## load data\n",
    "unspsc = pd.read_table('../data/onet_tools_technology/UNSPSC Reference.txt') # occupation code database\n",
    "tt6 = pd.read_csv('../data/db06/Tools_and_Technology.csv') # tools & tech 2006\n",
    "tt9 = pd.read_csv('../data/db09/Tools and Technology.csv') # tools & tech 2009\n",
    "tt15 = pd.read_table('../data/db15/Tools and Technology.txt') # tools & tech 2015\n",
    "occ_ref = pd.read_csv('../data/db15/helpers/occ_codes/occupation_reference.csv')\n",
    "\n",
    "## add occupation titles to tt15\n",
    "# tt15 = tt15.merge(occ_ref, how = 'left', on = ['O*NET-SOC Code'])\n",
    "# tt15.columns = list(tt15.columns[:-1]) + [\"O*NET-SOC Title\"]"
   ]
  },
  {
   "cell_type": "markdown",
   "metadata": {},
   "source": [
    "# Clean Data"
   ]
  },
  {
   "cell_type": "code",
   "execution_count": 1510,
   "metadata": {
    "collapsed": true
   },
   "outputs": [],
   "source": [
    "### add automation, ai, machinery classes to each df\n",
    "### that is, check if the type of the technology is either:\n",
    "###      a) general automation technology\n",
    "###      b) high-technology ai technology\n",
    "###      c) machinery-related\n",
    "def add_automation_variables(df):\n",
    "    new_df = df.copy()\n",
    "    new_df = add_group_automation(new_df, automating_tech, group = 'Class', outcome_title = 'automating')\n",
    "    new_df = add_group_automation(new_df, ai_tech, group = 'Class', outcome_title = 'ai')\n",
    "    new_df = add_group_automation(new_df, machines, group = 'Segment', outcome_title = 'machinery')\n",
    "    new_df['software'] = new_df['Commodity Title'].apply(lambda x: 'software' in x.lower())\n",
    "    return new_df\n",
    "\n",
    "# tt6 = add_automation_variables(tt6)\n",
    "# tt9 = add_automation_variables(tt9)\n",
    "# tt15 = add_automation_variables(tt15)\n",
    "\n",
    "## add the missing grouping: family\n",
    "tt15['Segment Code'] = create_codes(tt15, group = 'Segment')\n",
    "tt15['Class Code'] = create_codes(tt15, group = 'Class')\n",
    "tt15['Family Code'] = create_codes(tt15, group = 'Family')\n",
    "tt15.columns = ['O*NET-SOC Code',\n",
    " 'T2 Type',\n",
    " 'T2 Example',\n",
    " 'Commodity Code',\n",
    " 'Commodity Title',\n",
    " 'O*NET-SOC Title',\n",
    " 'Segment Code',\n",
    " 'Class Code',\n",
    " 'Family Code']"
   ]
  },
  {
   "cell_type": "code",
   "execution_count": 1511,
   "metadata": {
    "collapsed": false
   },
   "outputs": [],
   "source": [
    "# for ease of use, format df's to have the same column order\n",
    "# columns = ['O*NET-SOC Code',\n",
    "#            'O*NET-SOC Title',\n",
    "#            'T2 Type',\n",
    "#            'T2 Example',\n",
    "#            'Commodity Code',\n",
    "#            'Commodity Title',\n",
    "#            'Class Code',\n",
    "#            'Segment Code',\n",
    "#            'automating',\n",
    "#            'ai',\n",
    "#            'machinery'\n",
    "#           ]\n",
    "\n",
    "# tt6 = tt6.reindex_axis(columns, axis = 1)\n",
    "# tt9 = tt9.reindex_axis(columns, axis = 1)\n",
    "# tt15 = tt15.reindex_axis(columns, axis = 1)"
   ]
  },
  {
   "cell_type": "code",
   "execution_count": 1512,
   "metadata": {
    "collapsed": false
   },
   "outputs": [],
   "source": [
    "# removing stopwords and punctuation for ease of use\n",
    "def remove_punc_stopwords_lower(s):\n",
    "    stop = stopwords.words('english')\n",
    "    regex = r\"\\W+\"\n",
    "    return \" \".join([i for i in re.split(regex, s.lower()) if i not in stop])\n",
    "\n",
    "tt6['Commodity Title'] = tt6['Commodity Title'].apply(lambda x: remove_punc_stopwords_lower(x))\n",
    "tt9['Commodity Title'] = tt9['Commodity Title'].apply(lambda x: remove_punc_stopwords_lower(x))\n",
    "tt15['Commodity Title'] = tt15['Commodity Title'].apply(lambda x: remove_punc_stopwords_lower(x))"
   ]
  },
  {
   "cell_type": "code",
   "execution_count": 1513,
   "metadata": {
    "collapsed": true
   },
   "outputs": [],
   "source": [
    "# add occupation major, minor, and broad groups. Major > minor > broad in \"generalization\"\n",
    "\n",
    "major_groups = pd.read_csv('../data/db15/helpers/occ_codes/major_groups.csv')\n",
    "minor_groups = pd.read_csv('../data/db15/helpers/occ_codes/minor_groups.csv')\n",
    "broad_groups = pd.read_csv('../data/db15/helpers/occ_codes/broad_groups.csv')\n",
    "detailed_occupations = pd.read_csv('../data/db15/helpers/occ_codes/detailed_occupations.csv')\n",
    "\n",
    "def get_groupings(df, group):\n",
    "    zeroes = 3\n",
    "    if group == \"broad\":\n",
    "        add = 1\n",
    "    elif group == \"minor\":\n",
    "        add = 3\n",
    "    elif group == \"major\":\n",
    "        add = 4\n",
    "    column = df['O*NET-SOC Code'].apply(lambda x: x[:-(zeroes + add)] + add*'0')\n",
    "    return column\n",
    "\n",
    "for group in ['broad', 'minor', 'major']:\n",
    "    tt15[group+\"_group\"] = get_groupings(tt15, group)"
   ]
  },
  {
   "cell_type": "markdown",
   "metadata": {},
   "source": [
    "# Create Occupational Reference"
   ]
  },
  {
   "cell_type": "code",
   "execution_count": 1514,
   "metadata": {
    "collapsed": false
   },
   "outputs": [],
   "source": [
    "for group in ['broad', 'minor', 'major']:\n",
    "    occ_ref[group+\"_group\"] = get_groupings(occ_ref, group)"
   ]
  },
  {
   "cell_type": "code",
   "execution_count": 1515,
   "metadata": {
    "collapsed": false
   },
   "outputs": [],
   "source": [
    "for group in ['broad', 'minor', 'major']:\n",
    "    occ_ref[group+\"_group\"] = get_groupings(occ_ref, group)\n",
    "\n",
    "def add_group_titles(df):\n",
    "    add_broad = df.merge(broad_groups, on = 'broad_group')\n",
    "    add_minor = add_broad.merge(minor_groups, on = 'minor_group')\n",
    "    add_major = add_minor.merge(major_groups, on='major_group')\n",
    "    return add_major\n",
    "\n",
    "occ_ref = add_group_titles(occ_ref)"
   ]
  },
  {
   "cell_type": "markdown",
   "metadata": {},
   "source": [
    "# Merge Occupation Data"
   ]
  },
  {
   "cell_type": "code",
   "execution_count": 1523,
   "metadata": {
    "collapsed": false
   },
   "outputs": [
    {
     "name": "stdout",
     "output_type": "stream",
     "text": [
      "945 (61563, 19) (65455, 12)\n"
     ]
    }
   ],
   "source": [
    "merged = tt15.merge(occ_ref, on = \"O*NET-SOC Code\")\n",
    "print len(merged['O*NET-SOC Code'].unique()), merged.shape, tt15.shape"
   ]
  },
  {
   "cell_type": "code",
   "execution_count": 1505,
   "metadata": {
    "collapsed": false
   },
   "outputs": [],
   "source": [
    "just_titles = occ_ref[['O*NET-SOC Code', 'broad_title', 'minor_title', 'major_title']]\n",
    "tt15 = tt15.merge(just_titles, on = 'O*NET-SOC Code')"
   ]
  },
  {
   "cell_type": "markdown",
   "metadata": {},
   "source": [
    "# Find occupations that adopted technology"
   ]
  },
  {
   "cell_type": "code",
   "execution_count": 604,
   "metadata": {
    "collapsed": false
   },
   "outputs": [],
   "source": [
    "def get_innovative_occupations(df_old, df_new, outcome_class, code = False):\n",
    "    subset = df_new[df_new[outcome_class] == True]\n",
    "    occupation_dict = {}\n",
    "    if code:\n",
    "        match = 'O*NET-SOC Code'\n",
    "        col = 'Commodity Code'\n",
    "    else:\n",
    "        match = 'O*NET-SOC Title'\n",
    "        col = 'Commodity Title'\n",
    "    for occupation in df_new[match].unique():\n",
    "        new_tech = df_new[df_new[match] == occupation][col].unique()\n",
    "        old_tech = df_old[df_old[match] == occupation][col].unique()\n",
    "        adopted_tech = [i for i in new_tech if i not in old_tech]\n",
    "        occupation_dict[occupation] = (len(adopted_tech), adopted_tech)\n",
    "    return occupation_dict\n",
    "\n",
    "def get_software_adopters(df_old, df_new):\n",
    "    pass"
   ]
  },
  {
   "cell_type": "code",
   "execution_count": 231,
   "metadata": {
    "collapsed": false
   },
   "outputs": [],
   "source": [
    "innovative_occupations = get_innovative_occupations(tt9, tt15, 'ai')"
   ]
  },
  {
   "cell_type": "markdown",
   "metadata": {},
   "source": [
    "# Occupations that relinquished technology"
   ]
  },
  {
   "cell_type": "code",
   "execution_count": 232,
   "metadata": {
    "collapsed": true
   },
   "outputs": [],
   "source": [
    "dropping_occupations = get_innovative_occupations(tt15, tt9, 'ai')"
   ]
  },
  {
   "cell_type": "code",
   "execution_count": 234,
   "metadata": {
    "collapsed": false
   },
   "outputs": [
    {
     "data": {
      "text/plain": [
       "array(['Computer and Information Systems Managers',\n",
       "       'Computer Hardware Engineers',\n",
       "       'Electronics Engineers, Except Computer', 'Computer Operators',\n",
       "       'Computer, Automated Teller, and Office Machine Repairers',\n",
       "       'Computer-Controlled Machine Tool Operators, Metal and Plastic'], dtype=object)"
      ]
     },
     "execution_count": 234,
     "metadata": {},
     "output_type": "execute_result"
    }
   ],
   "source": [
    "tt15[tt15['O*NET-SOC Title'].apply(lambda x: 'computer' in x.lower()) == True]['O*NET-SOC Title'].unique()"
   ]
  },
  {
   "cell_type": "markdown",
   "metadata": {},
   "source": [
    "# common technologies"
   ]
  },
  {
   "cell_type": "code",
   "execution_count": 1316,
   "metadata": {
    "collapsed": false
   },
   "outputs": [],
   "source": [
    "def get_popular_terms(series, n_most_common, n_words = None):\n",
    "    tech_list = []\n",
    "    if type(n_words) == int:\n",
    "        for tech in series:\n",
    "            tech_list += [\" \".join(g) for g in nltk.ngrams(tech.split(), n_words)]\n",
    "        return Counter(tech_list).most_common(n_most_common)\n",
    "    else:\n",
    "        return Counter(list(series)).most_common(n_most_common)"
   ]
  },
  {
   "cell_type": "code",
   "execution_count": 1228,
   "metadata": {
    "collapsed": false
   },
   "outputs": [
    {
     "data": {
      "text/plain": [
       "[('Adobe Systems Adobe', 627),\n",
       " ('Microsoft Office software', 506),\n",
       " ('Web browser software', 423),\n",
       " ('Data entry software', 200),\n",
       " ('Laser facsimile machines', 169),\n",
       " ('Multi-line telephone systems', 151),\n",
       " ('Word processing software', 143),\n",
       " ('Computer laser printers', 128),\n",
       " ('Personal digital assistants', 115),\n",
       " ('digital assistants PDA', 114),\n",
       " ('Autodesk AutoCAD software', 111),\n",
       " ('Systems Adobe Photoshop', 107),\n",
       " ('Liquid crystal display', 104),\n",
       " ('crystal display LCD', 104),\n",
       " ('Adobe Photoshop software', 104),\n",
       " ('positioning system GPS', 103),\n",
       " ('data input scanners', 103),\n",
       " ('Computer data input', 102),\n",
       " ('Microsoft Visual Basic', 99),\n",
       " ('Systems Adobe Acrobat', 96)]"
      ]
     },
     "execution_count": 1228,
     "metadata": {},
     "output_type": "execute_result"
    }
   ],
   "source": [
    "get_popular_terms(tt15['T2 Example'], 20, 3)"
   ]
  },
  {
   "cell_type": "markdown",
   "metadata": {},
   "source": [
    "## Adoptions by adopting companies"
   ]
  },
  {
   "cell_type": "code",
   "execution_count": 1297,
   "metadata": {
    "collapsed": false
   },
   "outputs": [],
   "source": [
    "def get_adopting_companies(now, old):\n",
    "    columns = ['O*NET-SOC Code', 'O*NET-SOC Title', 'Commodity Code', 'Commodity Title', 'T2 Example']\n",
    "    def just_tech_title(df):\n",
    "        return df[columns]\n",
    "    tech_now = just_tech_title(now)\n",
    "    tech_old = just_tech_title(old)\n",
    "    master_df = pd.DataFrame(columns = now.columns)\n",
    "    for occ in tech_now['O*NET-SOC Code'].unique():\n",
    "        new_group_tech = set(tech_now[tech_now['O*NET-SOC Code'] == occ]['Commodity Code'].unique())\n",
    "        old_group_tech = set(tech_old[tech_old['O*NET-SOC Code'] == occ]['Commodity Code'].unique())\n",
    "        adopted_tech = list(new_group_tech - old_group_tech)\n",
    "        adopted_tech_df = tech_now[(tech_now['Commodity Code'].isin(adopted_tech)) & (tech_now['O*NET-SOC Code'] == occ)]\n",
    "        master_df = master_df.append(adopted_tech_df)\n",
    "    return master_df"
   ]
  },
  {
   "cell_type": "code",
   "execution_count": 1298,
   "metadata": {
    "collapsed": false
   },
   "outputs": [],
   "source": [
    "all_adoptions = get_adopting_companies(tt15, tt9)"
   ]
  },
  {
   "cell_type": "markdown",
   "metadata": {},
   "source": [
    "# \"Bright outlook\" occupations"
   ]
  },
  {
   "cell_type": "code",
   "execution_count": 1306,
   "metadata": {
    "collapsed": false
   },
   "outputs": [],
   "source": [
    "bright_outlook = pd.read_csv('../data/db15/helpers/bright_outlooks/All_Bright_Outlook_Occupations.csv')"
   ]
  },
  {
   "cell_type": "code",
   "execution_count": 1326,
   "metadata": {
    "collapsed": false
   },
   "outputs": [
    {
     "name": "stderr",
     "output_type": "stream",
     "text": [
      "/Users/Logan/anaconda/envs/dev/lib/python2.7/site-packages/IPython/kernel/__main__.py:2: SettingWithCopyWarning: \n",
      "A value is trying to be set on a copy of a slice from a DataFrame.\n",
      "Try using .loc[row_indexer,col_indexer] = value instead\n",
      "\n",
      "See the the caveats in the documentation: http://pandas.pydata.org/pandas-docs/stable/indexing.html#indexing-view-versus-copy\n",
      "  from IPython.kernel.zmq import kernelapp as app\n"
     ]
    }
   ],
   "source": [
    "bo_tools = tt15[tt15['O*NET-SOC Code'].isin(bright_outlook.Code)]\n",
    "bo_tools['Commodity Title'] = bo_tools['Commodity Title'].apply(lambda x: remove_punc_stopwords_lower(x))"
   ]
  },
  {
   "cell_type": "code",
   "execution_count": 1327,
   "metadata": {
    "collapsed": false
   },
   "outputs": [
    {
     "data": {
      "text/plain": [
       "[('analytical scientific software', 1092),\n",
       " ('medical software', 1006),\n",
       " ('data base user interface query software', 878),\n",
       " ('development environment software', 440),\n",
       " ('word processing software', 364),\n",
       " ('spreadsheet software', 359),\n",
       " ('enterprise resource planning erp software', 349),\n",
       " ('project management software', 322),\n",
       " ('computer aided design cad software', 321),\n",
       " ('financial analysis software', 316),\n",
       " ('electronic mail software', 307),\n",
       " ('object component oriented development software', 306),\n",
       " ('personal computers', 281),\n",
       " ('accounting software', 275),\n",
       " ('desktop computers', 248),\n",
       " ('notebook computers', 247),\n",
       " ('internet browser software', 234),\n",
       " ('operating system software', 232),\n",
       " ('web platform development software', 230),\n",
       " ('office suite software', 217)]"
      ]
     },
     "execution_count": 1327,
     "metadata": {},
     "output_type": "execute_result"
    }
   ],
   "source": [
    "get_popular_terms(bo_tools['Commodity Title'], 20)"
   ]
  },
  {
   "cell_type": "markdown",
   "metadata": {},
   "source": [
    "# \\# of Occupations that only picked up technology"
   ]
  },
  {
   "cell_type": "code",
   "execution_count": 1328,
   "metadata": {
    "collapsed": true
   },
   "outputs": [],
   "source": [
    "tt15occs = tt15['O*NET-SOC Code'].unique()\n",
    "l9 = tt9[tt9['O*NET-SOC Code'].isin(tt15occs)]"
   ]
  },
  {
   "cell_type": "code",
   "execution_count": 1333,
   "metadata": {
    "collapsed": false
   },
   "outputs": [],
   "source": [
    "occdict = {}\n",
    "for occ in tt15occs:\n",
    "    old_tech = list(tt9[tt9['O*NET-SOC Code'] == occ]['Commodity Code'])\n",
    "    new_tech = list(tt15[tt15['O*NET-SOC Code'] == occ]['Commodity Code'])\n",
    "    if all([i in new_tech for i in old_tech]):\n",
    "        exclusive_tech = [i for i in new_tech if i not in old_tech]\n",
    "        if exclusive_tech:\n",
    "            occdict[occ] = exclusive_tech"
   ]
  },
  {
   "cell_type": "code",
   "execution_count": 1334,
   "metadata": {
    "collapsed": false
   },
   "outputs": [
    {
     "data": {
      "text/plain": [
       "51.129363449691986"
      ]
     },
     "execution_count": 1334,
     "metadata": {},
     "output_type": "execute_result"
    }
   ],
   "source": [
    "float(len(occdict)) / len(tt15occs) * 100"
   ]
  },
  {
   "cell_type": "markdown",
   "metadata": {},
   "source": [
    "**~51% of occupations just picked up new technologies.** What is the breakdown of new technologies adopted? Which occupations adopted them?"
   ]
  },
  {
   "cell_type": "markdown",
   "metadata": {},
   "source": [
    "# Fully featured dataset"
   ]
  },
  {
   "cell_type": "code",
   "execution_count": 426,
   "metadata": {
    "collapsed": false
   },
   "outputs": [],
   "source": [
    "skills = pd.read_table('../data/db15/Skills.txt')\n",
    "abilities = pd.read_table('../data/db15/Abilities.txt')\n",
    "knowledge = pd.read_table('../data/db15/Knowledge.txt')\n",
    "activities = pd.read_table('../data/db15/Work Activities.txt')"
   ]
  },
  {
   "cell_type": "code",
   "execution_count": 12,
   "metadata": {
    "collapsed": true
   },
   "outputs": [],
   "source": [
    "def get_reduced_df(df):\n",
    "    new_df = df[df['Scale ID'] == 'LV'][['O*NET-SOC Code', 'Element Name', 'Data Value']].reset_index(drop = True)\n",
    "    return new_df.pivot(index = 'O*NET-SOC Code', columns = 'Element Name', values = 'Data Value').reset_index(level = 1)"
   ]
  },
  {
   "cell_type": "code",
   "execution_count": 737,
   "metadata": {
    "collapsed": false,
    "scrolled": false
   },
   "outputs": [],
   "source": [
    "skills_X = get_reduced_df(skills)\n",
    "abilities_X = get_reduced_df(abilities)\n",
    "knowledge_X = get_reduced_df(knowledge)\n",
    "activities_X = get_reduced_df(activities)"
   ]
  },
  {
   "cell_type": "code",
   "execution_count": 738,
   "metadata": {
    "collapsed": true
   },
   "outputs": [],
   "source": [
    "for X in [skills_X, abilities_X, knowledge_X, activities_X]:\n",
    "    t15 = t15.merge(X, on=\"O*NET-SOC Code\")"
   ]
  },
  {
   "cell_type": "code",
   "execution_count": 741,
   "metadata": {
    "collapsed": false
   },
   "outputs": [
    {
     "data": {
      "text/plain": [
       "Index([u'O*NET-SOC Code', u'O*NET-SOC Title', u'T2 Type', u'T2 Example',\n",
       "       u'Commodity Code', u'Commodity Title', u'Class Code', u'Segment Code',\n",
       "       u'automating', u'ai', \n",
       "       ...\n",
       "       u'Provide Consultation and Advice to Others',\n",
       "       u'Repairing and Maintaining Electronic Equipment',\n",
       "       u'Repairing and Maintaining Mechanical Equipment',\n",
       "       u'Resolving Conflicts and Negotiating with Others',\n",
       "       u'Scheduling Work and Activities', u'Selling or Influencing Others',\n",
       "       u'Staffing Organizational Units', u'Thinking Creatively',\n",
       "       u'Training and Teaching Others',\n",
       "       u'Updating and Using Relevant Knowledge'],\n",
       "      dtype='object', length=176)"
      ]
     },
     "execution_count": 741,
     "metadata": {},
     "output_type": "execute_result"
    }
   ],
   "source": [
    "t15.columns"
   ]
  },
  {
   "cell_type": "markdown",
   "metadata": {},
   "source": [
    "# Technology outcome class"
   ]
  },
  {
   "cell_type": "code",
   "execution_count": 704,
   "metadata": {
    "collapsed": false
   },
   "outputs": [],
   "source": [
    "t15['it'] = t15['Segment Code'].apply(lambda x: x == 43000000)"
   ]
  },
  {
   "cell_type": "code",
   "execution_count": 711,
   "metadata": {
    "collapsed": false
   },
   "outputs": [],
   "source": [
    "S = t15.groupby('O*NET-SOC Code')['it'].sum()"
   ]
  },
  {
   "cell_type": "code",
   "execution_count": 731,
   "metadata": {
    "collapsed": false
   },
   "outputs": [
    {
     "data": {
      "image/png": "[encoded data removed]",
      "text/plain": [
       "<matplotlib.figure.Figure at 0x136881c50>"
      ]
     },
     "metadata": {},
     "output_type": "display_data"
    }
   ],
   "source": [
    "sns.plt.hist(S, bins = 30)\n",
    "sns.plt.title('Histogram of # of IT Technologies used per occupation')\n",
    "sns.plt.xlabel('# of IT technologies used')\n",
    "sns.plt.ylabel('Occurences')\n",
    "sns.plt.savefig('it_histogram.png')"
   ]
  },
  {
   "cell_type": "code",
   "execution_count": 719,
   "metadata": {
    "collapsed": false
   },
   "outputs": [
    {
     "data": {
      "text/html": [
       "<div>\n",
       "<table border=\"1\" class=\"dataframe\">\n",
       "  <thead>\n",
       "    <tr style=\"text-align: right;\">\n",
       "      <th></th>\n",
       "      <th>O*NET-SOC Code</th>\n",
       "      <th>O*NET-SOC Title</th>\n",
       "    </tr>\n",
       "  </thead>\n",
       "  <tbody>\n",
       "    <tr>\n",
       "      <th>392</th>\n",
       "      <td>35-9021.00</td>\n",
       "      <td>Dishwashers</td>\n",
       "    </tr>\n",
       "    <tr>\n",
       "      <th>558</th>\n",
       "      <td>51-3093.00</td>\n",
       "      <td>Food Cooking Machine Operators and Tenders</td>\n",
       "    </tr>\n",
       "  </tbody>\n",
       "</table>\n",
       "</div>"
      ],
      "text/plain": [
       "    O*NET-SOC Code                             O*NET-SOC Title\n",
       "392     35-9021.00                                 Dishwashers\n",
       "558     51-3093.00  Food Cooking Machine Operators and Tenders"
      ]
     },
     "execution_count": 719,
     "metadata": {},
     "output_type": "execute_result"
    }
   ],
   "source": [
    "occ_names[occ_names['O*NET-SOC Code'].isin(['51-3093.00', '35-9021.00'])]"
   ]
  },
  {
   "cell_type": "markdown",
   "metadata": {},
   "source": [
    "# What types of technology emerged?"
   ]
  },
  {
   "cell_type": "code",
   "execution_count": 1343,
   "metadata": {
    "collapsed": true
   },
   "outputs": [],
   "source": [
    "s15 = set(tt15['Commodity Code'].unique())\n",
    "s9 = set(tt9['Commodity Code'].unique())\n",
    "s6 = set(tt9['Commodity Code'].unique())\n",
    "new_tech = list(s15 - s6)\n",
    "\n",
    "def get_tech_info(commodity_code, d):\n",
    "    title = d[d['Commodity Code'] == commodity_code]['Commodity Title'].iloc[0]\n",
    "    \n",
    "    class_code = int(str(commodity_code)[:-2] + 2*'0')\n",
    "    class_title = d[d['Class Code'] == class_code]['Class Title'].iloc[0]\n",
    "\n",
    "    family_code = int(str(commodity_code)[:-4] + 4*'0')\n",
    "    family_title = d[d['Family Code'] == family_code]['Family Title'].iloc[0]\n",
    "    \n",
    "    segment_code = int(str(commodity_code)[:-6] + 6*'0')\n",
    "    segment_title = d[d['Segment Code'] == segment_code]['Segment Title'].iloc[0]\n",
    "    \n",
    "    return [commodity_code, title, class_title, family_title, segment_title]\n",
    "\n",
    "col_titles = ['Code','Technology', 'Class', 'Family', 'Segment']\n",
    "new_tech_info = pd.DataFrame(map(lambda x: get_tech_info(x, unspsc), new_tech), columns = col_titles)\n",
    "emerged = new_tech_info.Code"
   ]
  },
  {
   "cell_type": "code",
   "execution_count": 1372,
   "metadata": {
    "collapsed": false
   },
   "outputs": [
    {
     "name": "stdout",
     "output_type": "stream",
     "text": [
      "33.0151338766 % of 2015 tech is emerging tech\n"
     ]
    }
   ],
   "source": [
    "print float(len(new_tech)) / (len(tt15['Commodity Code'].unique())) * 100, '% of 2015 tech is emerging tech'"
   ]
  },
  {
   "cell_type": "code",
   "execution_count": 1365,
   "metadata": {
    "collapsed": false
   },
   "outputs": [
    {
     "name": "stdout",
     "output_type": "stream",
     "text": [
      "8.54480177221 % of tech adoptions were of emerged technologies\n"
     ]
    }
   ],
   "source": [
    "print np.mean(tt15['Commodity Code'].isin(new_tech)) * 100, \"% of tech adoptions were of emerged technologies\""
   ]
  },
  {
   "cell_type": "code",
   "execution_count": 1368,
   "metadata": {
    "collapsed": false
   },
   "outputs": [],
   "source": [
    "col_titles = ['Code','Technology', 'Class', 'Family', 'Segment']\n",
    "adoptions = pd.DataFrame(map(lambda x: get_tech_info(x, unspsc), list(adopted_emerging['Commodity Code'])), columns = col_titles)"
   ]
  },
  {
   "cell_type": "code",
   "execution_count": 1375,
   "metadata": {
    "collapsed": false,
    "scrolled": true
   },
   "outputs": [
    {
     "data": {
      "text/plain": [
       "Domestic kitchen tools and utensils                                    26\n",
       "Cutting and crimping and punching tools                                22\n",
       "Rough and finishing tools                                              20\n",
       "Holding and clamping tools                                             19\n",
       "Power tools                                                            17\n",
       "Vehicle servicing equipment                                            17\n",
       "Tool attachments and accessories                                       16\n",
       "Length and thickness and distance measuring instruments                16\n",
       "Welding machinery                                                      16\n",
       "Wrenches and drivers                                                   15\n",
       "Miscellaneous sewing supplies                                          14\n",
       "Audio and visual equipment                                             14\n",
       "Textile processing machinery and accessories                           14\n",
       "Welding and soldering and brazing accessories                          13\n",
       "Vehicle testing and measuring equipment                                12\n",
       "Brass instruments                                                      12\n",
       "Agriculture, forestry and garden handtools                             12\n",
       "Pumps                                                                  12\n",
       "Drilling and workover rigs and equipment                               12\n",
       "Marine craft systems and subassemblies                                 11\n",
       "Musical instrument parts and accessories                               11\n",
       "Safety apparel                                                         11\n",
       "Metal cutting tools                                                    11\n",
       "String instruments                                                     10\n",
       "Ophthalmic diagnostic exam products                                    10\n",
       "Sport accessories                                                      10\n",
       "Specialized or miscellaneous metal cutting machines                     9\n",
       "Metal bending machines                                                  9\n",
       "Bath and body                                                           9\n",
       "Surveillance and detection equipment                                    9\n",
       "                                                                       ..\n",
       "Paper processing machines and accessories                               1\n",
       "Master control systems                                                  1\n",
       "Watches                                                                 1\n",
       "Endoscopic equipment and accessories and related products               1\n",
       "Navigational equipment and instruments                                  1\n",
       "Dosing devices                                                          1\n",
       "Manual test kits and quality controls and calibrators and standards     1\n",
       "Well measurement and logging equipment                                  1\n",
       "Peritoneal and equilibrium dialysis equipment and supplies              1\n",
       "Manufacturing tables and stands                                         1\n",
       "Dry cleaning equipment                                                  1\n",
       "Secondary rock breaking systems                                         1\n",
       "Drafting supplies                                                       1\n",
       "Blood administration and transfusion products                           1\n",
       "Stained glass making supplies                                           1\n",
       "Earth moving machinery                                                  1\n",
       "Prefabricated commercial and industrial buildings and structures        1\n",
       "Industrial drying equipment                                             1\n",
       "Boxing equipment                                                        1\n",
       "Rehabilitation exercise devices and equipment                           1\n",
       "Food preparation equipment                                              1\n",
       "Ink and lead refills                                                    1\n",
       "Ropes                                                                   1\n",
       "Civilian and commercial rotary wing aircraft                            1\n",
       "Engine coolant system                                                   1\n",
       "Emergency medical services blankets                                     1\n",
       "Restraints and accessories                                              1\n",
       "Removable storage media                                                 1\n",
       "Leisure and recreational aids for the physically challenged             1\n",
       "Sound generating and measuring equipment                                1\n",
       "dtype: int64"
      ]
     },
     "execution_count": 1375,
     "metadata": {},
     "output_type": "execute_result"
    }
   ],
   "source": [
    "new_tech_info.Class.value_counts()"
   ]
  },
  {
   "cell_type": "markdown",
   "metadata": {},
   "source": [
    "# What Types of Occupations Adopted Emerging Tech"
   ]
  },
  {
   "cell_type": "code",
   "execution_count": 1489,
   "metadata": {
    "collapsed": true
   },
   "outputs": [],
   "source": [
    "adopting_occs = tt15[tt15['Commodity Code'].isin(emerged)]['O*NET-SOC Code'].unique()\n",
    "total_occs = tt15['O*NET-SOC Code'].unique()"
   ]
  },
  {
   "cell_type": "code",
   "execution_count": 1490,
   "metadata": {
    "collapsed": false
   },
   "outputs": [
    {
     "data": {
      "text/plain": [
       "0.7396825396825397"
      ]
     },
     "execution_count": 1490,
     "metadata": {},
     "output_type": "execute_result"
    }
   ],
   "source": [
    "float(len(adopting_occs))/len(total_occs)"
   ]
  },
  {
   "cell_type": "code",
   "execution_count": 1382,
   "metadata": {
    "collapsed": false
   },
   "outputs": [],
   "source": [
    "def get_occupation_info(code, d):\n",
    "    if code[-3] == '.':\n",
    "        code = code[:-3]\n",
    "    df = d[d['code'] == code]\n",
    "    info = []\n",
    "    for attribute in ['title', 'broad_title', 'minor_title', 'major_title']:\n",
    "        info.append(df[attribute].iloc[0])\n",
    "    return info"
   ]
  },
  {
   "cell_type": "code",
   "execution_count": 1531,
   "metadata": {
    "collapsed": false
   },
   "outputs": [],
   "source": [
    "# 1. Merge tt15, group titles\n",
    "# 2. Check adoption by groups"
   ]
  },
  {
   "cell_type": "code",
   "execution_count": 1536,
   "metadata": {
    "collapsed": false
   },
   "outputs": [
    {
     "data": {
      "text/plain": [
       "974"
      ]
     },
     "execution_count": 1536,
     "metadata": {},
     "output_type": "execute_result"
    }
   ],
   "source": [
    "len(tt15.merge(broad_groups, how = 'left', on = 'broad_group').merge(minor_groups, how = 'left', on = 'minor_group').merge(major_groups, how = 'left', on = 'major_group')['O*NET-SOC Code'].unique())"
   ]
  },
  {
   "cell_type": "markdown",
   "metadata": {
    "collapsed": true
   },
   "source": [
    "# Did anything change?"
   ]
  },
  {
   "cell_type": "code",
   "execution_count": 83,
   "metadata": {
    "collapsed": true
   },
   "outputs": [],
   "source": [
    "import pandas as pd\n",
    "import numpy as np"
   ]
  },
  {
   "cell_type": "code",
   "execution_count": 84,
   "metadata": {
    "collapsed": false
   },
   "outputs": [],
   "source": [
    "def get_reduced_df(df):\n",
    "    new_df = df[df['Scale ID'] == 'LV'][['O*NET-SOC Code', 'Element Name', 'Data Value']].reset_index(drop = True)\n",
    "    return new_df.pivot(index = 'O*NET-SOC Code', columns = 'Element Name', values = 'Data Value').reset_index(level = 1)"
   ]
  },
  {
   "cell_type": "code",
   "execution_count": 85,
   "metadata": {
    "collapsed": false
   },
   "outputs": [],
   "source": [
    "d2014 = get_reduced_df(pd.read_table('/Users/Logan/Downloads/db_19_0/Skills.txt'))\n",
    "d2013 = get_reduced_df(pd.read_table('/Users/Logan/Downloads/db_18_0/Skills.txt'))\n",
    "d2012 = get_reduced_df(pd.read_table('/Users/Logan/Downloads/db_17_0/Skills.txt'))\n",
    "d2011 = get_reduced_df(pd.read_table('/Users/Logan/Downloads/db_16_0/Skills.txt'))"
   ]
  },
  {
   "cell_type": "code",
   "execution_count": 86,
   "metadata": {
    "collapsed": false
   },
   "outputs": [
    {
     "data": {
      "text/plain": [
       "((942, 36), (923, 36), (903, 36), (862, 36))"
      ]
     },
     "execution_count": 86,
     "metadata": {},
     "output_type": "execute_result"
    }
   ],
   "source": [
    "d2014.shape, d2013.shape, d2012.shape, d2011.shape"
   ]
  },
  {
   "cell_type": "code",
   "execution_count": 87,
   "metadata": {
    "collapsed": false
   },
   "outputs": [],
   "source": [
    "for df in 'd2014 d2013 d2012'.split():\n",
    "    d2014[d2014['O*NET-SOC Code'].isin(d2011['O*NET-SOC Code'])]\n",
    "    append = \"['O*NET-SOC Code'].isin(d2011['O*NET-SOC Code'])]\"\n",
    "    beginning = df + '[' + df\n",
    "    assign = df + ' = '\n",
    "    exec(assign + beginning + append)"
   ]
  },
  {
   "cell_type": "markdown",
   "metadata": {},
   "source": [
    "# between 2009 and 2015, what % of entries changed?"
   ]
  },
  {
   "cell_type": "code",
   "execution_count": 98,
   "metadata": {
    "collapsed": true
   },
   "outputs": [],
   "source": [
    "d2009 = get_reduced_df(pd.read_table('../data/db09/Skills.txt'))\n",
    "d2015 = get_reduced_df(pd.read_table('../data/db15/Skills.txt'))\n",
    "\n",
    "d2015 = d2015[d2015['O*NET-SOC Code'].isin(d2009['O*NET-SOC Code'])]\n",
    "d2009 = d2009[d2009['O*NET-SOC Code'].isin(d2015['O*NET-SOC Code'])]"
   ]
  },
  {
   "cell_type": "code",
   "execution_count": 110,
   "metadata": {
    "collapsed": false
   },
   "outputs": [
    {
     "data": {
      "text/plain": [
       "Element Name\n",
       "Active Learning                      0.051383\n",
       "Active Listening                     0.042161\n",
       "Complex Problem Solving              0.052701\n",
       "Coordination                         0.051383\n",
       "Critical Thinking                    0.047431\n",
       "Equipment Maintenance                0.061924\n",
       "Equipment Selection                  0.047431\n",
       "Installation                         0.073781\n",
       "Instructing                          0.050066\n",
       "Judgment and Decision Making         0.055336\n",
       "Learning Strategies                  0.056653\n",
       "Management of Financial Resources    0.046113\n",
       "Management of Material Resources     0.047431\n",
       "Management of Personnel Resources    0.057971\n",
       "Mathematics                          0.051383\n",
       "Monitoring                           0.060606\n",
       "Negotiation                          0.054018\n",
       "Operation Monitoring                 0.044796\n",
       "Operation and Control                0.052701\n",
       "Operations Analysis                  0.006588\n",
       "Persuasion                           0.052701\n",
       "Programming                          0.047431\n",
       "Quality Control Analysis             0.051383\n",
       "Reading Comprehension                0.048748\n",
       "Repairing                            0.065876\n",
       "Science                              0.009223\n",
       "Service Orientation                  0.055336\n",
       "Social Perceptiveness                0.051383\n",
       "Speaking                             0.050066\n",
       "Systems Analysis                     0.044796\n",
       "Systems Evaluation                   0.047431\n",
       "Technology Design                    0.048748\n",
       "Time Management                      0.052701\n",
       "Troubleshooting                      0.056653\n",
       "Writing                              0.048748\n",
       "dtype: float64"
      ]
     },
     "execution_count": 110,
     "metadata": {},
     "output_type": "execute_result"
    }
   ],
   "source": [
    "st = np.subtract(d2015.iloc[:,1:], d2009.iloc[:,1:])\n",
    "(st == 0).mean()"
   ]
  },
  {
   "cell_type": "code",
   "execution_count": null,
   "metadata": {
    "collapsed": true
   },
   "outputs": [],
   "source": []
  }
 ],
 "metadata": {
  "kernelspec": {
   "display_name": "Python 2",
   "language": "python",
   "name": "python2"
  },
  "language_info": {
   "codemirror_mode": {
    "name": "ipython",
    "version": 2
   },
   "file_extension": ".py",
   "mimetype": "text/x-python",
   "name": "python",
   "nbconvert_exporter": "python",
   "pygments_lexer": "ipython2",
   "version": "2.7.10"
  }
 },
 "nbformat": 4,
 "nbformat_minor": 0
}
