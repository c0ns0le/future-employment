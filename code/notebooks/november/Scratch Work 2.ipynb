{
 "cells": [
  {
   "cell_type": "code",
   "execution_count": 3,
   "metadata": {
    "collapsed": true
   },
   "outputs": [],
   "source": [
    "import numpy as np"
   ]
  },
  {
   "cell_type": "code",
   "execution_count": 4,
   "metadata": {
    "collapsed": true
   },
   "outputs": [],
   "source": [
    "import numpy as np\n",
    "\n",
    "class PCA():\n",
    "\t\"\"\"\n",
    "\tRuns PCA & prints variables & importances for each component you ask for.\n",
    "\t\"\"\"\n",
    "\tdef __init__(self):\n",
    "\t\tself.input = self.X = None\n",
    "\t\tself.y = None\n",
    "\t\tself.dim = None\n",
    "\t\tself.K = None\n",
    "\t\tself.eigenmatrix = None\n",
    "\t\tself.names = None\n",
    "\n",
    "\tdef _subtract_means(self):\n",
    "\t\t\"\"\"\n",
    "\t\tNormalize input matrix by subtracting column wise means\n",
    "\t\t\"\"\"\n",
    "\t\tself.X = self.X - self.X.mean(axis = 0)\n",
    "\n",
    "\tdef _create_cov_matrix(self):\n",
    "\t\tself.K = np.cov(self.X.T)\n",
    "\t\t# # self written code:\n",
    "\t\t# X = self.X\n",
    "\t\t# K = np.zeros((self.dim, self.dim))\n",
    "\t\t# for i in xrange(self.dim):\n",
    "\t\t# \tfor j in xrange(i, self.dim):\n",
    "\t\t# \t\tif i != j:\n",
    "\t\t# \t\t\tK[i, j] = K[j, i] = np.cov(X[:,i], X[:,j])\n",
    "\t\t# \t\telse:\n",
    "\t\t# \t\t\tK[i, j] = np.var(X[:,i])\n",
    "\t\t# self.K = K\n",
    "\n",
    "\tdef _get_eigenvec(self):\n",
    "\t\tself.eig_vals, self.eig_vecs = np.linalg.eig(self.K)\n",
    "\t\torder = self.eig_vals.argsort()[::-1] # order eigenvalues largest to smallest\n",
    "\t\tself.eigenmatrix = self.eig_vecs[:,order]\n",
    "\t\tself.order = order\n",
    "\n",
    "\tdef _print_importances(self, n_components, n_variables):\n",
    "\t\tfeature_M = self.eigenmatrix[:,:n_components]\n",
    "\t\tfor component_num in xrange(n_components):\n",
    "\t\t\tcolumn = feature_M[:,component_num]\n",
    "\t\t\tmost_important = abs(column).argsort()[::-1][:n_variables] # get n_variables most important Eig Vec components\n",
    "\t\t\ttop_variables = column[most_important]\n",
    "\t\t\tprint \"COMPONENT {}:\".format(component_num + 1)\n",
    "\t\t\tfor index, value in zip(most_important, top_variables):\n",
    "\t\t\t\tvariable_name = self.names[index]\n",
    "\t\t\t\tprint \"{}: {}\".format(variable_name, round(value, 4))\n",
    "\t\t\tprint \"--------\"\n",
    "\n",
    "\tdef add_names(self, original_order_names):\n",
    "\t\tself.names = original_order_names\n",
    "\n",
    "\tdef fit(self, X, y):\n",
    "\t\tself.input = self.X = X\n",
    "\t\tself.y = y\n",
    "\t\tself.dim = X.shape[1]\n",
    "\n",
    "\tdef predict(self, n_components, n_variables):\n",
    "\t\tif not self.names:\n",
    "\t\t\tself._subtract_means()\n",
    "\t\t\tself._create_cov_matrix()\n",
    "\t\t\tself._get_eigenvec()\n",
    "\t\t\tself._print_importances(n_components, n_variables)\n",
    "\t\telse:\n",
    "\t\t\treturn \"Please input a list of [ {} ] variable names\".format(self.dim)\n",
    "\n",
    "\n"
   ]
  },
  {
   "cell_type": "code",
   "execution_count": 5,
   "metadata": {
    "collapsed": false
   },
   "outputs": [],
   "source": [
    "pca = PCA()"
   ]
  },
  {
   "cell_type": "code",
   "execution_count": 6,
   "metadata": {
    "collapsed": false
   },
   "outputs": [],
   "source": [
    "X = np.random.rand(100, 10)\n",
    "X[:,3] = X[:,3] + 80*np.random.uniform()\n",
    "X[:,7] = X[:,7] + 80*np.random.uniform()"
   ]
  },
  {
   "cell_type": "code",
   "execution_count": 153,
   "metadata": {
    "collapsed": false
   },
   "outputs": [],
   "source": [
    "y = np.array(list('0'*70 + '1'*30))\n",
    "np.random.shuffle(y)"
   ]
  },
  {
   "cell_type": "code",
   "execution_count": 154,
   "metadata": {
    "collapsed": true
   },
   "outputs": [],
   "source": [
    "pca.add_names(['1','2','3','4','5','6','7','8','9','10'])"
   ]
  },
  {
   "cell_type": "code",
   "execution_count": 155,
   "metadata": {
    "collapsed": true
   },
   "outputs": [],
   "source": [
    "pca.fit(X, y)"
   ]
  },
  {
   "cell_type": "code",
   "execution_count": 156,
   "metadata": {
    "collapsed": true
   },
   "outputs": [],
   "source": [
    "pca._subtract_means()"
   ]
  },
  {
   "cell_type": "code",
   "execution_count": 157,
   "metadata": {
    "collapsed": true
   },
   "outputs": [],
   "source": [
    "pca._create_cov_matrix()"
   ]
  },
  {
   "cell_type": "code",
   "execution_count": 158,
   "metadata": {
    "collapsed": true
   },
   "outputs": [],
   "source": [
    "pca._get_eigenvec()"
   ]
  },
  {
   "cell_type": "code",
   "execution_count": 159,
   "metadata": {
    "collapsed": false
   },
   "outputs": [
    {
     "data": {
      "text/plain": [
       "array([0, 3, 5, 4, 8, 9, 7, 6, 2, 1])"
      ]
     },
     "execution_count": 159,
     "metadata": {},
     "output_type": "execute_result"
    }
   ],
   "source": [
    "pca.eig_vals.argsort()[::-1]"
   ]
  },
  {
   "cell_type": "code",
   "execution_count": 162,
   "metadata": {
    "collapsed": false
   },
   "outputs": [
    {
     "name": "stdout",
     "output_type": "stream",
     "text": [
      "COMPONENT 1:\n",
      "7: -0.6229\n",
      "6: 0.5108\n",
      "10: -0.4232\n",
      "5: 0.2322\n",
      "9: 0.2209\n",
      "4: -0.1887\n",
      "1: 0.158\n",
      "3: 0.0916\n",
      "8: 0.0168\n",
      "2: 0.0081\n",
      "--------\n",
      "COMPONENT 2:\n",
      "2: -0.5519\n",
      "9: -0.4048\n",
      "1: 0.3934\n",
      "5: 0.3714\n",
      "8: 0.334\n",
      "10: 0.2662\n",
      "6: 0.2074\n",
      "7: 0.1032\n",
      "4: -0.0455\n",
      "3: 0.0249\n",
      "--------\n",
      "COMPONENT 3:\n",
      "4: -0.7126\n",
      "7: 0.3775\n",
      "10: -0.3409\n",
      "5: -0.3058\n",
      "3: 0.2385\n",
      "9: -0.2089\n",
      "8: 0.1474\n",
      "2: 0.088\n",
      "6: 0.0741\n",
      "1: 0.067\n",
      "--------\n",
      "COMPONENT 4:\n",
      "6: -0.5088\n",
      "1: 0.4842\n",
      "2: -0.4196\n",
      "8: -0.3336\n",
      "10: -0.2849\n",
      "5: -0.2836\n",
      "7: -0.2193\n",
      "3: 0.0888\n",
      "4: 0.0422\n",
      "9: 0.0039\n",
      "--------\n"
     ]
    }
   ],
   "source": [
    "pca._print_importances(4,10)"
   ]
  },
  {
   "cell_type": "code",
   "execution_count": 1,
   "metadata": {
    "collapsed": true
   },
   "outputs": [],
   "source": [
    "# Testing CDF & Percentiles"
   ]
  },
  {
   "cell_type": "code",
   "execution_count": 8,
   "metadata": {
    "collapsed": true
   },
   "outputs": [],
   "source": [
    "import pandas as pd"
   ]
  },
  {
   "cell_type": "code",
   "execution_count": 10,
   "metadata": {
    "collapsed": false
   },
   "outputs": [],
   "source": [
    "X = pd.DataFrame(X)"
   ]
  },
  {
   "cell_type": "code",
   "execution_count": 111,
   "metadata": {
    "collapsed": false
   },
   "outputs": [],
   "source": [
    "def series_to_percentiles(series):\n",
    "    \"\"\"\n",
    "    Still requires:\n",
    "        1. CDF function\n",
    "        2. floor function\n",
    "    \"\"\"\n",
    "    sorted_array = np.sort(series)\n",
    "    def get_percentile(array, element):\n",
    "        cdf = round(100 * np.mean(array < element), 2)\n",
    "        return my_floor(cdf, 10)\n",
    "    return map(lambda x: get_percentile(sorted_array, x), np.array(series))\n",
    "\n",
    "def df_to_percentiles(df):\n",
    "    df_new = df.copy()\n",
    "    for i in xrange(df.shape[1]):\n",
    "        df_new.iloc[:,i] = series_to_percentiles(df.iloc[:,i])\n",
    "    return df_new\n",
    "\n",
    "def floor(num, nearest):\n",
    "    if nearest == 0:\n",
    "        return num\n",
    "    elif nearest > num:\n",
    "        if num > nearest / 2.0:\n",
    "            return nearest\n",
    "        else:\n",
    "            return 0\n",
    "    else:\n",
    "        divider = int(num) / nearest\n",
    "        remainder = num % nearest\n",
    "        if remainder >= nearest/2.0:\n",
    "            return (divider + 1) * nearest\n",
    "        else:\n",
    "            return divider * nearest\n",
    "\n",
    "def my_cdf(array, element):\n",
    "    return np.mean(np.sort(array) < element)"
   ]
  },
  {
   "cell_type": "code",
   "execution_count": 114,
   "metadata": {
    "collapsed": true
   },
   "outputs": [],
   "source": [
    "s = np.random.randn(30)"
   ]
  },
  {
   "cell_type": "code",
   "execution_count": 119,
   "metadata": {
    "collapsed": false
   },
   "outputs": [
    {
     "data": {
      "text/plain": [
       "array([ 0.43984266,  0.44143895, -1.07709079, -0.99697379,  1.27749563,\n",
       "       -0.78713738, -0.36990174, -0.5385754 , -0.75535568,  0.91242569,\n",
       "       -0.01504391,  1.0184284 ,  1.27728864, -0.65282002, -1.35449506,\n",
       "       -0.02654897, -2.79780459, -0.01186213,  0.99568042,  0.90381793,\n",
       "       -0.60438087,  3.19195076,  2.20095288,  0.58441777, -1.31838029,\n",
       "       -1.35702871, -1.59528166, -0.56415687, -1.22822781, -0.21242765])"
      ]
     },
     "execution_count": 119,
     "metadata": {},
     "output_type": "execute_result"
    }
   ],
   "source": [
    "s"
   ]
  },
  {
   "cell_type": "code",
   "execution_count": 115,
   "metadata": {
    "collapsed": false
   },
   "outputs": [
    {
     "data": {
      "text/plain": [
       "[60,\n",
       " 60,\n",
       " 20,\n",
       " 20,\n",
       " 90,\n",
       " 20,\n",
       " 40,\n",
       " 40,\n",
       " 30,\n",
       " 70,\n",
       " 50,\n",
       " 80,\n",
       " 80,\n",
       " 30,\n",
       " 10,\n",
       " 50,\n",
       " 0.0,\n",
       " 60,\n",
       " 80,\n",
       " 70,\n",
       " 30,\n",
       " 90,\n",
       " 90,\n",
       " 70,\n",
       " 10,\n",
       " 6.67,\n",
       " 3.33,\n",
       " 40,\n",
       " 10,\n",
       " 50]"
      ]
     },
     "execution_count": 115,
     "metadata": {},
     "output_type": "execute_result"
    }
   ],
   "source": [
    "series_to_percentiles(s)"
   ]
  },
  {
   "cell_type": "code",
   "execution_count": null,
   "metadata": {
    "collapsed": true
   },
   "outputs": [],
   "source": []
  }
 ],
 "metadata": {
  "kernelspec": {
   "display_name": "Python 2",
   "language": "python",
   "name": "python2"
  },
  "language_info": {
   "codemirror_mode": {
    "name": "ipython",
    "version": 2
   },
   "file_extension": ".py",
   "mimetype": "text/x-python",
   "name": "python",
   "nbconvert_exporter": "python",
   "pygments_lexer": "ipython2",
   "version": "2.7.10"
  }
 },
 "nbformat": 4,
 "nbformat_minor": 0
}
