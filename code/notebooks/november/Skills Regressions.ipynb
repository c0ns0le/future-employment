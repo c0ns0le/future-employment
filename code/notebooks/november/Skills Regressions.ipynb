{
 "cells": [
  {
   "cell_type": "code",
   "execution_count": 1,
   "metadata": {
    "collapsed": true
   },
   "outputs": [],
   "source": [
    "import pandas as pd\n",
    "import numpy as np\n",
    "import seaborn as sns\n",
    "import sklearn\n",
    "import GPy\n",
    "\n",
    "from sklearn.cross_validation import train_test_split\n",
    "from sklearn.linear_model import ridge_regression\n",
    "from sklearn.ensemble import RandomForestRegressor\n",
    "\n",
    "%matplotlib inline"
   ]
  },
  {
   "cell_type": "markdown",
   "metadata": {},
   "source": [
    "## Load Data"
   ]
  },
  {
   "cell_type": "code",
   "execution_count": 2,
   "metadata": {
    "collapsed": false
   },
   "outputs": [],
   "source": [
    "became_automated = pd.read_csv(\"../../../data/helpers/automation/delta_9_15.csv\")\n",
    "tt6 = pd.read_csv('../../../data/helpers/tt6.csv')\n",
    "tt9 = pd.read_csv('../../../data/helpers/tt9.csv')\n",
    "tt15 = pd.read_csv('../../../data/helpers/tt15.csv')\n",
    "emerged_tech = pd.read_csv('../../../data/helpers/emerged_occs_and_tech/emerged_all.csv')"
   ]
  },
  {
   "cell_type": "code",
   "execution_count": 3,
   "metadata": {
    "collapsed": false
   },
   "outputs": [],
   "source": [
    "# Create X (feature matrix)\n",
    "\n",
    "def create_factor_df(path, scale_id):\n",
    "    X = pd.read_table(path)\n",
    "    X = X[X['Scale ID'] == scale_id][['O*NET-SOC Code', 'Element Name', 'Data Value']].reset_index(drop = True)\n",
    "    X = X.pivot(index = 'O*NET-SOC Code', columns = 'Element Name', values = 'Data Value')\n",
    "    X.index.name = None\n",
    "    X['O*NET-SOC Code'] = X.index\n",
    "    return X"
   ]
  },
  {
   "cell_type": "code",
   "execution_count": 4,
   "metadata": {
    "collapsed": false
   },
   "outputs": [
    {
     "data": {
      "text/plain": [
       "81.320255227944003"
      ]
     },
     "execution_count": 4,
     "metadata": {},
     "output_type": "execute_result"
    }
   ],
   "source": [
    "X = create_factor_df('../../../data/databases/db09/Skills.txt', 'LV')\n",
    "np.linalg.cond(X.drop('O*NET-SOC Code', axis = 1))"
   ]
  },
  {
   "cell_type": "markdown",
   "metadata": {},
   "source": [
    "> Note – strong multicollinearity"
   ]
  },
  {
   "cell_type": "markdown",
   "metadata": {},
   "source": [
    "# Y = AUTOMATION % CHANGE"
   ]
  },
  {
   "cell_type": "markdown",
   "metadata": {},
   "source": [
    "First, clean data and add y_target"
   ]
  },
  {
   "cell_type": "code",
   "execution_count": 5,
   "metadata": {
    "collapsed": false
   },
   "outputs": [],
   "source": [
    "X = X.merge(became_automated[['O*NET-SOC Code', 'delta_pct']], how = 'left', on = 'O*NET-SOC Code')\n",
    "y = X['delta_pct']\n",
    "X = X.drop('delta_pct', axis = 1)\n",
    "X = X[y.notnull()]\n",
    "y = pd.DataFrame(y[y.notnull()])"
   ]
  },
  {
   "cell_type": "code",
   "execution_count": 6,
   "metadata": {
    "collapsed": false
   },
   "outputs": [
    {
     "data": {
      "text/plain": [
       "(759, 759)"
      ]
     },
     "execution_count": 6,
     "metadata": {},
     "output_type": "execute_result"
    }
   ],
   "source": [
    "len(X), len(y)"
   ]
  },
  {
   "cell_type": "code",
   "execution_count": 7,
   "metadata": {
    "collapsed": false
   },
   "outputs": [],
   "source": [
    "codes = X['O*NET-SOC Code']\n",
    "X = X.reset_index(drop = True)\n",
    "X = X.drop('O*NET-SOC Code', axis = 1)"
   ]
  },
  {
   "cell_type": "code",
   "execution_count": 12,
   "metadata": {
    "collapsed": false
   },
   "outputs": [],
   "source": [
    "became_automated.to_csv('../../../data/helpers/skills/automation_targets.csv', index = False)\n",
    "X.to_csv('../../../data/helpers/skills/skills_2009.csv', index = False)\n",
    "y.to_csv('../../../data/helpers/skills/automation_y.csv', index = False)\n",
    "codes.to_csv('../../../data/helpers/skills/codes_index.csv', header = True, index = False)"
   ]
  },
  {
   "cell_type": "markdown",
   "metadata": {},
   "source": [
    "Filter the data"
   ]
  },
  {
   "cell_type": "code",
   "execution_count": 10,
   "metadata": {
    "collapsed": true
   },
   "outputs": [],
   "source": [
    "# remove missing data\n",
    "def filt_nan(X, y):\n",
    "    filt = y.notnull()\n",
    "    X = X[filt]\n",
    "    y = y[filt]\n",
    "    return X, y\n",
    "\n",
    "X, y = filt_nan(X, y)"
   ]
  },
  {
   "cell_type": "code",
   "execution_count": 11,
   "metadata": {
    "collapsed": true
   },
   "outputs": [],
   "source": [
    "# focus only on data that has surpassed a certain threshold\n",
    "def filt_changed(X, y, threshold):\n",
    "    filt = abs(y) > threshold\n",
    "    X = X[filt]\n",
    "    y = y[filt]\n",
    "    return X, y\n",
    "\n",
    "X, y = filt_changed(X, y, 0.1)"
   ]
  },
  {
   "cell_type": "markdown",
   "metadata": {},
   "source": [
    "Then split data"
   ]
  },
  {
   "cell_type": "code",
   "execution_count": 12,
   "metadata": {
    "collapsed": true
   },
   "outputs": [],
   "source": [
    "X_train, X_test, y_train, y_test = train_test_split(X, y)\n",
    "data = [X_train, X_test, y_train, y_test]\n",
    "X_train, X_test, y_train, y_test = map(lambda x: np.array(x), data)"
   ]
  },
  {
   "cell_type": "markdown",
   "metadata": {},
   "source": [
    "Clean the data (GP regression requirements)"
   ]
  },
  {
   "cell_type": "code",
   "execution_count": 13,
   "metadata": {
    "collapsed": true
   },
   "outputs": [],
   "source": [
    "y_train, y_test = y_train[:,np.newaxis].squeeze(), y_test[:,np.newaxis].squeeze()"
   ]
  },
  {
   "cell_type": "markdown",
   "metadata": {},
   "source": [
    "Then create reporting functions"
   ]
  },
  {
   "cell_type": "code",
   "execution_count": 14,
   "metadata": {
    "collapsed": true
   },
   "outputs": [],
   "source": [
    "def get_r_squared(y_pred, y_true):\n",
    "    ssr = np.sum((y_pred - np.mean(y_true))**2)\n",
    "    sst = np.sum((y_true - np.mean(y_true))**2)\n",
    "    return float(ssr)/(sst)\n",
    "\n",
    "def get_mse(y_pred, y_true):\n",
    "    return np.mean((y_pred - y_true)**2)\n",
    "\n",
    "def get_rmse(y_pred, y_true):\n",
    "    return np.sqrt(get_mse(y_pred, y_true))\n",
    "\n",
    "def score_model(y_pred, y_true):\n",
    "    mean = np.mean(y_true)\n",
    "    rmse = get_rmse(y_pred, y_true)\n",
    "    r2 = get_r_squared(y_pred, y_true)\n",
    "    (mean, rmse, r2) = tuple(map(lambda x: round(x, 5), [mean, rmse, r2]))\n",
    "    \n",
    "    s = \"\"\"    MODEL RESULTS:\n",
    "    --------------\n",
    "\n",
    "    Mean  |  {}  |\n",
    "    RMSE  |  {}  |\n",
    "    R2    |  {}  |\n",
    "    \"\"\".format(mean, rmse, r2)\n",
    "    print s"
   ]
  },
  {
   "cell_type": "markdown",
   "metadata": {},
   "source": [
    "Then run models"
   ]
  },
  {
   "cell_type": "markdown",
   "metadata": {},
   "source": [
    "### Random Forest"
   ]
  },
  {
   "cell_type": "code",
   "execution_count": 15,
   "metadata": {
    "collapsed": false,
    "scrolled": true
   },
   "outputs": [
    {
     "name": "stdout",
     "output_type": "stream",
     "text": [
      "    MODEL RESULTS:\n",
      "    --------------\n",
      "\n",
      "    Mean  |  0.0076  |\n",
      "    RMSE  |  0.29869  |\n",
      "    R2    |  0.12423  |\n",
      "    \n"
     ]
    }
   ],
   "source": [
    "rf = RandomForestRegressor(n_estimators = 1000)\n",
    "rf.fit(X_train, y_train)\n",
    "predictions = rf.predict(X_test)\n",
    "score_model(predictions, y_test)"
   ]
  },
  {
   "cell_type": "markdown",
   "metadata": {},
   "source": [
    "### Gaussian Process"
   ]
  },
  {
   "cell_type": "markdown",
   "metadata": {},
   "source": [
    "Create several different kernels:"
   ]
  },
  {
   "cell_type": "code",
   "execution_count": 16,
   "metadata": {
    "collapsed": false
   },
   "outputs": [
    {
     "ename": "TypeError",
     "evalue": "__init__() got an unexpected keyword argument 'ARD'",
     "output_type": "error",
     "traceback": [
      "\u001b[0;31m---------------------------------------------------------------------------\u001b[0m",
      "\u001b[0;31mTypeError\u001b[0m                                 Traceback (most recent call last)",
      "\u001b[0;32m<ipython-input-16-ebcb67e3e239>\u001b[0m in \u001b[0;36m<module>\u001b[0;34m()\u001b[0m\n\u001b[1;32m      4\u001b[0m \u001b[0mexpquad\u001b[0m \u001b[0;34m=\u001b[0m \u001b[0mGPy\u001b[0m\u001b[0;34m.\u001b[0m\u001b[0mkern\u001b[0m\u001b[0;34m.\u001b[0m\u001b[0mExpQuad\u001b[0m\u001b[0;34m(\u001b[0m\u001b[0minput_dim\u001b[0m \u001b[0;34m=\u001b[0m \u001b[0mX\u001b[0m\u001b[0;34m.\u001b[0m\u001b[0mshape\u001b[0m\u001b[0;34m[\u001b[0m\u001b[0;36m1\u001b[0m\u001b[0;34m]\u001b[0m\u001b[0;34m,\u001b[0m \u001b[0mARD\u001b[0m \u001b[0;34m=\u001b[0m \u001b[0mTrue\u001b[0m\u001b[0;34m)\u001b[0m\u001b[0;34m\u001b[0m\u001b[0m\n\u001b[1;32m      5\u001b[0m \u001b[0mrbf\u001b[0m \u001b[0;34m=\u001b[0m \u001b[0mGPy\u001b[0m\u001b[0;34m.\u001b[0m\u001b[0mkern\u001b[0m\u001b[0;34m.\u001b[0m\u001b[0mRBF\u001b[0m\u001b[0;34m(\u001b[0m\u001b[0minput_dim\u001b[0m \u001b[0;34m=\u001b[0m \u001b[0mX\u001b[0m\u001b[0;34m.\u001b[0m\u001b[0mshape\u001b[0m\u001b[0;34m[\u001b[0m\u001b[0;36m1\u001b[0m\u001b[0;34m]\u001b[0m\u001b[0;34m,\u001b[0m \u001b[0mARD\u001b[0m \u001b[0;34m=\u001b[0m \u001b[0mTrue\u001b[0m\u001b[0;34m)\u001b[0m\u001b[0;34m\u001b[0m\u001b[0m\n\u001b[0;32m----> 6\u001b[0;31m \u001b[0mper\u001b[0m \u001b[0;34m=\u001b[0m \u001b[0mGPy\u001b[0m\u001b[0;34m.\u001b[0m\u001b[0mkern\u001b[0m\u001b[0;34m.\u001b[0m\u001b[0mPeriodicExponential\u001b[0m\u001b[0;34m(\u001b[0m\u001b[0minput_dim\u001b[0m \u001b[0;34m=\u001b[0m \u001b[0mX\u001b[0m\u001b[0;34m.\u001b[0m\u001b[0mshape\u001b[0m\u001b[0;34m[\u001b[0m\u001b[0;36m1\u001b[0m\u001b[0;34m]\u001b[0m\u001b[0;34m,\u001b[0m \u001b[0mARD\u001b[0m \u001b[0;34m=\u001b[0m \u001b[0mTrue\u001b[0m\u001b[0;34m)\u001b[0m\u001b[0;34m\u001b[0m\u001b[0m\n\u001b[0m\u001b[1;32m      7\u001b[0m \u001b[0mexp_t_lin\u001b[0m \u001b[0;34m=\u001b[0m \u001b[0mexp\u001b[0m \u001b[0;34m*\u001b[0m \u001b[0mlin\u001b[0m\u001b[0;34m\u001b[0m\u001b[0m\n\u001b[1;32m      8\u001b[0m \u001b[0mlin_t_expquad\u001b[0m \u001b[0;34m=\u001b[0m \u001b[0mlin\u001b[0m \u001b[0;34m*\u001b[0m \u001b[0mexpquad\u001b[0m\u001b[0;34m\u001b[0m\u001b[0m\n",
      "\u001b[0;32m/Users/Logan/anaconda/envs/dev/lib/python2.7/site-packages/GPy/core/parameterization/parameterized.pyc\u001b[0m in \u001b[0;36m__call__\u001b[0;34m(self, *args, **kw)\u001b[0m\n\u001b[1;32m     17\u001b[0m         \u001b[0mself\u001b[0m\u001b[0;34m.\u001b[0m\u001b[0m_in_init_\u001b[0m \u001b[0;34m=\u001b[0m \u001b[0mTrue\u001b[0m\u001b[0;34m\u001b[0m\u001b[0m\n\u001b[1;32m     18\u001b[0m         \u001b[0;31m#import ipdb;ipdb.set_trace()\u001b[0m\u001b[0;34m\u001b[0m\u001b[0;34m\u001b[0m\u001b[0m\n\u001b[0;32m---> 19\u001b[0;31m         \u001b[0mself\u001b[0m \u001b[0;34m=\u001b[0m \u001b[0msuper\u001b[0m\u001b[0;34m(\u001b[0m\u001b[0mParametersChangedMeta\u001b[0m\u001b[0;34m,\u001b[0m \u001b[0mself\u001b[0m\u001b[0;34m)\u001b[0m\u001b[0;34m.\u001b[0m\u001b[0m__call__\u001b[0m\u001b[0;34m(\u001b[0m\u001b[0;34m*\u001b[0m\u001b[0margs\u001b[0m\u001b[0;34m,\u001b[0m \u001b[0;34m**\u001b[0m\u001b[0mkw\u001b[0m\u001b[0;34m)\u001b[0m\u001b[0;34m\u001b[0m\u001b[0m\n\u001b[0m\u001b[1;32m     20\u001b[0m         \u001b[0mlogger\u001b[0m\u001b[0;34m.\u001b[0m\u001b[0mdebug\u001b[0m\u001b[0;34m(\u001b[0m\u001b[0;34m\"finished init\"\u001b[0m\u001b[0;34m)\u001b[0m\u001b[0;34m\u001b[0m\u001b[0m\n\u001b[1;32m     21\u001b[0m         \u001b[0mself\u001b[0m\u001b[0;34m.\u001b[0m\u001b[0m_in_init_\u001b[0m \u001b[0;34m=\u001b[0m \u001b[0mFalse\u001b[0m\u001b[0;34m\u001b[0m\u001b[0m\n",
      "\u001b[0;31mTypeError\u001b[0m: __init__() got an unexpected keyword argument 'ARD'"
     ]
    }
   ],
   "source": [
    "# Create nearly all possible kernels\n",
    "exp = GPy.kern.Exponential(input_dim = X.shape[1], ARD = True)\n",
    "lin = GPy.kern.Linear(input_dim = X.shape[1], ARD = True)\n",
    "expquad = GPy.kern.ExpQuad(input_dim = X.shape[1], ARD = True)\n",
    "rbf = GPy.kern.RBF(input_dim = X.shape[1], ARD = True)\n",
    "per = GPy.kern.PeriodicExponential(input_dim = X.shape[1], ARD = True)\n",
    "exp_t_lin = exp * lin\n",
    "lin_t_expquad = lin * expquad\n",
    "per_t_lin = per * lin\n",
    "per_t_exp = per * exp\n",
    "exp_p_lin = exp + lin\n",
    "lin_p_expquad = lin + expquad\n",
    "per_p_lin = per + lin\n",
    "per_p_exp = per + exp\n",
    "\n",
    "# # list them for the optimize function\n",
    "kernel_list = [exp]\n",
    "#              lin,\n",
    "#              expquad,\n",
    "#              rbf,\n",
    "#              per,\n",
    "#              exp_t_lin,\n",
    "#              lin_t_expquad,\n",
    "#              per_t_lin,\n",
    "#              per_t_exp,\n",
    "#              exp_p_lin,\n",
    "#              lin_p_expquad,\n",
    "#              per_p_lin,\n",
    "#              per_p_exp]"
   ]
  },
  {
   "cell_type": "code",
   "execution_count": null,
   "metadata": {
    "collapsed": true
   },
   "outputs": [],
   "source": [
    "def optimize_gaussian(X_train, y_train, X_test, y_test, kernel_list):\n",
    "    \"\"\"\n",
    "    Iterates through covariance functions and identifies the one\n",
    "    with the lowest RMSE, and returns:\n",
    "        - model,\n",
    "        - predictions,\n",
    "        - kernel name,\n",
    "        - RMSE\n",
    "    \"\"\"\n",
    "    best_model = None\n",
    "    best_rmse = float('inf')\n",
    "    best_name = None\n",
    "    best_preds = None\n",
    "    nowork = []\n",
    "    \n",
    "    new_ys = []\n",
    "    for y_array in [y_train, y_test]:\n",
    "        if len(y_array.shape) == 1:\n",
    "            new_ys.append(y_array[:,np.newaxis])\n",
    "    y_train, y_test = new_ys\n",
    "    \n",
    "    for kernel in kernel_list:\n",
    "        try:\n",
    "            m = GPy.models.GPRegression(X_train, y_train, kernel = kernel)\n",
    "            m.optimize(max_f_eval = 1000)\n",
    "            m.optimize_restarts(num_restarts=100)\n",
    "            mean, var = m.predict(np.array(X_test))\n",
    "            rmse = get_rmse(mean.squeeze(), y_test)\n",
    "            if rmse < best_rmse:\n",
    "                best_model = m\n",
    "                best_rmse = rmse\n",
    "                best_name = kernel.name\n",
    "                best_preds = mean.squeeze()\n",
    "            print \"\"\"{} RMSE: {}\n",
    "            \"\"\".format(kernel.name, rmse)\n",
    "        except:\n",
    "            nowork.append(kernel.name)\n",
    "\n",
    "    return best_model, best_preds, best_name, best_rmse"
   ]
  },
  {
   "cell_type": "code",
   "execution_count": 63,
   "metadata": {
    "collapsed": false
   },
   "outputs": [
    {
     "name": "stdout",
     "output_type": "stream",
     "text": [
      "Optimization restart 1/100, f = 22.2591527264\n",
      "Optimization restart 2/100, f = 19.8512849743\n",
      "Optimization restart 3/100, f = 17.9501666646\n",
      "Optimization restart 4/100, f = 22.1969231383\n",
      "Optimization restart 5/100, f = 19.6988059537\n",
      "Optimization restart 6/100, f = 19.9018524729\n",
      "Optimization restart 7/100, f = 22.2516823665\n",
      "Optimization restart 8/100, f = 22.4959553506\n",
      "Optimization restart 9/100, f = 20.7927087769\n",
      "Optimization restart 10/100, f = 20.1406099509\n",
      "Optimization restart 11/100, f = 21.9037567589\n",
      "Optimization restart 12/100, f = 22.2313138067\n",
      "Optimization restart 13/100, f = 18.9497539869\n",
      "Optimization restart 14/100, f = 20.8168735752\n",
      "Optimization restart 15/100, f = 24.0454695698\n",
      "Optimization restart 16/100, f = 21.440440557\n",
      "Optimization restart 17/100, f = 17.8709674946\n",
      "Optimization restart 18/100, f = 20.3790604468\n",
      "Optimization restart 19/100, f = 20.0211958532\n",
      "Optimization restart 20/100, f = 20.8754899295\n",
      "Optimization restart 21/100, f = 24.3992879301\n",
      "Optimization restart 22/100, f = 22.8032659208\n",
      "Optimization restart 23/100, f = 19.6975923065\n",
      "Optimization restart 24/100, f = 19.0543034338\n",
      "Optimization restart 25/100, f = 20.4903400775\n",
      "Optimization restart 26/100, f = 19.927068199\n",
      "Optimization restart 27/100, f = 20.1439820611\n",
      "Optimization restart 28/100, f = 24.2604421476\n",
      "Optimization restart 29/100, f = 22.2516822632\n",
      "Optimization restart 30/100, f = 19.4342341998\n",
      "Optimization restart 31/100, f = 22.8330413055\n",
      "Optimization restart 32/100, f = 18.5126149134\n",
      "Optimization restart 33/100, f = 21.9594129773\n",
      "Optimization restart 34/100, f = 20.9456098837\n",
      "Optimization restart 35/100, f = 22.2848116438\n",
      "Optimization restart 36/100, f = 19.752077856\n",
      "Optimization restart 37/100, f = 21.6252199647\n",
      "Optimization restart 38/100, f = 17.2761207709\n",
      "Optimization restart 39/100, f = 24.1247010096\n",
      "Optimization restart 40/100, f = 21.4308381176\n",
      "Optimization restart 41/100, f = 20.835422651\n",
      "Optimization restart 42/100, f = 20.5845096466\n",
      "Optimization restart 43/100, f = 20.5422236206\n",
      "Optimization restart 44/100, f = 21.8802229562\n",
      "Optimization restart 45/100, f = 21.1735820989\n",
      "Optimization restart 46/100, f = 20.2862434986\n",
      "Optimization restart 47/100, f = 21.3130125254\n",
      "Optimization restart 48/100, f = 20.748550585\n",
      "Optimization restart 49/100, f = 22.0968140923\n",
      "Optimization restart 50/100, f = 22.934751414\n",
      "Optimization restart 51/100, f = 17.7486106878\n",
      "Optimization restart 52/100, f = 18.5736309349\n",
      "Optimization restart 53/100, f = 19.3114671055\n",
      "Optimization restart 54/100, f = 21.2139392024\n",
      "Optimization restart 55/100, f = 17.7957551844\n",
      "Optimization restart 56/100, f = 17.8972661467\n",
      "Optimization restart 57/100, f = 20.9992447684\n",
      "Optimization restart 58/100, f = 20.3936356524\n",
      "Optimization restart 59/100, f = 22.1154292723\n",
      "Optimization restart 60/100, f = 18.3141080021\n",
      "Optimization restart 61/100, f = 19.6581529593\n",
      "Optimization restart 62/100, f = 21.4592371208\n",
      "Optimization restart 63/100, f = 21.8507564386\n",
      "Optimization restart 64/100, f = 21.1663810893\n",
      "Optimization restart 65/100, f = 19.1774314187\n",
      "Optimization restart 66/100, f = 20.7521246933\n",
      "Optimization restart 67/100, f = 20.021832053\n",
      "Optimization restart 68/100, f = 23.2227102888\n",
      "Optimization restart 69/100, f = 19.3996850118\n",
      "Optimization restart 70/100, f = 18.1968878605\n",
      "Optimization restart 71/100, f = 20.8416689308\n",
      "Optimization restart 72/100, f = 22.2175359977\n",
      "Optimization restart 73/100, f = 20.9449993596\n",
      "Optimization restart 74/100, f = 21.1603031987\n",
      "Optimization restart 75/100, f = 22.845778347\n",
      "Optimization restart 76/100, f = 17.9501647244\n",
      "Optimization restart 77/100, f = 19.4757839679\n",
      "Optimization restart 78/100, f = 22.9158109613\n",
      "Optimization restart 79/100, f = 19.3114688429\n",
      "Optimization restart 80/100, f = 17.2583233794\n",
      "Optimization restart 81/100, f = 20.7927087181\n",
      "Optimization restart 82/100, f = 18.7109875537\n",
      "Optimization restart 83/100, f = 21.0666849884\n",
      "Optimization restart 84/100, f = 18.9284651565\n",
      "Optimization restart 85/100, f = 21.0406647067\n",
      "Optimization restart 86/100, f = 21.373155204\n",
      "Optimization restart 87/100, f = 17.8232309804\n",
      "Optimization restart 88/100, f = 22.9471717122\n",
      "Optimization restart 89/100, f = 23.6697938186\n",
      "Optimization restart 90/100, f = 21.8511289647\n",
      "Optimization restart 91/100, f = 18.036281955\n",
      "Optimization restart 92/100, f = 27.3551311693\n",
      "Optimization restart 93/100, f = 21.2558170945\n",
      "Optimization restart 94/100, f = 20.2815331133\n",
      "Optimization restart 95/100, f = 21.0572062914\n",
      "Optimization restart 96/100, f = 20.9456083147\n",
      "Optimization restart 97/100, f = 17.795755365\n",
      "Optimization restart 98/100, f = 19.9597190536\n",
      "Optimization restart 99/100, f = 19.8499020027\n",
      "Optimization restart 100/100, f = 20.1373727131\n",
      "Exponential RMSE: 0.332316119325\n",
      "            \n"
     ]
    }
   ],
   "source": [
    "m, y_pred, name, rmse = optimize_gaussian(X_train, y_train, X_test, y_test, kernel_list)"
   ]
  },
  {
   "cell_type": "code",
   "execution_count": 59,
   "metadata": {
    "collapsed": false
   },
   "outputs": [
    {
     "data": {
      "text/html": [
       "<style type=\"text/css\">\n",
       ".tg  {padding:2px 3px;word-break:normal;border-collapse:collapse;border-spacing:0;border-color:#DCDCDC;margin:0px auto;width:100%;}\n",
       ".tg td{font-family:\"Courier New\", Courier, monospace !important;font-weight:bold;color:#444;background-color:#F7FDFA;border-style:solid;border-width:1px;overflow:hidden;word-break:normal;border-color:#DCDCDC;}\n",
       ".tg th{font-family:\"Courier New\", Courier, monospace !important;font-weight:normal;color:#fff;background-color:#26ADE4;border-style:solid;border-width:1px;overflow:hidden;word-break:normal;border-color:#DCDCDC;}\n",
       ".tg .tg-left{font-family:\"Courier New\", Courier, monospace !important;font-weight:normal;text-align:left;}\n",
       ".tg .tg-right{font-family:\"Courier New\", Courier, monospace !important;font-weight:normal;text-align:right;}\n",
       "</style>\n",
       "<table class=\"tg\">\n",
       "\n",
       "<tr>\n",
       "  <th><b>Index</b></th>\n",
       "  <th><b>GP_regression.Exponential.lengthscale</b></th>\n",
       "  <th><b>Constraint</b></th>\n",
       "  <th><b>Prior</b></th>\n",
       "  <th><b>Tied to</b></th>\n",
       "</tr>\n",
       "<tr><td class=tg-left>[0]</td><td  class=tg-right>680.778394747</td><td class=tg-left>+ve</td><td class=tg-left></td><td class=tg-left>N/A</td></tr>\n",
       "<tr><td class=tg-left>[1]</td><td  class=tg-right>1875.99510528</td><td class=tg-left>+ve</td><td class=tg-left></td><td class=tg-left>N/A</td></tr>\n",
       "<tr><td class=tg-left>[2]</td><td  class=tg-right>982.281911815</td><td class=tg-left>+ve</td><td class=tg-left></td><td class=tg-left>N/A</td></tr>\n",
       "<tr><td class=tg-left>[3]</td><td  class=tg-right>0.434098140273</td><td class=tg-left>+ve</td><td class=tg-left></td><td class=tg-left>N/A</td></tr>\n",
       "<tr><td class=tg-left>[4]</td><td  class=tg-right>1829.33483703</td><td class=tg-left>+ve</td><td class=tg-left></td><td class=tg-left>N/A</td></tr>\n",
       "<tr><td class=tg-left>[5]</td><td  class=tg-right>727.831523813</td><td class=tg-left>+ve</td><td class=tg-left></td><td class=tg-left>N/A</td></tr>\n",
       "<tr><td class=tg-left>[6]</td><td  class=tg-right>1321.0880452</td><td class=tg-left>+ve</td><td class=tg-left></td><td class=tg-left>N/A</td></tr>\n",
       "<tr><td class=tg-left>[7]</td><td  class=tg-right>2086.25969006</td><td class=tg-left>+ve</td><td class=tg-left></td><td class=tg-left>N/A</td></tr>\n",
       "<tr><td class=tg-left>[8]</td><td  class=tg-right>1196.09859412</td><td class=tg-left>+ve</td><td class=tg-left></td><td class=tg-left>N/A</td></tr>\n",
       "<tr><td class=tg-left>[9]</td><td  class=tg-right>3271.72753407</td><td class=tg-left>+ve</td><td class=tg-left></td><td class=tg-left>N/A</td></tr>\n",
       "<tr><td class=tg-left>[10]</td><td  class=tg-right>723.669212038</td><td class=tg-left>+ve</td><td class=tg-left></td><td class=tg-left>N/A</td></tr>\n",
       "<tr><td class=tg-left>[11]</td><td  class=tg-right>1544.51610434</td><td class=tg-left>+ve</td><td class=tg-left></td><td class=tg-left>N/A</td></tr>\n",
       "<tr><td class=tg-left>[12]</td><td  class=tg-right>873.616874279</td><td class=tg-left>+ve</td><td class=tg-left></td><td class=tg-left>N/A</td></tr>\n",
       "<tr><td class=tg-left>[13]</td><td  class=tg-right>1561.28264772</td><td class=tg-left>+ve</td><td class=tg-left></td><td class=tg-left>N/A</td></tr>\n",
       "<tr><td class=tg-left>[14]</td><td  class=tg-right>0.228237904594</td><td class=tg-left>+ve</td><td class=tg-left></td><td class=tg-left>N/A</td></tr>\n",
       "<tr><td class=tg-left>[15]</td><td  class=tg-right>1035.10359945</td><td class=tg-left>+ve</td><td class=tg-left></td><td class=tg-left>N/A</td></tr>\n",
       "<tr><td class=tg-left>[16]</td><td  class=tg-right>1337.42410362</td><td class=tg-left>+ve</td><td class=tg-left></td><td class=tg-left>N/A</td></tr>\n",
       "<tr><td class=tg-left>[17]</td><td  class=tg-right>0.234714588871</td><td class=tg-left>+ve</td><td class=tg-left></td><td class=tg-left>N/A</td></tr>\n",
       "<tr><td class=tg-left>[18]</td><td  class=tg-right>0.291231794705</td><td class=tg-left>+ve</td><td class=tg-left></td><td class=tg-left>N/A</td></tr>\n",
       "<tr><td class=tg-left>[19]</td><td  class=tg-right>0.642733299874</td><td class=tg-left>+ve</td><td class=tg-left></td><td class=tg-left>N/A</td></tr>\n",
       "<tr><td class=tg-left>[20]</td><td  class=tg-right>1046.20709685</td><td class=tg-left>+ve</td><td class=tg-left></td><td class=tg-left>N/A</td></tr>\n",
       "<tr><td class=tg-left>[21]</td><td  class=tg-right>1503.86031284</td><td class=tg-left>+ve</td><td class=tg-left></td><td class=tg-left>N/A</td></tr>\n",
       "<tr><td class=tg-left>[22]</td><td  class=tg-right>1837.70861922</td><td class=tg-left>+ve</td><td class=tg-left></td><td class=tg-left>N/A</td></tr>\n",
       "<tr><td class=tg-left>[23]</td><td  class=tg-right>2057.72500787</td><td class=tg-left>+ve</td><td class=tg-left></td><td class=tg-left>N/A</td></tr>\n",
       "<tr><td class=tg-left>[24]</td><td  class=tg-right>0.704068221055</td><td class=tg-left>+ve</td><td class=tg-left></td><td class=tg-left>N/A</td></tr>\n",
       "<tr><td class=tg-left>[25]</td><td  class=tg-right>511.991544888</td><td class=tg-left>+ve</td><td class=tg-left></td><td class=tg-left>N/A</td></tr>\n",
       "<tr><td class=tg-left>[26]</td><td  class=tg-right>2270.07371773</td><td class=tg-left>+ve</td><td class=tg-left></td><td class=tg-left>N/A</td></tr>\n",
       "<tr><td class=tg-left>[27]</td><td  class=tg-right>2527.44120387</td><td class=tg-left>+ve</td><td class=tg-left></td><td class=tg-left>N/A</td></tr>\n",
       "<tr><td class=tg-left>[28]</td><td  class=tg-right>1607.53606683</td><td class=tg-left>+ve</td><td class=tg-left></td><td class=tg-left>N/A</td></tr>\n",
       "<tr><td class=tg-left>[29]</td><td  class=tg-right>2721.21681997</td><td class=tg-left>+ve</td><td class=tg-left></td><td class=tg-left>N/A</td></tr>\n",
       "<tr><td class=tg-left>[30]</td><td  class=tg-right>1287.05735634</td><td class=tg-left>+ve</td><td class=tg-left></td><td class=tg-left>N/A</td></tr>\n",
       "<tr><td class=tg-left>[31]</td><td  class=tg-right>1489.82300664</td><td class=tg-left>+ve</td><td class=tg-left></td><td class=tg-left>N/A</td></tr>\n",
       "<tr><td class=tg-left>[32]</td><td  class=tg-right>987.143096448</td><td class=tg-left>+ve</td><td class=tg-left></td><td class=tg-left>N/A</td></tr>\n",
       "<tr><td class=tg-left>[33]</td><td  class=tg-right>0.406792219417</td><td class=tg-left>+ve</td><td class=tg-left></td><td class=tg-left>N/A</td></tr>\n",
       "<tr><td class=tg-left>[34]</td><td  class=tg-right>2180.98894363</td><td class=tg-left>+ve</td><td class=tg-left></td><td class=tg-left>N/A</td></tr>\n",
       "</table>"
      ],
      "text/plain": [
       "\u001b[1mGP_regression.Exponential.lengthscale\u001b[0;0m:\n",
       "Param([  6.80778395e+02,   1.87599511e+03,   9.82281912e+02,\n",
       "         4.34098140e-01,   1.82933484e+03,   7.27831524e+02,\n",
       "         1.32108805e+03,   2.08625969e+03,   1.19609859e+03,\n",
       "         3.27172753e+03,   7.23669212e+02,   1.54451610e+03,\n",
       "         8.73616874e+02,   1.56128265e+03,   2.28237905e-01,\n",
       "         1.03510360e+03,   1.33742410e+03,   2.34714589e-01,\n",
       "         2.91231795e-01,   6.42733300e-01,   1.04620710e+03,\n",
       "         1.50386031e+03,   1.83770862e+03,   2.05772501e+03,\n",
       "         7.04068221e-01,   5.11991545e+02,   2.27007372e+03,\n",
       "         2.52744120e+03,   1.60753607e+03,   2.72121682e+03,\n",
       "         1.28705736e+03,   1.48982301e+03,   9.87143096e+02,\n",
       "         4.06792219e-01,   2.18098894e+03])"
      ]
     },
     "execution_count": 59,
     "metadata": {},
     "output_type": "execute_result"
    }
   ],
   "source": [
    "m.kern.lengthscale"
   ]
  },
  {
   "cell_type": "code",
   "execution_count": 15,
   "metadata": {
    "collapsed": false
   },
   "outputs": [
    {
     "name": "stdout",
     "output_type": "stream",
     "text": [
      "    MODEL RESULTS:\n",
      "    --------------\n",
      "\n",
      "    Mean  |  0.01241  |\n",
      "    RMSE  |  0.26805  |\n",
      "    R2    |  0.00215  |\n",
      "    \n"
     ]
    }
   ],
   "source": [
    "score_model(y_pred, y_test)"
   ]
  },
  {
   "cell_type": "markdown",
   "metadata": {},
   "source": [
    "### LASSO Regression"
   ]
  },
  {
   "cell_type": "code",
   "execution_count": 16,
   "metadata": {
    "collapsed": false
   },
   "outputs": [
    {
     "name": "stdout",
     "output_type": "stream",
     "text": [
      "    MODEL RESULTS:\n",
      "    --------------\n",
      "\n",
      "    Mean  |  0.01241  |\n",
      "    RMSE  |  0.26892  |\n",
      "    R2    |  0.00864  |\n",
      "    \n"
     ]
    }
   ],
   "source": [
    "lasso = sklearn.linear_model.Lasso()\n",
    "lasso.fit(X_train, y_train)\n",
    "y_pred = lasso.predict(X_test)\n",
    "score_model(y_pred, y_test)"
   ]
  },
  {
   "cell_type": "markdown",
   "metadata": {},
   "source": [
    "# Y = AUTOMATION (abs) CHANGE"
   ]
  },
  {
   "cell_type": "code",
   "execution_count": 17,
   "metadata": {
    "collapsed": true
   },
   "outputs": [],
   "source": [
    "X = create_factor_df('../data/db09/Skills.txt', 'LV')\n",
    "X = X.merge(became_automated[['O*NET-SOC Code', 'delta']], how = 'left', on = 'O*NET-SOC Code').drop('O*NET-SOC Code', axis = 1)\n",
    "y = X['delta']\n",
    "X = X.drop('delta', axis = 1)\n",
    "X = X[y.notnull()]\n",
    "y = y[y.notnull()]\n",
    "\n",
    "X, y = np.array(X), np.array(y).squeeze()"
   ]
  },
  {
   "cell_type": "code",
   "execution_count": 18,
   "metadata": {
    "collapsed": false
   },
   "outputs": [],
   "source": [
    "X_train, X_test, y_train, y_test = train_test_split(X, y)"
   ]
  },
  {
   "cell_type": "markdown",
   "metadata": {},
   "source": [
    "### Random Forests"
   ]
  },
  {
   "cell_type": "code",
   "execution_count": 19,
   "metadata": {
    "collapsed": false
   },
   "outputs": [
    {
     "name": "stdout",
     "output_type": "stream",
     "text": [
      "    MODEL RESULTS:\n",
      "    --------------\n",
      "\n",
      "    Mean  |  -0.02247  |\n",
      "    RMSE  |  0.32864  |\n",
      "    R2    |  0.20366  |\n",
      "    \n"
     ]
    }
   ],
   "source": [
    "rf = RandomForestRegressor()\n",
    "rf.fit(X_train, y_train)\n",
    "y_pred = rf.predict(X_test)\n",
    "score_model(y_pred, y_test)"
   ]
  },
  {
   "cell_type": "markdown",
   "metadata": {},
   "source": [
    "### Gaussian Process"
   ]
  },
  {
   "cell_type": "code",
   "execution_count": 18,
   "metadata": {
    "collapsed": false
   },
   "outputs": [
    {
     "ename": "NameError",
     "evalue": "name 'kernel_list' is not defined",
     "output_type": "error",
     "traceback": [
      "\u001b[0;31m---------------------------------------------------------------------------\u001b[0m",
      "\u001b[0;31mNameError\u001b[0m                                 Traceback (most recent call last)",
      "\u001b[0;32m<ipython-input-18-cbf1f8a79b7e>\u001b[0m in \u001b[0;36m<module>\u001b[0;34m()\u001b[0m\n\u001b[0;32m----> 1\u001b[0;31m \u001b[0mm\u001b[0m\u001b[0;34m,\u001b[0m \u001b[0my_pred\u001b[0m\u001b[0;34m,\u001b[0m \u001b[0mname\u001b[0m\u001b[0;34m,\u001b[0m \u001b[0mrmse\u001b[0m \u001b[0;34m=\u001b[0m \u001b[0moptimize_gaussian\u001b[0m\u001b[0;34m(\u001b[0m\u001b[0mX_train\u001b[0m\u001b[0;34m,\u001b[0m \u001b[0my_train\u001b[0m\u001b[0;34m,\u001b[0m \u001b[0mX_test\u001b[0m\u001b[0;34m,\u001b[0m \u001b[0my_test\u001b[0m\u001b[0;34m,\u001b[0m \u001b[0mkernel_list\u001b[0m\u001b[0;34m)\u001b[0m\u001b[0;34m\u001b[0m\u001b[0m\n\u001b[0m",
      "\u001b[0;31mNameError\u001b[0m: name 'kernel_list' is not defined"
     ]
    }
   ],
   "source": [
    "m, y_pred, name, rmse = optimize_gaussian(X_train, y_train, X_test, y_test, kernel_list)"
   ]
  },
  {
   "cell_type": "code",
   "execution_count": 225,
   "metadata": {
    "collapsed": false
   },
   "outputs": [
    {
     "name": "stdout",
     "output_type": "stream",
     "text": [
      "    MODEL RESULTS:\n",
      "    --------------\n",
      "\n",
      "    Mean  |  0.021  |\n",
      "    RMSE  |  0.33218  |\n",
      "    R2    |  0.00599  |\n",
      "    \n"
     ]
    }
   ],
   "source": [
    "score_model(y_pred, y_test)"
   ]
  },
  {
   "cell_type": "markdown",
   "metadata": {},
   "source": [
    "# Y = log(\\# adopted technologies)"
   ]
  },
  {
   "cell_type": "code",
   "execution_count": 82,
   "metadata": {
    "collapsed": false
   },
   "outputs": [],
   "source": [
    "adoptions = pd.read_csv('tech_adoptions.csv')\n",
    "num_adoptions = pd.DataFrame(adoptions.groupby('O*NET-SOC Code')['Title'].count()).reset_index()\n",
    "num_adoptions.columns = ['O*NET-SOC Code', 'num_adopted']\n",
    "\n",
    "\n",
    "X = create_factor_df('../data/db09/Skills.txt', 'LV')\n",
    "X = X.merge(num_adoptions[['O*NET-SOC Code', 'num_adopted']], how = 'left', on = 'O*NET-SOC Code').drop('O*NET-SOC Code', axis = 1)\n",
    "X.num_it_adopted = X.num_adopted.fillna(value = 0)\n",
    "y = X.num_adopted\n",
    "X = X.drop('num_adopted', axis = 1)\n",
    "X = X[y.notnull()]\n",
    "y = y[y.notnull()]"
   ]
  },
  {
   "cell_type": "code",
   "execution_count": 83,
   "metadata": {
    "collapsed": false
   },
   "outputs": [
    {
     "name": "stdout",
     "output_type": "stream",
     "text": [
      "Exponential RMSE: 43.9328967308\n",
      "            \n",
      "linear RMSE: 43.9328967177\n",
      "            \n",
      "ExpQuad RMSE: 43.9328967303\n",
      "            \n",
      "rbf RMSE: 43.9328967303\n",
      "            \n",
      "periodic_exponential RMSE: 43.9328967165\n",
      "            \n",
      "    MODEL RESULTS:\n",
      "    --------------\n",
      "\n",
      "    Mean  |  28.07602  |\n",
      "    RMSE  |  43.9329  |\n",
      "    R2    |  0.69035  |\n",
      "    \n"
     ]
    }
   ],
   "source": [
    "X_train, X_test, y_train, y_test = train_test_split(X, y)\n",
    "m, y_pred, name, rmse = optimize_gaussian(X_train, y_train, X_test, y_test, kernel_list)\n",
    "score_model(y_pred, y_test)"
   ]
  },
  {
   "cell_type": "markdown",
   "metadata": {},
   "source": [
    "> ### This appears to explain a lot of variation; pursue feature importances with Random Forest"
   ]
  },
  {
   "cell_type": "code",
   "execution_count": 86,
   "metadata": {
    "collapsed": false
   },
   "outputs": [
    {
     "name": "stdout",
     "output_type": "stream",
     "text": [
      "    MODEL RESULTS:\n",
      "    --------------\n",
      "\n",
      "    Mean  |  28.07602  |\n",
      "    RMSE  |  30.14601  |\n",
      "    R2    |  0.31317  |\n",
      "    \n"
     ]
    }
   ],
   "source": [
    "rf = RandomForestRegressor(n_estimators = 200)\n",
    "rf.fit(X_train, y_train)\n",
    "y_pred = rf.predict(X_test)\n",
    "score_model(y_pred, y_test)"
   ]
  },
  {
   "cell_type": "code",
   "execution_count": 102,
   "metadata": {
    "collapsed": false
   },
   "outputs": [
    {
     "name": "stdout",
     "output_type": "stream",
     "text": [
      "Monitoring  \t \t  0.0545767269121\n",
      "Operations Analysis  \t \t  0.114527258596\n",
      "Complex Problem Solving  \t \t  0.0784093588529\n",
      "Active Listening  \t \t  -0.0200878790641\n",
      "Active Learning  \t \t  0.112961857603\n",
      "Systems Analysis  \t \t  0.0184033406038\n",
      "Critical Thinking  \t \t  0.0889422907895\n",
      "Negotiation  \t \t  -0.0477685857588\n",
      "Persuasion  \t \t  -0.00337846695395\n",
      "Management of Material Resources  \t \t  0.12839245353\n"
     ]
    }
   ],
   "source": [
    "feature_importances = zip(X_train.columns, rf.feature_importances_)\n",
    "feature_importances.sort(key=lambda x: x[1])\n",
    "top_ten_most_important = [i[0] for i in feature_importances[:10]]\n",
    "for feature in top_ten_most_important:\n",
    "    vals  = X[feature]\n",
    "    print feature,\" \\t \\t \", np.corrcoef(np.array(vals), np.array(y).squeeze())[0][1]"
   ]
  },
  {
   "cell_type": "markdown",
   "metadata": {},
   "source": [
    "> ###So it seems the most important features have low correlation! There is some *mixture*\n",
    "> ### of features that is then important. So:\n",
    "    > ### * What is a better measure of feature importances\n",
    "    > ### * How do you find great combinations of variables?"
   ]
  },
  {
   "cell_type": "markdown",
   "metadata": {},
   "source": [
    "# Y = log(\\# adopted IT technologies)"
   ]
  },
  {
   "cell_type": "code",
   "execution_count": 80,
   "metadata": {
    "collapsed": false
   },
   "outputs": [],
   "source": [
    "just_it = adoptions[adoptions.segment_title == 'Information Technology Broadcasting and Telecommunications']\n",
    "it_adoptions = pd.DataFrame(just_it.groupby(\"O*NET-SOC Code\").Title.count()).reset_index()\n",
    "it_adoptions.columns = ['O*NET-SOC Code', 'num_it_adopted']\n",
    "\n",
    "X = create_factor_df('../data/db09/Skills.txt', 'LV')\n",
    "X = X.merge(it_adoptions[['O*NET-SOC Code', 'num_it_adopted']], how = 'left', on = 'O*NET-SOC Code').drop('O*NET-SOC Code', axis = 1)\n",
    "X.num_it_adopted = X.num_it_adopted.fillna(value = 0)\n",
    "y = X.num_it_adopted\n",
    "X = X.drop('num_it_adopted', axis = 1)\n",
    "X = X[y.notnull()]\n",
    "y = y[y.notnull()]"
   ]
  },
  {
   "cell_type": "code",
   "execution_count": 81,
   "metadata": {
    "collapsed": false
   },
   "outputs": [
    {
     "name": "stdout",
     "output_type": "stream",
     "text": [
      "Exponential RMSE: 13.8126093589\n",
      "            \n",
      "linear RMSE: 13.8126093217\n",
      "            \n",
      "ExpQuad RMSE: 13.8126093575\n",
      "            \n",
      "rbf RMSE: 13.8126093575\n",
      "            \n",
      "periodic_exponential RMSE: 13.812609338\n",
      "            \n",
      "    MODEL RESULTS:\n",
      "    --------------\n",
      "\n",
      "    Mean  |  6.6601  |\n",
      "    RMSE  |  13.81261  |\n",
      "    R2    |  0.30292  |\n",
      "    \n"
     ]
    }
   ],
   "source": [
    "X_train, X_test, y_train, y_test = train_test_split(X, y)\n",
    "m, y_pred, name, rmse = optimize_gaussian(X_train, y_train, X_test, y_test, kernel_list)\n",
    "score_model(y_pred, y_test)"
   ]
  },
  {
   "cell_type": "markdown",
   "metadata": {},
   "source": [
    "# Y = log(\\# adopted emerging technologies)"
   ]
  },
  {
   "cell_type": "code",
   "execution_count": null,
   "metadata": {
    "collapsed": true
   },
   "outputs": [],
   "source": []
  }
 ],
 "metadata": {
  "kernelspec": {
   "display_name": "Python 2",
   "language": "python",
   "name": "python2"
  },
  "language_info": {
   "codemirror_mode": {
    "name": "ipython",
    "version": 2
   },
   "file_extension": ".py",
   "mimetype": "text/x-python",
   "name": "python",
   "nbconvert_exporter": "python",
   "pygments_lexer": "ipython2",
   "version": "2.7.11"
  }
 },
 "nbformat": 4,
 "nbformat_minor": 0
}
