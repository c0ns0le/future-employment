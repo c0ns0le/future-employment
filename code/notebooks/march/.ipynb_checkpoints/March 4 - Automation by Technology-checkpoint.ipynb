{
 "cells": [
  {
   "cell_type": "code",
   "execution_count": null,
   "metadata": {
    "collapsed": true
   },
   "outputs": [],
   "source": [
    "import pandas as pd\n",
    "import numpy as np\n",
    "import seaborn as sns\n",
    "%matplotlib inline"
   ]
  },
  {
   "cell_type": "markdown",
   "metadata": {},
   "source": [
    "# Plot average automation measures by certain technologies\n",
    "\n",
    "measures:\n",
    "    - change in automation\n",
    "    - % change in automation\n",
    "    - automation, absolute level\n",
    "    - change in certain skills\n",
    "    - skill level"
   ]
  },
  {
   "cell_type": "markdown",
   "metadata": {},
   "source": [
    "# AUTOMATION (1/2)"
   ]
  },
  {
   "cell_type": "code",
   "execution_count": null,
   "metadata": {
    "collapsed": false
   },
   "outputs": [],
   "source": [
    "adoptions = pd.read_csv('../../../data/tech_adoptions.csv')\n",
    "a = pd.read_csv('../../../data/helpers/automation_targets.csv').drop('Unnamed: 0', axis = 1)"
   ]
  },
  {
   "cell_type": "code",
   "execution_count": null,
   "metadata": {
    "collapsed": false
   },
   "outputs": [],
   "source": [
    "merged = adoptions.merge(a, on = 'O*NET-SOC Code', how = 'inner')"
   ]
  },
  {
   "cell_type": "code",
   "execution_count": null,
   "metadata": {
    "collapsed": true
   },
   "outputs": [],
   "source": [
    "# gb:\n",
    "    # example\n",
    "    # broad_group\n",
    "    # minor_group\n",
    "    # major_group"
   ]
  },
  {
   "cell_type": "code",
   "execution_count": null,
   "metadata": {
    "collapsed": false
   },
   "outputs": [],
   "source": [
    "merged.columns"
   ]
  },
  {
   "cell_type": "code",
   "execution_count": null,
   "metadata": {
    "collapsed": false
   },
   "outputs": [],
   "source": [
    "def output_chart(df, grouping_column, outcome, graph = True, n = 10):\n",
    "    \"\"\"\n",
    "    \n",
    "    groupings: {'jobs': ['Title_x', 'broad_title', 'minor_title', 'major_title'],\n",
    "                'tech': ['T2 Example', 'class_title', 'family_title', 'segment_title']}\n",
    "    \n",
    "    \"\"\"\n",
    "    gb = df.groupby(grouping_column)[[grouping_column, outcome]].mean().reset_index()\n",
    "    top_n = gb.sort_values(by = outcome, ascending = False).head(n)\n",
    "    bottom_n = gb.sort_values(by = outcome).head(n)    \n",
    "    if graph:\n",
    "        num_values = len(df[grouping_column].unique())\n",
    "        top_n.plot.bar(x = top_n[grouping_column], title = '{} : Top {}'.format(outcome.upper(), n))\n",
    "        bottom_n.plot.bar(x = bottom_n[grouping_column], title = '{} : Bottom {}'.format(outcome.upper(), n))\n",
    "    return top_n, bottom_n"
   ]
  },
  {
   "cell_type": "code",
   "execution_count": null,
   "metadata": {
    "collapsed": true
   },
   "outputs": [],
   "source": [
    "groupings = {'jobs': ['Title_x', 'broad_title', 'minor_title', 'major_title'],\n",
    "             'tech': ['T2 Example', 'class_title', 'family_title', 'segment_title'],\n",
    "             'skills': ['sample skills list']}"
   ]
  },
  {
   "cell_type": "code",
   "execution_count": null,
   "metadata": {
    "collapsed": false,
    "scrolled": true
   },
   "outputs": [],
   "source": [
    "t, b = output_chart(merged, 'segment_title', 'delta_pct')"
   ]
  },
  {
   "cell_type": "code",
   "execution_count": null,
   "metadata": {
    "collapsed": false,
    "scrolled": true
   },
   "outputs": [],
   "source": [
    "t.head()"
   ]
  },
  {
   "cell_type": "code",
   "execution_count": null,
   "metadata": {
    "collapsed": false
   },
   "outputs": [],
   "source": [
    "b.head()"
   ]
  },
  {
   "cell_type": "markdown",
   "metadata": {},
   "source": [
    "#∆SKILL gb TECHNOLOGY (2/3)"
   ]
  },
  {
   "cell_type": "markdown",
   "metadata": {},
   "source": [
    "load skill"
   ]
  },
  {
   "cell_type": "code",
   "execution_count": null,
   "metadata": {
    "collapsed": false
   },
   "outputs": [],
   "source": [
    "s2009 = pd.read_csv('../../../data/helpers/skills/skills_2009.csv')\n",
    "s2015 = pd.read_table('../../../data/databases/db15/Skills.txt', delimiter = '\\t')\n",
    "s2015 = s2015[s2015['Scale ID'] == 'LV']\n",
    "s2015 = s2015.pivot_table(values = 'Data Value', index = 'O*NET-SOC Code', columns='Element Name').reset_index()"
   ]
  },
  {
   "cell_type": "code",
   "execution_count": null,
   "metadata": {
    "collapsed": false
   },
   "outputs": [],
   "source": [
    "def read_pivot_table(file_path, delimiter = '\\t', scale = 'LV'):\n",
    "    df = pd.read_table(file_path, delimiter = delimiter)\n",
    "    df = df[df['Scale ID'] == scale]\n",
    "    return df.pivot_table(values = 'Data Value', index = 'O*NET-SOC Code', columns='Element Name').reset_index()    \n",
    "\n",
    "def match_two_dfs(df1, df2, restricting_set = None):\n",
    "    # if codes not already index:\n",
    "    if not all(np.equal(df1.index, df1['O*NET-SOC Code'])):\n",
    "        df1.index = df1['O*NET-SOC Code']\n",
    "    if not all(np.equal(df2.index, df2['O*NET-SOC Code'])):\n",
    "        df2.index = df2['O*NET-SOC Code']\n",
    "        \n",
    "    # same rows\n",
    "    row_s1, row_s2 = set(df1['O*NET-SOC Code']), set(df2['O*NET-SOC Code'])\n",
    "    row_joint = row_s1.intersection(row_s2)\n",
    "    if restricting_set:\n",
    "        row_joint = row_joint.intersection(restricting_set)\n",
    "\n",
    "    # same columns \n",
    "    col_s1, col_s2 = set(df1.columns), set(df2.columns)\n",
    "    col_joint = col_s1.intersection(col_s2)\n",
    "    \n",
    "    # filter\n",
    "    df1, df2 = df1[list(col_joint)], df2[list(col_joint)]\n",
    "    df1, df2 = df1.loc[row_joint], df2.loc[row_joint]\n",
    "\n",
    "    # confirm column order\n",
    "    df1 = df1[df2.columns]\n",
    "    \n",
    "    # confirm row order\n",
    "    df1.index = df1['O*NET-SOC Code']\n",
    "    df2_order = df2['O*NET-SOC Code']\n",
    "    df1 = df1.loc[df2_order].reset_index(drop = True)\n",
    "    \n",
    "    return df1.reset_index(drop = True), df2.reset_index(drop = True)"
   ]
  },
  {
   "cell_type": "code",
   "execution_count": null,
   "metadata": {
    "collapsed": false,
    "scrolled": true
   },
   "outputs": [],
   "source": [
    "a, b = match_two_dfs(s2009, s2015)"
   ]
  },
  {
   "cell_type": "code",
   "execution_count": null,
   "metadata": {
    "collapsed": false
   },
   "outputs": [],
   "source": [
    "# limit to occupations that have adopted\n",
    "adopted = pd.read_csv('../../../data/tech_adoptions.csv')['O*NET-SOC Code'].unique()\n",
    "joint = set(s2009['O*NET-SOC Code']).intersection(set(s2015['O*NET-SOC Code'])).intersection(set(adopted))\n",
    "s9, s15 = s2009[s2009['O*NET-SOC Code'].isin(joint)], s2015[s2015['O*NET-SOC Code'].isin(joint)]"
   ]
  },
  {
   "cell_type": "code",
   "execution_count": null,
   "metadata": {
    "collapsed": false
   },
   "outputs": [],
   "source": [
    "codes = s9.iloc[:, 0]\n",
    "subbed = np.subtract(s15.iloc[:,1:], s9.iloc[:,1:])\n",
    "subbed['O*NET-SOC Code'] = codes"
   ]
  },
  {
   "cell_type": "code",
   "execution_count": null,
   "metadata": {
    "collapsed": false
   },
   "outputs": [],
   "source": [
    "skills_list = list(subbed.columns[:-1])"
   ]
  },
  {
   "cell_type": "code",
   "execution_count": null,
   "metadata": {
    "collapsed": false
   },
   "outputs": [],
   "source": [
    "skill_merged = merged.merge(subbed, on = 'O*NET-SOC Code', how = 'inner')"
   ]
  },
  {
   "cell_type": "code",
   "execution_count": null,
   "metadata": {
    "collapsed": true
   },
   "outputs": [],
   "source": [
    "from helpers.helper import *"
   ]
  },
  {
   "cell_type": "code",
   "execution_count": null,
   "metadata": {
    "collapsed": true
   },
   "outputs": [],
   "source": [
    "from helpers.helper import *\n",
    "\n",
    "def get_difference(before, after, method = 'absolute'):\n",
    "    before, after = match_two_dfs(before, after)\n",
    "    before_no_code, after_no_code = before.drop('O*NET-SOC Code', axis = 1), after.drop('O*NET-SOC Code', axis = 1)\n",
    "    codes = before['O*NET-SOC Code']\n",
    "    if method in ['absolute', 'percent']:\n",
    "        difference = np.subtract(after_no_code, before_no_code)\n",
    "    \n",
    "    if method == 'percent':\n",
    "        difference = np.divide(difference, before_no_code)\n",
    "    \n",
    "    if method == 'ranking':\n",
    "        p_before, p_after = get_percentiles(before_no_code), get_percentiles(after_no_code)\n",
    "        difference = np.subtract(p_after, p_before)\n",
    "    \n",
    "    difference['O*NET-SOC Code'] = codes\n",
    "        \n",
    "    return difference.sort(axis = 1) # returns if absolute"
   ]
  },
  {
   "cell_type": "code",
   "execution_count": null,
   "metadata": {
    "collapsed": false,
    "scrolled": true
   },
   "outputs": [],
   "source": [
    "abs_diff = get_difference(s2009, s2015, 'absolute')\n",
    "pct_diff = get_difference(s2009, s2015, 'percent')\n",
    "rank_diff = get_difference(s2009, s2015, 'ranking')"
   ]
  },
  {
   "cell_type": "code",
   "execution_count": null,
   "metadata": {
    "collapsed": false
   },
   "outputs": [],
   "source": [
    "titles = pd.read_csv('../../../data/helpers/occ_codes/names.csv')"
   ]
  },
  {
   "cell_type": "code",
   "execution_count": null,
   "metadata": {
    "collapsed": false
   },
   "outputs": [],
   "source": [
    "def plot_charts(base, skills, grouping = 'segment_title'):\n",
    "    skills_list = skills.drop('O*NET-SOC Code', axis = 1).columns\n",
    "    merged = base.merge(skills, on = 'O*NET-SOC Code', how = 'inner')\n",
    "    for skill in skills_list:\n",
    "        output_chart(skill_merged, grouping, skill, n = 5)"
   ]
  },
  {
   "cell_type": "code",
   "execution_count": null,
   "metadata": {
    "collapsed": false
   },
   "outputs": [],
   "source": [
    "abs_diff.columns"
   ]
  },
  {
   "cell_type": "code",
   "execution_count": null,
   "metadata": {
    "collapsed": false,
    "scrolled": true
   },
   "outputs": [],
   "source": [
    "plot_charts(merged, rank_diff)"
   ]
  },
  {
   "cell_type": "code",
   "execution_count": null,
   "metadata": {
    "collapsed": false
   },
   "outputs": [],
   "source": [
    "rank_diff.mean(axis = 0).sort(ascending = False)"
   ]
  },
  {
   "cell_type": "code",
   "execution_count": null,
   "metadata": {
    "collapsed": false,
    "scrolled": false
   },
   "outputs": [],
   "source": [
    "list(abs_diff.columns)"
   ]
  },
  {
   "cell_type": "markdown",
   "metadata": {},
   "source": [
    "#∆TECHNOLOGY gb SKILL (2/3)"
   ]
  },
  {
   "cell_type": "code",
   "execution_count": null,
   "metadata": {
    "collapsed": true
   },
   "outputs": [],
   "source": [
    "merged.head()"
   ]
  },
  {
   "cell_type": "code",
   "execution_count": null,
   "metadata": {
    "collapsed": true
   },
   "outputs": [],
   "source": [
    "output_chart(merged, 'segment_title', 'delta_pct')"
   ]
  }
 ],
 "metadata": {
  "kernelspec": {
   "display_name": "Python 2",
   "language": "python",
   "name": "python2"
  },
  "language_info": {
   "codemirror_mode": {
    "name": "ipython",
    "version": 2
   },
   "file_extension": ".py",
   "mimetype": "text/x-python",
   "name": "python",
   "nbconvert_exporter": "python",
   "pygments_lexer": "ipython2",
   "version": "2.7.11"
  }
 },
 "nbformat": 4,
 "nbformat_minor": 0
}
