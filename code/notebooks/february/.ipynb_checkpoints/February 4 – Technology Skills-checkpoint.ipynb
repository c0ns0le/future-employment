{
 "cells": [
  {
   "cell_type": "code",
   "execution_count": 1,
   "metadata": {
    "collapsed": true
   },
   "outputs": [],
   "source": [
    "import pandas as pd\n",
    "import numpy as np\n",
    "import seaborn as sns\n",
    "\n",
    "from IPython.display import display\n",
    "\n",
    "%matplotlib inline"
   ]
  },
  {
   "cell_type": "code",
   "execution_count": 278,
   "metadata": {
    "collapsed": true
   },
   "outputs": [],
   "source": [
    "tt15 = pd.read_csv(\"../../../data/cleaned_dfs/tt15.csv\")"
   ]
  },
  {
   "cell_type": "code",
   "execution_count": 279,
   "metadata": {
    "collapsed": true
   },
   "outputs": [],
   "source": [
    "a = pd.DataFrame(columns = 'one two three'.split())\n",
    "b = pd.DataFrame(columns = 'one two three'.split())"
   ]
  },
  {
   "cell_type": "markdown",
   "metadata": {},
   "source": [
    "# test code"
   ]
  },
  {
   "cell_type": "code",
   "execution_count": 280,
   "metadata": {
    "collapsed": false
   },
   "outputs": [],
   "source": [
    "def tech_introduced(year_start, year_finish, level = 'code'):\n",
    "\n",
    "    # file load syntax\n",
    "    prefix_start, prefix_finish = map(lambda x: str(x)[-2:], [year_start, year_finish])\n",
    "    path_folder = '~/Google Drive/Oxford/DPhil/future_employment/data/databases/db'\n",
    "    path_end = '/Tools and Technology.'\n",
    "    path_start = path_folder + prefix_start + path_end\n",
    "    path_finish = path_folder + prefix_finish + path_end\n",
    "    data_type = 'txt'\n",
    "    \n",
    "    try:\n",
    "        # load files\n",
    "        full_df_before = pd.read_table(path_start + data_type, delimiter = '\\t')\n",
    "    except:\n",
    "        data_type = 'csv'\n",
    "        full_df_before = pd.read_csv(path_start + data_type)\n",
    "    \n",
    "    try:\n",
    "        data_type = 'txt'\n",
    "        full_df_finish = pd.read_table(path_finish + data_type, delimiter = '\\t')\n",
    "    except:\n",
    "        data_type = 'csv'\n",
    "        full_df_finish = pd.read_csv(path_finish + data_type)\n",
    "\n",
    "    # subset files to technology\n",
    "    full_df_before = full_df_before[full_df_before['T2 Type'] == 'Technology']\n",
    "    full_df_finish = full_df_finish[full_df_finish['T2 Type'] == 'Technology']\n",
    "\n",
    "    # limit later year occupations to those available in earlier year\n",
    "    limited_occupations = full_df_before['O*NET-SOC Code'].unique()\n",
    "    df_before = full_df_before[full_df_before['O*NET-SOC Code'].isin(limited_occupations)]\n",
    "    df_finish = full_df_finish[full_df_finish['O*NET-SOC Code'].isin(limited_occupations)]\n",
    "\n",
    "    # create new dataframe\n",
    "    df_adoptions = pd.DataFrame(columns = df_finish.columns)\n",
    "    df_abandons = pd.DataFrame(columns = df_before.columns)\n",
    "\n",
    "    if level == 'code':\n",
    "        level = 'Commodity Code'\n",
    "    else:\n",
    "        level = 'Commodity Title'\n",
    "        def clean_title_function(df):\n",
    "            new_df = df.copy()\n",
    "            new_df['Commodity Title'] = new_df['Commodity Title'].apply(lambda x: x.lower().strip())\n",
    "            return new_df\n",
    "        df_before, df_finish = map(lambda x: clean_title_function(x), [df_before, df_finish])\n",
    "    \n",
    "    # find technologies that have emerged\n",
    "    for occupation_code in limited_occupations:\n",
    "        df_before_occ_tools = df_before[df_before['O*NET-SOC Code'] == occupation_code]\n",
    "        df_finish_occ_tools = df_finish[df_finish['O*NET-SOC Code'] == occupation_code]\n",
    "        adopted = df_finish_occ_tools[~df_finish_occ_tools[level].isin(df_before_occ_tools[level])]\n",
    "        abandoned = df_before_occ_tools[~df_before_occ_tools[level].isin(df_finish_occ_tools[level])]\n",
    "        df_adoptions = pd.concat([df_adoptions, adopted])\n",
    "        df_abandons = pd.concat([df_abandons, abandoned])\n",
    "\n",
    "    return df_adoptions, df_abandons"
   ]
  },
  {
   "cell_type": "code",
   "execution_count": 281,
   "metadata": {
    "collapsed": false
   },
   "outputs": [],
   "source": [
    "adopted, abandoned = tech_introduced(2006, 2015, 'title')"
   ]
  },
  {
   "cell_type": "code",
   "execution_count": 24,
   "metadata": {
    "collapsed": false
   },
   "outputs": [],
   "source": [
    "l = [i for i in tt15[tt15['O*NET-SOC Code'] == '11-1021.00']['Commodity Title'].unique()]\n",
    "l.sort()"
   ]
  },
  {
   "cell_type": "code",
   "execution_count": 25,
   "metadata": {
    "collapsed": false
   },
   "outputs": [
    {
     "data": {
      "text/plain": [
       "['access software',\n",
       " 'accounting software',\n",
       " 'analytical scientific software',\n",
       " 'business intelligence data analysis software',\n",
       " 'calendar scheduling software',\n",
       " 'computer aided design cad software',\n",
       " 'computer aided manufacturing cam software',\n",
       " 'customer relationship management crm software',\n",
       " 'data base management system software',\n",
       " 'data base user interface query software',\n",
       " 'data mining software',\n",
       " 'desktop calculator',\n",
       " 'desktop computers',\n",
       " 'desktop publishing software',\n",
       " 'development environment software',\n",
       " 'digital cameras',\n",
       " 'electronic mail software',\n",
       " 'enterprise resource planning erp software',\n",
       " 'enterprise system management software',\n",
       " 'facilities management software',\n",
       " 'financial analysis software',\n",
       " 'graphics photo imaging software',\n",
       " 'hand trucks accessories',\n",
       " 'high vacuum equipment',\n",
       " 'human resources software',\n",
       " 'internet browser software',\n",
       " 'inventory management software',\n",
       " 'magnetic stripe readers encoders',\n",
       " 'materials requirements planning logistics supply chain software',\n",
       " 'medical software',\n",
       " 'mobile phones',\n",
       " 'network monitoring software',\n",
       " 'notebook computers',\n",
       " 'object component oriented development software',\n",
       " 'office suite software',\n",
       " 'personal computers',\n",
       " 'personal digital assistant pdas organizers',\n",
       " 'photocopiers',\n",
       " 'point sale pos software',\n",
       " 'point sale pos terminal',\n",
       " 'presentation software',\n",
       " 'project management software',\n",
       " 'scanners',\n",
       " 'security cameras',\n",
       " 'spectrometers',\n",
       " 'spreadsheet software',\n",
       " 'surface testers',\n",
       " 'temperature humidity walk environmental chamber',\n",
       " 'time accounting software',\n",
       " 'transaction security virus protection software',\n",
       " 'web page creation editing software',\n",
       " 'word processing software']"
      ]
     },
     "execution_count": 25,
     "metadata": {},
     "output_type": "execute_result"
    }
   ],
   "source": [
    "l"
   ]
  },
  {
   "cell_type": "markdown",
   "metadata": {},
   "source": [
    "# DIGRESSION: ADOPTION vs. SKILL CHANGE"
   ]
  },
  {
   "cell_type": "code",
   "execution_count": 313,
   "metadata": {
    "collapsed": false
   },
   "outputs": [],
   "source": [
    "counts = adopted.groupby('O*NET-SOC Code').count()['T2 Type']\n",
    "adoptions = pd.DataFrame(counts).reset_index()\n",
    "adoptions.columns = ['O*NET-SOC Code', 'num_adopted']\n",
    "log_adoptions = adoptions\n",
    "log_adoptions['log_num_adopted'] = log_adoptions.num_adopted.apply(np.log)"
   ]
  },
  {
   "cell_type": "code",
   "execution_count": 314,
   "metadata": {
    "collapsed": false
   },
   "outputs": [],
   "source": [
    "def load_knowledge(year_before, year_after, column = None):\n",
    "    path_yb = '../../../data/databases/db' + str(year_before)[-2:] + \"/Knowledge.txt\"\n",
    "    path_ya = '../../../data/databases/db' + str(year_after)[-2:] + \"/Knowledge.txt\"\n",
    "    \n",
    "    kb = pd.read_table(path_yb, delimiter = '\\t')\n",
    "    ka = pd.read_table(path_ya, delimiter = '\\t')\n",
    "    \n",
    "    mutual_occs = set(kb['O*NET-SOC Code']).intersection(set(ka['O*NET-SOC Code']))\n",
    "    \n",
    "    kb = kb[kb['O*NET-SOC Code'].isin(mutual_occs)]\n",
    "    ka = ka[ka['O*NET-SOC Code'].isin(mutual_occs)]\n",
    "\n",
    "    kb = kb[kb['Scale ID'] == 'LV']\n",
    "    ka = ka[ka['Scale ID'] == 'LV']\n",
    "    \n",
    "    kb = kb.pivot(index = 'O*NET-SOC Code', columns = 'Element Name', values = 'Data Value').reset_index()\n",
    "    ka = ka.pivot(index = 'O*NET-SOC Code', columns = 'Element Name', values = 'Data Value').reset_index()\n",
    "    \n",
    "    if column:\n",
    "        return kb[['O*NET-SOC Code', column]], ka[['O*NET-SOC Code', column]]\n",
    "    else:\n",
    "        return kb, ka"
   ]
  },
  {
   "cell_type": "code",
   "execution_count": 316,
   "metadata": {
    "collapsed": false
   },
   "outputs": [],
   "source": [
    "ka, kb = load_knowledge(2007, 2015, 'Clerical')"
   ]
  },
  {
   "cell_type": "code",
   "execution_count": 317,
   "metadata": {
    "collapsed": false
   },
   "outputs": [],
   "source": [
    "def diff_func(a, b, type_diff = None):\n",
    "    if type_diff == 'percent':\n",
    "        return (a - b)/b\n",
    "    else:\n",
    "        return a - b\n",
    "    \n",
    "clerical_difference = pd.DataFrame(zip(ka['O*NET-SOC Code'], diff_func(ka['Clerical'], kb['Clerical'], 'percent')), columns = ['O*NET-SOC Code', 'c_diff'])"
   ]
  },
  {
   "cell_type": "code",
   "execution_count": 318,
   "metadata": {
    "collapsed": false
   },
   "outputs": [],
   "source": [
    "c_diffs = clerical_difference.merge(log_adoptions, on = 'O*NET-SOC Code', how = 'inner')"
   ]
  },
  {
   "cell_type": "code",
   "execution_count": 379,
   "metadata": {
    "collapsed": false
   },
   "outputs": [],
   "source": [
    "mean_c_diffs = c_diffs.groupby('num_adopted').mean().reset_index()"
   ]
  },
  {
   "cell_type": "markdown",
   "metadata": {},
   "source": [
    "# Test REG Models"
   ]
  },
  {
   "cell_type": "code",
   "execution_count": 380,
   "metadata": {
    "collapsed": true
   },
   "outputs": [],
   "source": [
    "import GPy"
   ]
  },
  {
   "cell_type": "code",
   "execution_count": 496,
   "metadata": {
    "collapsed": true
   },
   "outputs": [],
   "source": [
    "x = np.array(mean_c_diffs.num_adopted)[:,np.newaxis]\n",
    "y = np.array(mean_c_diffs.c_diff)[:,np.newaxis]\n",
    "\n",
    "# x = np.linspace(0, 10, 100)[:,np.newaxis]\n",
    "# y = np.sin(x) + np.random.normal(0, 1, size = 100)[:,np.newaxis]"
   ]
  },
  {
   "cell_type": "code",
   "execution_count": 497,
   "metadata": {
    "collapsed": false,
    "scrolled": true
   },
   "outputs": [
    {
     "name": "stdout",
     "output_type": "stream",
     "text": [
      "WARNING: reconstraining parameters GP_regression.rbf.lengthscale\n",
      "Optimization restart 1/15, f = -7.75466398944\n",
      "Optimization restart 2/15, f = -7.7546556556\n",
      "Optimization restart 3/15, f = -7.75466336181\n",
      "Optimization restart 4/15, f = -7.75465776361\n",
      "Optimization restart 5/15, f = -7.75465711265\n",
      "Optimization restart 6/15, f = -7.75465621894\n",
      "Optimization restart 7/15, f = -7.75465535767\n",
      "Optimization restart 8/15, f = -7.75466390661\n",
      "Optimization restart 9/15, f = -7.75466279333\n",
      "Optimization restart 10/15, f = -7.75466397125\n",
      "Optimization restart 11/15, f = -7.75466309067\n",
      "Optimization restart 12/15, f = -7.75466398477\n",
      "Optimization restart 13/15, f = -7.75465488302\n",
      "Optimization restart 14/15, f = -7.75466379772\n",
      "Optimization restart 15/15, f = -7.75465768969\n"
     ]
    },
    {
     "data": {
      "text/plain": [
       "{'dataplot': {'dataplot': [<matplotlib.lines.Line2D at 0x159dd2a10>]},\n",
       " 'gpplot': [[<matplotlib.lines.Line2D at 0x159dc70d0>],\n",
       "  [<matplotlib.patches.Polygon at 0x159dc7390>],\n",
       "  [<matplotlib.lines.Line2D at 0x159dc79d0>],\n",
       "  [<matplotlib.lines.Line2D at 0x159dc7f10>]]}"
      ]
     },
     "execution_count": 497,
     "metadata": {},
     "output_type": "execute_result"
    },
    {
     "data": {
      "image/png": "[encoded data removed]",
      "text/plain": [
       "<matplotlib.figure.Figure at 0x159725e50>"
      ]
     },
     "metadata": {},
     "output_type": "display_data"
    }
   ],
   "source": [
    "kern = GPy.kern.RBF(input_dim = 1., lengthscale=10., variance=1.,)\n",
    "m = GPy.models.GPRegression(x, y, kernel = kern)\n",
    "m.rbf.lengthscale.constrain_bounded(lower = 9, upper = 10)\n",
    "m.optimize_restarts(15)\n",
    "m.optimize(messages = True)\n",
    "m.plot()"
   ]
  },
  {
   "cell_type": "code",
   "execution_count": 498,
   "metadata": {
    "collapsed": true
   },
   "outputs": [],
   "source": [
    "from sklearn.linear_model import Ridge"
   ]
  },
  {
   "cell_type": "code",
   "execution_count": 499,
   "metadata": {
    "collapsed": false
   },
   "outputs": [
    {
     "data": {
      "text/plain": [
       "Ridge(alpha=1.0, copy_X=True, fit_intercept=True, max_iter=None,\n",
       "   normalize=False, solver='auto', tol=0.001)"
      ]
     },
     "execution_count": 499,
     "metadata": {},
     "output_type": "execute_result"
    }
   ],
   "source": [
    "r = Ridge()\n",
    "r.fit(x, y)"
   ]
  },
  {
   "cell_type": "code",
   "execution_count": 500,
   "metadata": {
    "collapsed": false
   },
   "outputs": [],
   "source": [
    "b, m = r.intercept_, r.coef_[0]\n",
    "f = lambda x: b + m*x"
   ]
  },
  {
   "cell_type": "code",
   "execution_count": 508,
   "metadata": {
    "collapsed": false,
    "scrolled": true
   },
   "outputs": [
    {
     "data": {
      "text/plain": [
       "<matplotlib.collections.PathCollection at 0x153c21f90>"
      ]
     },
     "execution_count": 508,
     "metadata": {},
     "output_type": "execute_result"
    },
    {
     "data": {
      "image/png": "[encoded data removed]",
      "text/plain": [
       "<matplotlib.figure.Figure at 0x156240290>"
      ]
     },
     "metadata": {},
     "output_type": "display_data"
    }
   ],
   "source": [
    "xspace = np.linspace(0, 35, 1000)[:,np.newaxis]\n",
    "# yspace = r.predict(xspace.T)\n",
    "a = sns.plt.figure()\n",
    "sns.plt.xlim = [-1, 36]\n",
    "sns.plt.plot(xspace, f(xspace))\n",
    "sns.plt.scatter(x, y, alpha = 0.3, color = 'r')"
   ]
  },
  {
   "cell_type": "markdown",
   "metadata": {},
   "source": [
    "# RETURN: TECHNOLOGY"
   ]
  },
  {
   "cell_type": "code",
   "execution_count": 8,
   "metadata": {
    "collapsed": false
   },
   "outputs": [],
   "source": [
    "tt06 = pd.read_csv('~/Google Drive/Oxford/DPhil/future_employment/data/databases/db06/Tools and Technology.csv')"
   ]
  },
  {
   "cell_type": "code",
   "execution_count": 9,
   "metadata": {
    "collapsed": false
   },
   "outputs": [
    {
     "data": {
      "text/html": [
       "<div>\n",
       "<table border=\"1\" class=\"dataframe\">\n",
       "  <thead>\n",
       "    <tr style=\"text-align: right;\">\n",
       "      <th></th>\n",
       "      <th>Commodity Code</th>\n",
       "      <th>O*NET-SOC Code</th>\n",
       "      <th>O*NET-SOC Title</th>\n",
       "      <th>T2 Type</th>\n",
       "      <th>T2 Example</th>\n",
       "      <th>Commodity Title</th>\n",
       "    </tr>\n",
       "  </thead>\n",
       "  <tbody>\n",
       "    <tr>\n",
       "      <th>45</th>\n",
       "      <td>43232102</td>\n",
       "      <td>11-2011.00</td>\n",
       "      <td>Advertising and Promotions Managers</td>\n",
       "      <td>Technology</td>\n",
       "      <td>Adobe Systems Adobe Illustrator</td>\n",
       "      <td>Graphics or photo imaging software</td>\n",
       "    </tr>\n",
       "    <tr>\n",
       "      <th>51</th>\n",
       "      <td>43232102</td>\n",
       "      <td>11-2011.00</td>\n",
       "      <td>Advertising and Promotions Managers</td>\n",
       "      <td>Technology</td>\n",
       "      <td>Graphics software</td>\n",
       "      <td>Graphics or photo imaging software</td>\n",
       "    </tr>\n",
       "    <tr>\n",
       "      <th>68</th>\n",
       "      <td>43232102</td>\n",
       "      <td>11-2021.00</td>\n",
       "      <td>Marketing Managers</td>\n",
       "      <td>Technology</td>\n",
       "      <td>Graphic presentation software</td>\n",
       "      <td>Graphics or photo imaging software</td>\n",
       "    </tr>\n",
       "    <tr>\n",
       "      <th>97</th>\n",
       "      <td>43232102</td>\n",
       "      <td>11-2031.00</td>\n",
       "      <td>Public Relations Managers</td>\n",
       "      <td>Technology</td>\n",
       "      <td>Adobe Systems Adobe Illustrator</td>\n",
       "      <td>Graphics or photo imaging software</td>\n",
       "    </tr>\n",
       "    <tr>\n",
       "      <th>155</th>\n",
       "      <td>43232102</td>\n",
       "      <td>11-3021.00</td>\n",
       "      <td>Computer and Information Systems Managers</td>\n",
       "      <td>Technology</td>\n",
       "      <td>Graphics editor software</td>\n",
       "      <td>Graphics or photo imaging software</td>\n",
       "    </tr>\n",
       "    <tr>\n",
       "      <th>184</th>\n",
       "      <td>43232404</td>\n",
       "      <td>11-3021.00</td>\n",
       "      <td>Computer and Information Systems Managers</td>\n",
       "      <td>Technology</td>\n",
       "      <td>Tk software</td>\n",
       "      <td>Graphical user interface development software</td>\n",
       "    </tr>\n",
       "    <tr>\n",
       "      <th>252</th>\n",
       "      <td>43232102</td>\n",
       "      <td>11-3041.00</td>\n",
       "      <td>Compensation and Benefits Managers</td>\n",
       "      <td>Technology</td>\n",
       "      <td>Adobe Systems Adobe Illustrator</td>\n",
       "      <td>Graphics or photo imaging software</td>\n",
       "    </tr>\n",
       "    <tr>\n",
       "      <th>298</th>\n",
       "      <td>43232102</td>\n",
       "      <td>11-3042.00</td>\n",
       "      <td>Training and Development Managers</td>\n",
       "      <td>Technology</td>\n",
       "      <td>Adobe Systems Adobe Illustrator</td>\n",
       "      <td>Graphics or photo imaging software</td>\n",
       "    </tr>\n",
       "    <tr>\n",
       "      <th>390</th>\n",
       "      <td>43232102</td>\n",
       "      <td>11-3071.01</td>\n",
       "      <td>Transportation Managers</td>\n",
       "      <td>Technology</td>\n",
       "      <td>Graphics software</td>\n",
       "      <td>Graphics or photo imaging software</td>\n",
       "    </tr>\n",
       "    <tr>\n",
       "      <th>663</th>\n",
       "      <td>43232102</td>\n",
       "      <td>11-9111.00</td>\n",
       "      <td>Medical and Health Services Managers</td>\n",
       "      <td>Technology</td>\n",
       "      <td>ConceptDraw software</td>\n",
       "      <td>Graphics or photo imaging software</td>\n",
       "    </tr>\n",
       "    <tr>\n",
       "      <th>685</th>\n",
       "      <td>43232102</td>\n",
       "      <td>11-9121.00</td>\n",
       "      <td>Natural Sciences Managers</td>\n",
       "      <td>Technology</td>\n",
       "      <td>Graphics software</td>\n",
       "      <td>Graphics or photo imaging software</td>\n",
       "    </tr>\n",
       "    <tr>\n",
       "      <th>886</th>\n",
       "      <td>43232102</td>\n",
       "      <td>13-1041.02</td>\n",
       "      <td>Licensing Examiners and Inspectors</td>\n",
       "      <td>Technology</td>\n",
       "      <td>Digital imaging system software</td>\n",
       "      <td>Graphics or photo imaging software</td>\n",
       "    </tr>\n",
       "    <tr>\n",
       "      <th>942</th>\n",
       "      <td>43232102</td>\n",
       "      <td>13-1041.06</td>\n",
       "      <td>Coroners</td>\n",
       "      <td>Technology</td>\n",
       "      <td>Graphics software</td>\n",
       "      <td>Graphics or photo imaging software</td>\n",
       "    </tr>\n",
       "    <tr>\n",
       "      <th>987</th>\n",
       "      <td>43232102</td>\n",
       "      <td>13-1073.00</td>\n",
       "      <td>Training and Development Specialists</td>\n",
       "      <td>Technology</td>\n",
       "      <td>Adobe Systems Adobe Illustrator</td>\n",
       "      <td>Graphics or photo imaging software</td>\n",
       "    </tr>\n",
       "    <tr>\n",
       "      <th>1213</th>\n",
       "      <td>43232102</td>\n",
       "      <td>13-2021.02</td>\n",
       "      <td>Appraisers, Real Estate</td>\n",
       "      <td>Technology</td>\n",
       "      <td>Bradford ClickFORMS</td>\n",
       "      <td>Graphics or photo imaging software</td>\n",
       "    </tr>\n",
       "    <tr>\n",
       "      <th>1244</th>\n",
       "      <td>43232102</td>\n",
       "      <td>13-2031.00</td>\n",
       "      <td>Budget Analysts</td>\n",
       "      <td>Technology</td>\n",
       "      <td>Graphics software</td>\n",
       "      <td>Graphics or photo imaging software</td>\n",
       "    </tr>\n",
       "    <tr>\n",
       "      <th>1462</th>\n",
       "      <td>43232102</td>\n",
       "      <td>13-2081.00</td>\n",
       "      <td>Tax Examiners, Collectors, and Revenue Agents</td>\n",
       "      <td>Technology</td>\n",
       "      <td>Image processing systems</td>\n",
       "      <td>Graphics or photo imaging software</td>\n",
       "    </tr>\n",
       "    <tr>\n",
       "      <th>1490</th>\n",
       "      <td>43211712</td>\n",
       "      <td>15-1011.00</td>\n",
       "      <td>Computer and Information Scientists, Research</td>\n",
       "      <td>Tools</td>\n",
       "      <td>Graphics workstations</td>\n",
       "      <td>Graphics tablets</td>\n",
       "    </tr>\n",
       "    <tr>\n",
       "      <th>1644</th>\n",
       "      <td>43232404</td>\n",
       "      <td>15-1031.00</td>\n",
       "      <td>Computer Software Engineers, Applications</td>\n",
       "      <td>Technology</td>\n",
       "      <td>Graphical user interface GUI builder software</td>\n",
       "      <td>Graphical user interface development software</td>\n",
       "    </tr>\n",
       "    <tr>\n",
       "      <th>1735</th>\n",
       "      <td>43232404</td>\n",
       "      <td>15-1032.00</td>\n",
       "      <td>Computer Software Engineers, Systems Software</td>\n",
       "      <td>Technology</td>\n",
       "      <td>Graphical user interface GUI design software</td>\n",
       "      <td>Graphical user interface development software</td>\n",
       "    </tr>\n",
       "    <tr>\n",
       "      <th>1846</th>\n",
       "      <td>43232102</td>\n",
       "      <td>15-1051.00</td>\n",
       "      <td>Computer Systems Analysts</td>\n",
       "      <td>Technology</td>\n",
       "      <td>Graphics software</td>\n",
       "      <td>Graphics or photo imaging software</td>\n",
       "    </tr>\n",
       "    <tr>\n",
       "      <th>2122</th>\n",
       "      <td>43201401</td>\n",
       "      <td>15-1099.02</td>\n",
       "      <td>Computer Systems Engineers/Architects</td>\n",
       "      <td>Tools</td>\n",
       "      <td>Graphics display cards</td>\n",
       "      <td>Graphics or video accelerator cards</td>\n",
       "    </tr>\n",
       "    <tr>\n",
       "      <th>2161</th>\n",
       "      <td>43232102</td>\n",
       "      <td>15-1099.04</td>\n",
       "      <td>Web Developers</td>\n",
       "      <td>Technology</td>\n",
       "      <td>Adobe Systems Adobe Illustrator</td>\n",
       "      <td>Graphics or photo imaging software</td>\n",
       "    </tr>\n",
       "    <tr>\n",
       "      <th>2197</th>\n",
       "      <td>43232102</td>\n",
       "      <td>15-1099.05</td>\n",
       "      <td>Web Administrators</td>\n",
       "      <td>Technology</td>\n",
       "      <td>Adobe Systems Adobe Illustrator</td>\n",
       "      <td>Graphics or photo imaging software</td>\n",
       "    </tr>\n",
       "    <tr>\n",
       "      <th>2205</th>\n",
       "      <td>43232102</td>\n",
       "      <td>15-1099.05</td>\n",
       "      <td>Web Administrators</td>\n",
       "      <td>Technology</td>\n",
       "      <td>Corel CorelDraw Graphics Suite</td>\n",
       "      <td>Graphics or photo imaging software</td>\n",
       "    </tr>\n",
       "    <tr>\n",
       "      <th>2356</th>\n",
       "      <td>43232102</td>\n",
       "      <td>17-1011.00</td>\n",
       "      <td>Architects, Except Landscape and Naval</td>\n",
       "      <td>Technology</td>\n",
       "      <td>Adobe Systems Adobe Illustrator</td>\n",
       "      <td>Graphics or photo imaging software</td>\n",
       "    </tr>\n",
       "    <tr>\n",
       "      <th>2366</th>\n",
       "      <td>43232102</td>\n",
       "      <td>17-1011.00</td>\n",
       "      <td>Architects, Except Landscape and Naval</td>\n",
       "      <td>Technology</td>\n",
       "      <td>Micro-Press MicroStation PowerDraft</td>\n",
       "      <td>Graphics or photo imaging software</td>\n",
       "    </tr>\n",
       "    <tr>\n",
       "      <th>2379</th>\n",
       "      <td>43232102</td>\n",
       "      <td>17-1012.00</td>\n",
       "      <td>Landscape Architects</td>\n",
       "      <td>Technology</td>\n",
       "      <td>Adobe Systems Adobe Photoshop software</td>\n",
       "      <td>Graphics or photo imaging software</td>\n",
       "    </tr>\n",
       "    <tr>\n",
       "      <th>2384</th>\n",
       "      <td>43232102</td>\n",
       "      <td>17-1012.00</td>\n",
       "      <td>Landscape Architects</td>\n",
       "      <td>Technology</td>\n",
       "      <td>McNeel Rhino software</td>\n",
       "      <td>Graphics or photo imaging software</td>\n",
       "    </tr>\n",
       "    <tr>\n",
       "      <th>2410</th>\n",
       "      <td>43232102</td>\n",
       "      <td>17-1021.00</td>\n",
       "      <td>Cartographers and Photogrammetrists</td>\n",
       "      <td>Technology</td>\n",
       "      <td>Adobe Systems Adobe Photoshop software</td>\n",
       "      <td>Graphics or photo imaging software</td>\n",
       "    </tr>\n",
       "    <tr>\n",
       "      <th>...</th>\n",
       "      <td>...</td>\n",
       "      <td>...</td>\n",
       "      <td>...</td>\n",
       "      <td>...</td>\n",
       "      <td>...</td>\n",
       "      <td>...</td>\n",
       "    </tr>\n",
       "    <tr>\n",
       "      <th>27061</th>\n",
       "      <td>43232102</td>\n",
       "      <td>33-3021.02</td>\n",
       "      <td>Police Identification and Records Officers</td>\n",
       "      <td>Technology</td>\n",
       "      <td>Image enhancement software</td>\n",
       "      <td>Graphics or photo imaging software</td>\n",
       "    </tr>\n",
       "    <tr>\n",
       "      <th>27062</th>\n",
       "      <td>43232102</td>\n",
       "      <td>33-3021.02</td>\n",
       "      <td>Police Identification and Records Officers</td>\n",
       "      <td>Technology</td>\n",
       "      <td>The CAD Zone The Crime Zone</td>\n",
       "      <td>Graphics or photo imaging software</td>\n",
       "    </tr>\n",
       "    <tr>\n",
       "      <th>27063</th>\n",
       "      <td>43232102</td>\n",
       "      <td>33-3021.02</td>\n",
       "      <td>Police Identification and Records Officers</td>\n",
       "      <td>Technology</td>\n",
       "      <td>Visual Statement Vista FX3 CSI</td>\n",
       "      <td>Graphics or photo imaging software</td>\n",
       "    </tr>\n",
       "    <tr>\n",
       "      <th>27064</th>\n",
       "      <td>43232102</td>\n",
       "      <td>33-3021.03</td>\n",
       "      <td>Criminal Investigators and Special Agents</td>\n",
       "      <td>Technology</td>\n",
       "      <td>Graphics software</td>\n",
       "      <td>Graphics or photo imaging software</td>\n",
       "    </tr>\n",
       "    <tr>\n",
       "      <th>27065</th>\n",
       "      <td>43232102</td>\n",
       "      <td>33-3051.01</td>\n",
       "      <td>Police Patrol Officers</td>\n",
       "      <td>Technology</td>\n",
       "      <td>Computer aided composite drawing software</td>\n",
       "      <td>Graphics or photo imaging software</td>\n",
       "    </tr>\n",
       "    <tr>\n",
       "      <th>27066</th>\n",
       "      <td>43232102</td>\n",
       "      <td>33-3051.01</td>\n",
       "      <td>Police Patrol Officers</td>\n",
       "      <td>Technology</td>\n",
       "      <td>SmartDraw.com SmartDraw Legal</td>\n",
       "      <td>Graphics or photo imaging software</td>\n",
       "    </tr>\n",
       "    <tr>\n",
       "      <th>27067</th>\n",
       "      <td>43232102</td>\n",
       "      <td>33-3051.01</td>\n",
       "      <td>Police Patrol Officers</td>\n",
       "      <td>Technology</td>\n",
       "      <td>The CAD Zone The Crime Zone</td>\n",
       "      <td>Graphics or photo imaging software</td>\n",
       "    </tr>\n",
       "    <tr>\n",
       "      <th>27068</th>\n",
       "      <td>43232102</td>\n",
       "      <td>33-3051.03</td>\n",
       "      <td>Sheriffs and Deputy Sheriffs</td>\n",
       "      <td>Technology</td>\n",
       "      <td>DesignWare 3D EyeWitness</td>\n",
       "      <td>Graphics or photo imaging software</td>\n",
       "    </tr>\n",
       "    <tr>\n",
       "      <th>27069</th>\n",
       "      <td>43232102</td>\n",
       "      <td>33-3051.03</td>\n",
       "      <td>Sheriffs and Deputy Sheriffs</td>\n",
       "      <td>Technology</td>\n",
       "      <td>The CAD Zone The Crime Zone</td>\n",
       "      <td>Graphics or photo imaging software</td>\n",
       "    </tr>\n",
       "    <tr>\n",
       "      <th>27070</th>\n",
       "      <td>43232102</td>\n",
       "      <td>41-9022.00</td>\n",
       "      <td>Real Estate Sales Agents</td>\n",
       "      <td>Technology</td>\n",
       "      <td>Panoweaver software</td>\n",
       "      <td>Graphics or photo imaging software</td>\n",
       "    </tr>\n",
       "    <tr>\n",
       "      <th>27071</th>\n",
       "      <td>43232102</td>\n",
       "      <td>43-9031.00</td>\n",
       "      <td>Desktop Publishers</td>\n",
       "      <td>Technology</td>\n",
       "      <td>Adobe Systems Adobe Freehand</td>\n",
       "      <td>Graphics or photo imaging software</td>\n",
       "    </tr>\n",
       "    <tr>\n",
       "      <th>27072</th>\n",
       "      <td>43232102</td>\n",
       "      <td>43-9031.00</td>\n",
       "      <td>Desktop Publishers</td>\n",
       "      <td>Technology</td>\n",
       "      <td>Adobe Systems Adobe LiveMotion</td>\n",
       "      <td>Graphics or photo imaging software</td>\n",
       "    </tr>\n",
       "    <tr>\n",
       "      <th>27073</th>\n",
       "      <td>43232102</td>\n",
       "      <td>43-9031.00</td>\n",
       "      <td>Desktop Publishers</td>\n",
       "      <td>Technology</td>\n",
       "      <td>Apple iPhoto</td>\n",
       "      <td>Graphics or photo imaging software</td>\n",
       "    </tr>\n",
       "    <tr>\n",
       "      <th>27074</th>\n",
       "      <td>43232102</td>\n",
       "      <td>43-9031.00</td>\n",
       "      <td>Desktop Publishers</td>\n",
       "      <td>Technology</td>\n",
       "      <td>CodedColor software</td>\n",
       "      <td>Graphics or photo imaging software</td>\n",
       "    </tr>\n",
       "    <tr>\n",
       "      <th>27075</th>\n",
       "      <td>43232102</td>\n",
       "      <td>43-9031.00</td>\n",
       "      <td>Desktop Publishers</td>\n",
       "      <td>Technology</td>\n",
       "      <td>Corel Paint Shop Pro</td>\n",
       "      <td>Graphics or photo imaging software</td>\n",
       "    </tr>\n",
       "    <tr>\n",
       "      <th>27076</th>\n",
       "      <td>43232102</td>\n",
       "      <td>43-9031.00</td>\n",
       "      <td>Desktop Publishers</td>\n",
       "      <td>Technology</td>\n",
       "      <td>GNU image manipulation program GIMP software</td>\n",
       "      <td>Graphics or photo imaging software</td>\n",
       "    </tr>\n",
       "    <tr>\n",
       "      <th>27077</th>\n",
       "      <td>43232102</td>\n",
       "      <td>43-9031.00</td>\n",
       "      <td>Desktop Publishers</td>\n",
       "      <td>Technology</td>\n",
       "      <td>Inkscape software</td>\n",
       "      <td>Graphics or photo imaging software</td>\n",
       "    </tr>\n",
       "    <tr>\n",
       "      <th>27078</th>\n",
       "      <td>43232102</td>\n",
       "      <td>43-9031.00</td>\n",
       "      <td>Desktop Publishers</td>\n",
       "      <td>Technology</td>\n",
       "      <td>Microsoft Picture It!</td>\n",
       "      <td>Graphics or photo imaging software</td>\n",
       "    </tr>\n",
       "    <tr>\n",
       "      <th>27079</th>\n",
       "      <td>43232102</td>\n",
       "      <td>43-9031.00</td>\n",
       "      <td>Desktop Publishers</td>\n",
       "      <td>Technology</td>\n",
       "      <td>Raster Graphics software</td>\n",
       "      <td>Graphics or photo imaging software</td>\n",
       "    </tr>\n",
       "    <tr>\n",
       "      <th>27080</th>\n",
       "      <td>43232102</td>\n",
       "      <td>43-9031.00</td>\n",
       "      <td>Desktop Publishers</td>\n",
       "      <td>Technology</td>\n",
       "      <td>Ulead PhotoImpact</td>\n",
       "      <td>Graphics or photo imaging software</td>\n",
       "    </tr>\n",
       "    <tr>\n",
       "      <th>27081</th>\n",
       "      <td>43232102</td>\n",
       "      <td>43-9031.00</td>\n",
       "      <td>Desktop Publishers</td>\n",
       "      <td>Technology</td>\n",
       "      <td>Xara X</td>\n",
       "      <td>Graphics or photo imaging software</td>\n",
       "    </tr>\n",
       "    <tr>\n",
       "      <th>27082</th>\n",
       "      <td>43232102</td>\n",
       "      <td>47-1011.00</td>\n",
       "      <td>First-Line Supervisors/Managers of Constructio...</td>\n",
       "      <td>Technology</td>\n",
       "      <td>Graphics software</td>\n",
       "      <td>Graphics or photo imaging software</td>\n",
       "    </tr>\n",
       "    <tr>\n",
       "      <th>27083</th>\n",
       "      <td>43232102</td>\n",
       "      <td>51-5021.00</td>\n",
       "      <td>Job Printers</td>\n",
       "      <td>Technology</td>\n",
       "      <td>Graphics software</td>\n",
       "      <td>Graphics or photo imaging software</td>\n",
       "    </tr>\n",
       "    <tr>\n",
       "      <th>27084</th>\n",
       "      <td>43232102</td>\n",
       "      <td>51-8021.00</td>\n",
       "      <td>Stationary Engineers and Boiler Operators</td>\n",
       "      <td>Technology</td>\n",
       "      <td>Graphics software</td>\n",
       "      <td>Graphics or photo imaging software</td>\n",
       "    </tr>\n",
       "    <tr>\n",
       "      <th>27085</th>\n",
       "      <td>43232102</td>\n",
       "      <td>51-9081.00</td>\n",
       "      <td>Dental Laboratory Technicians</td>\n",
       "      <td>Technology</td>\n",
       "      <td>Graphics software</td>\n",
       "      <td>Graphics or photo imaging software</td>\n",
       "    </tr>\n",
       "    <tr>\n",
       "      <th>28860</th>\n",
       "      <td>43232404</td>\n",
       "      <td>15-1021.00</td>\n",
       "      <td>Computer Programmers</td>\n",
       "      <td>Technology</td>\n",
       "      <td>Basis BBx VisualPRO/5</td>\n",
       "      <td>Graphical user interface development software</td>\n",
       "    </tr>\n",
       "    <tr>\n",
       "      <th>28861</th>\n",
       "      <td>43232404</td>\n",
       "      <td>15-1021.00</td>\n",
       "      <td>Computer Programmers</td>\n",
       "      <td>Technology</td>\n",
       "      <td>Graphical user interface GUI development software</td>\n",
       "      <td>Graphical user interface development software</td>\n",
       "    </tr>\n",
       "    <tr>\n",
       "      <th>28862</th>\n",
       "      <td>43232404</td>\n",
       "      <td>15-1071.00</td>\n",
       "      <td>Network and Computer Systems Administrators</td>\n",
       "      <td>Technology</td>\n",
       "      <td>Tk software</td>\n",
       "      <td>Graphical user interface development software</td>\n",
       "    </tr>\n",
       "    <tr>\n",
       "      <th>28863</th>\n",
       "      <td>43232404</td>\n",
       "      <td>15-1099.02</td>\n",
       "      <td>Computer Systems Engineers/Architects</td>\n",
       "      <td>Technology</td>\n",
       "      <td>Altia software</td>\n",
       "      <td>Graphical user interface development software</td>\n",
       "    </tr>\n",
       "    <tr>\n",
       "      <th>31031</th>\n",
       "      <td>43233407</td>\n",
       "      <td>43-9031.00</td>\n",
       "      <td>Desktop Publishers</td>\n",
       "      <td>Technology</td>\n",
       "      <td>Graphics card driver software</td>\n",
       "      <td>Graphics card driver software</td>\n",
       "    </tr>\n",
       "  </tbody>\n",
       "</table>\n",
       "<p>346 rows × 6 columns</p>\n",
       "</div>"
      ],
      "text/plain": [
       "       Commodity Code O*NET-SOC Code  \\\n",
       "45           43232102     11-2011.00   \n",
       "51           43232102     11-2011.00   \n",
       "68           43232102     11-2021.00   \n",
       "97           43232102     11-2031.00   \n",
       "155          43232102     11-3021.00   \n",
       "184          43232404     11-3021.00   \n",
       "252          43232102     11-3041.00   \n",
       "298          43232102     11-3042.00   \n",
       "390          43232102     11-3071.01   \n",
       "663          43232102     11-9111.00   \n",
       "685          43232102     11-9121.00   \n",
       "886          43232102     13-1041.02   \n",
       "942          43232102     13-1041.06   \n",
       "987          43232102     13-1073.00   \n",
       "1213         43232102     13-2021.02   \n",
       "1244         43232102     13-2031.00   \n",
       "1462         43232102     13-2081.00   \n",
       "1490         43211712     15-1011.00   \n",
       "1644         43232404     15-1031.00   \n",
       "1735         43232404     15-1032.00   \n",
       "1846         43232102     15-1051.00   \n",
       "2122         43201401     15-1099.02   \n",
       "2161         43232102     15-1099.04   \n",
       "2197         43232102     15-1099.05   \n",
       "2205         43232102     15-1099.05   \n",
       "2356         43232102     17-1011.00   \n",
       "2366         43232102     17-1011.00   \n",
       "2379         43232102     17-1012.00   \n",
       "2384         43232102     17-1012.00   \n",
       "2410         43232102     17-1021.00   \n",
       "...               ...            ...   \n",
       "27061        43232102     33-3021.02   \n",
       "27062        43232102     33-3021.02   \n",
       "27063        43232102     33-3021.02   \n",
       "27064        43232102     33-3021.03   \n",
       "27065        43232102     33-3051.01   \n",
       "27066        43232102     33-3051.01   \n",
       "27067        43232102     33-3051.01   \n",
       "27068        43232102     33-3051.03   \n",
       "27069        43232102     33-3051.03   \n",
       "27070        43232102     41-9022.00   \n",
       "27071        43232102     43-9031.00   \n",
       "27072        43232102     43-9031.00   \n",
       "27073        43232102     43-9031.00   \n",
       "27074        43232102     43-9031.00   \n",
       "27075        43232102     43-9031.00   \n",
       "27076        43232102     43-9031.00   \n",
       "27077        43232102     43-9031.00   \n",
       "27078        43232102     43-9031.00   \n",
       "27079        43232102     43-9031.00   \n",
       "27080        43232102     43-9031.00   \n",
       "27081        43232102     43-9031.00   \n",
       "27082        43232102     47-1011.00   \n",
       "27083        43232102     51-5021.00   \n",
       "27084        43232102     51-8021.00   \n",
       "27085        43232102     51-9081.00   \n",
       "28860        43232404     15-1021.00   \n",
       "28861        43232404     15-1021.00   \n",
       "28862        43232404     15-1071.00   \n",
       "28863        43232404     15-1099.02   \n",
       "31031        43233407     43-9031.00   \n",
       "\n",
       "                                         O*NET-SOC Title     T2 Type  \\\n",
       "45                   Advertising and Promotions Managers  Technology   \n",
       "51                   Advertising and Promotions Managers  Technology   \n",
       "68                                    Marketing Managers  Technology   \n",
       "97                             Public Relations Managers  Technology   \n",
       "155            Computer and Information Systems Managers  Technology   \n",
       "184            Computer and Information Systems Managers  Technology   \n",
       "252                   Compensation and Benefits Managers  Technology   \n",
       "298                    Training and Development Managers  Technology   \n",
       "390                              Transportation Managers  Technology   \n",
       "663                 Medical and Health Services Managers  Technology   \n",
       "685                            Natural Sciences Managers  Technology   \n",
       "886                   Licensing Examiners and Inspectors  Technology   \n",
       "942                                             Coroners  Technology   \n",
       "987                 Training and Development Specialists  Technology   \n",
       "1213                             Appraisers, Real Estate  Technology   \n",
       "1244                                     Budget Analysts  Technology   \n",
       "1462       Tax Examiners, Collectors, and Revenue Agents  Technology   \n",
       "1490       Computer and Information Scientists, Research       Tools   \n",
       "1644           Computer Software Engineers, Applications  Technology   \n",
       "1735       Computer Software Engineers, Systems Software  Technology   \n",
       "1846                           Computer Systems Analysts  Technology   \n",
       "2122               Computer Systems Engineers/Architects       Tools   \n",
       "2161                                      Web Developers  Technology   \n",
       "2197                                  Web Administrators  Technology   \n",
       "2205                                  Web Administrators  Technology   \n",
       "2356              Architects, Except Landscape and Naval  Technology   \n",
       "2366              Architects, Except Landscape and Naval  Technology   \n",
       "2379                                Landscape Architects  Technology   \n",
       "2384                                Landscape Architects  Technology   \n",
       "2410                 Cartographers and Photogrammetrists  Technology   \n",
       "...                                                  ...         ...   \n",
       "27061         Police Identification and Records Officers  Technology   \n",
       "27062         Police Identification and Records Officers  Technology   \n",
       "27063         Police Identification and Records Officers  Technology   \n",
       "27064          Criminal Investigators and Special Agents  Technology   \n",
       "27065                             Police Patrol Officers  Technology   \n",
       "27066                             Police Patrol Officers  Technology   \n",
       "27067                             Police Patrol Officers  Technology   \n",
       "27068                       Sheriffs and Deputy Sheriffs  Technology   \n",
       "27069                       Sheriffs and Deputy Sheriffs  Technology   \n",
       "27070                           Real Estate Sales Agents  Technology   \n",
       "27071                                 Desktop Publishers  Technology   \n",
       "27072                                 Desktop Publishers  Technology   \n",
       "27073                                 Desktop Publishers  Technology   \n",
       "27074                                 Desktop Publishers  Technology   \n",
       "27075                                 Desktop Publishers  Technology   \n",
       "27076                                 Desktop Publishers  Technology   \n",
       "27077                                 Desktop Publishers  Technology   \n",
       "27078                                 Desktop Publishers  Technology   \n",
       "27079                                 Desktop Publishers  Technology   \n",
       "27080                                 Desktop Publishers  Technology   \n",
       "27081                                 Desktop Publishers  Technology   \n",
       "27082  First-Line Supervisors/Managers of Constructio...  Technology   \n",
       "27083                                       Job Printers  Technology   \n",
       "27084          Stationary Engineers and Boiler Operators  Technology   \n",
       "27085                      Dental Laboratory Technicians  Technology   \n",
       "28860                               Computer Programmers  Technology   \n",
       "28861                               Computer Programmers  Technology   \n",
       "28862        Network and Computer Systems Administrators  Technology   \n",
       "28863              Computer Systems Engineers/Architects  Technology   \n",
       "31031                                 Desktop Publishers  Technology   \n",
       "\n",
       "                                              T2 Example  \\\n",
       "45                       Adobe Systems Adobe Illustrator   \n",
       "51                                     Graphics software   \n",
       "68                         Graphic presentation software   \n",
       "97                       Adobe Systems Adobe Illustrator   \n",
       "155                             Graphics editor software   \n",
       "184                                          Tk software   \n",
       "252                      Adobe Systems Adobe Illustrator   \n",
       "298                      Adobe Systems Adobe Illustrator   \n",
       "390                                    Graphics software   \n",
       "663                                 ConceptDraw software   \n",
       "685                                    Graphics software   \n",
       "886                      Digital imaging system software   \n",
       "942                                    Graphics software   \n",
       "987                      Adobe Systems Adobe Illustrator   \n",
       "1213                                 Bradford ClickFORMS   \n",
       "1244                                   Graphics software   \n",
       "1462                            Image processing systems   \n",
       "1490                               Graphics workstations   \n",
       "1644       Graphical user interface GUI builder software   \n",
       "1735        Graphical user interface GUI design software   \n",
       "1846                                   Graphics software   \n",
       "2122                              Graphics display cards   \n",
       "2161                     Adobe Systems Adobe Illustrator   \n",
       "2197                     Adobe Systems Adobe Illustrator   \n",
       "2205                      Corel CorelDraw Graphics Suite   \n",
       "2356                     Adobe Systems Adobe Illustrator   \n",
       "2366                 Micro-Press MicroStation PowerDraft   \n",
       "2379              Adobe Systems Adobe Photoshop software   \n",
       "2384                               McNeel Rhino software   \n",
       "2410              Adobe Systems Adobe Photoshop software   \n",
       "...                                                  ...   \n",
       "27061                         Image enhancement software   \n",
       "27062                        The CAD Zone The Crime Zone   \n",
       "27063                     Visual Statement Vista FX3 CSI   \n",
       "27064                                  Graphics software   \n",
       "27065          Computer aided composite drawing software   \n",
       "27066                      SmartDraw.com SmartDraw Legal   \n",
       "27067                        The CAD Zone The Crime Zone   \n",
       "27068                           DesignWare 3D EyeWitness   \n",
       "27069                        The CAD Zone The Crime Zone   \n",
       "27070                                Panoweaver software   \n",
       "27071                       Adobe Systems Adobe Freehand   \n",
       "27072                     Adobe Systems Adobe LiveMotion   \n",
       "27073                                       Apple iPhoto   \n",
       "27074                                CodedColor software   \n",
       "27075                               Corel Paint Shop Pro   \n",
       "27076       GNU image manipulation program GIMP software   \n",
       "27077                                  Inkscape software   \n",
       "27078                              Microsoft Picture It!   \n",
       "27079                           Raster Graphics software   \n",
       "27080                                  Ulead PhotoImpact   \n",
       "27081                                             Xara X   \n",
       "27082                                  Graphics software   \n",
       "27083                                  Graphics software   \n",
       "27084                                  Graphics software   \n",
       "27085                                  Graphics software   \n",
       "28860                              Basis BBx VisualPRO/5   \n",
       "28861  Graphical user interface GUI development software   \n",
       "28862                                        Tk software   \n",
       "28863                                     Altia software   \n",
       "31031                      Graphics card driver software   \n",
       "\n",
       "                                     Commodity Title  \n",
       "45                Graphics or photo imaging software  \n",
       "51                Graphics or photo imaging software  \n",
       "68                Graphics or photo imaging software  \n",
       "97                Graphics or photo imaging software  \n",
       "155               Graphics or photo imaging software  \n",
       "184    Graphical user interface development software  \n",
       "252               Graphics or photo imaging software  \n",
       "298               Graphics or photo imaging software  \n",
       "390               Graphics or photo imaging software  \n",
       "663               Graphics or photo imaging software  \n",
       "685               Graphics or photo imaging software  \n",
       "886               Graphics or photo imaging software  \n",
       "942               Graphics or photo imaging software  \n",
       "987               Graphics or photo imaging software  \n",
       "1213              Graphics or photo imaging software  \n",
       "1244              Graphics or photo imaging software  \n",
       "1462              Graphics or photo imaging software  \n",
       "1490                                Graphics tablets  \n",
       "1644   Graphical user interface development software  \n",
       "1735   Graphical user interface development software  \n",
       "1846              Graphics or photo imaging software  \n",
       "2122             Graphics or video accelerator cards  \n",
       "2161              Graphics or photo imaging software  \n",
       "2197              Graphics or photo imaging software  \n",
       "2205              Graphics or photo imaging software  \n",
       "2356              Graphics or photo imaging software  \n",
       "2366              Graphics or photo imaging software  \n",
       "2379              Graphics or photo imaging software  \n",
       "2384              Graphics or photo imaging software  \n",
       "2410              Graphics or photo imaging software  \n",
       "...                                              ...  \n",
       "27061             Graphics or photo imaging software  \n",
       "27062             Graphics or photo imaging software  \n",
       "27063             Graphics or photo imaging software  \n",
       "27064             Graphics or photo imaging software  \n",
       "27065             Graphics or photo imaging software  \n",
       "27066             Graphics or photo imaging software  \n",
       "27067             Graphics or photo imaging software  \n",
       "27068             Graphics or photo imaging software  \n",
       "27069             Graphics or photo imaging software  \n",
       "27070             Graphics or photo imaging software  \n",
       "27071             Graphics or photo imaging software  \n",
       "27072             Graphics or photo imaging software  \n",
       "27073             Graphics or photo imaging software  \n",
       "27074             Graphics or photo imaging software  \n",
       "27075             Graphics or photo imaging software  \n",
       "27076             Graphics or photo imaging software  \n",
       "27077             Graphics or photo imaging software  \n",
       "27078             Graphics or photo imaging software  \n",
       "27079             Graphics or photo imaging software  \n",
       "27080             Graphics or photo imaging software  \n",
       "27081             Graphics or photo imaging software  \n",
       "27082             Graphics or photo imaging software  \n",
       "27083             Graphics or photo imaging software  \n",
       "27084             Graphics or photo imaging software  \n",
       "27085             Graphics or photo imaging software  \n",
       "28860  Graphical user interface development software  \n",
       "28861  Graphical user interface development software  \n",
       "28862  Graphical user interface development software  \n",
       "28863  Graphical user interface development software  \n",
       "31031                  Graphics card driver software  \n",
       "\n",
       "[346 rows x 6 columns]"
      ]
     },
     "execution_count": 9,
     "metadata": {},
     "output_type": "execute_result"
    }
   ],
   "source": [
    "tt06[tt06['Commodity Title'].apply(lambda x: 'Graphic' in x)]"
   ]
  },
  {
   "cell_type": "markdown",
   "metadata": {
    "collapsed": true
   },
   "source": [
    "# TASKS"
   ]
  },
  {
   "cell_type": "code",
   "execution_count": 216,
   "metadata": {
    "collapsed": true
   },
   "outputs": [],
   "source": [
    "tasks = pd.read_table('../../../data/databases/db15/Task Ratings.txt', delimiter = '\\t')\n",
    "tasks = tasks[tasks['Scale ID'] == 'IM']"
   ]
  },
  {
   "cell_type": "code",
   "execution_count": 217,
   "metadata": {
    "collapsed": true
   },
   "outputs": [],
   "source": [
    "s_o_codes = pd.read_csv('../../../data/helpers/survey_occs.csv')\n",
    "tasks = tasks.groupby('O*NET-SOC Code').head(5)\n",
    "tasks = tasks[tasks['O*NET-SOC Code'].isin(s_o_codes['O*NET-SOC Code'])].groupby('O*NET-SOC Code').head(5)"
   ]
  },
  {
   "cell_type": "code",
   "execution_count": 213,
   "metadata": {
    "collapsed": true
   },
   "outputs": [],
   "source": [
    "task_ref = pd.read_table('../../../data/databases/db15/Tasks to DWAs.txt', delimiter = '\\t')\n",
    "task_ref = task_ref[['Task ID', 'DWA ID']].drop_duplicates(subset = 'Task ID') ##!!! MAY NOT NEED TO DROP DUPLICATES HERE"
   ]
  },
  {
   "cell_type": "code",
   "execution_count": 214,
   "metadata": {
    "collapsed": false
   },
   "outputs": [],
   "source": [
    "tasks_dwas = tasks.merge(task_ref, on = 'Task ID', how = 'inner')"
   ]
  },
  {
   "cell_type": "code",
   "execution_count": 215,
   "metadata": {
    "collapsed": false
   },
   "outputs": [],
   "source": [
    "level = 'WA'\n",
    "\n",
    "if level == 'WA':\n",
    "    full_level = 'WA Name'\n",
    "else:\n",
    "    full_level = 'IWA Title'"
   ]
  },
  {
   "cell_type": "code",
   "execution_count": 340,
   "metadata": {
    "collapsed": false
   },
   "outputs": [],
   "source": [
    "was = pd.read_csv(\"../../../data/helpers/work_activities.csv\")\n",
    "tasks_shared = tasks_dwas.merge(was[[full_level, 'DWA ID']])"
   ]
  },
  {
   "cell_type": "code",
   "execution_count": 341,
   "metadata": {
    "collapsed": false
   },
   "outputs": [
    {
     "data": {
      "image/png": "[encoded data removed]",
      "text/plain": [
       "<matplotlib.figure.Figure at 0x1107c1950>"
      ]
     },
     "metadata": {},
     "output_type": "display_data"
    }
   ],
   "source": [
    "hist = tasks_shared.groupby(full_level).count()['Task ID'].hist(bins = 20)\n",
    "hist.set_xlabel('bins')\n",
    "hist.set_ylabel('count')\n",
    "hist.set_title('Histogram of # of All Occupations Sharing a Task, top-level abstraction')\n",
    "fig = hist.get_figure()\n",
    "fig.savefig('WA groupings all occupations.png')"
   ]
  },
  {
   "cell_type": "code",
   "execution_count": 345,
   "metadata": {
    "collapsed": false,
    "scrolled": true
   },
   "outputs": [
    {
     "data": {
      "text/plain": [
       "array(['Getting Information',\n",
       "       'Monitor Processes, Materials, or Surroundings',\n",
       "       'Identifying Objects, Actions, and Events',\n",
       "       'Inspecting Equipment, Structures, or Material',\n",
       "       'Estimating the Quantifiable Characteristics of Products, Events, or Information',\n",
       "       'Judging the Qualities of Things, Services, or People',\n",
       "       'Processing Information',\n",
       "       'Evaluating Information to Determine Compliance with Standards',\n",
       "       'Analyzing Data or Information',\n",
       "       'Making Decisions and Solving Problems', 'Thinking Creatively',\n",
       "       'Updating and Using Relevant Knowledge',\n",
       "       'Developing Objectives and Strategies',\n",
       "       'Scheduling Work and Activities',\n",
       "       'Organizing, Planning, and Prioritizing Work',\n",
       "       'Performing General Physical Activities',\n",
       "       'Handling and Moving Objects', 'Controlling Machines and Processes',\n",
       "       'Operating Vehicles, Mechanized Devices, or Equipment',\n",
       "       'Interacting With Computers',\n",
       "       'Repairing and Maintaining Mechanical Equipment',\n",
       "       'Documenting/Recording Information',\n",
       "       'Interpreting the Meaning of Information for Others',\n",
       "       'Communicating with Supervisors, Peers, or Subordinates',\n",
       "       'Communicating with Persons Outside Organization',\n",
       "       'Establishing and Maintaining Interpersonal Relationships',\n",
       "       'Assisting and Caring for Others', 'Selling or Influencing Others',\n",
       "       'Resolving Conflicts and Negotiating with Others',\n",
       "       'Performing for or Working Directly with the Public',\n",
       "       'Training and Teaching Others',\n",
       "       'Guiding, Directing, and Motivating Subordinates',\n",
       "       'Coaching and Developing Others',\n",
       "       'Provide Consultation and Advice to Others',\n",
       "       'Performing Administrative Activities',\n",
       "       'Staffing Organizational Units',\n",
       "       'Monitoring and Controlling Resources'], dtype=object)"
      ]
     },
     "execution_count": 345,
     "metadata": {},
     "output_type": "execute_result"
    }
   ],
   "source": [
    "was['WA Name'].unique()"
   ]
  },
  {
   "cell_type": "markdown",
   "metadata": {},
   "source": [
    "# DIGRESSION: Jobs & Wages"
   ]
  },
  {
   "cell_type": "code",
   "execution_count": 259,
   "metadata": {
    "collapsed": true
   },
   "outputs": [],
   "source": [
    "occs = pd.read_csv('../../../data/helpers/survey_occs.csv')\n",
    "occs['O*NET-SOC Code'] = occs['O*NET-SOC Code'].apply(lambda x: str(x)[:-3])\n",
    "ed = pd.read_csv('../../../data/education/occ_stats.csv').iloc[:-1,:]"
   ]
  },
  {
   "cell_type": "code",
   "execution_count": 260,
   "metadata": {
    "collapsed": false
   },
   "outputs": [],
   "source": [
    "survey_occs = ed[ed.code.isin(occs['O*NET-SOC Code'])]"
   ]
  },
  {
   "cell_type": "code",
   "execution_count": 261,
   "metadata": {
    "collapsed": false
   },
   "outputs": [
    {
     "data": {
      "text/plain": [
       "53820.0"
      ]
     },
     "execution_count": 261,
     "metadata": {},
     "output_type": "execute_result"
    }
   ],
   "source": [
    "survey_occs.medwage.apply(lambda x: float(x.replace('$','').replace(',',''))).mean()"
   ]
  },
  {
   "cell_type": "code",
   "execution_count": 267,
   "metadata": {
    "collapsed": false,
    "scrolled": true
   },
   "outputs": [
    {
     "data": {
      "text/plain": [
       "49460.09276437848"
      ]
     },
     "execution_count": 267,
     "metadata": {},
     "output_type": "execute_result"
    }
   ],
   "source": [
    "def fix_wage(w):\n",
    "    try:\n",
    "        return float(w.replace('$','').replace(',',''))\n",
    "    except:\n",
    "        return None\n",
    "\n",
    "ed.medwage.apply(lambda x: fix_wage(x)).mean()"
   ]
  },
  {
   "cell_type": "markdown",
   "metadata": {
    "collapsed": true
   },
   "source": [
    "# BACK TO SKILLS"
   ]
  },
  {
   "cell_type": "code",
   "execution_count": 512,
   "metadata": {
    "collapsed": false
   },
   "outputs": [
    {
     "name": "stderr",
     "output_type": "stream",
     "text": [
      " /Users/Logan/anaconda/envs/dev/lib/python2.7/site-packages/IPython/core/interactiveshell.py:2871: DtypeWarning:Columns (5,6,7,8) have mixed types. Specify dtype option on import or set low_memory=False.\n"
     ]
    }
   ],
   "source": [
    "s = pd.read_table('../../../data/databases/db15/Skills.txt', delimiter = '\\t')"
   ]
  },
  {
   "cell_type": "code",
   "execution_count": 515,
   "metadata": {
    "collapsed": false
   },
   "outputs": [],
   "source": [
    "s = s[s['Scale ID'] == 'IM']\n",
    "s = s.pivot_table(values = 'Data Value', index = 'O*NET-SOC Code', columns='Element Name').reset_index()"
   ]
  },
  {
   "cell_type": "code",
   "execution_count": null,
   "metadata": {
    "collapsed": true
   },
   "outputs": [],
   "source": []
  }
 ],
 "metadata": {
  "kernelspec": {
   "display_name": "Python 2",
   "language": "python",
   "name": "python2"
  },
  "language_info": {
   "codemirror_mode": {
    "name": "ipython",
    "version": 2
   },
   "file_extension": ".py",
   "mimetype": "text/x-python",
   "name": "python",
   "nbconvert_exporter": "python",
   "pygments_lexer": "ipython2",
   "version": "2.7.11"
  }
 },
 "nbformat": 4,
 "nbformat_minor": 0
}
