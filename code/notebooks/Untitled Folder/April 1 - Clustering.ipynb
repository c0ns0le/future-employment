{
 "cells": [
  {
   "cell_type": "code",
   "execution_count": 955,
   "metadata": {
    "collapsed": false
   },
   "outputs": [],
   "source": [
    "import numpy as np\n",
    "import pandas as pd\n",
    "import seaborn as sns\n",
    "from helpers.helper import *\n",
    "\n",
    "%matplotlib inline"
   ]
  },
  {
   "cell_type": "markdown",
   "metadata": {},
   "source": [
    "# Load Employment Data"
   ]
  },
  {
   "cell_type": "code",
   "execution_count": 956,
   "metadata": {
    "collapsed": false
   },
   "outputs": [],
   "source": [
    "fp = '../../../data/databases/db15/Skills.txt'\n",
    "X = load_skills(fp).replace(np.nan, 0.0)\n",
    "X['O*NET-SOC Code'] = X['O*NET-SOC Code'].apply(lambda x: str(x[:-3]))\n",
    "\n",
    "# delete duplicate data\n",
    "X = X.drop_duplicates(subset = 'O*NET-SOC Code')\n",
    "\n",
    "numbers = pd.read_csv('../../../data/education/employment_numbers.csv')\n",
    "numbers = numbers.rename(columns = {'code': \"O*NET-SOC Code\"})\n",
    "\n",
    "def clean_number(element):\n",
    "    return float(str(element).replace(',',''))\n",
    "\n",
    "numbers.e2014 = numbers.e2014.apply(clean_number)\n",
    "\n",
    "X = X.merge(numbers, on = 'O*NET-SOC Code', how = 'inner')"
   ]
  },
  {
   "cell_type": "markdown",
   "metadata": {},
   "source": [
    "# Divide codes from data"
   ]
  },
  {
   "cell_type": "markdown",
   "metadata": {},
   "source": [
    "#### With option to find high-employment subsets"
   ]
  },
  {
   "cell_type": "code",
   "execution_count": 957,
   "metadata": {
    "collapsed": false
   },
   "outputs": [],
   "source": [
    "def get_data(X, subset = False, threshold = 0.00666666):\n",
    "    if subset:\n",
    "        total_emp = 150539.90\n",
    "        subset_X = X[X.e2014 / total_emp >= threshold]\n",
    "        X = subset_X\n",
    "    codes, weights, title, X = X['O*NET-SOC Code'], X['e2014'], X.title, X.drop(['O*NET-SOC Code', 'e2014', 'title', 'Unnamed: 3'], axis = 1)\n",
    "    return codes, weights, title, X\n",
    "\n",
    "codes, weights, titles, X_matrix = get_data(X, subset = False)"
   ]
  },
  {
   "cell_type": "markdown",
   "metadata": {},
   "source": [
    "# Add Weights"
   ]
  },
  {
   "cell_type": "code",
   "execution_count": 958,
   "metadata": {
    "collapsed": true
   },
   "outputs": [],
   "source": [
    "dists = sp.distance.squareform(sp.distance.pdist(X_matrix))"
   ]
  },
  {
   "cell_type": "code",
   "execution_count": 959,
   "metadata": {
    "collapsed": false
   },
   "outputs": [
    {
     "data": {
      "text/plain": [
       "array([[  0.        ,   6.68261925,   5.52246322, ...,  15.22675277,\n",
       "         17.14086929,  13.11334435],\n",
       "       [  6.68261925,   0.        ,   3.10396521, ...,   9.4963572 ,\n",
       "         11.43110668,   7.75711286],\n",
       "       [  5.52246322,   3.10396521,   0.        , ...,  10.86476875,\n",
       "         12.75235664,   9.32074031],\n",
       "       ..., \n",
       "       [ 15.22675277,   9.4963572 ,  10.86476875, ...,   0.        ,\n",
       "          3.60469139,   4.47915171],\n",
       "       [ 17.14086929,  11.43110668,  12.75235664, ...,   3.60469139,\n",
       "          0.        ,   6.03778105],\n",
       "       [ 13.11334435,   7.75711286,   9.32074031, ...,   4.47915171,\n",
       "          6.03778105,   0.        ]])"
      ]
     },
     "execution_count": 959,
     "metadata": {},
     "output_type": "execute_result"
    }
   ],
   "source": [
    "dists"
   ]
  },
  {
   "cell_type": "markdown",
   "metadata": {},
   "source": [
    "# Find Groupings"
   ]
  },
  {
   "cell_type": "code",
   "execution_count": 960,
   "metadata": {
    "collapsed": false,
    "scrolled": true
   },
   "outputs": [],
   "source": [
    "import Pycluster as pc\n",
    "dm = pc.distancematrix(np.array(X_matrix), dist = 'e')\n",
    "solution, score, something = pc.kmedoids(dm, nclusters = 30, npass = 10)\n",
    "medoids = codes[solution].unique()\n",
    "groupings = numbers[numbers['O*NET-SOC Code'].isin(medoids)]"
   ]
  },
  {
   "cell_type": "markdown",
   "metadata": {},
   "source": [
    "# KMedoids Algorithm – Github Code"
   ]
  },
  {
   "cell_type": "code",
   "execution_count": 962,
   "metadata": {
    "collapsed": true
   },
   "outputs": [],
   "source": [
    "import numpy as np\n",
    "import random\n",
    "\n",
    "def cluster(distances, k=3):\n",
    "\n",
    "    m = distances.shape[0] # number of points\n",
    "\n",
    "    # Pick k random medoids.\n",
    "    curr_medoids = np.array([-1]*k)\n",
    "    while not len(np.unique(curr_medoids)) == k:\n",
    "        curr_medoids = np.array([random.randint(0, m - 1) for _ in range(k)])\n",
    "    old_medoids = np.array([-1]*k) # Doesn't matter what we initialize these to.\n",
    "    new_medoids = np.array([-1]*k)\n",
    "   \n",
    "    # Until the medoids stop updating, do the following:\n",
    "    while not ((old_medoids == curr_medoids).all()):\n",
    "        # Assign each point to cluster with closest medoid.\n",
    "        clusters = assign_points_to_clusters(curr_medoids, distances)\n",
    "\n",
    "        # Update cluster medoids to be lowest cost point. \n",
    "        for curr_medoid in curr_medoids:\n",
    "            cluster = np.where(clusters == curr_medoid)[0]\n",
    "            new_medoids[curr_medoids == curr_medoid] = compute_new_medoid(cluster, distances)\n",
    "\n",
    "        old_medoids[:] = curr_medoids[:]\n",
    "        curr_medoids[:] = new_medoids[:]\n",
    "\n",
    "    return clusters, curr_medoids\n",
    "\n",
    "def assign_points_to_clusters(medoids, distances):\n",
    "    distances_to_medoids = distances[:,medoids]\n",
    "    clusters = medoids[np.argmin(distances_to_medoids, axis=1)]\n",
    "    clusters[medoids] = medoids\n",
    "    return clusters\n",
    "\n",
    "def compute_new_medoid(cluster, distances):\n",
    "    mask = np.ones(distances.shape)\n",
    "    mask[np.ix_(cluster,cluster)] = 0.\n",
    "    cluster_distances = np.ma.masked_array(data=distances, mask=mask, fill_value=10e9)\n",
    "    costs = cluster_distances.sum(axis=1)\n",
    "    return costs.argmin(axis=0, fill_value=10e9)"
   ]
  },
  {
   "cell_type": "code",
   "execution_count": 1016,
   "metadata": {
    "collapsed": false
   },
   "outputs": [],
   "source": [
    "class Point():\n",
    "    def __init__(self, x, weight = None, code = None):\n",
    "        self.x = x\n",
    "        self.weight = weight\n",
    "        self.cluster = None\n",
    "        self.code = code\n",
    "\n",
    "class Cluster():\n",
    "    def __init__(self, medoid, label):\n",
    "        self.medoid = medoid\n",
    "        self.label = label\n",
    "        self.points = []\n",
    "        self.distances = []\n",
    "\n",
    "class KMedoids():\n",
    "    def __init__(self, N, transform = None, max_iters = float('inf'), threshold_change = -float('inf'), print_iter = True):\n",
    "        self.N = N # number of clusters\n",
    "        self.M = [] # current medoids\n",
    "        self.O = [] # current non-medoids\n",
    "        self.clusters = []\n",
    "        self.updated_clusters = []\n",
    "        self.X = None\n",
    "        self.weights = None\n",
    "        self.n_points = None\n",
    "        self.transform = lambda x: x\n",
    "        self.max_iters = max_iters\n",
    "        self.threshold_change = threshold_change\n",
    "        self.num_changes = float('inf')\n",
    "        self.print_iter = print_iter\n",
    "        self.distsum = []\n",
    "\n",
    "    def fit(self, X, weights, codes):\n",
    "        self.__init__(self.N, self.transform, self.max_iters, self.threshold_change)\n",
    "        # check data type\n",
    "        if isinstance(X, np.ndarray):\n",
    "            self.X = X\n",
    "        else:\n",
    "            self.X = np.array(X)\n",
    "\n",
    "        self.n_points = self.X.shape[0]\n",
    "        self.weights = np.array(weights)\n",
    "        self.codes = np.array(codes)\n",
    "        self._initialize_X()\n",
    "        self._initialize_medoids()\n",
    "        changed = True\n",
    "        iter_num = 0\n",
    "        while changed and iter_num < self.max_iters and self.num_changes > self.threshold_change:\n",
    "            iter_num += 1\n",
    "            if self.print_iter:\n",
    "                print iter_num\n",
    "            self._reset_clusters()\n",
    "            self._assign_points()\n",
    "            changed = self._update_medoids()\n",
    "            self._create_self_O()\n",
    "            self._update_costs(iter_num)\n",
    "        return self.clusters\n",
    "\n",
    "    def _initialize_X(self):\n",
    "        for point, weight, code in zip(self.X, self.weights, self.codes):\n",
    "            self.O.append(Point(point, weight, code))\n",
    "\n",
    "    def _initialize_medoids(self):\n",
    "        indices = np.random.randint(0, self.n_points, self.N)\n",
    "        for i in indices:\n",
    "            self.clusters.append(Cluster(self.O[i], i))\n",
    "        self.O = np.delete(self.O, indices, axis = 0)\n",
    "\n",
    "    def _reset_clusters(self):\n",
    "        for cluster in self.clusters:\n",
    "            cluster.points, cluster.distances = [], []\n",
    "\n",
    "    def _assign_points(self):\n",
    "        for point in self.O:\n",
    "            \n",
    "            target_distance = float('inf')\n",
    "            optimal_cluster = None\n",
    "            for i, cluster in enumerate(self.clusters):\n",
    "                weighted_distance = self._calc_distance(point, cluster)\n",
    "                if weighted_distance < target_distance:\n",
    "                    target_distance = weighted_distance\n",
    "                    optimal_cluster = i\n",
    "            self.clusters[optimal_cluster].points.append(point)\n",
    "            self.clusters[optimal_cluster].distances.append(target_distance)\n",
    "            \n",
    "    def _calc_distance(self, point, cluster):\n",
    "        # calcs distances between point and cluster medioid, returns \n",
    "        def euclidean_distance(u, v):\n",
    "            return np.sqrt(np.sum((u - v)**2))\n",
    "\n",
    "        distance = euclidean_distance(point.x, cluster.medoid.x)\n",
    "        weighted_distance = self.transform(point.weight) * distance\n",
    "\n",
    "        return weighted_distance\n",
    "\n",
    "    def _update_medoids(self):\n",
    "        changed = False\n",
    "        new_clusters = []\n",
    "        total_changed = 0\n",
    "        for cluster in self.clusters:\n",
    "            optimal_cluster = cluster\n",
    "            target_cost = sum(cluster.distances)\n",
    "            for some_point in cluster.points:\n",
    "                new_cluster = cluster\n",
    "                new_cluster.points.append(new_cluster.medoid)\n",
    "                new_cluster.points.remove(some_point)\n",
    "                new_cluster.medoid = some_point\n",
    "                total_cost = self._calc_cluster_cost(new_cluster.medoid, new_cluster)\n",
    "                if total_cost < target_cost:\n",
    "                    target_cost = total_cost\n",
    "                    optimal_cluster = new_cluster\n",
    "                    changed = True\n",
    "                    total_changed += 1\n",
    "            new_clusters.append(optimal_cluster)\n",
    "        self.clusters = new_clusters\n",
    "        self.num_changes = total_changed\n",
    "        if not changed:\n",
    "            return False\n",
    "        else:\n",
    "            return True\n",
    "        \n",
    "    def _create_self_O(self):\n",
    "        self.O = []\n",
    "        for cluster in self.clusters:\n",
    "            self.O += cluster.points\n",
    "            \n",
    "    def _update_costs(self, iter_num):\n",
    "        self.distsum.append((iter_num, sum(map(lambda x: sum(x.distances), self.clusters))))\n",
    "\n",
    "    def _calc_cluster_cost(self, medoid, cluster):\n",
    "        return sum(map(lambda x: self._calc_distance(x, cluster), cluster.points))"
   ]
  },
  {
   "cell_type": "code",
   "execution_count": 1017,
   "metadata": {
    "collapsed": false
   },
   "outputs": [
    {
     "name": "stdout",
     "output_type": "stream",
     "text": [
      "1\n",
      "2\n",
      "3\n",
      "4\n",
      "5\n",
      "6\n",
      "7\n",
      "8\n",
      "9\n",
      "10\n"
     ]
    }
   ],
   "source": [
    "def test_km():\n",
    "    ncols = 3\n",
    "    M = np.random.rand(100,ncols)\n",
    "    X, y, w = M[:,:ncols-1], M[:,ncols-2:-1], M[:,ncols-1:]\n",
    "    km = KMedoids(6, max_iters = 10, threshold_change = 1)\n",
    "    clusters = km.fit(X, y, w)\n",
    "    return clusters\n",
    "    \n",
    "c = test_km()"
   ]
  },
  {
   "cell_type": "code",
   "execution_count": 1020,
   "metadata": {
    "collapsed": false
   },
   "outputs": [],
   "source": [
    "def agg_points(clusters, plot = False):\n",
    "    all_points = np.empty((1,2))\n",
    "    colours = []\n",
    "    for c in clusters:\n",
    "        for point in c.points:\n",
    "            all_points = np.vstack((all_points, point.x[np.newaxis, :]))\n",
    "        all_points = np.vstack((all_points, c.medoid.x[np.newaxis,:]))\n",
    "        colours += [c.label for i in range(len(c.points) + 1)]\n",
    "\n",
    "\n",
    "    x, y, c = all_points[1:,0], all_points[1:,1], np.array(colours)\n",
    "    if plot:\n",
    "        \n",
    "        def colourmap_ints(num_list, ordered = False, convert = False):\n",
    "            uniques = np.unique(num_list)\n",
    "            if ordered:\n",
    "                colours = {str(v): i for (i, v) in enumerate(uniques)}\n",
    "                if convert:\n",
    "                    return [colours[str(c)] for c in num_list]\n",
    "            else:\n",
    "                colours = np.random.permutation(range(len(uniques)))\n",
    "\n",
    "            return colours\n",
    "        \n",
    "        n_points = len(x)\n",
    "        n_clusters = len(np.unique(c))\n",
    "        \n",
    "        colour_ints = colourmap_ints(c, True, True)\n",
    "        hot = plt.get_cmap('hot')\n",
    "        cNorm  = colors.Normalize(vmin=0, vmax=n_clusters)\n",
    "        scalarMap = cmx.ScalarMappable(norm=cNorm, cmap=hot)\n",
    "        colours = [scalarMap.to_rgba(i) for i in colour_ints]\n",
    "        \n",
    "        # setup the plot\n",
    "        fig, ax = plt.subplots(1,1, figsize=(10,10))\n",
    "        ax.scatter(x,y,s=15, c = colours)\n",
    "\n",
    "        \n",
    "    else:\n",
    "        return x, y, c"
   ]
  },
  {
   "cell_type": "code",
   "execution_count": 1129,
   "metadata": {
    "collapsed": false
   },
   "outputs": [],
   "source": [
    "fp = '../../../data/databases/db15/Skills.txt'\n",
    "Skills = load_skills(fp)\n",
    "Skills['O*NET-SOC Code'] = Skills['O*NET-SOC Code'].apply(lambda x: str(x)[:-3])\n",
    "Skills = Skills.replace(np.nan, 0)\n",
    "Skills = Skills.drop_duplicates(subset = 'O*NET-SOC Code')"
   ]
  },
  {
   "cell_type": "code",
   "execution_count": 1130,
   "metadata": {
    "collapsed": false
   },
   "outputs": [],
   "source": [
    "emp_figs = pd.read_csv('../../../data/education/employment_numbers.csv').iloc[:,:-1]\n",
    "emp_figs.columns = ['O*NET-SOC Code', 'e2014', 'c']\n",
    "Skills = Skills.merge(emp_figs[['O*NET-SOC Code', 'e2014']], on = 'O*NET-SOC Code', how = 'inner')\n",
    "Skills.e2014 = Skills.e2014.apply(lambda x: float(str(x).replace(',','')))"
   ]
  },
  {
   "cell_type": "code",
   "execution_count": 1067,
   "metadata": {
    "collapsed": false
   },
   "outputs": [
    {
     "data": {
      "text/plain": [
       "500.0"
      ]
     },
     "execution_count": 1067,
     "metadata": {},
     "output_type": "execute_result"
    }
   ],
   "source": [
    "150000*0.10 / 30"
   ]
  },
  {
   "cell_type": "code",
   "execution_count": 1134,
   "metadata": {
    "collapsed": false
   },
   "outputs": [
    {
     "data": {
      "text/plain": [
       "(117, 37)"
      ]
     },
     "execution_count": 1134,
     "metadata": {},
     "output_type": "execute_result"
    }
   ],
   "source": [
    "subset_Skills = Skills[Skills.e2014 > 300]\n",
    "subset_Skills.shape"
   ]
  },
  {
   "cell_type": "code",
   "execution_count": 1135,
   "metadata": {
    "collapsed": false
   },
   "outputs": [],
   "source": [
    "weights = subset_Skills.pop('e2014')\n",
    "ones_weights = np.ones_like(weights)\n",
    "codes = subset_Skills.pop('O*NET-SOC Code')"
   ]
  },
  {
   "cell_type": "code",
   "execution_count": 1136,
   "metadata": {
    "collapsed": true
   },
   "outputs": [],
   "source": [
    "km = KMedoids(30, transform = lambda x: 1/x, max_iters = 4000, threshold_change = 5)"
   ]
  },
  {
   "cell_type": "code",
   "execution_count": 1137,
   "metadata": {
    "collapsed": false,
    "scrolled": true
   },
   "outputs": [
    {
     "name": "stdout",
     "output_type": "stream",
     "text": [
      "1\n",
      "2\n",
      "3\n",
      "4\n",
      "5\n",
      "6\n",
      "7\n",
      "8\n",
      "9\n",
      "10\n",
      "11\n",
      "12\n",
      "13\n"
     ]
    }
   ],
   "source": [
    "clusters = km.fit(np.array(subset_Skills), ones_weights, codes)"
   ]
  },
  {
   "cell_type": "code",
   "execution_count": 1138,
   "metadata": {
    "collapsed": true
   },
   "outputs": [],
   "source": [
    "x, y = np.array(km.distsum)[:,0], np.array(km.distsum)[:,1]"
   ]
  },
  {
   "cell_type": "code",
   "execution_count": 1139,
   "metadata": {
    "collapsed": false
   },
   "outputs": [],
   "source": [
    "codes = [c.medoid.code for c in clusters]"
   ]
  },
  {
   "cell_type": "code",
   "execution_count": 1143,
   "metadata": {
    "collapsed": false
   },
   "outputs": [
    {
     "data": {
      "text/plain": [
       "0       343.4\n",
       "32      985.6\n",
       "36      300.8\n",
       "61      303.2\n",
       "68      328.6\n",
       "69      718.4\n",
       "170     386.6\n",
       "292     347.2\n",
       "338    1492.1\n",
       "355     327.3\n",
       "363     680.0\n",
       "368    1095.4\n",
       "374     890.1\n",
       "380     873.9\n",
       "382    3159.7\n",
       "391    2360.6\n",
       "413     597.2\n",
       "438     853.5\n",
       "462    2581.8\n",
       "482     304.6\n",
       "522    1159.1\n",
       "568     447.1\n",
       "608    1374.7\n",
       "655     397.9\n",
       "702     496.6\n",
       "720     419.2\n",
       "732     497.3\n",
       "733     445.3\n",
       "763     695.4\n",
       "Name: e2014, dtype: float64"
      ]
     },
     "execution_count": 1143,
     "metadata": {},
     "output_type": "execute_result"
    }
   ],
   "source": [
    "Skills[Skills['O*NET-SOC Code'].isin(codes)].e2014"
   ]
  },
  {
   "cell_type": "code",
   "execution_count": 1145,
   "metadata": {
    "collapsed": false
   },
   "outputs": [
    {
     "name": "stdout",
     "output_type": "stream",
     "text": [
      "Chief executives \n",
      "\n",
      "Managers, all other \n",
      "\n",
      "Purchasing agents, except wholesale, retail, and farm products \n",
      "\n",
      "Loan officers \n",
      "\n",
      "Computer programmers \n",
      "\n",
      "Software developers, applications \n",
      "\n",
      "Social and human service assistants \n",
      "\n",
      "Physicians and surgeons, all other \n",
      "\n",
      "Nursing assistants \n",
      "\n",
      "Firefighters \n",
      "\n",
      "Police and sheriff's patrol officers \n",
      "\n",
      "Security guards \n",
      "\n",
      "First-line supervisors of food preparation and serving workers \n",
      "\n",
      "Food preparation workers \n",
      "\n",
      "Combined food preparation and serving workers, including fast food \n",
      "\n",
      "Janitors and cleaners, except maids and housekeeping cleaners \n",
      "\n",
      "Hairdressers, hairstylists, and cosmetologists \n",
      "\n",
      "Sales representatives, services, all other \n",
      "\n",
      "Customer service representatives \n",
      "\n",
      "Production, planning, and expediting clerks \n",
      "\n",
      "Construction laborers \n",
      "\n",
      "First-line supervisors of mechanics, installers, and repairers \n",
      "\n",
      "Maintenance and repair workers, general \n",
      "\n",
      "Welders, cutters, solderers, and brazers \n",
      "\n",
      "Inspectors, testers, sorters, samplers, and weighers \n",
      "\n",
      "Helpers--production workers \n",
      "\n",
      "Bus drivers, school or special client \n",
      "\n",
      "Driver/sales workers \n",
      "\n",
      "Packers and packagers, hand \n",
      "\n"
     ]
    }
   ],
   "source": [
    "for i in emp_figs[emp_figs['O*NET-SOC Code'].isin(codes)].c:\n",
    "    print i, '\\n'"
   ]
  },
  {
   "cell_type": "code",
   "execution_count": null,
   "metadata": {
    "collapsed": true
   },
   "outputs": [],
   "source": []
  }
 ],
 "metadata": {
  "kernelspec": {
   "display_name": "Python 2",
   "language": "python",
   "name": "python2"
  },
  "language_info": {
   "codemirror_mode": {
    "name": "ipython",
    "version": 2
   },
   "file_extension": ".py",
   "mimetype": "text/x-python",
   "name": "python",
   "nbconvert_exporter": "python",
   "pygments_lexer": "ipython2",
   "version": "2.7.11"
  }
 },
 "nbformat": 4,
 "nbformat_minor": 0
}
