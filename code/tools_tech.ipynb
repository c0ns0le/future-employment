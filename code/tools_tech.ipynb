{
 "cells": [
  {
   "cell_type": "code",
   "execution_count": 9,
   "metadata": {
    "collapsed": true
   },
   "outputs": [],
   "source": [
    "import pandas as pd\n",
    "import numpy as np"
   ]
  },
  {
   "cell_type": "code",
   "execution_count": 3,
   "metadata": {
    "collapsed": false
   },
   "outputs": [],
   "source": [
    "df = pd.read_table(\"tools_technology/Tools and Technology.txt\")"
   ]
  },
  {
   "cell_type": "code",
   "execution_count": 5,
   "metadata": {
    "collapsed": false
   },
   "outputs": [],
   "source": [
    "df.columns = [\"onet_soc_code\", \"title\", \"type\", \"example\", \"commodity_code\", \"commodity_title\"]"
   ]
  },
  {
   "cell_type": "markdown",
   "metadata": {},
   "source": [
    "In this data frame, you track __973 occupations.__"
   ]
  },
  {
   "cell_type": "code",
   "execution_count": 34,
   "metadata": {
    "collapsed": false
   },
   "outputs": [
    {
     "data": {
      "text/plain": [
       "7                                      AdSense Tracker\n",
       "8                 ComputerEase Construction Accounting\n",
       "9                          Database reporting software\n",
       "10          Database user interface and query software\n",
       "11                                    Databox software\n",
       "12                                      Email software\n",
       "13           Enterprise resource planning ERP software\n",
       "14          Exact Software Macola ES Labor Performance\n",
       "15                       Graphic presentation software\n",
       "16                                        Halogen e360\n",
       "17                                    Halogen ePraisal\n",
       "18                                       HCSS HeavyBid\n",
       "19                                       HCSS HeavyJob\n",
       "20     Human resource information system HRIS software\n",
       "21                  Infor SSA Human Capital Management\n",
       "22                          Intuit QuickBooks software\n",
       "23                                   Listserv software\n",
       "24                     Lyris HQ Web-Analytics Solution\n",
       "25                                    Microsoft Access\n",
       "26                               Microsoft Dynamics AX\n",
       "27                                     Microsoft Excel\n",
       "28                                       Microsoft FRx\n",
       "29                     Microsoft Great Plains software\n",
       "30                           Microsoft Office software\n",
       "31                                   Microsoft Outlook\n",
       "32                                Microsoft PowerPoint\n",
       "33                                   Microsoft Project\n",
       "34                                 Microsoft Publisher\n",
       "35                                      Microsoft Word\n",
       "36                                    Nedstat Sitestat\n",
       "                            ...                       \n",
       "106                         Intuit QuickBooks software\n",
       "107                      Inventory management software\n",
       "108                           Kronos Workforce Payroll\n",
       "109                        Kronos Workforce Timekeeper\n",
       "110                               LSA Visual Easy Lean\n",
       "111            Maximizer Software Maximizer Enterprise\n",
       "112                                   Microsoft Access\n",
       "113                                    Microsoft Excel\n",
       "114                                Microsoft FrontPage\n",
       "115                        Microsoft Internet Explorer\n",
       "116            Microsoft Office SharePoint Server MOSS\n",
       "117                          Microsoft Office software\n",
       "118                             Microsoft Office Visio\n",
       "119                                  Microsoft Outlook\n",
       "120                               Microsoft PowerPoint\n",
       "121                                  Microsoft Project\n",
       "122                                     Microsoft Word\n",
       "123                                    Mozilla Firefox\n",
       "124                                Mozilla Thunderbird\n",
       "125                                    NetSuite NetCRM\n",
       "126                              Office suite software\n",
       "127                                   Payroll software\n",
       "128                      Personnel scheduling software\n",
       "129                         Point of sale POS software\n",
       "130                              Presentation software\n",
       "131                            Realization Streamliner\n",
       "132                                          Sage ACT!\n",
       "133                                       Sage MAS 500\n",
       "134                      Salesforce.com Salesforce CRM\n",
       "135                                       SAP software\n",
       "Name: example, dtype: object"
      ]
     },
     "execution_count": 34,
     "metadata": {},
     "output_type": "execute_result"
    }
   ],
   "source": [
    "df[df.type == \"Technology\"].example.head(100)"
   ]
  },
  {
   "cell_type": "code",
   "execution_count": 22,
   "metadata": {
    "collapsed": false
   },
   "outputs": [
    {
     "data": {
      "text/plain": [
       "title\n",
       "Geoscientists, Except Hydrologists and Geographers                          291\n",
       "Craft Artists                                                               275\n",
       "Musical Instrument Repairers and Tuners                                     258\n",
       "Helpers--Pipelayers, Plumbers, Pipefitters, and Steamfitters                256\n",
       "Dentists, General                                                           247\n",
       "Bakers                                                                      246\n",
       "Biochemists and Biophysicists                                               244\n",
       "Environmental Engineering Technicians                                       243\n",
       "Biomedical Engineers                                                        241\n",
       "Chemists                                                                    233\n",
       "Automotive Master Mechanics                                                 229\n",
       "Hydrologists                                                                219\n",
       "Computer Network Architects                                                 216\n",
       "Plumbers                                                                    211\n",
       "Maintenance and Repair Workers, General                                     211\n",
       "Registered Nurses                                                           209\n",
       "Software Developers, Systems Software                                       203\n",
       "Veterinarians                                                               202\n",
       "Health Specialties Teachers, Postsecondary                                  202\n",
       "Automotive Specialty Technicians                                            199\n",
       "Boilermakers                                                                197\n",
       "Chemical Technicians                                                        196\n",
       "Surgeons                                                                    195\n",
       "Software Developers, Applications                                           194\n",
       "Materials Engineers                                                         192\n",
       "Hunters and Trappers                                                        192\n",
       "Agricultural Equipment Operators                                            191\n",
       "Millwrights                                                                 189\n",
       "Microbiologists                                                             188\n",
       "Machinists                                                                  186\n",
       "                                                                           ... \n",
       "Insurance Claims Clerks                                                      18\n",
       "Locker Room, Coatroom, and Dressing Room Attendants                          18\n",
       "Directors, Religious Activities and Education                                18\n",
       "Parts Salespersons                                                           18\n",
       "Crossing Guards                                                              18\n",
       "Pharmacy Aides                                                               18\n",
       "Gaming Managers                                                              17\n",
       "Dishwashers                                                                  17\n",
       "First-Line Supervisors of Personal Service Workers                           17\n",
       "Shampooers                                                                   17\n",
       "Correspondence Clerks                                                        17\n",
       "Clergy                                                                       17\n",
       "Choreographers                                                               17\n",
       "Farm and Home Management Advisors                                            17\n",
       "Energy Brokers                                                               17\n",
       "Investment Underwriters                                                      16\n",
       "Tutors                                                                       16\n",
       "Farm Labor Contractors                                                       16\n",
       "Telemarketers                                                                16\n",
       "Arbitrators, Mediators, and Conciliators                                     15\n",
       "Subway and Streetcar Operators                                               15\n",
       "Child, Family, and School Social Workers                                     15\n",
       "Gaming Cage Workers                                                          15\n",
       "Baggage Porters and Bellhops                                                 14\n",
       "Credit Authorizers                                                           14\n",
       "Demonstrators and Product Promoters                                          14\n",
       "Gaming Change Persons and Booth Cashiers                                     12\n",
       "Gaming Supervisors                                                           12\n",
       "Door-To-Door Sales Workers, News and Street Vendors, and Related Workers     10\n",
       "Ushers, Lobby Attendants, and Ticket Takers                                   9\n",
       "Name: type, dtype: int64"
      ]
     },
     "execution_count": 22,
     "metadata": {},
     "output_type": "execute_result"
    }
   ],
   "source": [
    "df.groupby(\"title\").count().type.order(ascending = False)"
   ]
  },
  {
   "cell_type": "code",
   "execution_count": 27,
   "metadata": {
    "collapsed": false
   },
   "outputs": [
    {
     "data": {
      "text/plain": [
       "973"
      ]
     },
     "execution_count": 27,
     "metadata": {},
     "output_type": "execute_result"
    }
   ],
   "source": []
  },
  {
   "cell_type": "code",
   "execution_count": null,
   "metadata": {
    "collapsed": true
   },
   "outputs": [],
   "source": []
  }
 ],
 "metadata": {
  "kernelspec": {
   "display_name": "Python 2",
   "language": "python",
   "name": "python2"
  },
  "language_info": {
   "codemirror_mode": {
    "name": "ipython",
    "version": 2
   },
   "file_extension": ".py",
   "mimetype": "text/x-python",
   "name": "python",
   "nbconvert_exporter": "python",
   "pygments_lexer": "ipython2",
   "version": "2.7.10"
  }
 },
 "nbformat": 4,
 "nbformat_minor": 0
}
