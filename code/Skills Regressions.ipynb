{
 "cells": [
  {
   "cell_type": "code",
   "execution_count": 1,
   "metadata": {
    "collapsed": true
   },
   "outputs": [],
   "source": [
    "import pandas as pd\n",
    "import numpy as np\n",
    "import seaborn as sns\n",
    "import sklearn\n",
    "import GPy\n",
    "\n",
    "from sklearn.cross_validation import train_test_split\n",
    "from sklearn.linear_model import ridge_regression\n",
    "from sklearn.ensemble import RandomForestRegressor\n",
    "\n",
    "%matplotlib inline"
   ]
  },
  {
   "cell_type": "markdown",
   "metadata": {},
   "source": [
    "## Load Data"
   ]
  },
  {
   "cell_type": "code",
   "execution_count": 2,
   "metadata": {
    "collapsed": true
   },
   "outputs": [],
   "source": [
    "became_automated = pd.read_csv(\"../data/db15/helpers/delta_9_15.csv\")\n",
    "tt6 = pd.read_csv('../data/db15/helpers/tt6.csv')\n",
    "tt9 = pd.read_csv('../data/db15/helpers/tt9.csv')\n",
    "tt15 = pd.read_csv('../data/db15/helpers/tt15.csv')"
   ]
  },
  {
   "cell_type": "code",
   "execution_count": 3,
   "metadata": {
    "collapsed": false
   },
   "outputs": [],
   "source": [
    "# Create X (feature matrix)\n",
    "\n",
    "def create_factor_df(path, scale_id):\n",
    "    X = pd.read_table(path)\n",
    "    X = X[X['Scale ID'] == scale_id][['O*NET-SOC Code', 'Element Name', 'Data Value']].reset_index(drop = True)\n",
    "    X = X.pivot(index = 'O*NET-SOC Code', columns = 'Element Name', values = 'Data Value')\n",
    "    X.index.name = None\n",
    "    X['O*NET-SOC Code'] = X.index\n",
    "    return X.reset_index(drop = True)"
   ]
  },
  {
   "cell_type": "code",
   "execution_count": 4,
   "metadata": {
    "collapsed": false
   },
   "outputs": [
    {
     "data": {
      "text/plain": [
       "81.320255227944003"
      ]
     },
     "execution_count": 4,
     "metadata": {},
     "output_type": "execute_result"
    }
   ],
   "source": [
    "X = create_factor_df('../data/db09/Skills.txt', 'LV')\n",
    "np.linalg.cond(X.drop('O*NET-SOC Code', axis = 1))"
   ]
  },
  {
   "cell_type": "markdown",
   "metadata": {},
   "source": [
    "> Note – strong multicollinearity warning"
   ]
  },
  {
   "cell_type": "markdown",
   "metadata": {},
   "source": [
    "# Y = AUTOMATION % CHANGE"
   ]
  },
  {
   "cell_type": "markdown",
   "metadata": {},
   "source": [
    "First, clean data and add y_target"
   ]
  },
  {
   "cell_type": "code",
   "execution_count": 5,
   "metadata": {
    "collapsed": false
   },
   "outputs": [],
   "source": [
    "X = X.merge(became_automated[['O*NET-SOC Code', 'delta_pct']], how = 'left', on = 'O*NET-SOC Code').drop('O*NET-SOC Code', axis = 1)\n",
    "y = X['delta_pct']\n",
    "X = X.drop('delta_pct', axis = 1)\n",
    "X = X[y.notnull()]\n",
    "y = y[y.notnull()]"
   ]
  },
  {
   "cell_type": "markdown",
   "metadata": {},
   "source": [
    "Filter the data"
   ]
  },
  {
   "cell_type": "code",
   "execution_count": 6,
   "metadata": {
    "collapsed": true
   },
   "outputs": [],
   "source": [
    "# remove missing data\n",
    "def filt_nan(X, y):\n",
    "    filt = y.notnull()\n",
    "    X = X[filt]\n",
    "    y = y[filt]\n",
    "    return X, y\n",
    "\n",
    "X, y = filt_nan(X, y)"
   ]
  },
  {
   "cell_type": "code",
   "execution_count": 7,
   "metadata": {
    "collapsed": true
   },
   "outputs": [],
   "source": [
    "# focus only on data that has surpassed a certain threshold\n",
    "def filt_changed(X, y, threshold):\n",
    "    filt = abs(y) > threshold\n",
    "    X = X[filt]\n",
    "    y = y[filt]\n",
    "    return X, y\n",
    "\n",
    "X, y = filt_changed(X, y, 0.1)"
   ]
  },
  {
   "cell_type": "markdown",
   "metadata": {},
   "source": [
    "Then split data"
   ]
  },
  {
   "cell_type": "code",
   "execution_count": 8,
   "metadata": {
    "collapsed": true
   },
   "outputs": [],
   "source": [
    "X_train, X_test, y_train, y_test = train_test_split(X, y)\n",
    "data = [X_train, X_test, y_train, y_test]\n",
    "X_train, X_test, y_train, y_test = map(lambda x: np.array(x), data)"
   ]
  },
  {
   "cell_type": "markdown",
   "metadata": {},
   "source": [
    "Clean the data (GP regression requirements)"
   ]
  },
  {
   "cell_type": "code",
   "execution_count": 9,
   "metadata": {
    "collapsed": true
   },
   "outputs": [],
   "source": [
    "y_train, y_test = y_train[:,np.newaxis].squeeze(), y_test[:,np.newaxis].squeeze()"
   ]
  },
  {
   "cell_type": "markdown",
   "metadata": {},
   "source": [
    "Then create reporting functions"
   ]
  },
  {
   "cell_type": "code",
   "execution_count": 10,
   "metadata": {
    "collapsed": true
   },
   "outputs": [],
   "source": [
    "def get_r_squared(y_pred, y_true):\n",
    "    ssr = np.sum((y_pred - np.mean(y_true))**2)\n",
    "    sst = np.sum((y_true - np.mean(y_true))**2)\n",
    "    return float(ssr)/(sst)\n",
    "\n",
    "def get_mse(y_pred, y_true):\n",
    "    return np.mean((y_pred - y_true)**2)\n",
    "\n",
    "def get_rmse(y_pred, y_true):\n",
    "    return np.sqrt(get_mse(y_pred, y_true))\n",
    "\n",
    "def score_model(y_pred, y_true):\n",
    "    mean = np.mean(y_true)\n",
    "    rmse = get_rmse(y_pred, y_true)\n",
    "    r2 = get_r_squared(y_pred, y_true)\n",
    "    (mean, rmse, r2) = tuple(map(lambda x: round(x, 5), [mean, rmse, r2]))\n",
    "    \n",
    "    s = \"\"\"    MODEL RESULTS:\n",
    "    --------------\n",
    "\n",
    "    Mean  |  {}  |\n",
    "    RMSE  |  {}  |\n",
    "    R2    |  {}  |\n",
    "    \"\"\".format(mean, rmse, r2)\n",
    "    print s"
   ]
  },
  {
   "cell_type": "markdown",
   "metadata": {},
   "source": [
    "Then run models"
   ]
  },
  {
   "cell_type": "markdown",
   "metadata": {},
   "source": [
    "### Random Forest"
   ]
  },
  {
   "cell_type": "code",
   "execution_count": 11,
   "metadata": {
    "collapsed": false,
    "scrolled": true
   },
   "outputs": [
    {
     "name": "stdout",
     "output_type": "stream",
     "text": [
      "    MODEL RESULTS:\n",
      "    --------------\n",
      "\n",
      "    Mean  |  0.01241  |\n",
      "    RMSE  |  0.27776  |\n",
      "    R2    |  0.07538  |\n",
      "    \n"
     ]
    }
   ],
   "source": [
    "rf = RandomForestRegressor(n_estimators = 1000)\n",
    "rf.fit(X_train, y_train)\n",
    "predictions = rf.predict(X_test)\n",
    "score_model(predictions, y_test)"
   ]
  },
  {
   "cell_type": "markdown",
   "metadata": {},
   "source": [
    "### Gaussian Process"
   ]
  },
  {
   "cell_type": "markdown",
   "metadata": {},
   "source": [
    "Create several different kernels:"
   ]
  },
  {
   "cell_type": "code",
   "execution_count": 12,
   "metadata": {
    "collapsed": true
   },
   "outputs": [],
   "source": [
    "# Create nearly all possible kernels\n",
    "exp = GPy.kern.Exponential(1)\n",
    "lin = GPy.kern.Linear(1)\n",
    "expquad = GPy.kern.ExpQuad(1)\n",
    "rbf = GPy.kern.RBF(1)\n",
    "per = GPy.kern.PeriodicExponential(input_dim = 1)\n",
    "exp_t_lin = exp * lin\n",
    "lin_t_expquad = lin * expquad\n",
    "per_t_lin = per * lin\n",
    "per_t_exp = per * exp\n",
    "exp_p_lin = exp + lin\n",
    "lin_p_expquad = lin + expquad\n",
    "per_p_lin = per + lin\n",
    "per_p_exp = per + exp\n",
    "\n",
    "# list them for the optimize function\n",
    "kernel_list = [exp,\n",
    "             lin,\n",
    "             expquad,\n",
    "             rbf,\n",
    "             per,\n",
    "             exp_t_lin,\n",
    "             lin_t_expquad,\n",
    "             per_t_lin,\n",
    "             per_t_exp,\n",
    "             exp_p_lin,\n",
    "             lin_p_expquad,\n",
    "             per_p_lin,\n",
    "             per_p_exp]"
   ]
  },
  {
   "cell_type": "code",
   "execution_count": 13,
   "metadata": {
    "collapsed": true
   },
   "outputs": [],
   "source": [
    "def optimize_gaussian(X_train, y_train, X_test, y_test, kernel_list):\n",
    "    \"\"\"\n",
    "    Iterates through covariance functions and identifies the one\n",
    "    with the lowest RMSE, and returns:\n",
    "        - model,\n",
    "        - predictions,\n",
    "        - kernel name,\n",
    "        - RMSE\n",
    "    \"\"\"\n",
    "    best_model = None\n",
    "    best_rmse = float('inf')\n",
    "    best_name = None\n",
    "    best_preds = None\n",
    "    nowork = []\n",
    "    \n",
    "    new_ys = []\n",
    "    for y_array in [y_train, y_test]:\n",
    "        if len(y_array.shape) == 1:\n",
    "            new_ys.append(y_array[:,np.newaxis])\n",
    "    y_train, y_test = new_ys\n",
    "    \n",
    "    for kernel in kernel_list:\n",
    "        try:\n",
    "            m = GPy.models.GPRegression(X_train, y_train, kernel = kernel)\n",
    "            m.optimize(max_f_eval = 1000)\n",
    "            mean, var = m.predict(np.array(X_test))\n",
    "            rmse = get_rmse(mean.squeeze(), y_test)\n",
    "            if rmse < best_rmse:\n",
    "                best_model = m\n",
    "                best_rmse = rmse\n",
    "                best_name = kernel.name\n",
    "                best_preds = mean.squeeze()\n",
    "            print \"\"\"{} RMSE: {}\n",
    "            \"\"\".format(kernel.name, rmse)\n",
    "        except:\n",
    "            nowork.append(kernel.name)\n",
    "\n",
    "    return best_model, best_preds, best_name, best_rmse"
   ]
  },
  {
   "cell_type": "code",
   "execution_count": 14,
   "metadata": {
    "collapsed": false
   },
   "outputs": [
    {
     "name": "stdout",
     "output_type": "stream",
     "text": [
      "Exponential RMSE: 0.268115747804\n",
      "            \n",
      "linear RMSE: 0.268136987336\n",
      "            \n",
      "ExpQuad RMSE: 0.268116156785\n",
      "            \n",
      "rbf RMSE: 0.268116156785\n",
      "            \n",
      "periodic_exponential RMSE: 0.268050068417\n",
      "            \n"
     ]
    }
   ],
   "source": [
    "m, y_pred, name, rmse = optimize_gaussian(X_train, y_train, X_test, y_test, kernel_list)"
   ]
  },
  {
   "cell_type": "code",
   "execution_count": 15,
   "metadata": {
    "collapsed": false
   },
   "outputs": [
    {
     "name": "stdout",
     "output_type": "stream",
     "text": [
      "    MODEL RESULTS:\n",
      "    --------------\n",
      "\n",
      "    Mean  |  0.01241  |\n",
      "    RMSE  |  0.26805  |\n",
      "    R2    |  0.00215  |\n",
      "    \n"
     ]
    }
   ],
   "source": [
    "score_model(y_pred, y_test)"
   ]
  },
  {
   "cell_type": "markdown",
   "metadata": {},
   "source": [
    "### LASSO Regression"
   ]
  },
  {
   "cell_type": "code",
   "execution_count": 16,
   "metadata": {
    "collapsed": false
   },
   "outputs": [
    {
     "name": "stdout",
     "output_type": "stream",
     "text": [
      "    MODEL RESULTS:\n",
      "    --------------\n",
      "\n",
      "    Mean  |  0.01241  |\n",
      "    RMSE  |  0.26892  |\n",
      "    R2    |  0.00864  |\n",
      "    \n"
     ]
    }
   ],
   "source": [
    "lasso = sklearn.linear_model.Lasso()\n",
    "lasso.fit(X_train, y_train)\n",
    "y_pred = lasso.predict(X_test)\n",
    "score_model(y_pred, y_test)"
   ]
  },
  {
   "cell_type": "markdown",
   "metadata": {},
   "source": [
    "# Y = AUTOMATION (abs) CHANGE"
   ]
  },
  {
   "cell_type": "code",
   "execution_count": 17,
   "metadata": {
    "collapsed": true
   },
   "outputs": [],
   "source": [
    "X = create_factor_df('../data/db09/Skills.txt', 'LV')\n",
    "X = X.merge(became_automated[['O*NET-SOC Code', 'delta']], how = 'left', on = 'O*NET-SOC Code').drop('O*NET-SOC Code', axis = 1)\n",
    "y = X['delta']\n",
    "X = X.drop('delta', axis = 1)\n",
    "X = X[y.notnull()]\n",
    "y = y[y.notnull()]\n",
    "\n",
    "X, y = np.array(X), np.array(y).squeeze()"
   ]
  },
  {
   "cell_type": "code",
   "execution_count": 18,
   "metadata": {
    "collapsed": false
   },
   "outputs": [],
   "source": [
    "X_train, X_test, y_train, y_test = train_test_split(X, y)"
   ]
  },
  {
   "cell_type": "markdown",
   "metadata": {},
   "source": [
    "### Random Forests"
   ]
  },
  {
   "cell_type": "code",
   "execution_count": 19,
   "metadata": {
    "collapsed": false
   },
   "outputs": [
    {
     "name": "stdout",
     "output_type": "stream",
     "text": [
      "    MODEL RESULTS:\n",
      "    --------------\n",
      "\n",
      "    Mean  |  -0.02247  |\n",
      "    RMSE  |  0.32864  |\n",
      "    R2    |  0.20366  |\n",
      "    \n"
     ]
    }
   ],
   "source": [
    "rf = RandomForestRegressor()\n",
    "rf.fit(X_train, y_train)\n",
    "y_pred = rf.predict(X_test)\n",
    "score_model(y_pred, y_test)"
   ]
  },
  {
   "cell_type": "markdown",
   "metadata": {},
   "source": [
    "### Gaussian Process"
   ]
  },
  {
   "cell_type": "code",
   "execution_count": 20,
   "metadata": {
    "collapsed": false
   },
   "outputs": [
    {
     "name": "stdout",
     "output_type": "stream",
     "text": [
      "Exponential RMSE: 0.300917019417\n",
      "            \n",
      "linear RMSE: 0.300917012176\n",
      "            \n",
      "ExpQuad RMSE: 0.300917019318\n",
      "            \n",
      "rbf RMSE: 0.300917019318\n",
      "            \n",
      "periodic_exponential RMSE: 0.300916966048\n",
      "            \n"
     ]
    }
   ],
   "source": [
    "m, y_pred, name, rmse = optimize_gaussian(X_train, y_train, X_test, y_test, kernel_list)"
   ]
  },
  {
   "cell_type": "code",
   "execution_count": 225,
   "metadata": {
    "collapsed": false
   },
   "outputs": [
    {
     "name": "stdout",
     "output_type": "stream",
     "text": [
      "    MODEL RESULTS:\n",
      "    --------------\n",
      "\n",
      "    Mean  |  0.021  |\n",
      "    RMSE  |  0.33218  |\n",
      "    R2    |  0.00599  |\n",
      "    \n"
     ]
    }
   ],
   "source": [
    "score_model(y_pred, y_test)"
   ]
  },
  {
   "cell_type": "markdown",
   "metadata": {},
   "source": [
    "# Y = log(\\# adopted technologies)"
   ]
  },
  {
   "cell_type": "code",
   "execution_count": 82,
   "metadata": {
    "collapsed": false
   },
   "outputs": [],
   "source": [
    "adoptions = pd.read_csv('tech_adoptions.csv')\n",
    "num_adoptions = pd.DataFrame(adoptions.groupby('O*NET-SOC Code')['Title'].count()).reset_index()\n",
    "num_adoptions.columns = ['O*NET-SOC Code', 'num_adopted']\n",
    "\n",
    "\n",
    "X = create_factor_df('../data/db09/Skills.txt', 'LV')\n",
    "X = X.merge(num_adoptions[['O*NET-SOC Code', 'num_adopted']], how = 'left', on = 'O*NET-SOC Code').drop('O*NET-SOC Code', axis = 1)\n",
    "X.num_it_adopted = X.num_adopted.fillna(value = 0)\n",
    "y = X.num_adopted\n",
    "X = X.drop('num_adopted', axis = 1)\n",
    "X = X[y.notnull()]\n",
    "y = y[y.notnull()]"
   ]
  },
  {
   "cell_type": "code",
   "execution_count": 83,
   "metadata": {
    "collapsed": false
   },
   "outputs": [
    {
     "name": "stdout",
     "output_type": "stream",
     "text": [
      "Exponential RMSE: 43.9328967308\n",
      "            \n",
      "linear RMSE: 43.9328967177\n",
      "            \n",
      "ExpQuad RMSE: 43.9328967303\n",
      "            \n",
      "rbf RMSE: 43.9328967303\n",
      "            \n",
      "periodic_exponential RMSE: 43.9328967165\n",
      "            \n",
      "    MODEL RESULTS:\n",
      "    --------------\n",
      "\n",
      "    Mean  |  28.07602  |\n",
      "    RMSE  |  43.9329  |\n",
      "    R2    |  0.69035  |\n",
      "    \n"
     ]
    }
   ],
   "source": [
    "X_train, X_test, y_train, y_test = train_test_split(X, y)\n",
    "m, y_pred, name, rmse = optimize_gaussian(X_train, y_train, X_test, y_test, kernel_list)\n",
    "score_model(y_pred, y_test)"
   ]
  },
  {
   "cell_type": "markdown",
   "metadata": {},
   "source": [
    "> ### This appears to explain a lot of variation; pursue feature importances with Random Forest"
   ]
  },
  {
   "cell_type": "code",
   "execution_count": 86,
   "metadata": {
    "collapsed": false
   },
   "outputs": [
    {
     "name": "stdout",
     "output_type": "stream",
     "text": [
      "    MODEL RESULTS:\n",
      "    --------------\n",
      "\n",
      "    Mean  |  28.07602  |\n",
      "    RMSE  |  30.14601  |\n",
      "    R2    |  0.31317  |\n",
      "    \n"
     ]
    }
   ],
   "source": [
    "rf = RandomForestRegressor(n_estimators = 200)\n",
    "rf.fit(X_train, y_train)\n",
    "y_pred = rf.predict(X_test)\n",
    "score_model(y_pred, y_test)"
   ]
  },
  {
   "cell_type": "code",
   "execution_count": 102,
   "metadata": {
    "collapsed": false
   },
   "outputs": [
    {
     "name": "stdout",
     "output_type": "stream",
     "text": [
      "Monitoring  \t \t  0.0545767269121\n",
      "Operations Analysis  \t \t  0.114527258596\n",
      "Complex Problem Solving  \t \t  0.0784093588529\n",
      "Active Listening  \t \t  -0.0200878790641\n",
      "Active Learning  \t \t  0.112961857603\n",
      "Systems Analysis  \t \t  0.0184033406038\n",
      "Critical Thinking  \t \t  0.0889422907895\n",
      "Negotiation  \t \t  -0.0477685857588\n",
      "Persuasion  \t \t  -0.00337846695395\n",
      "Management of Material Resources  \t \t  0.12839245353\n"
     ]
    }
   ],
   "source": [
    "feature_importances = zip(X_train.columns, rf.feature_importances_)\n",
    "feature_importances.sort(key=lambda x: x[1])\n",
    "top_ten_most_important = [i[0] for i in feature_importances[:10]]\n",
    "for feature in top_ten_most_important:\n",
    "    vals  = X[feature]\n",
    "    print feature,\" \\t \\t \", np.corrcoef(np.array(vals), np.array(y).squeeze())[0][1]"
   ]
  },
  {
   "cell_type": "markdown",
   "metadata": {},
   "source": [
    "> ###So it seems the most important features have low correlation! There is some *mixture*\n",
    "> ### of features that is then important. So:\n",
    "    > ### * What is a better measure of feature importances\n",
    "    > ### * How do you find great combinations of variables?"
   ]
  },
  {
   "cell_type": "markdown",
   "metadata": {},
   "source": [
    "# Y = log(\\# adopted IT technologies)"
   ]
  },
  {
   "cell_type": "code",
   "execution_count": 80,
   "metadata": {
    "collapsed": false
   },
   "outputs": [],
   "source": [
    "just_it = adoptions[adoptions.segment_title == 'Information Technology Broadcasting and Telecommunications']\n",
    "it_adoptions = pd.DataFrame(just_it.groupby(\"O*NET-SOC Code\").Title.count()).reset_index()\n",
    "it_adoptions.columns = ['O*NET-SOC Code', 'num_it_adopted']\n",
    "\n",
    "X = create_factor_df('../data/db09/Skills.txt', 'LV')\n",
    "X = X.merge(it_adoptions[['O*NET-SOC Code', 'num_it_adopted']], how = 'left', on = 'O*NET-SOC Code').drop('O*NET-SOC Code', axis = 1)\n",
    "X.num_it_adopted = X.num_it_adopted.fillna(value = 0)\n",
    "y = X.num_it_adopted\n",
    "X = X.drop('num_it_adopted', axis = 1)\n",
    "X = X[y.notnull()]\n",
    "y = y[y.notnull()]"
   ]
  },
  {
   "cell_type": "code",
   "execution_count": 81,
   "metadata": {
    "collapsed": false
   },
   "outputs": [
    {
     "name": "stdout",
     "output_type": "stream",
     "text": [
      "Exponential RMSE: 13.8126093589\n",
      "            \n",
      "linear RMSE: 13.8126093217\n",
      "            \n",
      "ExpQuad RMSE: 13.8126093575\n",
      "            \n",
      "rbf RMSE: 13.8126093575\n",
      "            \n",
      "periodic_exponential RMSE: 13.812609338\n",
      "            \n",
      "    MODEL RESULTS:\n",
      "    --------------\n",
      "\n",
      "    Mean  |  6.6601  |\n",
      "    RMSE  |  13.81261  |\n",
      "    R2    |  0.30292  |\n",
      "    \n"
     ]
    }
   ],
   "source": [
    "X_train, X_test, y_train, y_test = train_test_split(X, y)\n",
    "m, y_pred, name, rmse = optimize_gaussian(X_train, y_train, X_test, y_test, kernel_list)\n",
    "score_model(y_pred, y_test)"
   ]
  },
  {
   "cell_type": "markdown",
   "metadata": {},
   "source": [
    "# Y = log(\\# adopted emerging technologies)"
   ]
  },
  {
   "cell_type": "code",
   "execution_count": null,
   "metadata": {
    "collapsed": true
   },
   "outputs": [],
   "source": []
  }
 ],
 "metadata": {
  "kernelspec": {
   "display_name": "Python 2",
   "language": "python",
   "name": "python2"
  },
  "language_info": {
   "codemirror_mode": {
    "name": "ipython",
    "version": 2
   },
   "file_extension": ".py",
   "mimetype": "text/x-python",
   "name": "python",
   "nbconvert_exporter": "python",
   "pygments_lexer": "ipython2",
   "version": "2.7.10"
  }
 },
 "nbformat": 4,
 "nbformat_minor": 0
}
