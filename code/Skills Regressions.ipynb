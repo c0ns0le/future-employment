{
 "cells": [
  {
   "cell_type": "code",
   "execution_count": 3,
   "metadata": {
    "collapsed": true
   },
   "outputs": [],
   "source": [
    "import pandas as pd\n",
    "import numpy as np\n",
    "\n",
    "from sklearn.cross_validation import train_test_split\n",
    "from sklearn.linear_model import ridge_regression\n",
    "from sklearn.ensemble import RandomForestRegressor"
   ]
  },
  {
   "cell_type": "markdown",
   "metadata": {},
   "source": [
    "## Load Data"
   ]
  },
  {
   "cell_type": "code",
   "execution_count": 7,
   "metadata": {
    "collapsed": true
   },
   "outputs": [],
   "source": [
    "became_automated = pd.read_csv(\"../data/db15/helpers/delta_9_15.csv\")\n",
    "tt6 = pd.read_csv('../data/db15/helpers/tt6.csv')\n",
    "tt9 = pd.read_csv('../data/db15/helpers/tt9.csv')\n",
    "tt15 = pd.read_csv('../data/db15/helpers/tt15.csv')"
   ]
  },
  {
   "cell_type": "markdown",
   "metadata": {},
   "source": [
    "## Set Up"
   ]
  },
  {
   "cell_type": "code",
   "execution_count": 8,
   "metadata": {
    "collapsed": false
   },
   "outputs": [],
   "source": [
    "# Create X (feature matrix)\n",
    "# Create y (target variable)\n",
    "\n",
    "def create_factor_df(path, scale_id):\n",
    "    X = pd.read_table(path)\n",
    "    X = X[X['Scale ID'] == scale_id][['O*NET-SOC Code', 'Element Name', 'Data Value']].reset_index(drop = True)\n",
    "    X = X.pivot(index = 'O*NET-SOC Code', columns = 'Element Name', values = 'Data Value')\n",
    "    X.index.name = None\n",
    "    X['O*NET-SOC Code'] = X.index\n",
    "    return X.reset_index(drop = True)\n",
    "\n",
    "X = create_factor_df('../data/db09/Skills.txt', 'LV')\n",
    "X = X.merge(became_automated[['O*NET-SOC Code', 'delta_pct']], how = 'left', on = 'O*NET-SOC Code').drop('O*NET-SOC Code', axis = 1)\n",
    "y = X['delta_pct']\n",
    "X = X.drop('delta_pct', axis = 1)"
   ]
  },
  {
   "cell_type": "code",
   "execution_count": 9,
   "metadata": {
    "collapsed": false
   },
   "outputs": [
    {
     "data": {
      "text/plain": [
       "81.320255227944003"
      ]
     },
     "execution_count": 9,
     "metadata": {},
     "output_type": "execute_result"
    }
   ],
   "source": [
    "np.linalg.cond(X)"
   ]
  },
  {
   "cell_type": "markdown",
   "metadata": {},
   "source": [
    "> Note – there may be multicollinearity"
   ]
  },
  {
   "cell_type": "markdown",
   "metadata": {},
   "source": [
    "## Cleaning Data"
   ]
  },
  {
   "cell_type": "code",
   "execution_count": null,
   "metadata": {
    "collapsed": true
   },
   "outputs": [],
   "source": []
  },
  {
   "cell_type": "markdown",
   "metadata": {},
   "source": [
    "# Y = AUTOMATION"
   ]
  }
 ],
 "metadata": {
  "kernelspec": {
   "display_name": "Python 2",
   "language": "python",
   "name": "python2"
  },
  "language_info": {
   "codemirror_mode": {
    "name": "ipython",
    "version": 2
   },
   "file_extension": ".py",
   "mimetype": "text/x-python",
   "name": "python",
   "nbconvert_exporter": "python",
   "pygments_lexer": "ipython2",
   "version": "2.7.10"
  }
 },
 "nbformat": 4,
 "nbformat_minor": 0
}
