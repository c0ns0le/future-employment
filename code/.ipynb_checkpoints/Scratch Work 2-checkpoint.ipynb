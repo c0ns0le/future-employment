{
 "cells": [
  {
   "cell_type": "code",
   "execution_count": 3,
   "metadata": {
    "collapsed": true
   },
   "outputs": [],
   "source": [
    "import numpy as np"
   ]
  },
  {
   "cell_type": "code",
   "execution_count": 4,
   "metadata": {
    "collapsed": true
   },
   "outputs": [],
   "source": [
    "import numpy as np\n",
    "\n",
    "class PCA():\n",
    "\t\"\"\"\n",
    "\tRuns PCA & prints variables & importances for each component you ask for.\n",
    "\t\"\"\"\n",
    "\tdef __init__(self):\n",
    "\t\tself.input = self.X = None\n",
    "\t\tself.y = None\n",
    "\t\tself.dim = None\n",
    "\t\tself.K = None\n",
    "\t\tself.eigenmatrix = None\n",
    "\t\tself.names = None\n",
    "\n",
    "\tdef _subtract_means(self):\n",
    "\t\t\"\"\"\n",
    "\t\tNormalize input matrix by subtracting column wise means\n",
    "\t\t\"\"\"\n",
    "\t\tself.X = self.X - self.X.mean(axis = 0)\n",
    "\n",
    "\tdef _create_cov_matrix(self):\n",
    "\t\tself.K = np.cov(self.X.T)\n",
    "\t\t# # self written code:\n",
    "\t\t# X = self.X\n",
    "\t\t# K = np.zeros((self.dim, self.dim))\n",
    "\t\t# for i in xrange(self.dim):\n",
    "\t\t# \tfor j in xrange(i, self.dim):\n",
    "\t\t# \t\tif i != j:\n",
    "\t\t# \t\t\tK[i, j] = K[j, i] = np.cov(X[:,i], X[:,j])\n",
    "\t\t# \t\telse:\n",
    "\t\t# \t\t\tK[i, j] = np.var(X[:,i])\n",
    "\t\t# self.K = K\n",
    "\n",
    "\tdef _get_eigenvec(self):\n",
    "\t\tself.eig_vals, self.eig_vecs = np.linalg.eig(self.K)\n",
    "\t\torder = self.eig_vals.argsort()[::-1] # order eigenvalues largest to smallest\n",
    "\t\tself.eigenmatrix = self.eig_vecs[:,order]\n",
    "\t\tself.order = order\n",
    "\n",
    "\tdef _print_importances(self, n_components, n_variables):\n",
    "\t\tfeature_M = self.eigenmatrix[:,:n_components]\n",
    "\t\tfor component_num in xrange(n_components):\n",
    "\t\t\tcolumn = feature_M[:,component_num]\n",
    "\t\t\tmost_important = abs(column).argsort()[::-1][:n_variables] # get n_variables most important Eig Vec components\n",
    "\t\t\ttop_variables = column[most_important]\n",
    "\t\t\tprint \"COMPONENT {}:\".format(component_num + 1)\n",
    "\t\t\tfor index, value in zip(most_important, top_variables):\n",
    "\t\t\t\tvariable_name = self.names[index]\n",
    "\t\t\t\tprint \"{}: {}\".format(variable_name, round(value, 4))\n",
    "\t\t\tprint \"--------\"\n",
    "\n",
    "\tdef add_names(self, original_order_names):\n",
    "\t\tself.names = original_order_names\n",
    "\n",
    "\tdef fit(self, X, y):\n",
    "\t\tself.input = self.X = X\n",
    "\t\tself.y = y\n",
    "\t\tself.dim = X.shape[1]\n",
    "\n",
    "\tdef predict(self, n_components, n_variables):\n",
    "\t\tif not self.names:\n",
    "\t\t\tself._subtract_means()\n",
    "\t\t\tself._create_cov_matrix()\n",
    "\t\t\tself._get_eigenvec()\n",
    "\t\t\tself._print_importances(n_components, n_variables)\n",
    "\t\telse:\n",
    "\t\t\treturn \"Please input a list of [ {} ] variable names\".format(self.dim)\n",
    "\n",
    "\n"
   ]
  },
  {
   "cell_type": "code",
   "execution_count": 5,
   "metadata": {
    "collapsed": false
   },
   "outputs": [],
   "source": [
    "pca = PCA()"
   ]
  },
  {
   "cell_type": "code",
   "execution_count": 6,
   "metadata": {
    "collapsed": false
   },
   "outputs": [],
   "source": [
    "X = np.random.rand(100, 10)\n",
    "X[:,3] = X[:,3] + 80*np.random.uniform()\n",
    "X[:,7] = X[:,7] + 80*np.random.uniform()"
   ]
  },
  {
   "cell_type": "code",
   "execution_count": 153,
   "metadata": {
    "collapsed": false
   },
   "outputs": [],
   "source": [
    "y = np.array(list('0'*70 + '1'*30))\n",
    "np.random.shuffle(y)"
   ]
  },
  {
   "cell_type": "code",
   "execution_count": 154,
   "metadata": {
    "collapsed": true
   },
   "outputs": [],
   "source": [
    "pca.add_names(['1','2','3','4','5','6','7','8','9','10'])"
   ]
  },
  {
   "cell_type": "code",
   "execution_count": 155,
   "metadata": {
    "collapsed": true
   },
   "outputs": [],
   "source": [
    "pca.fit(X, y)"
   ]
  },
  {
   "cell_type": "code",
   "execution_count": 156,
   "metadata": {
    "collapsed": true
   },
   "outputs": [],
   "source": [
    "pca._subtract_means()"
   ]
  },
  {
   "cell_type": "code",
   "execution_count": 157,
   "metadata": {
    "collapsed": true
   },
   "outputs": [],
   "source": [
    "pca._create_cov_matrix()"
   ]
  },
  {
   "cell_type": "code",
   "execution_count": 158,
   "metadata": {
    "collapsed": true
   },
   "outputs": [],
   "source": [
    "pca._get_eigenvec()"
   ]
  },
  {
   "cell_type": "code",
   "execution_count": 159,
   "metadata": {
    "collapsed": false
   },
   "outputs": [
    {
     "data": {
      "text/plain": [
       "array([0, 3, 5, 4, 8, 9, 7, 6, 2, 1])"
      ]
     },
     "execution_count": 159,
     "metadata": {},
     "output_type": "execute_result"
    }
   ],
   "source": [
    "pca.eig_vals.argsort()[::-1]"
   ]
  },
  {
   "cell_type": "code",
   "execution_count": 162,
   "metadata": {
    "collapsed": false
   },
   "outputs": [
    {
     "name": "stdout",
     "output_type": "stream",
     "text": [
      "COMPONENT 1:\n",
      "7: -0.6229\n",
      "6: 0.5108\n",
      "10: -0.4232\n",
      "5: 0.2322\n",
      "9: 0.2209\n",
      "4: -0.1887\n",
      "1: 0.158\n",
      "3: 0.0916\n",
      "8: 0.0168\n",
      "2: 0.0081\n",
      "--------\n",
      "COMPONENT 2:\n",
      "2: -0.5519\n",
      "9: -0.4048\n",
      "1: 0.3934\n",
      "5: 0.3714\n",
      "8: 0.334\n",
      "10: 0.2662\n",
      "6: 0.2074\n",
      "7: 0.1032\n",
      "4: -0.0455\n",
      "3: 0.0249\n",
      "--------\n",
      "COMPONENT 3:\n",
      "4: -0.7126\n",
      "7: 0.3775\n",
      "10: -0.3409\n",
      "5: -0.3058\n",
      "3: 0.2385\n",
      "9: -0.2089\n",
      "8: 0.1474\n",
      "2: 0.088\n",
      "6: 0.0741\n",
      "1: 0.067\n",
      "--------\n",
      "COMPONENT 4:\n",
      "6: -0.5088\n",
      "1: 0.4842\n",
      "2: -0.4196\n",
      "8: -0.3336\n",
      "10: -0.2849\n",
      "5: -0.2836\n",
      "7: -0.2193\n",
      "3: 0.0888\n",
      "4: 0.0422\n",
      "9: 0.0039\n",
      "--------\n"
     ]
    }
   ],
   "source": [
    "pca._print_importances(4,10)"
   ]
  },
  {
   "cell_type": "code",
   "execution_count": 1,
   "metadata": {
    "collapsed": true
   },
   "outputs": [],
   "source": [
    "# Testing CDF & Percentiles"
   ]
  },
  {
   "cell_type": "code",
   "execution_count": 8,
   "metadata": {
    "collapsed": true
   },
   "outputs": [],
   "source": [
    "import pandas as pd"
   ]
  },
  {
   "cell_type": "code",
   "execution_count": 10,
   "metadata": {
    "collapsed": false
   },
   "outputs": [],
   "source": [
    "X = pd.DataFrame(X)"
   ]
  },
  {
   "cell_type": "code",
   "execution_count": 39,
   "metadata": {
    "collapsed": false
   },
   "outputs": [],
   "source": [
    "def series_to_percentiles(series):\n",
    "    \"\"\"\n",
    "    Still requires:\n",
    "        1. CDF function\n",
    "        2. floor function\n",
    "    \"\"\"\n",
    "    cdf = CDF(series)\n",
    "    def get_percentile(cdf, element):\n",
    "        point_estimate = cdf(element)\n",
    "        return floor(round(point_estimate,0))\n",
    "    series.apply(lambda x: get_percentile(cdf, x))\n",
    "\n",
    "def df_to_percentiles(df):\n",
    "    df_new = df.copy()\n",
    "    for i in xrange(df.shape[1]):\n",
    "        df_new.iloc[:,i] = series_to_percentiles(df.iloc[:,i])\n",
    "    return df_new\n",
    "\n",
    "def my_floor(num, nearest):\n",
    "    if nearest == 0 or nearest > num:\n",
    "        return num\n",
    "    if nearest % 10:\n",
    "        return \"please input a valid 'nearest' variable (0, 10, etc.)\"\n",
    "    num_zeroes = np.log10(nearest) # use base 10\n",
    "    multiplier = int(10**num_zeroes)\n",
    "    return (num / multiplier) * multiplier\n",
    "\n",
    "def my_cdf(array, element):\n",
    "    return np.mean(ordered(array) < element)"
   ]
  },
  {
   "cell_type": "code",
   "execution_count": 40,
   "metadata": {
    "collapsed": false
   },
   "outputs": [
    {
     "data": {
      "text/plain": [
       "1234"
      ]
     },
     "execution_count": 40,
     "metadata": {},
     "output_type": "execute_result"
    }
   ],
   "source": [
    "my_floor(1234, 10000)"
   ]
  },
  {
   "cell_type": "code",
   "execution_count": null,
   "metadata": {
    "collapsed": true
   },
   "outputs": [],
   "source": []
  },
  {
   "cell_type": "code",
   "execution_count": null,
   "metadata": {
    "collapsed": true
   },
   "outputs": [],
   "source": []
  }
 ],
 "metadata": {
  "kernelspec": {
   "display_name": "Python 2",
   "language": "python",
   "name": "python2"
  },
  "language_info": {
   "codemirror_mode": {
    "name": "ipython",
    "version": 2
   },
   "file_extension": ".py",
   "mimetype": "text/x-python",
   "name": "python",
   "nbconvert_exporter": "python",
   "pygments_lexer": "ipython2",
   "version": "2.7.10"
  }
 },
 "nbformat": 4,
 "nbformat_minor": 0
}
