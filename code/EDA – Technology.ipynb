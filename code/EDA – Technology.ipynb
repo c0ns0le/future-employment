{
 "cells": [
  {
   "cell_type": "code",
   "execution_count": 1,
   "metadata": {
    "collapsed": true
   },
   "outputs": [],
   "source": [
    "import pandas as pd\n",
    "import numpy as np\n",
    "import seaborn as sns\n",
    "from collections import Counter, OrderedDict\n",
    "from nltk.corpus import stopwords\n",
    "from sklearn.cross_validation import train_test_split\n",
    "import re\n",
    "\n",
    "%matplotlib inline"
   ]
  },
  {
   "cell_type": "code",
   "execution_count": 2,
   "metadata": {
    "collapsed": false
   },
   "outputs": [],
   "source": [
    "tt9 = pd.read_csv('../data/db15/helpers/tt9.csv')\n",
    "tt15 = pd.read_csv('../data/db15/helpers/tt15.csv')"
   ]
  },
  {
   "cell_type": "code",
   "execution_count": 3,
   "metadata": {
    "collapsed": false
   },
   "outputs": [
    {
     "data": {
      "text/plain": [
       "array(['Management Occupations',\n",
       "       'Business and Financial Operations Occupations', nan,\n",
       "       'Computer and Mathematical Occupations',\n",
       "       'Architecture and Engineering Occupations',\n",
       "       'Life, Physical, and Social Science Occupations',\n",
       "       'Community and Social Service Occupations', 'Legal Occupations',\n",
       "       'Education, Training, and Library Occupations',\n",
       "       'Arts, Design, Entertainment, Sports, and Media Occupations',\n",
       "       'Healthcare Practitioners and Technical Occupations',\n",
       "       'Healthcare Support Occupations', 'Protective Service Occupations',\n",
       "       'Food Preparation and Serving Related Occupations',\n",
       "       'Building and Grounds Cleaning and Maintenance Occupations',\n",
       "       'Personal Care and Service Occupations',\n",
       "       'Sales and Related Occupations',\n",
       "       'Office and Administrative Support Occupations',\n",
       "       'Farming, Fishing, and Forestry Occupations',\n",
       "       'Construction and Extraction Occupations',\n",
       "       'Installation, Maintenance, and Repair Occupations',\n",
       "       'Production Occupations',\n",
       "       'Transportation and Material Moving Occupations'], dtype=object)"
      ]
     },
     "execution_count": 3,
     "metadata": {},
     "output_type": "execute_result"
    }
   ],
   "source": [
    "tt15[tt15['T2 Type'] == 'Technology'].major_title.unique()"
   ]
  },
  {
   "cell_type": "markdown",
   "metadata": {},
   "source": [
    "# New occpuations"
   ]
  },
  {
   "cell_type": "code",
   "execution_count": 4,
   "metadata": {
    "collapsed": false
   },
   "outputs": [],
   "source": [
    "code= 'O*NET-SOC Code'\n",
    "occ9 = set(tt9[code])\n",
    "occ15 = set(tt15[code])\n",
    "\n",
    "new = occ15 - occ9\n",
    "entries = tt15[tt15[code].isin(new)]\n",
    "further_subset = entries[~entries.Title.isin(tt9.Title)]"
   ]
  },
  {
   "cell_type": "code",
   "execution_count": 5,
   "metadata": {
    "collapsed": false
   },
   "outputs": [],
   "source": [
    "df = further_subset[['O*NET-SOC Code', 'Title', 'broad_title', 'minor_title', 'major_title']].drop_duplicates()"
   ]
  },
  {
   "cell_type": "code",
   "execution_count": 6,
   "metadata": {
    "collapsed": false
   },
   "outputs": [],
   "source": [
    "df.to_csv('../data/db15/helpers/new_non_cleaned_occupations.csv', index = False)"
   ]
  },
  {
   "cell_type": "code",
   "execution_count": 7,
   "metadata": {
    "collapsed": false
   },
   "outputs": [
    {
     "data": {
      "text/html": [
       "<div>\n",
       "<table border=\"1\" class=\"dataframe\">\n",
       "  <thead>\n",
       "    <tr style=\"text-align: right;\">\n",
       "      <th></th>\n",
       "      <th>O*NET-SOC Code</th>\n",
       "      <th>Title</th>\n",
       "      <th>broad_title</th>\n",
       "      <th>minor_title</th>\n",
       "      <th>major_title</th>\n",
       "    </tr>\n",
       "  </thead>\n",
       "  <tbody>\n",
       "    <tr>\n",
       "      <th>166</th>\n",
       "      <td>11-1031.00</td>\n",
       "      <td>Legislators</td>\n",
       "      <td>Legislators</td>\n",
       "      <td>Top Executives</td>\n",
       "      <td>Management Occupations</td>\n",
       "    </tr>\n",
       "    <tr>\n",
       "      <th>818</th>\n",
       "      <td>11-3051.01</td>\n",
       "      <td>Quality Control Systems Managers</td>\n",
       "      <td>Industrial Production Managers</td>\n",
       "      <td>Operations Specialties Managers</td>\n",
       "      <td>Management Occupations</td>\n",
       "    </tr>\n",
       "    <tr>\n",
       "      <th>1495</th>\n",
       "      <td>11-9013.01</td>\n",
       "      <td>Nursery and Greenhouse Managers</td>\n",
       "      <td>Farmers, Ranchers, and Other Agricultural Mana...</td>\n",
       "      <td>Other Management Occupations</td>\n",
       "      <td>Management Occupations</td>\n",
       "    </tr>\n",
       "    <tr>\n",
       "      <th>1561</th>\n",
       "      <td>11-9013.02</td>\n",
       "      <td>Farm and Ranch Managers</td>\n",
       "      <td>Farmers, Ranchers, and Other Agricultural Mana...</td>\n",
       "      <td>Other Management Occupations</td>\n",
       "      <td>Management Occupations</td>\n",
       "    </tr>\n",
       "    <tr>\n",
       "      <th>1669</th>\n",
       "      <td>11-9013.03</td>\n",
       "      <td>Aquacultural Managers</td>\n",
       "      <td>Farmers, Ranchers, and Other Agricultural Mana...</td>\n",
       "      <td>Other Management Occupations</td>\n",
       "      <td>Management Occupations</td>\n",
       "    </tr>\n",
       "    <tr>\n",
       "      <th>1904</th>\n",
       "      <td>11-9039.01</td>\n",
       "      <td>Distance Learning Coordinators</td>\n",
       "      <td>Education Administrators</td>\n",
       "      <td>Other Management Occupations</td>\n",
       "      <td>Management Occupations</td>\n",
       "    </tr>\n",
       "    <tr>\n",
       "      <th>1947</th>\n",
       "      <td>11-9039.02</td>\n",
       "      <td>Fitness and Wellness Coordinators</td>\n",
       "      <td>Education Administrators</td>\n",
       "      <td>Other Management Occupations</td>\n",
       "      <td>Management Occupations</td>\n",
       "    </tr>\n",
       "    <tr>\n",
       "      <th>2465</th>\n",
       "      <td>11-9131.00</td>\n",
       "      <td>Postmasters and Mail Superintendents</td>\n",
       "      <td>Postmasters and Mail Superintendents</td>\n",
       "      <td>Other Management Occupations</td>\n",
       "      <td>Management Occupations</td>\n",
       "    </tr>\n",
       "    <tr>\n",
       "      <th>2585</th>\n",
       "      <td>11-9161.00</td>\n",
       "      <td>Emergency Management Directors</td>\n",
       "      <td>Emergency Management Directors</td>\n",
       "      <td>Other Management Occupations</td>\n",
       "      <td>Management Occupations</td>\n",
       "    </tr>\n",
       "    <tr>\n",
       "      <th>2766</th>\n",
       "      <td>11-9199.03</td>\n",
       "      <td>Investment Fund Managers</td>\n",
       "      <td>Miscellaneous Managers</td>\n",
       "      <td>Other Management Occupations</td>\n",
       "      <td>Management Occupations</td>\n",
       "    </tr>\n",
       "    <tr>\n",
       "      <th>2841</th>\n",
       "      <td>11-9199.07</td>\n",
       "      <td>Security Managers</td>\n",
       "      <td>Miscellaneous Managers</td>\n",
       "      <td>Other Management Occupations</td>\n",
       "      <td>Management Occupations</td>\n",
       "    </tr>\n",
       "    <tr>\n",
       "      <th>2880</th>\n",
       "      <td>11-9199.08</td>\n",
       "      <td>Loss Prevention Managers</td>\n",
       "      <td>Miscellaneous Managers</td>\n",
       "      <td>Other Management Occupations</td>\n",
       "      <td>Management Occupations</td>\n",
       "    </tr>\n",
       "    <tr>\n",
       "      <th>3013</th>\n",
       "      <td>13-1011.00</td>\n",
       "      <td>Agents and Business Managers of Artists, Perfo...</td>\n",
       "      <td>Agents and Business Managers of Artists, Perfo...</td>\n",
       "      <td>Business Operations Specialists</td>\n",
       "      <td>Business and Financial Operations Occupations</td>\n",
       "    </tr>\n",
       "    <tr>\n",
       "      <th>3282</th>\n",
       "      <td>13-1032.00</td>\n",
       "      <td>Insurance Appraisers, Auto Damage</td>\n",
       "      <td>Claims Adjusters, Appraisers, Examiners, and I...</td>\n",
       "      <td>Business Operations Specialists</td>\n",
       "      <td>Business and Financial Operations Occupations</td>\n",
       "    </tr>\n",
       "    <tr>\n",
       "      <th>3663</th>\n",
       "      <td>13-1071.00</td>\n",
       "      <td>Human Resources Specialists</td>\n",
       "      <td>Human Resources Workers</td>\n",
       "      <td>Business Operations Specialists</td>\n",
       "      <td>Business and Financial Operations Occupations</td>\n",
       "    </tr>\n",
       "    <tr>\n",
       "      <th>3815</th>\n",
       "      <td>13-1074.00</td>\n",
       "      <td>Farm Labor Contractors</td>\n",
       "      <td>Human Resources Workers</td>\n",
       "      <td>Business Operations Specialists</td>\n",
       "      <td>Business and Financial Operations Occupations</td>\n",
       "    </tr>\n",
       "    <tr>\n",
       "      <th>3831</th>\n",
       "      <td>13-1075.00</td>\n",
       "      <td>Labor Relations Specialists</td>\n",
       "      <td>Human Resources Workers</td>\n",
       "      <td>Business Operations Specialists</td>\n",
       "      <td>Business and Financial Operations Occupations</td>\n",
       "    </tr>\n",
       "    <tr>\n",
       "      <th>4092</th>\n",
       "      <td>13-1131.00</td>\n",
       "      <td>Fundraisers</td>\n",
       "      <td>Fundraisers</td>\n",
       "      <td>Business Operations Specialists</td>\n",
       "      <td>Business and Financial Operations Occupations</td>\n",
       "    </tr>\n",
       "    <tr>\n",
       "      <th>4294</th>\n",
       "      <td>13-1161.00</td>\n",
       "      <td>Market Research Analysts and Marketing Special...</td>\n",
       "      <td>Market Research Analysts and Marketing Special...</td>\n",
       "      <td>Business Operations Specialists</td>\n",
       "      <td>Business and Financial Operations Occupations</td>\n",
       "    </tr>\n",
       "    <tr>\n",
       "      <th>4499</th>\n",
       "      <td>13-1199.02</td>\n",
       "      <td>Security Management Specialists</td>\n",
       "      <td>Miscellaneous Business Operations Specialists</td>\n",
       "      <td>Business Operations Specialists</td>\n",
       "      <td>Business and Financial Operations Occupations</td>\n",
       "    </tr>\n",
       "    <tr>\n",
       "      <th>4570</th>\n",
       "      <td>13-1199.03</td>\n",
       "      <td>Customs Brokers</td>\n",
       "      <td>Miscellaneous Business Operations Specialists</td>\n",
       "      <td>Business Operations Specialists</td>\n",
       "      <td>Business and Financial Operations Occupations</td>\n",
       "    </tr>\n",
       "    <tr>\n",
       "      <th>4594</th>\n",
       "      <td>13-1199.04</td>\n",
       "      <td>Business Continuity Planners</td>\n",
       "      <td>Miscellaneous Business Operations Specialists</td>\n",
       "      <td>Business Operations Specialists</td>\n",
       "      <td>Business and Financial Operations Occupations</td>\n",
       "    </tr>\n",
       "    <tr>\n",
       "      <th>4663</th>\n",
       "      <td>13-1199.06</td>\n",
       "      <td>Online Merchants</td>\n",
       "      <td>Miscellaneous Business Operations Specialists</td>\n",
       "      <td>Business Operations Specialists</td>\n",
       "      <td>Business and Financial Operations Occupations</td>\n",
       "    </tr>\n",
       "    <tr>\n",
       "      <th>5775</th>\n",
       "      <td>13-2099.04</td>\n",
       "      <td>Fraud Examiners, Investigators and Analysts</td>\n",
       "      <td>Miscellaneous Financial Specialists</td>\n",
       "      <td>Financial Specialists</td>\n",
       "      <td>Business and Financial Operations Occupations</td>\n",
       "    </tr>\n",
       "    <tr>\n",
       "      <th>5806</th>\n",
       "      <td>15-1111.00</td>\n",
       "      <td>Computer and Information Research Scientists</td>\n",
       "      <td>NaN</td>\n",
       "      <td>NaN</td>\n",
       "      <td>NaN</td>\n",
       "    </tr>\n",
       "    <tr>\n",
       "      <th>6216</th>\n",
       "      <td>15-1122.00</td>\n",
       "      <td>Information Security Analysts</td>\n",
       "      <td>NaN</td>\n",
       "      <td>NaN</td>\n",
       "      <td>NaN</td>\n",
       "    </tr>\n",
       "    <tr>\n",
       "      <th>6572</th>\n",
       "      <td>15-1132.00</td>\n",
       "      <td>Software Developers, Applications</td>\n",
       "      <td>NaN</td>\n",
       "      <td>NaN</td>\n",
       "      <td>NaN</td>\n",
       "    </tr>\n",
       "    <tr>\n",
       "      <th>6831</th>\n",
       "      <td>15-1133.00</td>\n",
       "      <td>Software Developers, Systems Software</td>\n",
       "      <td>NaN</td>\n",
       "      <td>NaN</td>\n",
       "      <td>NaN</td>\n",
       "    </tr>\n",
       "    <tr>\n",
       "      <th>7598</th>\n",
       "      <td>15-1143.00</td>\n",
       "      <td>Computer Network Architects</td>\n",
       "      <td>NaN</td>\n",
       "      <td>NaN</td>\n",
       "      <td>NaN</td>\n",
       "    </tr>\n",
       "    <tr>\n",
       "      <th>7825</th>\n",
       "      <td>15-1143.01</td>\n",
       "      <td>Telecommunications Engineering Specialists</td>\n",
       "      <td>NaN</td>\n",
       "      <td>NaN</td>\n",
       "      <td>NaN</td>\n",
       "    </tr>\n",
       "    <tr>\n",
       "      <th>...</th>\n",
       "      <td>...</td>\n",
       "      <td>...</td>\n",
       "      <td>...</td>\n",
       "      <td>...</td>\n",
       "      <td>...</td>\n",
       "    </tr>\n",
       "    <tr>\n",
       "      <th>62376</th>\n",
       "      <td>51-9123.00</td>\n",
       "      <td>Painting, Coating, and Decorating Workers</td>\n",
       "      <td>Painting Workers</td>\n",
       "      <td>Other Production Occupations</td>\n",
       "      <td>Production Occupations</td>\n",
       "    </tr>\n",
       "    <tr>\n",
       "      <th>62427</th>\n",
       "      <td>51-9141.00</td>\n",
       "      <td>Semiconductor Processors</td>\n",
       "      <td>Semiconductor Processors</td>\n",
       "      <td>Other Production Occupations</td>\n",
       "      <td>Production Occupations</td>\n",
       "    </tr>\n",
       "    <tr>\n",
       "      <th>62496</th>\n",
       "      <td>51-9151.00</td>\n",
       "      <td>Photographic Process Workers and Processing Ma...</td>\n",
       "      <td>Photographic Process Workers and Processing Ma...</td>\n",
       "      <td>Other Production Occupations</td>\n",
       "      <td>Production Occupations</td>\n",
       "    </tr>\n",
       "    <tr>\n",
       "      <th>62565</th>\n",
       "      <td>51-9191.00</td>\n",
       "      <td>Adhesive Bonding Machine Operators and Tenders</td>\n",
       "      <td>Miscellaneous Production Workers</td>\n",
       "      <td>Other Production Occupations</td>\n",
       "      <td>Production Occupations</td>\n",
       "    </tr>\n",
       "    <tr>\n",
       "      <th>62606</th>\n",
       "      <td>51-9192.00</td>\n",
       "      <td>Cleaning, Washing, and Metal Pickling Equipmen...</td>\n",
       "      <td>Miscellaneous Production Workers</td>\n",
       "      <td>Other Production Occupations</td>\n",
       "      <td>Production Occupations</td>\n",
       "    </tr>\n",
       "    <tr>\n",
       "      <th>62637</th>\n",
       "      <td>51-9193.00</td>\n",
       "      <td>Cooling and Freezing Equipment Operators and T...</td>\n",
       "      <td>Miscellaneous Production Workers</td>\n",
       "      <td>Other Production Occupations</td>\n",
       "      <td>Production Occupations</td>\n",
       "    </tr>\n",
       "    <tr>\n",
       "      <th>62718</th>\n",
       "      <td>51-9194.00</td>\n",
       "      <td>Etchers and Engravers</td>\n",
       "      <td>Miscellaneous Production Workers</td>\n",
       "      <td>Other Production Occupations</td>\n",
       "      <td>Production Occupations</td>\n",
       "    </tr>\n",
       "    <tr>\n",
       "      <th>62950</th>\n",
       "      <td>51-9196.00</td>\n",
       "      <td>Paper Goods Machine Setters, Operators, and Te...</td>\n",
       "      <td>Miscellaneous Production Workers</td>\n",
       "      <td>Other Production Occupations</td>\n",
       "      <td>Production Occupations</td>\n",
       "    </tr>\n",
       "    <tr>\n",
       "      <th>62985</th>\n",
       "      <td>51-9197.00</td>\n",
       "      <td>Tire Builders</td>\n",
       "      <td>Miscellaneous Production Workers</td>\n",
       "      <td>Other Production Occupations</td>\n",
       "      <td>Production Occupations</td>\n",
       "    </tr>\n",
       "    <tr>\n",
       "      <th>63111</th>\n",
       "      <td>53-1011.00</td>\n",
       "      <td>Aircraft Cargo Handling Supervisors</td>\n",
       "      <td>Aircraft Cargo Handling Supervisors</td>\n",
       "      <td>Supervisors of Transportation and Material Mov...</td>\n",
       "      <td>Transportation and Material Moving Occupations</td>\n",
       "    </tr>\n",
       "    <tr>\n",
       "      <th>63471</th>\n",
       "      <td>53-2022.00</td>\n",
       "      <td>Airfield Operations Specialists</td>\n",
       "      <td>Air Traffic Controllers and Airfield Operation...</td>\n",
       "      <td>Air Transportation Workers</td>\n",
       "      <td>Transportation and Material Moving Occupations</td>\n",
       "    </tr>\n",
       "    <tr>\n",
       "      <th>63775</th>\n",
       "      <td>53-4012.00</td>\n",
       "      <td>Locomotive Firers</td>\n",
       "      <td>Locomotive Engineers and Operators</td>\n",
       "      <td>Rail Transportation Workers</td>\n",
       "      <td>Transportation and Material Moving Occupations</td>\n",
       "    </tr>\n",
       "    <tr>\n",
       "      <th>63816</th>\n",
       "      <td>53-4013.00</td>\n",
       "      <td>Rail Yard Engineers, Dinkey Operators, and Hos...</td>\n",
       "      <td>Locomotive Engineers and Operators</td>\n",
       "      <td>Rail Transportation Workers</td>\n",
       "      <td>Transportation and Material Moving Occupations</td>\n",
       "    </tr>\n",
       "    <tr>\n",
       "      <th>63871</th>\n",
       "      <td>53-4021.00</td>\n",
       "      <td>Railroad Brake, Signal, and Switch Operators</td>\n",
       "      <td>Railroad Brake, Signal, and Switch Operators</td>\n",
       "      <td>Rail Transportation Workers</td>\n",
       "      <td>Transportation and Material Moving Occupations</td>\n",
       "    </tr>\n",
       "    <tr>\n",
       "      <th>64277</th>\n",
       "      <td>53-5022.00</td>\n",
       "      <td>Motorboat Operators</td>\n",
       "      <td>Ship and Boat Captains and Operators</td>\n",
       "      <td>Water Transportation Workers</td>\n",
       "      <td>Transportation and Material Moving Occupations</td>\n",
       "    </tr>\n",
       "    <tr>\n",
       "      <th>64374</th>\n",
       "      <td>53-5031.00</td>\n",
       "      <td>Ship Engineers</td>\n",
       "      <td>Ship Engineers</td>\n",
       "      <td>Water Transportation Workers</td>\n",
       "      <td>Transportation and Material Moving Occupations</td>\n",
       "    </tr>\n",
       "    <tr>\n",
       "      <th>64486</th>\n",
       "      <td>53-6011.00</td>\n",
       "      <td>Bridge and Lock Tenders</td>\n",
       "      <td>Bridge and Lock Tenders</td>\n",
       "      <td>Other Transportation Workers</td>\n",
       "      <td>Transportation and Material Moving Occupations</td>\n",
       "    </tr>\n",
       "    <tr>\n",
       "      <th>64540</th>\n",
       "      <td>53-6021.00</td>\n",
       "      <td>Parking Lot Attendants</td>\n",
       "      <td>Parking Lot Attendants</td>\n",
       "      <td>Other Transportation Workers</td>\n",
       "      <td>Transportation and Material Moving Occupations</td>\n",
       "    </tr>\n",
       "    <tr>\n",
       "      <th>64758</th>\n",
       "      <td>53-6061.00</td>\n",
       "      <td>Transportation Attendants, Except Flight Atten...</td>\n",
       "      <td>Transportation Attendants, Except Flight Atten...</td>\n",
       "      <td>Other Transportation Workers</td>\n",
       "      <td>Transportation and Material Moving Occupations</td>\n",
       "    </tr>\n",
       "    <tr>\n",
       "      <th>64783</th>\n",
       "      <td>53-7011.00</td>\n",
       "      <td>Conveyor Operators and Tenders</td>\n",
       "      <td>Conveyor Operators and Tenders</td>\n",
       "      <td>Material Moving Workers</td>\n",
       "      <td>Transportation and Material Moving Occupations</td>\n",
       "    </tr>\n",
       "    <tr>\n",
       "      <th>64921</th>\n",
       "      <td>53-7031.00</td>\n",
       "      <td>Dredge Operators</td>\n",
       "      <td>Dredge, Excavating, and Loading Machine Operators</td>\n",
       "      <td>Material Moving Workers</td>\n",
       "      <td>Transportation and Material Moving Occupations</td>\n",
       "    </tr>\n",
       "    <tr>\n",
       "      <th>65007</th>\n",
       "      <td>53-7033.00</td>\n",
       "      <td>Loading Machine Operators, Underground Mining</td>\n",
       "      <td>Dredge, Excavating, and Loading Machine Operators</td>\n",
       "      <td>Material Moving Workers</td>\n",
       "      <td>Transportation and Material Moving Occupations</td>\n",
       "    </tr>\n",
       "    <tr>\n",
       "      <th>65027</th>\n",
       "      <td>53-7041.00</td>\n",
       "      <td>Hoist and Winch Operators</td>\n",
       "      <td>Hoist and Winch Operators</td>\n",
       "      <td>Material Moving Workers</td>\n",
       "      <td>Transportation and Material Moving Occupations</td>\n",
       "    </tr>\n",
       "    <tr>\n",
       "      <th>65119</th>\n",
       "      <td>53-7061.00</td>\n",
       "      <td>Cleaners of Vehicles and Equipment</td>\n",
       "      <td>Laborers and Material Movers, Hand</td>\n",
       "      <td>Material Moving Workers</td>\n",
       "      <td>Transportation and Material Moving Occupations</td>\n",
       "    </tr>\n",
       "    <tr>\n",
       "      <th>65181</th>\n",
       "      <td>53-7063.00</td>\n",
       "      <td>Machine Feeders and Offbearers</td>\n",
       "      <td>Laborers and Material Movers, Hand</td>\n",
       "      <td>Material Moving Workers</td>\n",
       "      <td>Transportation and Material Moving Occupations</td>\n",
       "    </tr>\n",
       "    <tr>\n",
       "      <th>65256</th>\n",
       "      <td>53-7071.00</td>\n",
       "      <td>Gas Compressor and Gas Pumping Station Operators</td>\n",
       "      <td>Pumping Station Operators</td>\n",
       "      <td>Material Moving Workers</td>\n",
       "      <td>Transportation and Material Moving Occupations</td>\n",
       "    </tr>\n",
       "    <tr>\n",
       "      <th>65278</th>\n",
       "      <td>53-7072.00</td>\n",
       "      <td>Pump Operators, Except Wellhead Pumpers</td>\n",
       "      <td>Pumping Station Operators</td>\n",
       "      <td>Material Moving Workers</td>\n",
       "      <td>Transportation and Material Moving Occupations</td>\n",
       "    </tr>\n",
       "    <tr>\n",
       "      <th>65321</th>\n",
       "      <td>53-7073.00</td>\n",
       "      <td>Wellhead Pumpers</td>\n",
       "      <td>Pumping Station Operators</td>\n",
       "      <td>Material Moving Workers</td>\n",
       "      <td>Transportation and Material Moving Occupations</td>\n",
       "    </tr>\n",
       "    <tr>\n",
       "      <th>65413</th>\n",
       "      <td>53-7111.00</td>\n",
       "      <td>Mine Shuttle Car Operators</td>\n",
       "      <td>Mine Shuttle Car Operators</td>\n",
       "      <td>Material Moving Workers</td>\n",
       "      <td>Transportation and Material Moving Occupations</td>\n",
       "    </tr>\n",
       "    <tr>\n",
       "      <th>65433</th>\n",
       "      <td>53-7121.00</td>\n",
       "      <td>Tank Car, Truck, and Ship Loaders</td>\n",
       "      <td>Tank Car, Truck, and Ship Loaders</td>\n",
       "      <td>Material Moving Workers</td>\n",
       "      <td>Transportation and Material Moving Occupations</td>\n",
       "    </tr>\n",
       "  </tbody>\n",
       "</table>\n",
       "<p>363 rows × 5 columns</p>\n",
       "</div>"
      ],
      "text/plain": [
       "      O*NET-SOC Code                                              Title  \\\n",
       "166       11-1031.00                                        Legislators   \n",
       "818       11-3051.01                   Quality Control Systems Managers   \n",
       "1495      11-9013.01                    Nursery and Greenhouse Managers   \n",
       "1561      11-9013.02                            Farm and Ranch Managers   \n",
       "1669      11-9013.03                              Aquacultural Managers   \n",
       "1904      11-9039.01                     Distance Learning Coordinators   \n",
       "1947      11-9039.02                  Fitness and Wellness Coordinators   \n",
       "2465      11-9131.00               Postmasters and Mail Superintendents   \n",
       "2585      11-9161.00                     Emergency Management Directors   \n",
       "2766      11-9199.03                           Investment Fund Managers   \n",
       "2841      11-9199.07                                  Security Managers   \n",
       "2880      11-9199.08                           Loss Prevention Managers   \n",
       "3013      13-1011.00  Agents and Business Managers of Artists, Perfo...   \n",
       "3282      13-1032.00                  Insurance Appraisers, Auto Damage   \n",
       "3663      13-1071.00                        Human Resources Specialists   \n",
       "3815      13-1074.00                             Farm Labor Contractors   \n",
       "3831      13-1075.00                        Labor Relations Specialists   \n",
       "4092      13-1131.00                                        Fundraisers   \n",
       "4294      13-1161.00  Market Research Analysts and Marketing Special...   \n",
       "4499      13-1199.02                    Security Management Specialists   \n",
       "4570      13-1199.03                                    Customs Brokers   \n",
       "4594      13-1199.04                       Business Continuity Planners   \n",
       "4663      13-1199.06                                   Online Merchants   \n",
       "5775      13-2099.04        Fraud Examiners, Investigators and Analysts   \n",
       "5806      15-1111.00       Computer and Information Research Scientists   \n",
       "6216      15-1122.00                      Information Security Analysts   \n",
       "6572      15-1132.00                  Software Developers, Applications   \n",
       "6831      15-1133.00              Software Developers, Systems Software   \n",
       "7598      15-1143.00                        Computer Network Architects   \n",
       "7825      15-1143.01         Telecommunications Engineering Specialists   \n",
       "...              ...                                                ...   \n",
       "62376     51-9123.00          Painting, Coating, and Decorating Workers   \n",
       "62427     51-9141.00                           Semiconductor Processors   \n",
       "62496     51-9151.00  Photographic Process Workers and Processing Ma...   \n",
       "62565     51-9191.00     Adhesive Bonding Machine Operators and Tenders   \n",
       "62606     51-9192.00  Cleaning, Washing, and Metal Pickling Equipmen...   \n",
       "62637     51-9193.00  Cooling and Freezing Equipment Operators and T...   \n",
       "62718     51-9194.00                              Etchers and Engravers   \n",
       "62950     51-9196.00  Paper Goods Machine Setters, Operators, and Te...   \n",
       "62985     51-9197.00                                      Tire Builders   \n",
       "63111     53-1011.00                Aircraft Cargo Handling Supervisors   \n",
       "63471     53-2022.00                    Airfield Operations Specialists   \n",
       "63775     53-4012.00                                  Locomotive Firers   \n",
       "63816     53-4013.00  Rail Yard Engineers, Dinkey Operators, and Hos...   \n",
       "63871     53-4021.00       Railroad Brake, Signal, and Switch Operators   \n",
       "64277     53-5022.00                                Motorboat Operators   \n",
       "64374     53-5031.00                                     Ship Engineers   \n",
       "64486     53-6011.00                            Bridge and Lock Tenders   \n",
       "64540     53-6021.00                             Parking Lot Attendants   \n",
       "64758     53-6061.00  Transportation Attendants, Except Flight Atten...   \n",
       "64783     53-7011.00                     Conveyor Operators and Tenders   \n",
       "64921     53-7031.00                                   Dredge Operators   \n",
       "65007     53-7033.00      Loading Machine Operators, Underground Mining   \n",
       "65027     53-7041.00                          Hoist and Winch Operators   \n",
       "65119     53-7061.00                 Cleaners of Vehicles and Equipment   \n",
       "65181     53-7063.00                     Machine Feeders and Offbearers   \n",
       "65256     53-7071.00   Gas Compressor and Gas Pumping Station Operators   \n",
       "65278     53-7072.00            Pump Operators, Except Wellhead Pumpers   \n",
       "65321     53-7073.00                                   Wellhead Pumpers   \n",
       "65413     53-7111.00                         Mine Shuttle Car Operators   \n",
       "65433     53-7121.00                  Tank Car, Truck, and Ship Loaders   \n",
       "\n",
       "                                             broad_title  \\\n",
       "166                                          Legislators   \n",
       "818                       Industrial Production Managers   \n",
       "1495   Farmers, Ranchers, and Other Agricultural Mana...   \n",
       "1561   Farmers, Ranchers, and Other Agricultural Mana...   \n",
       "1669   Farmers, Ranchers, and Other Agricultural Mana...   \n",
       "1904                            Education Administrators   \n",
       "1947                            Education Administrators   \n",
       "2465                Postmasters and Mail Superintendents   \n",
       "2585                      Emergency Management Directors   \n",
       "2766                              Miscellaneous Managers   \n",
       "2841                              Miscellaneous Managers   \n",
       "2880                              Miscellaneous Managers   \n",
       "3013   Agents and Business Managers of Artists, Perfo...   \n",
       "3282   Claims Adjusters, Appraisers, Examiners, and I...   \n",
       "3663                             Human Resources Workers   \n",
       "3815                             Human Resources Workers   \n",
       "3831                             Human Resources Workers   \n",
       "4092                                         Fundraisers   \n",
       "4294   Market Research Analysts and Marketing Special...   \n",
       "4499       Miscellaneous Business Operations Specialists   \n",
       "4570       Miscellaneous Business Operations Specialists   \n",
       "4594       Miscellaneous Business Operations Specialists   \n",
       "4663       Miscellaneous Business Operations Specialists   \n",
       "5775                 Miscellaneous Financial Specialists   \n",
       "5806                                                 NaN   \n",
       "6216                                                 NaN   \n",
       "6572                                                 NaN   \n",
       "6831                                                 NaN   \n",
       "7598                                                 NaN   \n",
       "7825                                                 NaN   \n",
       "...                                                  ...   \n",
       "62376                                   Painting Workers   \n",
       "62427                           Semiconductor Processors   \n",
       "62496  Photographic Process Workers and Processing Ma...   \n",
       "62565                   Miscellaneous Production Workers   \n",
       "62606                   Miscellaneous Production Workers   \n",
       "62637                   Miscellaneous Production Workers   \n",
       "62718                   Miscellaneous Production Workers   \n",
       "62950                   Miscellaneous Production Workers   \n",
       "62985                   Miscellaneous Production Workers   \n",
       "63111                Aircraft Cargo Handling Supervisors   \n",
       "63471  Air Traffic Controllers and Airfield Operation...   \n",
       "63775                 Locomotive Engineers and Operators   \n",
       "63816                 Locomotive Engineers and Operators   \n",
       "63871       Railroad Brake, Signal, and Switch Operators   \n",
       "64277               Ship and Boat Captains and Operators   \n",
       "64374                                     Ship Engineers   \n",
       "64486                            Bridge and Lock Tenders   \n",
       "64540                             Parking Lot Attendants   \n",
       "64758  Transportation Attendants, Except Flight Atten...   \n",
       "64783                     Conveyor Operators and Tenders   \n",
       "64921  Dredge, Excavating, and Loading Machine Operators   \n",
       "65007  Dredge, Excavating, and Loading Machine Operators   \n",
       "65027                          Hoist and Winch Operators   \n",
       "65119                 Laborers and Material Movers, Hand   \n",
       "65181                 Laborers and Material Movers, Hand   \n",
       "65256                          Pumping Station Operators   \n",
       "65278                          Pumping Station Operators   \n",
       "65321                          Pumping Station Operators   \n",
       "65413                         Mine Shuttle Car Operators   \n",
       "65433                  Tank Car, Truck, and Ship Loaders   \n",
       "\n",
       "                                             minor_title  \\\n",
       "166                                       Top Executives   \n",
       "818                      Operations Specialties Managers   \n",
       "1495                        Other Management Occupations   \n",
       "1561                        Other Management Occupations   \n",
       "1669                        Other Management Occupations   \n",
       "1904                        Other Management Occupations   \n",
       "1947                        Other Management Occupations   \n",
       "2465                        Other Management Occupations   \n",
       "2585                        Other Management Occupations   \n",
       "2766                        Other Management Occupations   \n",
       "2841                        Other Management Occupations   \n",
       "2880                        Other Management Occupations   \n",
       "3013                     Business Operations Specialists   \n",
       "3282                     Business Operations Specialists   \n",
       "3663                     Business Operations Specialists   \n",
       "3815                     Business Operations Specialists   \n",
       "3831                     Business Operations Specialists   \n",
       "4092                     Business Operations Specialists   \n",
       "4294                     Business Operations Specialists   \n",
       "4499                     Business Operations Specialists   \n",
       "4570                     Business Operations Specialists   \n",
       "4594                     Business Operations Specialists   \n",
       "4663                     Business Operations Specialists   \n",
       "5775                               Financial Specialists   \n",
       "5806                                                 NaN   \n",
       "6216                                                 NaN   \n",
       "6572                                                 NaN   \n",
       "6831                                                 NaN   \n",
       "7598                                                 NaN   \n",
       "7825                                                 NaN   \n",
       "...                                                  ...   \n",
       "62376                       Other Production Occupations   \n",
       "62427                       Other Production Occupations   \n",
       "62496                       Other Production Occupations   \n",
       "62565                       Other Production Occupations   \n",
       "62606                       Other Production Occupations   \n",
       "62637                       Other Production Occupations   \n",
       "62718                       Other Production Occupations   \n",
       "62950                       Other Production Occupations   \n",
       "62985                       Other Production Occupations   \n",
       "63111  Supervisors of Transportation and Material Mov...   \n",
       "63471                         Air Transportation Workers   \n",
       "63775                        Rail Transportation Workers   \n",
       "63816                        Rail Transportation Workers   \n",
       "63871                        Rail Transportation Workers   \n",
       "64277                       Water Transportation Workers   \n",
       "64374                       Water Transportation Workers   \n",
       "64486                       Other Transportation Workers   \n",
       "64540                       Other Transportation Workers   \n",
       "64758                       Other Transportation Workers   \n",
       "64783                            Material Moving Workers   \n",
       "64921                            Material Moving Workers   \n",
       "65007                            Material Moving Workers   \n",
       "65027                            Material Moving Workers   \n",
       "65119                            Material Moving Workers   \n",
       "65181                            Material Moving Workers   \n",
       "65256                            Material Moving Workers   \n",
       "65278                            Material Moving Workers   \n",
       "65321                            Material Moving Workers   \n",
       "65413                            Material Moving Workers   \n",
       "65433                            Material Moving Workers   \n",
       "\n",
       "                                          major_title  \n",
       "166                            Management Occupations  \n",
       "818                            Management Occupations  \n",
       "1495                           Management Occupations  \n",
       "1561                           Management Occupations  \n",
       "1669                           Management Occupations  \n",
       "1904                           Management Occupations  \n",
       "1947                           Management Occupations  \n",
       "2465                           Management Occupations  \n",
       "2585                           Management Occupations  \n",
       "2766                           Management Occupations  \n",
       "2841                           Management Occupations  \n",
       "2880                           Management Occupations  \n",
       "3013    Business and Financial Operations Occupations  \n",
       "3282    Business and Financial Operations Occupations  \n",
       "3663    Business and Financial Operations Occupations  \n",
       "3815    Business and Financial Operations Occupations  \n",
       "3831    Business and Financial Operations Occupations  \n",
       "4092    Business and Financial Operations Occupations  \n",
       "4294    Business and Financial Operations Occupations  \n",
       "4499    Business and Financial Operations Occupations  \n",
       "4570    Business and Financial Operations Occupations  \n",
       "4594    Business and Financial Operations Occupations  \n",
       "4663    Business and Financial Operations Occupations  \n",
       "5775    Business and Financial Operations Occupations  \n",
       "5806                                              NaN  \n",
       "6216                                              NaN  \n",
       "6572                                              NaN  \n",
       "6831                                              NaN  \n",
       "7598                                              NaN  \n",
       "7825                                              NaN  \n",
       "...                                               ...  \n",
       "62376                          Production Occupations  \n",
       "62427                          Production Occupations  \n",
       "62496                          Production Occupations  \n",
       "62565                          Production Occupations  \n",
       "62606                          Production Occupations  \n",
       "62637                          Production Occupations  \n",
       "62718                          Production Occupations  \n",
       "62950                          Production Occupations  \n",
       "62985                          Production Occupations  \n",
       "63111  Transportation and Material Moving Occupations  \n",
       "63471  Transportation and Material Moving Occupations  \n",
       "63775  Transportation and Material Moving Occupations  \n",
       "63816  Transportation and Material Moving Occupations  \n",
       "63871  Transportation and Material Moving Occupations  \n",
       "64277  Transportation and Material Moving Occupations  \n",
       "64374  Transportation and Material Moving Occupations  \n",
       "64486  Transportation and Material Moving Occupations  \n",
       "64540  Transportation and Material Moving Occupations  \n",
       "64758  Transportation and Material Moving Occupations  \n",
       "64783  Transportation and Material Moving Occupations  \n",
       "64921  Transportation and Material Moving Occupations  \n",
       "65007  Transportation and Material Moving Occupations  \n",
       "65027  Transportation and Material Moving Occupations  \n",
       "65119  Transportation and Material Moving Occupations  \n",
       "65181  Transportation and Material Moving Occupations  \n",
       "65256  Transportation and Material Moving Occupations  \n",
       "65278  Transportation and Material Moving Occupations  \n",
       "65321  Transportation and Material Moving Occupations  \n",
       "65413  Transportation and Material Moving Occupations  \n",
       "65433  Transportation and Material Moving Occupations  \n",
       "\n",
       "[363 rows x 5 columns]"
      ]
     },
     "execution_count": 7,
     "metadata": {},
     "output_type": "execute_result"
    }
   ],
   "source": [
    "df"
   ]
  },
  {
   "cell_type": "code",
   "execution_count": 8,
   "metadata": {
    "collapsed": false,
    "scrolled": true
   },
   "outputs": [
    {
     "data": {
      "text/html": [
       "<div>\n",
       "<table border=\"1\" class=\"dataframe\">\n",
       "  <thead>\n",
       "    <tr style=\"text-align: right;\">\n",
       "      <th></th>\n",
       "      <th>O*NET-SOC Code</th>\n",
       "      <th>Title</th>\n",
       "      <th>broad_title</th>\n",
       "      <th>minor_title</th>\n",
       "      <th>major_title</th>\n",
       "    </tr>\n",
       "  </thead>\n",
       "  <tbody>\n",
       "    <tr>\n",
       "      <th>15147</th>\n",
       "      <td>19-3021.00</td>\n",
       "      <td>Market Research Analysts</td>\n",
       "      <td>NaN</td>\n",
       "      <td>NaN</td>\n",
       "      <td>NaN</td>\n",
       "    </tr>\n",
       "  </tbody>\n",
       "</table>\n",
       "</div>"
      ],
      "text/plain": [
       "      O*NET-SOC Code                     Title broad_title minor_title  \\\n",
       "15147     19-3021.00  Market Research Analysts         NaN         NaN   \n",
       "\n",
       "      major_title  \n",
       "15147         NaN  "
      ]
     },
     "execution_count": 8,
     "metadata": {},
     "output_type": "execute_result"
    }
   ],
   "source": [
    "filt = ['O*NET-SOC Code', 'Title', 'broad_title', 'minor_title', 'major_title']\n",
    "tt15_occs = tt15[filt].drop_duplicates()\n",
    "tt9_occs = tt9[filt].drop_duplicates()\n",
    "tt9_occs[tt9_occs.Title.apply(lambda x: 'market research' in x.lower())]"
   ]
  },
  {
   "cell_type": "markdown",
   "metadata": {},
   "source": [
    "## Emerging"
   ]
  },
  {
   "cell_type": "code",
   "execution_count": 9,
   "metadata": {
    "collapsed": false
   },
   "outputs": [],
   "source": [
    "nae = pd.read_csv('../data/db15/helpers/bright_outlooks/New_and_Emerging.csv')\n",
    "subset = tt15[tt15['O*NET-SOC Code'].isin(nae.Code)][filt].drop_duplicates()\n",
    "subset[~subset['O*NET-SOC Code'].isin(occ9)].to_csv('../data/db15/helpers/new_emerging_since_2009.csv', index = True)"
   ]
  },
  {
   "cell_type": "code",
   "execution_count": 10,
   "metadata": {
    "collapsed": false
   },
   "outputs": [
    {
     "data": {
      "text/plain": [
       "array(['Religious Workers', 'Postsecondary Teachers',\n",
       "       'Animal Care and Service Workers', 'Personal Appearance Workers',\n",
       "       'Tour and Travel Guides', 'Communications Equipment Operators',\n",
       "       'Fishing and Hunting Workers',\n",
       "       'Textile, Apparel, and Furnishings Workers'], dtype=object)"
      ]
     },
     "execution_count": 10,
     "metadata": {},
     "output_type": "execute_result"
    }
   ],
   "source": [
    "tt15_occs[~tt15_occs.minor_title.isin(tt9_occs.minor_title)].minor_title.unique()"
   ]
  },
  {
   "cell_type": "markdown",
   "metadata": {},
   "source": [
    "# How often does ONET update?"
   ]
  },
  {
   "cell_type": "markdown",
   "metadata": {},
   "source": [
    "- Since 2009 at least skills updated\n",
    "- but taxonomy updated every so often – last in 2010"
   ]
  },
  {
   "cell_type": "markdown",
   "metadata": {},
   "source": [
    "# Automation by new occupations"
   ]
  },
  {
   "cell_type": "code",
   "execution_count": 11,
   "metadata": {
    "collapsed": true
   },
   "outputs": [],
   "source": [
    "nae = pd.read_csv('../data/db15/helpers/new_emerging_since_2009.csv')"
   ]
  },
  {
   "cell_type": "code",
   "execution_count": 191,
   "metadata": {
    "collapsed": true
   },
   "outputs": [],
   "source": [
    "automation = pd.read_csv('../data/db15/helpers/delta_9_15.csv')"
   ]
  },
  {
   "cell_type": "code",
   "execution_count": 13,
   "metadata": {
    "collapsed": false
   },
   "outputs": [
    {
     "data": {
      "text/plain": [
       "<matplotlib.legend.Legend at 0x10e1f3510>"
      ]
     },
     "execution_count": 13,
     "metadata": {},
     "output_type": "execute_result"
    },
    {
     "data": {
      "image/png": "[encoded data removed]",
      "text/plain": [
       "<matplotlib.figure.Figure at 0x10e1f30d0>"
      ]
     },
     "metadata": {},
     "output_type": "display_data"
    }
   ],
   "source": [
    "sns.plt.figure(figsize = (12,8))\n",
    "automation[automation['O*NET-SOC Code'].isin(nae['O*NET-SOC Code'])].automation_15.plot(kind = 'kde', label = 'N&E')\n",
    "automation.automation_15.plot(kind = 'kde', label = 'ALL 2015')\n",
    "automation.automation_9.plot(kind = 'kde', label = 'ALL 2009')\n",
    "\n",
    "sns.plt.legend()"
   ]
  },
  {
   "cell_type": "markdown",
   "metadata": {},
   "source": [
    "# Adoption propensity of new technologies"
   ]
  },
  {
   "cell_type": "code",
   "execution_count": 14,
   "metadata": {
    "collapsed": false
   },
   "outputs": [],
   "source": [
    "nae_tech = tt15[tt15['O*NET-SOC Code'].isin(nae['O*NET-SOC Code'])]"
   ]
  },
  {
   "cell_type": "code",
   "execution_count": 15,
   "metadata": {
    "collapsed": false
   },
   "outputs": [],
   "source": [
    "non_nae_tech = tt15[~tt15['O*NET-SOC Code'].isin(nae['O*NET-SOC Code'])]"
   ]
  },
  {
   "cell_type": "code",
   "execution_count": 16,
   "metadata": {
    "collapsed": false
   },
   "outputs": [
    {
     "data": {
      "text/plain": [
       "44.83606557377049"
      ]
     },
     "execution_count": 16,
     "metadata": {},
     "output_type": "execute_result"
    }
   ],
   "source": [
    "nae_tech[nae_tech.segment_code == 43000000].groupby('O*NET-SOC Code').count()['T2 Type'].mean()"
   ]
  },
  {
   "cell_type": "code",
   "execution_count": 17,
   "metadata": {
    "collapsed": false
   },
   "outputs": [
    {
     "data": {
      "text/plain": [
       "27.42151481888035"
      ]
     },
     "execution_count": 17,
     "metadata": {},
     "output_type": "execute_result"
    }
   ],
   "source": [
    "non_nae_tech[non_nae_tech.segment_code == 43000000].groupby('O*NET-SOC Code').count()['T2 Type'].mean()"
   ]
  },
  {
   "cell_type": "markdown",
   "metadata": {},
   "source": [
    "> ### N&E occupations adopt at a massively higher rate"
   ]
  },
  {
   "cell_type": "markdown",
   "metadata": {},
   "source": [
    "# New technologies similar in polarization"
   ]
  },
  {
   "cell_type": "markdown",
   "metadata": {},
   "source": [
    "# Technology Use vs. Automation"
   ]
  },
  {
   "cell_type": "code",
   "execution_count": 193,
   "metadata": {
    "collapsed": false
   },
   "outputs": [],
   "source": [
    "tech_counts = pd.DataFrame(tt15[tt15['T2 Type'] == 'Technology'].groupby(\"O*NET-SOC Code\").count()['T2 Type']).reset_index()\n",
    "tech_counts.columns = ['O*NET-SOC Code', 'num_tech']\n",
    "merged = automation.merge(tech_counts, how = 'left', on = 'O*NET-SOC Code')"
   ]
  },
  {
   "cell_type": "code",
   "execution_count": 194,
   "metadata": {
    "collapsed": false
   },
   "outputs": [
    {
     "data": {
      "text/html": [
       "<div>\n",
       "<table border=\"1\" class=\"dataframe\">\n",
       "  <thead>\n",
       "    <tr style=\"text-align: right;\">\n",
       "      <th></th>\n",
       "      <th>O*NET-SOC Code</th>\n",
       "      <th>automation_15</th>\n",
       "      <th>automation_9</th>\n",
       "      <th>delta</th>\n",
       "      <th>delta_pct</th>\n",
       "      <th>Title</th>\n",
       "      <th>num_tech</th>\n",
       "    </tr>\n",
       "  </thead>\n",
       "  <tbody>\n",
       "    <tr>\n",
       "      <th>0</th>\n",
       "      <td>43-5081.03</td>\n",
       "      <td>3.01</td>\n",
       "      <td>1.53</td>\n",
       "      <td>1.48</td>\n",
       "      <td>0.967320</td>\n",
       "      <td>Stock Clerks- Stockroom, Warehouse, or Storage...</td>\n",
       "      <td>8</td>\n",
       "    </tr>\n",
       "    <tr>\n",
       "      <th>1</th>\n",
       "      <td>19-1020.01</td>\n",
       "      <td>2.02</td>\n",
       "      <td>1.07</td>\n",
       "      <td>0.95</td>\n",
       "      <td>0.887850</td>\n",
       "      <td>Biologists</td>\n",
       "      <td>47</td>\n",
       "    </tr>\n",
       "    <tr>\n",
       "      <th>2</th>\n",
       "      <td>41-2012.00</td>\n",
       "      <td>3.11</td>\n",
       "      <td>1.74</td>\n",
       "      <td>1.37</td>\n",
       "      <td>0.787356</td>\n",
       "      <td>Gaming Change Persons and Booth Cashiers</td>\n",
       "      <td>4</td>\n",
       "    </tr>\n",
       "    <tr>\n",
       "      <th>3</th>\n",
       "      <td>47-2011.00</td>\n",
       "      <td>2.64</td>\n",
       "      <td>1.57</td>\n",
       "      <td>1.07</td>\n",
       "      <td>0.681529</td>\n",
       "      <td>Boilermakers</td>\n",
       "      <td>7</td>\n",
       "    </tr>\n",
       "    <tr>\n",
       "      <th>4</th>\n",
       "      <td>21-2011.00</td>\n",
       "      <td>2.01</td>\n",
       "      <td>1.25</td>\n",
       "      <td>0.76</td>\n",
       "      <td>0.608000</td>\n",
       "      <td>Clergy</td>\n",
       "      <td>10</td>\n",
       "    </tr>\n",
       "  </tbody>\n",
       "</table>\n",
       "</div>"
      ],
      "text/plain": [
       "  O*NET-SOC Code  automation_15  automation_9  delta  delta_pct  \\\n",
       "0     43-5081.03           3.01          1.53   1.48   0.967320   \n",
       "1     19-1020.01           2.02          1.07   0.95   0.887850   \n",
       "2     41-2012.00           3.11          1.74   1.37   0.787356   \n",
       "3     47-2011.00           2.64          1.57   1.07   0.681529   \n",
       "4     21-2011.00           2.01          1.25   0.76   0.608000   \n",
       "\n",
       "                                               Title  num_tech  \n",
       "0  Stock Clerks- Stockroom, Warehouse, or Storage...         8  \n",
       "1                                         Biologists        47  \n",
       "2           Gaming Change Persons and Booth Cashiers         4  \n",
       "3                                       Boilermakers         7  \n",
       "4                                             Clergy        10  "
      ]
     },
     "execution_count": 194,
     "metadata": {},
     "output_type": "execute_result"
    }
   ],
   "source": [
    "merged.head()"
   ]
  },
  {
   "cell_type": "code",
   "execution_count": 217,
   "metadata": {
    "collapsed": false,
    "scrolled": true
   },
   "outputs": [
    {
     "data": {
      "text/plain": [
       "0.38364779874213839"
      ]
     },
     "execution_count": 217,
     "metadata": {},
     "output_type": "execute_result"
    }
   ],
   "source": [
    "np.mean(abs(merged.delta_pct) < 0.03)"
   ]
  },
  {
   "cell_type": "code",
   "execution_count": 215,
   "metadata": {
    "collapsed": false
   },
   "outputs": [
    {
     "data": {
      "image/png": "[encoded data removed]",
      "text/plain": [
       "<matplotlib.figure.Figure at 0x118791990>"
      ]
     },
     "metadata": {},
     "output_type": "display_data"
    },
    {
     "data": {
      "image/png": "[encoded data removed]",
      "text/plain": [
       "<matplotlib.figure.Figure at 0x116cbbdd0>"
      ]
     },
     "metadata": {},
     "output_type": "display_data"
    },
    {
     "data": {
      "image/png": "[encoded data removed]",
      "text/plain": [
       "<matplotlib.figure.Figure at 0x1181ca6d0>"
      ]
     },
     "metadata": {},
     "output_type": "display_data"
    },
    {
     "data": {
      "image/png": "[encoded data removed]",
      "text/plain": [
       "<matplotlib.figure.Figure at 0x1175f0650>"
      ]
     },
     "metadata": {},
     "output_type": "display_data"
    }
   ],
   "source": [
    "merged_ss = merged[merged.delta > 0]\n",
    "\n",
    "for outcome in ['delta', 'delta_pct', 'automation_9', 'automation_15']:\n",
    "    sns.plt.figure()\n",
    "    sns.plt.scatter(np.log(merged_ss.num_tech), merged_ss[outcome])"
   ]
  },
  {
   "cell_type": "markdown",
   "metadata": {
    "collapsed": true
   },
   "source": [
    "# Technological Adoption vs. Automation"
   ]
  },
  {
   "cell_type": "markdown",
   "metadata": {},
   "source": [
    "### using number of tech adopted since 2009"
   ]
  },
  {
   "cell_type": "code",
   "execution_count": 91,
   "metadata": {
    "collapsed": false
   },
   "outputs": [],
   "source": [
    "tech15 = tt15[tt15['T2 Type'] == 'Technology']\n",
    "tech9 = tt9[tt9['T2 Type'] == 'Technology']\n",
    "\n",
    "occs = set(tech9['O*NET-SOC Code'])\n",
    "\n",
    "new_df = pd.DataFrame(columns=tech9.columns)\n",
    "\n",
    "for occ in occs:\n",
    "    pre_gb = tech9[tech9['O*NET-SOC Code'] == occ]\n",
    "    post_gb = tech15[tech15['O*NET-SOC Code'] == occ]\n",
    "    new = post_gb[(~post_gb['Commodity Code'].isin(pre_gb['Commodity Code'])) & (~post_gb['T2 Example'].isin(pre_gb['T2 Example']))]\n",
    "    new_df = new_df.append(new)"
   ]
  },
  {
   "cell_type": "code",
   "execution_count": 134,
   "metadata": {
    "collapsed": false
   },
   "outputs": [],
   "source": [
    "counts = new_df.groupby('O*NET-SOC Code').count()['Title']\n",
    "counts_df = pd.DataFrame(counts)\n",
    "counts_df.columns = ['count']\n",
    "counts_df = counts_df.reset_index()"
   ]
  },
  {
   "cell_type": "code",
   "execution_count": 142,
   "metadata": {
    "collapsed": false
   },
   "outputs": [
    {
     "data": {
      "text/html": [
       "<div>\n",
       "<table border=\"1\" class=\"dataframe\">\n",
       "  <thead>\n",
       "    <tr style=\"text-align: right;\">\n",
       "      <th></th>\n",
       "      <th>O*NET-SOC Code</th>\n",
       "      <th>automation_15</th>\n",
       "      <th>automation_9</th>\n",
       "      <th>delta</th>\n",
       "      <th>delta_pct</th>\n",
       "      <th>Title</th>\n",
       "      <th>count</th>\n",
       "    </tr>\n",
       "  </thead>\n",
       "  <tbody>\n",
       "    <tr>\n",
       "      <th>0</th>\n",
       "      <td>19-1020.01</td>\n",
       "      <td>2.02</td>\n",
       "      <td>1.07</td>\n",
       "      <td>0.95</td>\n",
       "      <td>0.887850</td>\n",
       "      <td>Biologists</td>\n",
       "      <td>1</td>\n",
       "    </tr>\n",
       "    <tr>\n",
       "      <th>1</th>\n",
       "      <td>41-2012.00</td>\n",
       "      <td>3.11</td>\n",
       "      <td>1.74</td>\n",
       "      <td>1.37</td>\n",
       "      <td>0.787356</td>\n",
       "      <td>Gaming Change Persons and Booth Cashiers</td>\n",
       "      <td>0</td>\n",
       "    </tr>\n",
       "    <tr>\n",
       "      <th>2</th>\n",
       "      <td>47-2011.00</td>\n",
       "      <td>2.64</td>\n",
       "      <td>1.57</td>\n",
       "      <td>1.07</td>\n",
       "      <td>0.681529</td>\n",
       "      <td>Boilermakers</td>\n",
       "      <td>1</td>\n",
       "    </tr>\n",
       "    <tr>\n",
       "      <th>3</th>\n",
       "      <td>17-2131.00</td>\n",
       "      <td>2.15</td>\n",
       "      <td>1.34</td>\n",
       "      <td>0.81</td>\n",
       "      <td>0.604478</td>\n",
       "      <td>Materials Engineers</td>\n",
       "      <td>2</td>\n",
       "    </tr>\n",
       "    <tr>\n",
       "      <th>4</th>\n",
       "      <td>15-2021.00</td>\n",
       "      <td>2.12</td>\n",
       "      <td>1.33</td>\n",
       "      <td>0.79</td>\n",
       "      <td>0.593985</td>\n",
       "      <td>Mathematicians</td>\n",
       "      <td>0</td>\n",
       "    </tr>\n",
       "  </tbody>\n",
       "</table>\n",
       "</div>"
      ],
      "text/plain": [
       "  O*NET-SOC Code  automation_15  automation_9  delta  delta_pct  \\\n",
       "0     19-1020.01           2.02          1.07   0.95   0.887850   \n",
       "1     41-2012.00           3.11          1.74   1.37   0.787356   \n",
       "2     47-2011.00           2.64          1.57   1.07   0.681529   \n",
       "3     17-2131.00           2.15          1.34   0.81   0.604478   \n",
       "4     15-2021.00           2.12          1.33   0.79   0.593985   \n",
       "\n",
       "                                      Title  count  \n",
       "0                                Biologists      1  \n",
       "1  Gaming Change Persons and Booth Cashiers      0  \n",
       "2                              Boilermakers      1  \n",
       "3                       Materials Engineers      2  \n",
       "4                            Mathematicians      0  "
      ]
     },
     "execution_count": 142,
     "metadata": {},
     "output_type": "execute_result"
    }
   ],
   "source": [
    "automation_counts = automation[automation['O*NET-SOC Code'].isin(occs)].merge(counts_df, how = 'left', on = 'O*NET-SOC Code')\n",
    "automation_counts['count'] = automation_counts['count'].fillna(0)\n",
    "automation_counts.head()"
   ]
  },
  {
   "cell_type": "code",
   "execution_count": 150,
   "metadata": {
    "collapsed": false
   },
   "outputs": [
    {
     "data": {
      "text/plain": [
       "<matplotlib.text.Text at 0x115cb4310>"
      ]
     },
     "execution_count": 150,
     "metadata": {},
     "output_type": "execute_result"
    },
    {
     "data": {
      "image/png": "[encoded data removed]",
      "text/plain": [
       "<matplotlib.figure.Figure at 0x115bfafd0>"
      ]
     },
     "metadata": {},
     "output_type": "display_data"
    }
   ],
   "source": [
    "sns.plt.scatter(np.log(automation_counts['count']), automation_counts.delta_pct)\n",
    "sns.plt.title( 'log tech adopted vs pct change in automation')"
   ]
  },
  {
   "cell_type": "markdown",
   "metadata": {},
   "source": [
    "### Using ```#tech 2015 - #tech 2009```"
   ]
  },
  {
   "cell_type": "code",
   "execution_count": 158,
   "metadata": {
    "collapsed": false
   },
   "outputs": [],
   "source": [
    "from collections import defaultdict\n",
    "\n",
    "tech15 = tt15[tt15['T2 Type'] == 'Technology']\n",
    "tech9 = tt9[tt9['T2 Type'] == 'Technology']\n",
    "\n",
    "occs = set(tech9['O*NET-SOC Code'])\n",
    "\n",
    "abs_tech_df = defaultdict(int)\n",
    "\n",
    "for occ in occs:\n",
    "    pre_gb = len(tech9[tech9['O*NET-SOC Code'] == occ])\n",
    "    post_gb = len(tech15[tech15['O*NET-SOC Code'] == occ])\n",
    "    abs_tech_df[occ] = post_gb = pre_gb\n",
    "    \n",
    "abs_tech_df = pd.DataFrame(dict(abs_tech_df).items(), columns = ['O*NET-SOC Code', 'tech_count'])"
   ]
  },
  {
   "cell_type": "code",
   "execution_count": 213,
   "metadata": {
    "collapsed": false
   },
   "outputs": [
    {
     "data": {
      "text/plain": [
       "<matplotlib.figure.Figure at 0x121659150>"
      ]
     },
     "metadata": {},
     "output_type": "display_data"
    },
    {
     "data": {
      "image/png": "[encoded data removed]",
      "text/plain": [
       "<matplotlib.figure.Figure at 0x114d7b290>"
      ]
     },
     "metadata": {},
     "output_type": "display_data"
    },
    {
     "data": {
      "image/png": "[encoded data removed]",
      "text/plain": [
       "<matplotlib.figure.Figure at 0x11c9bc690>"
      ]
     },
     "metadata": {},
     "output_type": "display_data"
    },
    {
     "data": {
      "image/png": "[encoded data removed]",
      "text/plain": [
       "<matplotlib.figure.Figure at 0x117784990>"
      ]
     },
     "metadata": {},
     "output_type": "display_data"
    },
    {
     "data": {
      "image/png": "[encoded data removed]",
      "text/plain": [
       "<matplotlib.figure.Figure at 0x11922d9d0>"
      ]
     },
     "metadata": {},
     "output_type": "display_data"
    }
   ],
   "source": [
    "sns.plt.figure(figsize = (10, 10))\n",
    "a_counts = automation[automation['O*NET-SOC Code'].isin(occs)].merge(abs_tech_df, how = 'left', on = 'O*NET-SOC Code')\n",
    "a_counts['tech_count'] = a_counts['tech_count'].fillna(0)\n",
    "\n",
    "for outcome in ['delta', 'delta_pct', 'automation_15', 'automation_9']:\n",
    "    sns.plt.figure()\n",
    "    sns.plt.scatter(np.log(a_counts.tech_count), a_counts[outcome])"
   ]
  },
  {
   "cell_type": "markdown",
   "metadata": {},
   "source": [
    "# Non-technology adoptions"
   ]
  },
  {
   "cell_type": "code",
   "execution_count": null,
   "metadata": {
    "collapsed": true
   },
   "outputs": [],
   "source": [
    "tech15 = tt15.groupby('O*NET-SOC Code')[['O*NET-SOC Code', 'Commodity Code', 'T2 Example']]\n",
    "tech9 = tt9.groupby('O*NET-SOC Code')[['O*NET-SOC Code', 'Commodity Code', 'T2 Example']]\n",
    "occs = set(tech9['O*NET-SOC Code'])\n",
    "\n",
    "new_df = pd.DataFrame(columns=tech9.columns)\n",
    "for occ in occs:\n",
    "    pre_gb = tech9[tech9['O*NET-SOC Code'] == occ]\n",
    "    post_gb = tech15[tech15['O*NET-SOC Code'] == occ]\n",
    "    new = post_gb[(~post_gb['Commodity Code'].isin(pre_gb['Commodity Code']))]\n",
    "    new_df = new_df.append(new)"
   ]
  },
  {
   "cell_type": "code",
   "execution_count": 211,
   "metadata": {
    "collapsed": false
   },
   "outputs": [],
   "source": [
    "d = pd.read_table('../data/db15/Work Context.txt')\n",
    "d = d[d['Element Name'] == 'Degree of Automation']"
   ]
  },
  {
   "cell_type": "markdown",
   "metadata": {
    "collapsed": true
   },
   "source": [
    "# Skill PCA"
   ]
  },
  {
   "cell_type": "code",
   "execution_count": 223,
   "metadata": {
    "collapsed": false
   },
   "outputs": [],
   "source": [
    "X = pd.read_table('../data/db15/Skills.txt')"
   ]
  },
  {
   "cell_type": "code",
   "execution_count": 228,
   "metadata": {
    "collapsed": false
   },
   "outputs": [],
   "source": [
    "X = X[X['Scale ID'] == 'LV'].pivot(index = 'O*NET-SOC Code', columns = 'Element Name', values='Data Value').reset_index()"
   ]
  },
  {
   "cell_type": "code",
   "execution_count": 234,
   "metadata": {
    "collapsed": false
   },
   "outputs": [],
   "source": [
    "X = X.iloc[:,1:]"
   ]
  },
  {
   "cell_type": "code",
   "execution_count": 235,
   "metadata": {
    "collapsed": true
   },
   "outputs": [],
   "source": [
    "from sklearn.decomposition import PCA"
   ]
  },
  {
   "cell_type": "code",
   "execution_count": 236,
   "metadata": {
    "collapsed": true
   },
   "outputs": [],
   "source": [
    "pca = PCA()"
   ]
  },
  {
   "cell_type": "code",
   "execution_count": 237,
   "metadata": {
    "collapsed": false
   },
   "outputs": [
    {
     "data": {
      "text/plain": [
       "PCA(copy=True, n_components=None, whiten=False)"
      ]
     },
     "execution_count": 237,
     "metadata": {},
     "output_type": "execute_result"
    }
   ],
   "source": [
    "pca.fit(X)"
   ]
  },
  {
   "cell_type": "code",
   "execution_count": 241,
   "metadata": {
    "collapsed": false
   },
   "outputs": [],
   "source": [
    "first_three = pca.components_[:3]"
   ]
  },
  {
   "cell_type": "code",
   "execution_count": 242,
   "metadata": {
    "collapsed": false
   },
   "outputs": [],
   "source": [
    "a = first_three[0]"
   ]
  },
  {
   "cell_type": "code",
   "execution_count": 248,
   "metadata": {
    "collapsed": true
   },
   "outputs": [],
   "source": [
    "# find the ten most important skills for each component – that is, the "
   ]
  },
  {
   "cell_type": "code",
   "execution_count": 268,
   "metadata": {
    "collapsed": false
   },
   "outputs": [
    {
     "data": {
      "text/plain": [
       "array([ 5, 24, 18, 33,  6])"
      ]
     },
     "execution_count": 268,
     "metadata": {},
     "output_type": "execute_result"
    }
   ],
   "source": [
    "a.argsort()[::-1][:5]"
   ]
  },
  {
   "cell_type": "code",
   "execution_count": 276,
   "metadata": {
    "collapsed": false
   },
   "outputs": [],
   "source": [
    "def get_most_important_features(X, num_components, num_features):\n",
    "    pca = PCA()\n",
    "    pca.fit(X)\n",
    "    names = list(X.columns)\n",
    "    for i in xrange(num_components):\n",
    "        print \"COMPONENT {}:\".format(i + 1)\n",
    "        print \"-------------\"\n",
    "        component = pca.components_[i]\n",
    "        max_indices = component.argsort()[::-1][:num_features]\n",
    "        for index in max_indices:\n",
    "            value = component[index]\n",
    "            name = names[index]\n",
    "            print \"{}: {}\".format(round(value, 3), name)\n",
    "        print \" \""
   ]
  },
  {
   "cell_type": "code",
   "execution_count": 281,
   "metadata": {
    "collapsed": false
   },
   "outputs": [
    {
     "name": "stdout",
     "output_type": "stream",
     "text": [
      "COMPONENT 1:\n",
      "-------------\n",
      "0.229: Equipment Maintenance\n",
      "0.223: Repairing\n",
      "0.205: Operation and Control\n",
      " \n",
      "COMPONENT 2:\n",
      "-------------\n",
      "0.025: Service Orientation\n",
      "0.013: Social Perceptiveness\n",
      "-0.002: Negotiation\n",
      " \n",
      "COMPONENT 3:\n",
      "-------------\n",
      "0.627: Science\n",
      "0.126: Reading Comprehension\n",
      "0.106: Programming\n",
      " \n",
      "COMPONENT 4:\n",
      "-------------\n",
      "0.337: Programming\n",
      "0.303: Mathematics\n",
      "0.276: Operations Analysis\n",
      " \n",
      "COMPONENT 5:\n",
      "-------------\n",
      "0.363: Installation\n",
      "0.304: Programming\n",
      "0.286: Repairing\n",
      " \n"
     ]
    }
   ],
   "source": [
    "get_most_important_features(X, num_components = 5, num_features = 3)"
   ]
  },
  {
   "cell_type": "code",
   "execution_count": null,
   "metadata": {
    "collapsed": true
   },
   "outputs": [],
   "source": []
  }
 ],
 "metadata": {
  "kernelspec": {
   "display_name": "Python 2",
   "language": "python",
   "name": "python2"
  },
  "language_info": {
   "codemirror_mode": {
    "name": "ipython",
    "version": 2
   },
   "file_extension": ".py",
   "mimetype": "text/x-python",
   "name": "python",
   "nbconvert_exporter": "python",
   "pygments_lexer": "ipython2",
   "version": "2.7.10"
  }
 },
 "nbformat": 4,
 "nbformat_minor": 0
}
