{
 "cells": [
  {
   "cell_type": "code",
   "execution_count": 1,
   "metadata": {
    "collapsed": true
   },
   "outputs": [],
   "source": [
    "import pandas as pd\n",
    "import numpy as np\n",
    "import seaborn as sns\n",
    "from collections import Counter, OrderedDict\n",
    "from nltk.corpus import stopwords\n",
    "from sklearn.cross_validation import train_test_split\n",
    "import re\n",
    "\n",
    "from automation_mapping import *\n",
    "from automating_tech_helpers import *\n",
    "from machines_helpers import *\n",
    "from ai_tech_helpers import *\n",
    "\n",
    "%matplotlib inline"
   ]
  },
  {
   "cell_type": "markdown",
   "metadata": {},
   "source": [
    "# LOAD DATA"
   ]
  },
  {
   "cell_type": "code",
   "execution_count": 2,
   "metadata": {
    "collapsed": false
   },
   "outputs": [],
   "source": [
    "unspsc = pd.read_table('../data/onet_tools_technology/UNSPSC Reference.txt') # occupation code database\n",
    "tt6 = pd.read_csv('../data/db06/Tools_and_Technology.csv') # tools & tech 2006\n",
    "tt9 = pd.read_csv('../data/db09/Tools and Technology.csv') # tools & tech 2009\n",
    "tt15 = pd.read_table('../data/db15/Tools and Technology.txt') # tools & tech 2015\n",
    "occ_ref = pd.read_csv('../data/db15/helpers/occ_codes/occupation_reference.csv')\n",
    "class_codes = pd.read_csv('../data/db15/helpers/tech_codes/class_codes.csv')\n",
    "family_codes = pd.read_csv('../data/db15/helpers/tech_codes/family_codes.csv')\n",
    "segment_codes = pd.read_csv('../data/db15/helpers/tech_codes/segment_codes.csv')\n",
    "\n",
    "tt15 = pd.merge(tt15, occ_ref, how = 'left', on = ['O*NET-SOC Code']) ## add occupation titles to tt15\n",
    "tt9 = pd.merge(tt9, occ_ref, how = 'left', on = ['O*NET-SOC Code']) ## add occupation titles to tt15\n",
    "tt6 = pd.merge(tt6, occ_ref, how = 'left', on = ['O*NET-SOC Code']) ## add occupation titles to tt15"
   ]
  },
  {
   "cell_type": "markdown",
   "metadata": {},
   "source": [
    "# CLEAN DATA"
   ]
  },
  {
   "cell_type": "code",
   "execution_count": 3,
   "metadata": {
    "collapsed": false
   },
   "outputs": [],
   "source": [
    "def remove_punc_stopwords_lower(s):\n",
    "    stop = stopwords.words('english')\n",
    "    regex = r\"\\W+\"\n",
    "    return \" \".join([i for i in re.split(regex, s.lower()) if i not in stop])\n",
    "\n",
    "def fix_titles(df):\n",
    "    new_df = df.copy()\n",
    "    new_df['T2 Example'] = new_df['T2 Example'].apply(lambda x: remove_punc_stopwords_lower(x))\n",
    "    new_df['Commodity Title'] = new_df['Commodity Title'].apply(lambda x: remove_punc_stopwords_lower(x))\n",
    "    return new_df\n",
    "\n",
    "def add_tech_groupings(df):\n",
    "    new_df = df.copy()\n",
    "    new_df['segment_code'] = create_codes(new_df, group = 'Segment')\n",
    "    new_df['class_code'] = create_codes(new_df, group = 'Class')\n",
    "    new_df['family_code'] = create_codes(new_df, group = 'Family')\n",
    "    return new_df\n",
    "\n",
    "def add_group_titles(df, class_codes, family_codes, segment_codes):\n",
    "    new_df = df.copy()\n",
    "    add_class = new_df.merge(class_codes, how = 'left', on = 'class_code')\n",
    "    add_family = add_class.merge(family_codes, how = 'left', on = 'family_code')\n",
    "    final = add_family.merge(segment_codes, how = 'left', on = 'segment_code')\n",
    "    return final\n",
    "\n",
    "def full_clean(df, class_codes, family_codes, segment_codes):\n",
    "    new_df = df.copy()\n",
    "    new_df = add_tech_groupings(fix_titles(new_df))\n",
    "    new_df = add_group_titles(new_df, class_codes, family_codes, segment_codes)\n",
    "    return new_df\n",
    "    \n",
    "tt6 = full_clean(tt6, class_codes, family_codes, segment_codes)\n",
    "tt9 = full_clean(tt9, class_codes, family_codes, segment_codes)\n",
    "tt15 = full_clean(tt15, class_codes, family_codes, segment_codes)"
   ]
  },
  {
   "cell_type": "markdown",
   "metadata": {},
   "source": [
    "> ### Note – saved in /code/helpers as clean_tt_df.py"
   ]
  },
  {
   "cell_type": "markdown",
   "metadata": {},
   "source": [
    "# EMERGING TECHNOLOGIES"
   ]
  },
  {
   "cell_type": "code",
   "execution_count": 78,
   "metadata": {
    "collapsed": false
   },
   "outputs": [
    {
     "data": {
      "text/plain": [
       "0.5574948665297741"
      ]
     },
     "execution_count": 78,
     "metadata": {},
     "output_type": "execute_result"
    }
   ],
   "source": [
    "tech6 = set(tt6['Commodity Code'])\n",
    "tech9 = set(tt9['Commodity Code'])\n",
    "tech15 = set(tt15['Commodity Code'])\n",
    "emerged_codes = tech15 - tech9\n",
    "\n",
    "tt9_titles = set(tt9['T2 Example'])\n",
    "tt15_titles = set(tt15['T2 Example'])\n",
    "emerged_titles = tt15_titles - tt9_titles\n",
    "\n",
    "adoptions = tt15[tt15['Commodity Code'].isin(emerged_codes) & tt15['T2 Example'].isin(emerged_titles)]\n",
    "len(adoptions['O*NET-SOC Code'].unique())/float(len(tt15['O*NET-SOC Code'].unique()))"
   ]
  },
  {
   "cell_type": "code",
   "execution_count": 75,
   "metadata": {
    "collapsed": false
   },
   "outputs": [
    {
     "data": {
      "text/plain": [
       "2452"
      ]
     },
     "execution_count": 75,
     "metadata": {},
     "output_type": "execute_result"
    }
   ],
   "source": [
    "len(adoptions['T2 Example'].unique())"
   ]
  },
  {
   "cell_type": "markdown",
   "metadata": {},
   "source": [
    ">55.74% of occupations adopted some emerged technology"
   ]
  },
  {
   "cell_type": "code",
   "execution_count": 61,
   "metadata": {
    "collapsed": false
   },
   "outputs": [],
   "source": [
    "adoptions.to_csv(\"emerged_all.csv\", index = False)"
   ]
  },
  {
   "cell_type": "code",
   "execution_count": 67,
   "metadata": {
    "collapsed": false
   },
   "outputs": [],
   "source": [
    "pd.DataFrame(adoptions['T2 Example'].unique()).to_csv('emerged_tech_titles.csv', index = False)\n",
    "pd.DataFrame(adoptions['Commodity Title'].unique()).to_csv('emerged_commodity_titles.csv', index = False)"
   ]
  },
  {
   "cell_type": "code",
   "execution_count": 9,
   "metadata": {
    "collapsed": false
   },
   "outputs": [
    {
     "data": {
      "text/plain": [
       "Postsecondary Teachers                                        36\n",
       "Other Production Occupations                                  34\n",
       "Construction Trades Workers                                   31\n",
       "Health Diagnosing and Treating Practitioners                  28\n",
       "Other Installation, Maintenance, and Repair Occupations       26\n",
       "Metal Workers and Plastic Workers                             26\n",
       "Drafters, Engineering Technicians, and Mapping Technicians    25\n",
       "Business Operations Specialists                               24\n",
       "Other Management Occupations                                  22\n",
       "Information and Record Clerks                                 18\n",
       "dtype: int64"
      ]
     },
     "execution_count": 9,
     "metadata": {},
     "output_type": "execute_result"
    }
   ],
   "source": [
    "adopter_info = adoptions[['O*NET-SOC Code', 'Title', 'broad_title', 'minor_title', 'major_title']].drop_duplicates()\n",
    "adopter_info['minor_title'].value_counts()[:10]"
   ]
  },
  {
   "cell_type": "code",
   "execution_count": 10,
   "metadata": {
    "collapsed": false
   },
   "outputs": [
    {
     "data": {
      "text/plain": [
       "Hand tools                                                                  1042\n",
       "Metal cutting machinery and accessories                                      610\n",
       "Welding and soldering and brazing machinery and accessories and supplies     566\n",
       "Office machines and their supplies and accessories                           398\n",
       "Software                                                                     263\n",
       "Measuring and observing and testing instruments                              254\n",
       "Metal forming machinery and accessories                                      145\n",
       "Transportation services equipment                                            115\n",
       "Industrial process machinery and equipment and supplies                       89\n",
       "Textile and fabric machinery and accessories                                  88\n",
       "dtype: int64"
      ]
     },
     "execution_count": 10,
     "metadata": {},
     "output_type": "execute_result"
    }
   ],
   "source": [
    "adoptions['family_title'].value_counts()[:10]"
   ]
  },
  {
   "cell_type": "code",
   "execution_count": 11,
   "metadata": {
    "collapsed": true
   },
   "outputs": [],
   "source": [
    "existed_in_9 = tt9['O*NET-SOC Code'].unique()\n",
    "adoptions_9 = adoptions[adoptions['O*NET-SOC Code'].isin(existed_in_9)]"
   ]
  },
  {
   "cell_type": "code",
   "execution_count": 12,
   "metadata": {
    "collapsed": false
   },
   "outputs": [
    {
     "data": {
      "text/plain": [
       "0.5739268680445151"
      ]
     },
     "execution_count": 12,
     "metadata": {},
     "output_type": "execute_result"
    }
   ],
   "source": [
    "len(adoptions_9['O*NET-SOC Code'].unique())/float(len(existed_in_9))"
   ]
  },
  {
   "cell_type": "markdown",
   "metadata": {},
   "source": [
    "> 57% of 2009 occupations adopted emerging tech"
   ]
  },
  {
   "cell_type": "code",
   "execution_count": 13,
   "metadata": {
    "collapsed": false,
    "scrolled": true
   },
   "outputs": [
    {
     "data": {
      "text/plain": [
       "0.9054726368159204"
      ]
     },
     "execution_count": 13,
     "metadata": {},
     "output_type": "execute_result"
    }
   ],
   "source": [
    "appeared_in_15 = set(tt15['O*NET-SOC Code']) - set(tt9['O*NET-SOC Code'])\n",
    "adoptions_15 = adoptions[adoptions['O*NET-SOC Code'].isin(appeared_in_15)]\n",
    "len(adoptions_15['O*NET-SOC Code'].unique())/float(len(appeared_in_15))"
   ]
  },
  {
   "cell_type": "markdown",
   "metadata": {},
   "source": [
    "> 90% of emerged occupations adopted emerging tech"
   ]
  },
  {
   "cell_type": "markdown",
   "metadata": {},
   "source": [
    "# CHANGE IN AUTOMATION"
   ]
  },
  {
   "cell_type": "code",
   "execution_count": 14,
   "metadata": {
    "collapsed": true
   },
   "outputs": [],
   "source": [
    "def load_automation_data(path, year):\n",
    "    auto = pd.read_table(path)\n",
    "    auto = auto[(auto['Element Name'] == 'Degree of Automation') & (auto['Scale ID'] == 'CX')]\n",
    "    auto_values = auto[['O*NET-SOC Code', 'Data Value']]\n",
    "    auto_values.columns = ['O*NET-SOC Code', 'automation_' + str(year)]\n",
    "    return auto_values"
   ]
  },
  {
   "cell_type": "markdown",
   "metadata": {},
   "source": [
    "2015"
   ]
  },
  {
   "cell_type": "code",
   "execution_count": 15,
   "metadata": {
    "collapsed": false
   },
   "outputs": [
    {
     "name": "stderr",
     "output_type": "stream",
     "text": [
      "/Users/Logan/anaconda/envs/dev/lib/python2.7/site-packages/pandas/io/parsers.py:1170: DtypeWarning: Columns (6) have mixed types. Specify dtype option on import or set low_memory=False.\n",
      "  data = self._reader.read(nrows)\n"
     ]
    }
   ],
   "source": [
    "a15_values = load_automation_data('../data/db15/Work Context.txt', 15)\n",
    "tt15 = tt15.merge(a15_values, how = 'left', on=\"O*NET-SOC Code\")"
   ]
  },
  {
   "cell_type": "markdown",
   "metadata": {},
   "source": [
    "2009"
   ]
  },
  {
   "cell_type": "code",
   "execution_count": 16,
   "metadata": {
    "collapsed": false
   },
   "outputs": [],
   "source": [
    "a9_values = load_automation_data('../data/db09/Work Context.txt', 9)\n",
    "tt9 = tt9.merge(a15_values, how = 'left', on = \"O*NET-SOC Code\")"
   ]
  },
  {
   "cell_type": "markdown",
   "metadata": {},
   "source": [
    "Delta analysis"
   ]
  },
  {
   "cell_type": "code",
   "execution_count": 17,
   "metadata": {
    "collapsed": false
   },
   "outputs": [],
   "source": [
    "auto_delta = a15_values.merge(a9_values, how = 'left', on = \"O*NET-SOC Code\")\n",
    "auto_delta['delta'] = auto_delta.automation_15 - auto_delta.automation_9\n",
    "auto_delta['delta_pct'] = auto_delta.delta / auto_delta.automation_9"
   ]
  },
  {
   "cell_type": "code",
   "execution_count": 18,
   "metadata": {
    "collapsed": false
   },
   "outputs": [
    {
     "data": {
      "text/html": [
       "<div>\n",
       "<table border=\"1\" class=\"dataframe\">\n",
       "  <thead>\n",
       "    <tr style=\"text-align: right;\">\n",
       "      <th></th>\n",
       "      <th>O*NET-SOC Code</th>\n",
       "      <th>automation_15</th>\n",
       "      <th>automation_9</th>\n",
       "      <th>delta</th>\n",
       "      <th>delta_pct</th>\n",
       "      <th>Title</th>\n",
       "    </tr>\n",
       "  </thead>\n",
       "  <tbody>\n",
       "    <tr>\n",
       "      <th>0</th>\n",
       "      <td>43-5081.03</td>\n",
       "      <td>3.01</td>\n",
       "      <td>1.53</td>\n",
       "      <td>1.48</td>\n",
       "      <td>0.967320</td>\n",
       "      <td>Stock Clerks- Stockroom, Warehouse, or Storage...</td>\n",
       "    </tr>\n",
       "    <tr>\n",
       "      <th>1</th>\n",
       "      <td>19-1020.01</td>\n",
       "      <td>2.02</td>\n",
       "      <td>1.07</td>\n",
       "      <td>0.95</td>\n",
       "      <td>0.887850</td>\n",
       "      <td>Biologists</td>\n",
       "    </tr>\n",
       "    <tr>\n",
       "      <th>2</th>\n",
       "      <td>41-2012.00</td>\n",
       "      <td>3.11</td>\n",
       "      <td>1.74</td>\n",
       "      <td>1.37</td>\n",
       "      <td>0.787356</td>\n",
       "      <td>Gaming Change Persons and Booth Cashiers</td>\n",
       "    </tr>\n",
       "    <tr>\n",
       "      <th>3</th>\n",
       "      <td>47-2011.00</td>\n",
       "      <td>2.64</td>\n",
       "      <td>1.57</td>\n",
       "      <td>1.07</td>\n",
       "      <td>0.681529</td>\n",
       "      <td>Boilermakers</td>\n",
       "    </tr>\n",
       "    <tr>\n",
       "      <th>4</th>\n",
       "      <td>21-2011.00</td>\n",
       "      <td>2.01</td>\n",
       "      <td>1.25</td>\n",
       "      <td>0.76</td>\n",
       "      <td>0.608000</td>\n",
       "      <td>Clergy</td>\n",
       "    </tr>\n",
       "  </tbody>\n",
       "</table>\n",
       "</div>"
      ],
      "text/plain": [
       "  O*NET-SOC Code  automation_15  automation_9  delta  delta_pct  \\\n",
       "0     43-5081.03           3.01          1.53   1.48   0.967320   \n",
       "1     19-1020.01           2.02          1.07   0.95   0.887850   \n",
       "2     41-2012.00           3.11          1.74   1.37   0.787356   \n",
       "3     47-2011.00           2.64          1.57   1.07   0.681529   \n",
       "4     21-2011.00           2.01          1.25   0.76   0.608000   \n",
       "\n",
       "                                               Title  \n",
       "0  Stock Clerks- Stockroom, Warehouse, or Storage...  \n",
       "1                                         Biologists  \n",
       "2           Gaming Change Persons and Booth Cashiers  \n",
       "3                                       Boilermakers  \n",
       "4                                             Clergy  "
      ]
     },
     "execution_count": 18,
     "metadata": {},
     "output_type": "execute_result"
    }
   ],
   "source": [
    "became_automated = auto_delta.sort(columns = 'delta_pct', ascending = False)\n",
    "details = occ_ref[['O*NET-SOC Code', 'Title']]\n",
    "became_automated.merge(details, how = 'left', on = 'O*NET-SOC Code').head()"
   ]
  },
  {
   "cell_type": "code",
   "execution_count": 19,
   "metadata": {
    "collapsed": false,
    "scrolled": true
   },
   "outputs": [
    {
     "data": {
      "text/html": [
       "<div>\n",
       "<table border=\"1\" class=\"dataframe\">\n",
       "  <thead>\n",
       "    <tr style=\"text-align: right;\">\n",
       "      <th></th>\n",
       "      <th>O*NET-SOC Code</th>\n",
       "      <th>automation_15</th>\n",
       "      <th>automation_9</th>\n",
       "      <th>delta</th>\n",
       "      <th>delta_pct</th>\n",
       "    </tr>\n",
       "  </thead>\n",
       "  <tbody>\n",
       "    <tr>\n",
       "      <th>641</th>\n",
       "      <td>43-5081.03</td>\n",
       "      <td>3.01</td>\n",
       "      <td>1.53</td>\n",
       "      <td>1.48</td>\n",
       "      <td>0.967320</td>\n",
       "    </tr>\n",
       "    <tr>\n",
       "      <th>202</th>\n",
       "      <td>19-1020.01</td>\n",
       "      <td>2.02</td>\n",
       "      <td>1.07</td>\n",
       "      <td>0.95</td>\n",
       "      <td>0.887850</td>\n",
       "    </tr>\n",
       "    <tr>\n",
       "      <th>576</th>\n",
       "      <td>41-2012.00</td>\n",
       "      <td>3.11</td>\n",
       "      <td>1.74</td>\n",
       "      <td>1.37</td>\n",
       "      <td>0.787356</td>\n",
       "    </tr>\n",
       "    <tr>\n",
       "      <th>679</th>\n",
       "      <td>47-2011.00</td>\n",
       "      <td>2.64</td>\n",
       "      <td>1.57</td>\n",
       "      <td>1.07</td>\n",
       "      <td>0.681529</td>\n",
       "    </tr>\n",
       "    <tr>\n",
       "      <th>271</th>\n",
       "      <td>21-2011.00</td>\n",
       "      <td>2.01</td>\n",
       "      <td>1.25</td>\n",
       "      <td>0.76</td>\n",
       "      <td>0.608000</td>\n",
       "    </tr>\n",
       "  </tbody>\n",
       "</table>\n",
       "</div>"
      ],
      "text/plain": [
       "    O*NET-SOC Code  automation_15  automation_9  delta  delta_pct\n",
       "641     43-5081.03           3.01          1.53   1.48   0.967320\n",
       "202     19-1020.01           2.02          1.07   0.95   0.887850\n",
       "576     41-2012.00           3.11          1.74   1.37   0.787356\n",
       "679     47-2011.00           2.64          1.57   1.07   0.681529\n",
       "271     21-2011.00           2.01          1.25   0.76   0.608000"
      ]
     },
     "execution_count": 19,
     "metadata": {},
     "output_type": "execute_result"
    }
   ],
   "source": [
    "became_automated.head()"
   ]
  },
  {
   "cell_type": "code",
   "execution_count": 20,
   "metadata": {
    "collapsed": false,
    "scrolled": true
   },
   "outputs": [
    {
     "data": {
      "text/plain": [
       "[<matplotlib.lines.Line2D at 0x10ed11910>]"
      ]
     },
     "execution_count": 20,
     "metadata": {},
     "output_type": "execute_result"
    },
    {
     "data": {
      "image/png": "[encoded data removed]",
      "text/plain": [
       "<matplotlib.figure.Figure at 0x106c03a90>"
      ]
     },
     "metadata": {},
     "output_type": "display_data"
    }
   ],
   "source": [
    "filt = auto_delta.automation_9.notnull()\n",
    "\n",
    "x = auto_delta.automation_9[filt]\n",
    "y = auto_delta.automation_15[filt]\n",
    "m, b = np.polyfit(x, y, 1)\n",
    "\n",
    "sns.plt.figure(figsize=(8,8))\n",
    "sns.plt.plot(x, y, '.', alpha = 0.7)\n",
    "sns.plt.plot(x, m*x + b, color = 'r')"
   ]
  },
  {
   "cell_type": "markdown",
   "metadata": {},
   "source": [
    "> ### Note – best fit line shows that those with higher automation in 2009 had lower in 2015"
   ]
  },
  {
   "cell_type": "markdown",
   "metadata": {},
   "source": [
    "### Mean analysis – most automated by mean of automation"
   ]
  },
  {
   "cell_type": "code",
   "execution_count": 21,
   "metadata": {
    "collapsed": false,
    "scrolled": true
   },
   "outputs": [
    {
     "name": "stdout",
     "output_type": "stream",
     "text": [
      "major_title\n",
      "Business and Financial Operations Occupations    2.678563\n",
      "Office and Administrative Support Occupations    2.651893\n",
      "Legal Occupations                                2.534961\n",
      "Production Occupations                           2.459347\n",
      "Computer and Mathematical Occupations            2.301344\n",
      "Name: automation_15, dtype: float64\n",
      "\n",
      "\n",
      "major_title\n",
      "Education, Training, and Library Occupations                  1.740324\n",
      "Installation, Maintenance, and Repair Occupations             1.795233\n",
      "Personal Care and Service Occupations                         1.820787\n",
      "Arts, Design, Entertainment, Sports, and Media Occupations    1.825710\n",
      "Food Preparation and Serving Related Occupations              1.879812\n",
      "Name: automation_15, dtype: float64\n"
     ]
    }
   ],
   "source": [
    "print tt15.groupby('major_title')['automation_15'].mean().order(ascending = False)[:5]\n",
    "print \"\\n\"\n",
    "print tt15.groupby('major_title')['automation_15'].mean().order(ascending = True)[:5]\n"
   ]
  },
  {
   "cell_type": "markdown",
   "metadata": {},
   "source": [
    "> The least automated in 2015 also seem like the most automatable"
   ]
  },
  {
   "cell_type": "markdown",
   "metadata": {},
   "source": [
    "### Delta analysis – became the most automated"
   ]
  },
  {
   "cell_type": "code",
   "execution_count": 22,
   "metadata": {
    "collapsed": false,
    "scrolled": true
   },
   "outputs": [],
   "source": [
    "delta_analysis = became_automated.merge(occ_ref[['O*NET-SOC Code', 'Title']], how = 'left', on = 'O*NET-SOC Code')"
   ]
  },
  {
   "cell_type": "code",
   "execution_count": 23,
   "metadata": {
    "collapsed": false
   },
   "outputs": [
    {
     "name": "stdout",
     "output_type": "stream",
     "text": [
      "Title\n",
      "Stock Clerks- Stockroom, Warehouse, or Storage Yard    0.967320\n",
      "Biologists                                             0.887850\n",
      "Gaming Change Persons and Booth Cashiers               0.787356\n",
      "Boilermakers                                           0.681529\n",
      "Clergy                                                 0.608000\n",
      "Name: delta_pct, dtype: float64\n",
      "\n",
      "\n",
      "Title\n",
      "Manicurists and Pedicurists                       -0.509174\n",
      "Aviation Inspectors                               -0.445070\n",
      "Forensic Science Technicians                      -0.442907\n",
      "Forest and Conservation Workers                   -0.420849\n",
      "Nursing Instructors and Teachers, Postsecondary   -0.418103\n",
      "Name: delta_pct, dtype: float64\n"
     ]
    }
   ],
   "source": [
    "print delta_analysis.groupby('Title')['delta_pct'].mean().order(ascending = False)[:5]\n",
    "print \"\\n\"\n",
    "print delta_analysis.groupby('Title')['delta_pct'].mean().order(ascending = True)[:5]"
   ]
  },
  {
   "cell_type": "markdown",
   "metadata": {},
   "source": [
    "> \"Clergy\" increased heavily in automation. Love it – \"Deus Ex Machina\""
   ]
  },
  {
   "cell_type": "code",
   "execution_count": 24,
   "metadata": {
    "collapsed": false
   },
   "outputs": [
    {
     "data": {
      "image/png": "[encoded data removed]",
      "text/plain": [
       "<matplotlib.figure.Figure at 0x10d725550>"
      ]
     },
     "metadata": {},
     "output_type": "display_data"
    }
   ],
   "source": [
    "tt15['automation_15'].hist(by=tt15['major_title'], sharex = True, figsize=(30,30))\n",
    "sns.plt.savefig('automation_histograms.png')\n",
    "sns.plt.show()"
   ]
  },
  {
   "cell_type": "code",
   "execution_count": 25,
   "metadata": {
    "collapsed": false
   },
   "outputs": [
    {
     "ename": "NameError",
     "evalue": "name 'X' is not defined",
     "output_type": "error",
     "traceback": [
      "\u001b[0;31m---------------------------------------------------------------------------\u001b[0m",
      "\u001b[0;31mNameError\u001b[0m                                 Traceback (most recent call last)",
      "\u001b[0;32m<ipython-input-25-e9758644bb26>\u001b[0m in \u001b[0;36m<module>\u001b[0;34m()\u001b[0m\n\u001b[0;32m----> 1\u001b[0;31m \u001b[0;32mfor\u001b[0m \u001b[0mcol\u001b[0m \u001b[0;32min\u001b[0m \u001b[0mX\u001b[0m\u001b[0;34m.\u001b[0m\u001b[0mcolumns\u001b[0m\u001b[0;34m:\u001b[0m\u001b[0;34m\u001b[0m\u001b[0m\n\u001b[0m\u001b[1;32m      2\u001b[0m     \u001b[0msns\u001b[0m\u001b[0;34m.\u001b[0m\u001b[0mplt\u001b[0m\u001b[0;34m.\u001b[0m\u001b[0mscatter\u001b[0m\u001b[0;34m(\u001b[0m\u001b[0mnp\u001b[0m\u001b[0;34m.\u001b[0m\u001b[0marray\u001b[0m\u001b[0;34m(\u001b[0m\u001b[0mX\u001b[0m\u001b[0;34m[\u001b[0m\u001b[0mcol\u001b[0m\u001b[0;34m]\u001b[0m\u001b[0;34m)\u001b[0m\u001b[0;34m,\u001b[0m \u001b[0my\u001b[0m\u001b[0;34m)\u001b[0m\u001b[0;34m\u001b[0m\u001b[0m\n\u001b[1;32m      3\u001b[0m     \u001b[0msns\u001b[0m\u001b[0;34m.\u001b[0m\u001b[0mplt\u001b[0m\u001b[0;34m.\u001b[0m\u001b[0mshow\u001b[0m\u001b[0;34m(\u001b[0m\u001b[0;34m)\u001b[0m\u001b[0;34m\u001b[0m\u001b[0m\n",
      "\u001b[0;31mNameError\u001b[0m: name 'X' is not defined"
     ]
    }
   ],
   "source": [
    "for col in X.columns:\n",
    "    sns.plt.scatter(np.array(X[col]), y)\n",
    "    sns.plt.show()"
   ]
  },
  {
   "cell_type": "markdown",
   "metadata": {},
   "source": [
    "# \\# of TECHNOLOGIES ADOPTED"
   ]
  },
  {
   "cell_type": "code",
   "execution_count": 26,
   "metadata": {
    "collapsed": true
   },
   "outputs": [],
   "source": [
    "def return_new_technologies(new, old):\n",
    "    occupations = set(new['O*NET-SOC Code'])\n",
    "    adopted_df = pd.DataFrame(columns = new.columns)\n",
    "    for occ in occupations:\n",
    "        new_tech = set(new[new['O*NET-SOC Code'] == occ]['Commodity Code'])\n",
    "        old_tech = set(old[old['O*NET-SOC Code'] == occ]['Commodity Code'])\n",
    "        adopted = new_tech - old_tech\n",
    "        adopted_df = adopted_df.append(new[(new['O*NET-SOC Code'] == occ) & (new['Commodity Code'].isin(adopted))])\n",
    "    return adopted_df"
   ]
  },
  {
   "cell_type": "code",
   "execution_count": 27,
   "metadata": {
    "collapsed": false,
    "scrolled": true
   },
   "outputs": [],
   "source": [
    "adopted = return_new_technologies(tt15, tt9)"
   ]
  },
  {
   "cell_type": "code",
   "execution_count": 31,
   "metadata": {
    "collapsed": false
   },
   "outputs": [],
   "source": [
    "adopted.drop('automation_15', axis = 1).to_csv('tech_adoptions.csv', index=False)"
   ]
  },
  {
   "cell_type": "code",
   "execution_count": null,
   "metadata": {
    "collapsed": true
   },
   "outputs": [],
   "source": [
    "### num_per_occ = pd.DataFrame(np.log(adopted.groupby('O*NET-SOC Code')['Commodity Code'].count()))\n",
    "num_per_occ['O*NET-SOC Code'] = num_per_occ.index\n",
    "num_per_occ.columns = ['log_num_tech', 'O*NET-SOC Code']"
   ]
  },
  {
   "cell_type": "markdown",
   "metadata": {},
   "source": [
    "# \\# of TECHNOLOGIES REGRESSION"
   ]
  },
  {
   "cell_type": "code",
   "execution_count": 29,
   "metadata": {
    "collapsed": false
   },
   "outputs": [
    {
     "data": {
      "text/html": [
       "<div>\n",
       "<table border=\"1\" class=\"dataframe\">\n",
       "  <thead>\n",
       "    <tr style=\"text-align: right;\">\n",
       "      <th></th>\n",
       "      <th>log_num_tech</th>\n",
       "      <th>O*NET-SOC Code</th>\n",
       "    </tr>\n",
       "    <tr>\n",
       "      <th>O*NET-SOC Code</th>\n",
       "      <th></th>\n",
       "      <th></th>\n",
       "    </tr>\n",
       "  </thead>\n",
       "  <tbody>\n",
       "    <tr>\n",
       "      <th>11-1011.00</th>\n",
       "      <td>0.000000</td>\n",
       "      <td>11-1011.00</td>\n",
       "    </tr>\n",
       "    <tr>\n",
       "      <th>11-1011.03</th>\n",
       "      <td>0.693147</td>\n",
       "      <td>11-1011.03</td>\n",
       "    </tr>\n",
       "    <tr>\n",
       "      <th>11-1021.00</th>\n",
       "      <td>3.178054</td>\n",
       "      <td>11-1021.00</td>\n",
       "    </tr>\n",
       "    <tr>\n",
       "      <th>11-1031.00</th>\n",
       "      <td>3.610918</td>\n",
       "      <td>11-1031.00</td>\n",
       "    </tr>\n",
       "    <tr>\n",
       "      <th>11-2011.00</th>\n",
       "      <td>1.791759</td>\n",
       "      <td>11-2011.00</td>\n",
       "    </tr>\n",
       "  </tbody>\n",
       "</table>\n",
       "</div>"
      ],
      "text/plain": [
       "                log_num_tech O*NET-SOC Code\n",
       "O*NET-SOC Code                             \n",
       "11-1011.00          0.000000     11-1011.00\n",
       "11-1011.03          0.693147     11-1011.03\n",
       "11-1021.00          3.178054     11-1021.00\n",
       "11-1031.00          3.610918     11-1031.00\n",
       "11-2011.00          1.791759     11-2011.00"
      ]
     },
     "execution_count": 29,
     "metadata": {},
     "output_type": "execute_result"
    }
   ],
   "source": [
    "num_per_occ.head()"
   ]
  },
  {
   "cell_type": "code",
   "execution_count": 482,
   "metadata": {
    "collapsed": false
   },
   "outputs": [],
   "source": [
    "X = create_factor_df('../data/db09/Skills.txt', 'LV')\n",
    "X = X.merge(num_per_occ, how = 'left', on = 'O*NET-SOC Code').drop('O*NET-SOC Code', axis = 1)"
   ]
  },
  {
   "cell_type": "code",
   "execution_count": 483,
   "metadata": {
    "collapsed": false
   },
   "outputs": [],
   "source": [
    "y = X.log_num_tech\n",
    "X = X.drop('log_num_tech', axis = 1)\n",
    "filt = y.notnull()\n",
    "y = y[filt]\n",
    "X = X[filt]"
   ]
  },
  {
   "cell_type": "code",
   "execution_count": 484,
   "metadata": {
    "collapsed": false
   },
   "outputs": [
    {
     "data": {
      "text/plain": [
       "RandomForestRegressor(bootstrap=True, criterion='mse', max_depth=None,\n",
       "           max_features='auto', max_leaf_nodes=None, min_samples_leaf=1,\n",
       "           min_samples_split=2, min_weight_fraction_leaf=0.0,\n",
       "           n_estimators=1000, n_jobs=1, oob_score=False, random_state=None,\n",
       "           verbose=0, warm_start=False)"
      ]
     },
     "execution_count": 484,
     "metadata": {},
     "output_type": "execute_result"
    }
   ],
   "source": [
    "X_train, X_test, y_train, y_test = train_test_split(X, y)\n",
    "rf = RandomForestRegressor(n_estimators = 1000)\n",
    "rf.fit(X_train, y_train)"
   ]
  },
  {
   "cell_type": "code",
   "execution_count": 485,
   "metadata": {
    "collapsed": false,
    "scrolled": true
   },
   "outputs": [
    {
     "data": {
      "image/png": "[encoded data removed]",
      "text/plain": [
       "<matplotlib.figure.Figure at 0x131ae3c10>"
      ]
     },
     "metadata": {},
     "output_type": "display_data"
    }
   ],
   "source": [
    "error = rf.predict(X_test) - y_test\n",
    "mean = y_test.mean()\n",
    "error.hist(alpha = 0.5)\n",
    "y_test.hist(alpha = 0.5, color = 'r')\n",
    "sns.plt.text(3, 25, str(round(mean, 3)))\n",
    "sns.plt.show()"
   ]
  },
  {
   "cell_type": "code",
   "execution_count": 486,
   "metadata": {
    "collapsed": false
   },
   "outputs": [
    {
     "data": {
      "text/plain": [
       "(2.5176592413608683, 1.1753405479723344)"
      ]
     },
     "execution_count": 486,
     "metadata": {},
     "output_type": "execute_result"
    }
   ],
   "source": [
    "mse = np.mean(error**2)\n",
    "rmse = np.sqrt(mse)\n",
    "mean, rmse"
   ]
  },
  {
   "cell_type": "code",
   "execution_count": 487,
   "metadata": {
    "collapsed": false
   },
   "outputs": [
    {
     "data": {
      "text/plain": [
       "0.26737000191438431"
      ]
     },
     "execution_count": 487,
     "metadata": {},
     "output_type": "execute_result"
    }
   ],
   "source": [
    "rf.score(X_test, y_test)"
   ]
  },
  {
   "cell_type": "markdown",
   "metadata": {},
   "source": [
    "## Gaussian Process"
   ]
  },
  {
   "cell_type": "code",
   "execution_count": 495,
   "metadata": {
    "collapsed": false
   },
   "outputs": [
    {
     "name": "stdout",
     "output_type": "stream",
     "text": [
      "sum 1.17534054797\n",
      "sum 1.17534054797\n",
      "sum 1.17534054797\n",
      "sum 1.17534054797\n",
      "sum 1.17534054797\n",
      "sum 1.17534054797\n",
      "sum 1.17534054797\n",
      "sum 1.17534054797\n",
      "sum 1.17534054797\n",
      "sum 1.17534054797\n",
      "sum 1.17534054797\n",
      "sum 1.17534054797\n",
      "sum 1.17534054797\n"
     ]
    }
   ],
   "source": [
    "best_rmse = float('inf')\n",
    "best_name = None\n",
    "best_preds = None\n",
    "nowork = []\n",
    "for kernel in kern_list:\n",
    "    try:\n",
    "        m = GPy.models.GPRegression(np.array(X_train), np.array(y_train), kern)\n",
    "        m.optimize(max_f_eval = 1000)\n",
    "        mean, var = m.predict(np.array(X_test))\n",
    "        rmse = get_rmse(mean.squeeze(), np.array(y_test))\n",
    "        if rmse < best_rmse:\n",
    "            best_rmse = rmse\n",
    "            best_name = kern.name\n",
    "            best_preds = mean.squeeze()\n",
    "    except:\n",
    "        nowork.append(kern.name)\n",
    "    \n",
    "    print kern.name, rmse"
   ]
  },
  {
   "cell_type": "markdown",
   "metadata": {},
   "source": [
    "# PRIMITIVE FEATURE SELECTION"
   ]
  },
  {
   "cell_type": "code",
   "execution_count": 124,
   "metadata": {
    "collapsed": true
   },
   "outputs": [],
   "source": [
    "# mutual information\n",
    "# variance"
   ]
  },
  {
   "cell_type": "code",
   "execution_count": 145,
   "metadata": {
    "collapsed": false
   },
   "outputs": [
    {
     "data": {
      "text/plain": [
       "Element Name\n",
       "Learning Strategies    0.824000\n",
       "Active Listening       0.877763\n",
       "Coordination           0.879366\n",
       "Time Management        0.893382\n",
       "Programming            0.894594\n",
       "dtype: float64"
      ]
     },
     "execution_count": 145,
     "metadata": {},
     "output_type": "execute_result"
    }
   ],
   "source": [
    "#std as a % of mean\n",
    "std_per_mean = (np.std(X))/np.mean(X)\n",
    "std_per_mean.sort()\n",
    "std_per_mean\n",
    "\n",
    "#std ranking\n",
    "std = np.std(X)\n",
    "std.sort()\n",
    "std[:5]"
   ]
  },
  {
   "cell_type": "code",
   "execution_count": 146,
   "metadata": {
    "collapsed": false
   },
   "outputs": [
    {
     "data": {
      "text/plain": [
       "Element Name\n",
       "Learning Strategies    0.207807\n",
       "Active Listening       0.209060\n",
       "Coordination           0.214954\n",
       "Critical Thinking      0.219874\n",
       "Instructing            0.228290\n",
       "dtype: float64"
      ]
     },
     "execution_count": 146,
     "metadata": {},
     "output_type": "execute_result"
    }
   ],
   "source": [
    "std_per_mean[:5]"
   ]
  },
  {
   "cell_type": "code",
   "execution_count": 147,
   "metadata": {
    "collapsed": true
   },
   "outputs": [],
   "source": [
    "import math\n",
    "import scipy\n",
    "from scipy.stats import gaussian_kde\n",
    "from scipy.integrate import dblquad\n",
    "\n",
    "def mutual_information(x, y):\n",
    "    # Constants\n",
    "    MIN_DOUBLE = 4.9406564584124654e-324 \n",
    "                        # The minimum size of a Float64; used here to prevent the\n",
    "                        #  logarithmic function from hitting its undefined region\n",
    "                        #  at its asymptote of 0.\n",
    "    INF = float('inf')  # The floating-point representation for \"infinity\"\n",
    "\n",
    "    # x and y are previously defined as collections of \n",
    "    # floating point values with the same length\n",
    "\n",
    "    # Kernel estimation\n",
    "    gkde_x = gaussian_kde(x)\n",
    "    gkde_y = gaussian_kde(y)\n",
    "\n",
    "    gkde_xy = gaussian_kde([x,y])\n",
    "    mutual_info = lambda a,b: gkde_xy([a,b]) * \\\n",
    "        math.log((gkde_xy([a,b]) / ((gkde_x(a) * gkde_y(b)) + MIN_DOUBLE)) \\\n",
    "            + MIN_DOUBLE)\n",
    "        \n",
    "    # Compute MI(X,Y)\n",
    "    (minfo_xy, err_xy) = \\\n",
    "        dblquad(mutual_info, -INF, INF, lambda a: 0, lambda a: INF)\n",
    "\n",
    "    return minfo_xy"
   ]
  },
  {
   "cell_type": "markdown",
   "metadata": {},
   "source": [
    "# Using Tasks"
   ]
  },
  {
   "cell_type": "code",
   "execution_count": 164,
   "metadata": {
    "collapsed": false
   },
   "outputs": [],
   "source": [
    "def create_task_df(path, scale_id):\n",
    "    X = pd.read_table(path)\n",
    "    X = X[X['Scale ID'] == scale_id][['O*NET-SOC Code', 'Task ID', 'Data Value', 'Category']]\n",
    "    return X"
   ]
  },
  {
   "cell_type": "code",
   "execution_count": 221,
   "metadata": {
    "collapsed": false
   },
   "outputs": [],
   "source": [
    "task_X = create_task_df('../data/db09/Task Ratings.txt', 'FT')\n",
    "task_X['val'] = task_X['Data Value']*task_X['Category'].astype('int')\n",
    "task_X = pd.DataFrame(task_X.groupby(['O*NET-SOC Code', 'Task ID'])['val'].sum()/100).reset_index()\n",
    "task_X = task_X.pivot(index = 'O*NET-SOC Code', columns = 'Task ID', values = 'val')"
   ]
  },
  {
   "cell_type": "code",
   "execution_count": 230,
   "metadata": {
    "collapsed": false
   },
   "outputs": [],
   "source": [
    "s = task_X.isnull().sum(axis = 1)/task_X.shape[1]\n",
    "s2 = task_X.isnull().sum(axis = 0)/task_X.shape[0]"
   ]
  },
  {
   "cell_type": "code",
   "execution_count": 238,
   "metadata": {
    "collapsed": false
   },
   "outputs": [
    {
     "data": {
      "text/plain": [
       "(0.99745773484174405, 0.99879663056558365)"
      ]
     },
     "execution_count": 238,
     "metadata": {},
     "output_type": "execute_result"
    }
   ],
   "source": [
    "min(s), min(s2)"
   ]
  },
  {
   "cell_type": "code",
   "execution_count": 258,
   "metadata": {
    "collapsed": false
   },
   "outputs": [
    {
     "name": "stdout",
     "output_type": "stream",
     "text": [
      "SAMPLE OF TASK DESCRIPTIONS \n",
      "---------------------------\n",
      "\n",
      "0 :  Direct or coordinate an organization's financial or budget activities to fund operations, maximize investments, or increase efficiency.\n",
      "\n",
      "1 :  Appoint department heads or managers and assign or delegate responsibilities to them.\n",
      "\n",
      "2 :  Analyze operations to evaluate performance of a company or its staff in meeting objectives or to determine areas of potential cost reduction, program improvement, or policy change.\n",
      "\n",
      "3 :  Direct, plan, or implement policies, objectives, or activities of organizations or businesses to ensure continuing operations, to maximize returns on investments, or to increase productivity.\n",
      "\n",
      "4 :  Prepare budgets for approval, including those for funding or implementation of programs.\n",
      "\n"
     ]
    }
   ],
   "source": [
    "print \"SAMPLE OF TASK DESCRIPTIONS \\n---------------------------\\n\"\n",
    "for k, i in enumerate(pd.read_table('../data/db15/Task Statements.txt').Task[:5]):\n",
    "    print k,\": \", i + \"\\n\""
   ]
  },
  {
   "cell_type": "markdown",
   "metadata": {},
   "source": [
    "> ### Seems like complex NLP will be needed to detailed and useful analysis on tasks."
   ]
  },
  {
   "cell_type": "code",
   "execution_count": null,
   "metadata": {
    "collapsed": true
   },
   "outputs": [],
   "source": []
  }
 ],
 "metadata": {
  "kernelspec": {
   "display_name": "Python 2",
   "language": "python",
   "name": "python2"
  },
  "language_info": {
   "codemirror_mode": {
    "name": "ipython",
    "version": 2
   },
   "file_extension": ".py",
   "mimetype": "text/x-python",
   "name": "python",
   "nbconvert_exporter": "python",
   "pygments_lexer": "ipython2",
   "version": "2.7.10"
  }
 },
 "nbformat": 4,
 "nbformat_minor": 0
}
