{
 "cells": [
  {
   "cell_type": "code",
   "execution_count": 1,
   "metadata": {
    "collapsed": true
   },
   "outputs": [],
   "source": [
    "import numpy as np"
   ]
  },
  {
   "cell_type": "code",
   "execution_count": 23,
   "metadata": {
    "collapsed": false
   },
   "outputs": [
    {
     "data": {
      "text/plain": [
       "array([[ 0.04900738,  0.02132236, -0.01658561,  0.0127453 , -0.01635276,\n",
       "         0.02595744,  0.03197194,  0.03760778, -0.00613667, -0.00468611],\n",
       "       [ 0.02132236,  0.03324382,  0.0172823 ,  0.02083215,  0.00090092,\n",
       "         0.00528743, -0.01688762,  0.03053803,  0.00908474, -0.01461534],\n",
       "       [-0.01658561,  0.0172823 ,  0.20322469,  0.13829013, -0.02811892,\n",
       "         0.02484649, -0.12441957,  0.04085576, -0.11138661,  0.03475405],\n",
       "       [ 0.0127453 ,  0.02083215,  0.13829013,  0.1086584 , -0.01497365,\n",
       "         0.03256114, -0.07471153,  0.04622781, -0.09234795,  0.02482244],\n",
       "       [-0.01635276,  0.00090092, -0.02811892, -0.01497365,  0.12173913,\n",
       "        -0.0177006 , -0.02152579, -0.0266913 , -0.00455035, -0.01242992],\n",
       "       [ 0.02595744,  0.00528743,  0.02484649,  0.03256114, -0.0177006 ,\n",
       "         0.02448561,  0.00521036,  0.02513899, -0.03614909,  0.01131107],\n",
       "       [ 0.03197194, -0.01688762, -0.12441957, -0.07471153, -0.02152579,\n",
       "         0.00521036,  0.10356118, -0.01042315,  0.04870486, -0.00906815],\n",
       "       [ 0.03760778,  0.03053803,  0.04085576,  0.04622781, -0.0266913 ,\n",
       "         0.02513899, -0.01042315,  0.04695496, -0.02245958, -0.00073334],\n",
       "       [-0.00613667,  0.00908474, -0.11138661, -0.09234795, -0.00455035,\n",
       "        -0.03614909,  0.04870486, -0.02245958,  0.1139866 , -0.0395897 ],\n",
       "       [-0.00468611, -0.01461534,  0.03475405,  0.02482244, -0.01242992,\n",
       "         0.01131107, -0.00906815, -0.00073334, -0.0395897 ,  0.01934007]])"
      ]
     },
     "execution_count": 23,
     "metadata": {},
     "output_type": "execute_result"
    }
   ],
   "source": [
    "np.cov(X.T)"
   ]
  },
  {
   "cell_type": "code",
   "execution_count": 135,
   "metadata": {
    "collapsed": true
   },
   "outputs": [],
   "source": [
    "import numpy as np\n",
    "\n",
    "class PCA():\n",
    "\t\"\"\"\n",
    "\tRuns PCA & prints variables & importances for each component you ask for.\n",
    "\t\"\"\"\n",
    "\tdef __init__(self):\n",
    "\t\tself.input = self.X = None\n",
    "\t\tself.y = None\n",
    "\t\tself.dim = None\n",
    "\t\tself.K = None\n",
    "\t\tself.eigenmatrix = None\n",
    "\t\tself.names = None\n",
    "\n",
    "\tdef _subtract_means(self):\n",
    "\t\t\"\"\"\n",
    "\t\tNormalize input matrix by subtracting column wise means\n",
    "\t\t\"\"\"\n",
    "\t\tself.X = self.X - self.X.mean(axis = 0)\n",
    "\n",
    "\tdef _create_cov_matrix(self):\n",
    "\t\tself.K = np.cov(self.X.T)\n",
    "\t\t# # self written code:\n",
    "\t\t# X = self.X\n",
    "\t\t# K = np.zeros((self.dim, self.dim))\n",
    "\t\t# for i in xrange(self.dim):\n",
    "\t\t# \tfor j in xrange(i, self.dim):\n",
    "\t\t# \t\tif i != j:\n",
    "\t\t# \t\t\tK[i, j] = K[j, i] = np.cov(X[:,i], X[:,j])\n",
    "\t\t# \t\telse:\n",
    "\t\t# \t\t\tK[i, j] = np.var(X[:,i])\n",
    "\t\t# self.K = K\n",
    "\n",
    "\tdef _get_eigenvec(self):\n",
    "\t\tself.eig_vals, self.eig_vecs = np.linalg.eig(self.K)\n",
    "\t\torder = self.eig_vals.argsort()[::-1] # order eigenvalues largest to smallest\n",
    "\t\tself.eigenmatrix = self.eig_vecs[:,order]\n",
    "\t\tself.order = order\n",
    "\n",
    "\tdef _print_importances(self, n_components, n_variables):\n",
    "\t\tfeature_M = self.eigenmatrix[:,:n_components]\n",
    "\t\tfor component_num in xrange(n_components):\n",
    "\t\t\tcolumn = feature_M[:,component_num]\n",
    "\t\t\tmost_important = abs(column).argsort()[::-1][:n_variables] # get n_variables most important Eig Vec components\n",
    "\t\t\ttop_variables = column[most_important]\n",
    "\t\t\tprint \"COMPONENT {}:\".format(component_num + 1)\n",
    "\t\t\tfor index, value in zip(most_important, top_variables):\n",
    "\t\t\t\tvariable_name = self.names[index]\n",
    "\t\t\t\tprint \"{}: {}\".format(variable_name, round(value, 4))\n",
    "\t\t\tprint \"--------\"\n",
    "\n",
    "\tdef add_names(self, original_order_names):\n",
    "\t\tself.names = original_order_names\n",
    "\n",
    "\tdef fit(self, X, y):\n",
    "\t\tself.input = self.X = X\n",
    "\t\tself.y = y\n",
    "\t\tself.dim = X.shape[1]\n",
    "\n",
    "\tdef predict(self, n_components, n_variables):\n",
    "\t\tif not self.names:\n",
    "\t\t\tself._subtract_means()\n",
    "\t\t\tself._create_cov_matrix()\n",
    "\t\t\tself._get_eigenvec()\n",
    "\t\t\tself._print_importances(n_components, n_variables)\n",
    "\t\telse:\n",
    "\t\t\treturn \"Please input a list of [ {} ] variable names\".format(self.dim)\n",
    "\n",
    "\n"
   ]
  },
  {
   "cell_type": "code",
   "execution_count": 136,
   "metadata": {
    "collapsed": false
   },
   "outputs": [],
   "source": [
    "pca = PCA()"
   ]
  },
  {
   "cell_type": "code",
   "execution_count": 152,
   "metadata": {
    "collapsed": true
   },
   "outputs": [],
   "source": [
    "X = np.random.rand(100, 10)\n",
    "X[:,3] = X[:,3] + 80*np.random.uniform()\n",
    "X[:,7] = X[:,7] + 80*np.random.uniform()"
   ]
  },
  {
   "cell_type": "code",
   "execution_count": 153,
   "metadata": {
    "collapsed": false
   },
   "outputs": [],
   "source": [
    "y = np.array(list('0'*70 + '1'*30))\n",
    "np.random.shuffle(y)"
   ]
  },
  {
   "cell_type": "code",
   "execution_count": 154,
   "metadata": {
    "collapsed": true
   },
   "outputs": [],
   "source": [
    "pca.add_names(['1','2','3','4','5','6','7','8','9','10'])"
   ]
  },
  {
   "cell_type": "code",
   "execution_count": 155,
   "metadata": {
    "collapsed": true
   },
   "outputs": [],
   "source": [
    "pca.fit(X, y)"
   ]
  },
  {
   "cell_type": "code",
   "execution_count": 156,
   "metadata": {
    "collapsed": true
   },
   "outputs": [],
   "source": [
    "pca._subtract_means()"
   ]
  },
  {
   "cell_type": "code",
   "execution_count": 157,
   "metadata": {
    "collapsed": true
   },
   "outputs": [],
   "source": [
    "pca._create_cov_matrix()"
   ]
  },
  {
   "cell_type": "code",
   "execution_count": 158,
   "metadata": {
    "collapsed": true
   },
   "outputs": [],
   "source": [
    "pca._get_eigenvec()"
   ]
  },
  {
   "cell_type": "code",
   "execution_count": 159,
   "metadata": {
    "collapsed": false
   },
   "outputs": [
    {
     "data": {
      "text/plain": [
       "array([0, 3, 5, 4, 8, 9, 7, 6, 2, 1])"
      ]
     },
     "execution_count": 159,
     "metadata": {},
     "output_type": "execute_result"
    }
   ],
   "source": [
    "pca.eig_vals.argsort()[::-1]"
   ]
  },
  {
   "cell_type": "code",
   "execution_count": 162,
   "metadata": {
    "collapsed": false
   },
   "outputs": [
    {
     "name": "stdout",
     "output_type": "stream",
     "text": [
      "COMPONENT 1:\n",
      "7: -0.6229\n",
      "6: 0.5108\n",
      "10: -0.4232\n",
      "5: 0.2322\n",
      "9: 0.2209\n",
      "4: -0.1887\n",
      "1: 0.158\n",
      "3: 0.0916\n",
      "8: 0.0168\n",
      "2: 0.0081\n",
      "--------\n",
      "COMPONENT 2:\n",
      "2: -0.5519\n",
      "9: -0.4048\n",
      "1: 0.3934\n",
      "5: 0.3714\n",
      "8: 0.334\n",
      "10: 0.2662\n",
      "6: 0.2074\n",
      "7: 0.1032\n",
      "4: -0.0455\n",
      "3: 0.0249\n",
      "--------\n",
      "COMPONENT 3:\n",
      "4: -0.7126\n",
      "7: 0.3775\n",
      "10: -0.3409\n",
      "5: -0.3058\n",
      "3: 0.2385\n",
      "9: -0.2089\n",
      "8: 0.1474\n",
      "2: 0.088\n",
      "6: 0.0741\n",
      "1: 0.067\n",
      "--------\n",
      "COMPONENT 4:\n",
      "6: -0.5088\n",
      "1: 0.4842\n",
      "2: -0.4196\n",
      "8: -0.3336\n",
      "10: -0.2849\n",
      "5: -0.2836\n",
      "7: -0.2193\n",
      "3: 0.0888\n",
      "4: 0.0422\n",
      "9: 0.0039\n",
      "--------\n"
     ]
    }
   ],
   "source": [
    "pca._print_importances(4,10)"
   ]
  },
  {
   "cell_type": "code",
   "execution_count": null,
   "metadata": {
    "collapsed": true
   },
   "outputs": [],
   "source": []
  }
 ],
 "metadata": {
  "kernelspec": {
   "display_name": "Python 2",
   "language": "python",
   "name": "python2"
  },
  "language_info": {
   "codemirror_mode": {
    "name": "ipython",
    "version": 2
   },
   "file_extension": ".py",
   "mimetype": "text/x-python",
   "name": "python",
   "nbconvert_exporter": "python",
   "pygments_lexer": "ipython2",
   "version": "2.7.10"
  }
 },
 "nbformat": 4,
 "nbformat_minor": 0
}
